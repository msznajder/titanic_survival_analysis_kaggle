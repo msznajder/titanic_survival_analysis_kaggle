{
 "cells": [
  {
   "cell_type": "markdown",
   "metadata": {},
   "source": [
    "# Titanic passengers survival analysis Kaggle competition\n",
    "\n",
    "In this notebook we will conduct data analysis and predictive modelling of Titanic passengers survival dataset for Kaggle [Titanic dataset](https://www.kaggle.com/c/titanic).\n",
    "\n",
    "Titanic passengers survival dataset is one of the most canonical data analysis and machine learning datasets. Let's see how this data looks like, investigate main trends in it and try to predict survival chances of passengers based on numerous data attributes.\n",
    "\n",
    "The main steps of the analysis process we will conduct are:\n",
    "1. [Framing the problem](#framing)\n",
    "2. [Data wrangling](#wrangling)\n",
    "3. [Data exploration](#exploring)\n",
    "4. [Modelling data preparation](#preparation)\n",
    "5. [Models prototyping](#prototyping)\n",
    "6. [Models hyperparameters fine-tuning](#tuning)\n",
    "7. [Model test dataset evaluation and deployment](#evaluation)\n",
    "8. [Summary](#summary)"
   ]
  },
  {
   "cell_type": "code",
   "execution_count": 8,
   "metadata": {
    "collapsed": false
   },
   "outputs": [],
   "source": [
    "import numpy as np\n",
    "\n",
    "from scipy import stats\n",
    "from statsmodels.formula.api import ols\n",
    "\n",
    "import pandas as pd\n",
    "from pandas.tools.plotting import scatter_matrix\n",
    "\n",
    "import matplotlib.pyplot as plt\n",
    "import matplotlib.patches as mpatches\n",
    "from pywaffle import Waffle # pip install pywaffle\n",
    "%matplotlib inline \n",
    "\n",
    "from sklearn.pipeline import Pipeline\n",
    "from sklearn.preprocessing import StandardScaler\n",
    "from sklearn.preprocessing import Imputer\n",
    "from sklearn.preprocessing import OneHotEncoder\n",
    "\n",
    "from sklearn.linear_model import LogisticRegression\n",
    "from sklearn.linear_model import SGDClassifier\n",
    "from sklearn.neighbors import KNeighborsClassifier\n",
    "from sklearn.naive_bayes import GaussianNB\n",
    "from sklearn.svm import LinearSVC\n",
    "from sklearn.svm import SVC\n",
    "from sklearn.tree import DecisionTreeClassifier\n",
    "from sklearn.ensemble import RandomForestClassifier\n",
    "\n",
    "from sklearn.model_selection import cross_val_score\n",
    "from sklearn.model_selection import GridSearchCV\n",
    "\n",
    "import warnings\n",
    "warnings.filterwarnings('ignore')"
   ]
  },
  {
   "cell_type": "markdown",
   "metadata": {},
   "source": [
    "## 1. Framing the problem <a class=\"anchor\" id=\"framing\"></a>\n",
    "\n",
    "Titanic sinking was one of the biggest shipwreck tragedies in history. It killed 1502 out of 2224 passengers. This tragedy led to better safety regulations for ships. The main reason for such a great death toll was not enough number of lifeboats to fit all passengers. This can lead to the conclusion that some groups of people were more likely to survive than others - woman, children and upper-class passeners for example.\n",
    "\n",
    "### 1.1 The goal\n",
    "\n",
    "The goal of this analysis is two fold. Firstly, we want to analyse the data set, explore it answering related questions using data visualization and statistical methods. Secondly our goal is to predict, by building machine learning model, which passengers were likely to survive Titanic disaster and which not.\n",
    "\n",
    "### 1.2 Analysis\n",
    "\n",
    "There are some questions we would like to answer with Titanic dataset analysis.\n",
    "\n",
    "* What is Titanic passengers demographic structure analyzed in terms of attributes?\n",
    "\n",
    "* What is the overall Titanic passengers survival ratio?\n",
    "\n",
    "* What is the survival ratio for different demographic passengers groups? Which groups have biggest chances for survival and which smallest? Is the difference between survived group statistically significant?\n",
    "\n",
    "### 1.3 Modeling\n",
    "\n",
    "As for second goal, since we are given multiple attributes with labeled survival target values this is clearly an supervised learning problem. Moreover, we try to predict discrete categorical value: 0 or 1 (representing not-survived and survived passenger). This tells us that we deal here with binary categorization problem.\n",
    "\n",
    "For each `PassengerId` in the provided unlabeled test set, we want to predict a whether given passenger survived or not.\n",
    "\n",
    "As a measure of created machine learning models performance we choose the percentage of passengers we correctly predict, that is accuracy level.\n",
    "\n",
    "As a prediction final product we will prepare and submit to Kaggle a csv file with predicted survival for exactly 418 entries in the test dataset. The file should have exactly 2 columns:\n",
    "* PassengerId (sorted in any order)\n",
    "* Survived (contains your binary predictions: 1 for survived, 0 for deceased)\n",
    "\n",
    "The example submission dataset should look like this:\n",
    "```\n",
    "PassengerId,Survived\n",
    " 892,0\n",
    " 893,1\n",
    " 894,0\n",
    " Etc.\n",
    "```"
   ]
  },
  {
   "cell_type": "markdown",
   "metadata": {},
   "source": [
    "## 2. Data wrangling <a class=\"anchor\" id=\"wrangling\"></a>\n",
    "\n",
    "Let's get through the process of acquiring the dataset."
   ]
  },
  {
   "cell_type": "markdown",
   "metadata": {},
   "source": [
    "### 2.1 Download and load the data.\n",
    "\n",
    "We download the dataset from Kaggle website. We will first list all files we downloaded."
   ]
  },
  {
   "cell_type": "code",
   "execution_count": 2,
   "metadata": {
    "collapsed": false
   },
   "outputs": [
    {
     "name": "stdout",
     "output_type": "stream",
     "text": [
      "data_description.txt  submission.csv        train.csv\r\n",
      "gender_submission.csv test.csv\r\n"
     ]
    }
   ],
   "source": [
    "!ls datasets/"
   ]
  },
  {
   "cell_type": "markdown",
   "metadata": {},
   "source": [
    "Now let's start by looking at the data description from Kaggle."
   ]
  },
  {
   "cell_type": "code",
   "execution_count": 3,
   "metadata": {
    "collapsed": false,
    "scrolled": false
   },
   "outputs": [
    {
     "name": "stdout",
     "output_type": "stream",
     "text": [
      "Data Dictionary:\r\n",
      "survival\tSurvival\t\t0 = No, 1 = Yes\r\n",
      "pclass\t\tTicket class\t\t1 = 1st, 2 = 2nd, 3 = 3rd\r\n",
      "sex\t\tSex\t\r\n",
      "Age             Age in years\t\r\n",
      "sibsp\t\t# of siblings / spouses aboard the Titanic\t\r\n",
      "parch\t\t# of parents / children aboard the Titanic\t\r\n",
      "ticket\t\tTicket number\t\r\n",
      "fare\t\tPassenger fare\t\r\n",
      "cabin\t\tCabin number\t\r\n",
      "embarked\tPort of Embarkation\tC = Cherbourg, Q = Queenstown, S = Southampton\r\n",
      "\r\n",
      "\r\n",
      "Variable Notes:\r\n",
      "pclass: A proxy for socio-economic status (SES)\r\n",
      "1st = Upper\r\n",
      "2nd = Middle\r\n",
      "3rd = Lower\r\n",
      "\r\n",
      "age: Age is fractional if less than 1. If the age is estimated, is it in the form of xx.5\r\n",
      "\r\n",
      "sibsp: The dataset defines family relations in this way...\r\n",
      "Sibling = brother, sister, stepbrother, stepsister\r\n",
      "Spouse = husband, wife (mistresses and fiancés were ignored)\r\n",
      "\r\n",
      "parch: The dataset defines family relations in this way...\r\n",
      "Parent = mother, father\r\n",
      "Child = daughter, son, stepdaughter, stepson\r\n",
      "Some children travelled only with a nanny, therefore parch=0 for them."
     ]
    }
   ],
   "source": [
    "!cat datasets/data_description.txt"
   ]
  },
  {
   "cell_type": "markdown",
   "metadata": {},
   "source": [
    "We see all the details we need to understand data notation here.\n",
    "\n",
    "We also know that the data has been already split for us into two groups:\n",
    "* training set (train.csv) - used in data analysis and machine learning model training\n",
    "* test set (test.csv) - used for machine learning final model testing\n",
    "\n",
    "That is why we do not have to prepare test dataset in this analysis. \n",
    "\n",
    "We are now ready to load and look at our dataset."
   ]
  },
  {
   "cell_type": "code",
   "execution_count": 4,
   "metadata": {
    "collapsed": true
   },
   "outputs": [],
   "source": [
    "titanic_train = pd.read_csv(\"datasets/train.csv\")"
   ]
  },
  {
   "cell_type": "markdown",
   "metadata": {},
   "source": [
    "### 2.2 Take a quick look at the data"
   ]
  },
  {
   "cell_type": "markdown",
   "metadata": {},
   "source": [
    "Let's see how our data looks like."
   ]
  },
  {
   "cell_type": "code",
   "execution_count": 5,
   "metadata": {
    "collapsed": false
   },
   "outputs": [
    {
     "data": {
      "text/html": [
       "<div>\n",
       "<style scoped>\n",
       "    .dataframe tbody tr th:only-of-type {\n",
       "        vertical-align: middle;\n",
       "    }\n",
       "\n",
       "    .dataframe tbody tr th {\n",
       "        vertical-align: top;\n",
       "    }\n",
       "\n",
       "    .dataframe thead th {\n",
       "        text-align: right;\n",
       "    }\n",
       "</style>\n",
       "<table border=\"1\" class=\"dataframe\">\n",
       "  <thead>\n",
       "    <tr style=\"text-align: right;\">\n",
       "      <th></th>\n",
       "      <th>PassengerId</th>\n",
       "      <th>Survived</th>\n",
       "      <th>Pclass</th>\n",
       "      <th>Name</th>\n",
       "      <th>Sex</th>\n",
       "      <th>Age</th>\n",
       "      <th>SibSp</th>\n",
       "      <th>Parch</th>\n",
       "      <th>Ticket</th>\n",
       "      <th>Fare</th>\n",
       "      <th>Cabin</th>\n",
       "      <th>Embarked</th>\n",
       "    </tr>\n",
       "  </thead>\n",
       "  <tbody>\n",
       "    <tr>\n",
       "      <th>0</th>\n",
       "      <td>1</td>\n",
       "      <td>0</td>\n",
       "      <td>3</td>\n",
       "      <td>Braund, Mr. Owen Harris</td>\n",
       "      <td>male</td>\n",
       "      <td>22.0</td>\n",
       "      <td>1</td>\n",
       "      <td>0</td>\n",
       "      <td>A/5 21171</td>\n",
       "      <td>7.2500</td>\n",
       "      <td>NaN</td>\n",
       "      <td>S</td>\n",
       "    </tr>\n",
       "    <tr>\n",
       "      <th>1</th>\n",
       "      <td>2</td>\n",
       "      <td>1</td>\n",
       "      <td>1</td>\n",
       "      <td>Cumings, Mrs. John Bradley (Florence Briggs Th...</td>\n",
       "      <td>female</td>\n",
       "      <td>38.0</td>\n",
       "      <td>1</td>\n",
       "      <td>0</td>\n",
       "      <td>PC 17599</td>\n",
       "      <td>71.2833</td>\n",
       "      <td>C85</td>\n",
       "      <td>C</td>\n",
       "    </tr>\n",
       "    <tr>\n",
       "      <th>2</th>\n",
       "      <td>3</td>\n",
       "      <td>1</td>\n",
       "      <td>3</td>\n",
       "      <td>Heikkinen, Miss. Laina</td>\n",
       "      <td>female</td>\n",
       "      <td>26.0</td>\n",
       "      <td>0</td>\n",
       "      <td>0</td>\n",
       "      <td>STON/O2. 3101282</td>\n",
       "      <td>7.9250</td>\n",
       "      <td>NaN</td>\n",
       "      <td>S</td>\n",
       "    </tr>\n",
       "    <tr>\n",
       "      <th>3</th>\n",
       "      <td>4</td>\n",
       "      <td>1</td>\n",
       "      <td>1</td>\n",
       "      <td>Futrelle, Mrs. Jacques Heath (Lily May Peel)</td>\n",
       "      <td>female</td>\n",
       "      <td>35.0</td>\n",
       "      <td>1</td>\n",
       "      <td>0</td>\n",
       "      <td>113803</td>\n",
       "      <td>53.1000</td>\n",
       "      <td>C123</td>\n",
       "      <td>S</td>\n",
       "    </tr>\n",
       "    <tr>\n",
       "      <th>4</th>\n",
       "      <td>5</td>\n",
       "      <td>0</td>\n",
       "      <td>3</td>\n",
       "      <td>Allen, Mr. William Henry</td>\n",
       "      <td>male</td>\n",
       "      <td>35.0</td>\n",
       "      <td>0</td>\n",
       "      <td>0</td>\n",
       "      <td>373450</td>\n",
       "      <td>8.0500</td>\n",
       "      <td>NaN</td>\n",
       "      <td>S</td>\n",
       "    </tr>\n",
       "  </tbody>\n",
       "</table>\n",
       "</div>"
      ],
      "text/plain": [
       "   PassengerId  Survived  Pclass  \\\n",
       "0            1         0       3   \n",
       "1            2         1       1   \n",
       "2            3         1       3   \n",
       "3            4         1       1   \n",
       "4            5         0       3   \n",
       "\n",
       "                                                Name     Sex   Age  SibSp  \\\n",
       "0                            Braund, Mr. Owen Harris    male  22.0      1   \n",
       "1  Cumings, Mrs. John Bradley (Florence Briggs Th...  female  38.0      1   \n",
       "2                             Heikkinen, Miss. Laina  female  26.0      0   \n",
       "3       Futrelle, Mrs. Jacques Heath (Lily May Peel)  female  35.0      1   \n",
       "4                           Allen, Mr. William Henry    male  35.0      0   \n",
       "\n",
       "   Parch            Ticket     Fare Cabin Embarked  \n",
       "0      0         A/5 21171   7.2500   NaN        S  \n",
       "1      0          PC 17599  71.2833   C85        C  \n",
       "2      0  STON/O2. 3101282   7.9250   NaN        S  \n",
       "3      0            113803  53.1000  C123        S  \n",
       "4      0            373450   8.0500   NaN        S  "
      ]
     },
     "execution_count": 5,
     "metadata": {},
     "output_type": "execute_result"
    }
   ],
   "source": [
    "titanic_train.head()"
   ]
  },
  {
   "cell_type": "markdown",
   "metadata": {},
   "source": [
    "Assuming that `PassengerId` attribute values are unique (and they are) let's first make `PassengerId` our index column."
   ]
  },
  {
   "cell_type": "code",
   "execution_count": 6,
   "metadata": {
    "collapsed": false,
    "scrolled": true
   },
   "outputs": [
    {
     "data": {
      "text/html": [
       "<div>\n",
       "<style scoped>\n",
       "    .dataframe tbody tr th:only-of-type {\n",
       "        vertical-align: middle;\n",
       "    }\n",
       "\n",
       "    .dataframe tbody tr th {\n",
       "        vertical-align: top;\n",
       "    }\n",
       "\n",
       "    .dataframe thead th {\n",
       "        text-align: right;\n",
       "    }\n",
       "</style>\n",
       "<table border=\"1\" class=\"dataframe\">\n",
       "  <thead>\n",
       "    <tr style=\"text-align: right;\">\n",
       "      <th></th>\n",
       "      <th>Survived</th>\n",
       "      <th>Pclass</th>\n",
       "      <th>Name</th>\n",
       "      <th>Sex</th>\n",
       "      <th>Age</th>\n",
       "      <th>SibSp</th>\n",
       "      <th>Parch</th>\n",
       "      <th>Ticket</th>\n",
       "      <th>Fare</th>\n",
       "      <th>Cabin</th>\n",
       "      <th>Embarked</th>\n",
       "    </tr>\n",
       "    <tr>\n",
       "      <th>PassengerId</th>\n",
       "      <th></th>\n",
       "      <th></th>\n",
       "      <th></th>\n",
       "      <th></th>\n",
       "      <th></th>\n",
       "      <th></th>\n",
       "      <th></th>\n",
       "      <th></th>\n",
       "      <th></th>\n",
       "      <th></th>\n",
       "      <th></th>\n",
       "    </tr>\n",
       "  </thead>\n",
       "  <tbody>\n",
       "    <tr>\n",
       "      <th>1</th>\n",
       "      <td>0</td>\n",
       "      <td>3</td>\n",
       "      <td>Braund, Mr. Owen Harris</td>\n",
       "      <td>male</td>\n",
       "      <td>22.0</td>\n",
       "      <td>1</td>\n",
       "      <td>0</td>\n",
       "      <td>A/5 21171</td>\n",
       "      <td>7.2500</td>\n",
       "      <td>NaN</td>\n",
       "      <td>S</td>\n",
       "    </tr>\n",
       "    <tr>\n",
       "      <th>2</th>\n",
       "      <td>1</td>\n",
       "      <td>1</td>\n",
       "      <td>Cumings, Mrs. John Bradley (Florence Briggs Th...</td>\n",
       "      <td>female</td>\n",
       "      <td>38.0</td>\n",
       "      <td>1</td>\n",
       "      <td>0</td>\n",
       "      <td>PC 17599</td>\n",
       "      <td>71.2833</td>\n",
       "      <td>C85</td>\n",
       "      <td>C</td>\n",
       "    </tr>\n",
       "    <tr>\n",
       "      <th>3</th>\n",
       "      <td>1</td>\n",
       "      <td>3</td>\n",
       "      <td>Heikkinen, Miss. Laina</td>\n",
       "      <td>female</td>\n",
       "      <td>26.0</td>\n",
       "      <td>0</td>\n",
       "      <td>0</td>\n",
       "      <td>STON/O2. 3101282</td>\n",
       "      <td>7.9250</td>\n",
       "      <td>NaN</td>\n",
       "      <td>S</td>\n",
       "    </tr>\n",
       "    <tr>\n",
       "      <th>4</th>\n",
       "      <td>1</td>\n",
       "      <td>1</td>\n",
       "      <td>Futrelle, Mrs. Jacques Heath (Lily May Peel)</td>\n",
       "      <td>female</td>\n",
       "      <td>35.0</td>\n",
       "      <td>1</td>\n",
       "      <td>0</td>\n",
       "      <td>113803</td>\n",
       "      <td>53.1000</td>\n",
       "      <td>C123</td>\n",
       "      <td>S</td>\n",
       "    </tr>\n",
       "    <tr>\n",
       "      <th>5</th>\n",
       "      <td>0</td>\n",
       "      <td>3</td>\n",
       "      <td>Allen, Mr. William Henry</td>\n",
       "      <td>male</td>\n",
       "      <td>35.0</td>\n",
       "      <td>0</td>\n",
       "      <td>0</td>\n",
       "      <td>373450</td>\n",
       "      <td>8.0500</td>\n",
       "      <td>NaN</td>\n",
       "      <td>S</td>\n",
       "    </tr>\n",
       "  </tbody>\n",
       "</table>\n",
       "</div>"
      ],
      "text/plain": [
       "             Survived  Pclass  \\\n",
       "PassengerId                     \n",
       "1                   0       3   \n",
       "2                   1       1   \n",
       "3                   1       3   \n",
       "4                   1       1   \n",
       "5                   0       3   \n",
       "\n",
       "                                                          Name     Sex   Age  \\\n",
       "PassengerId                                                                    \n",
       "1                                      Braund, Mr. Owen Harris    male  22.0   \n",
       "2            Cumings, Mrs. John Bradley (Florence Briggs Th...  female  38.0   \n",
       "3                                       Heikkinen, Miss. Laina  female  26.0   \n",
       "4                 Futrelle, Mrs. Jacques Heath (Lily May Peel)  female  35.0   \n",
       "5                                     Allen, Mr. William Henry    male  35.0   \n",
       "\n",
       "             SibSp  Parch            Ticket     Fare Cabin Embarked  \n",
       "PassengerId                                                          \n",
       "1                1      0         A/5 21171   7.2500   NaN        S  \n",
       "2                1      0          PC 17599  71.2833   C85        C  \n",
       "3                0      0  STON/O2. 3101282   7.9250   NaN        S  \n",
       "4                1      0            113803  53.1000  C123        S  \n",
       "5                0      0            373450   8.0500   NaN        S  "
      ]
     },
     "execution_count": 6,
     "metadata": {},
     "output_type": "execute_result"
    }
   ],
   "source": [
    "titanic_train = titanic_train.set_index(\"PassengerId\")\n",
    "titanic_train.head()"
   ]
  },
  {
   "cell_type": "markdown",
   "metadata": {},
   "source": [
    "As we can see the dataset contains not that many attributes: we have 11 of them. Six of them are numeric: `Survived` (informing whether passenger survived or not), `Pclass` (passenger class), `Age`, `SibSp` (number of siblings/spouses aboard), `Parch` (number of parents/children aboard), `Fare`. Out of these six `Survived` and `Pclass` attributes are numerically encoded categorical values meaning that calculating descriptive statistics for them is meaningless.\n",
    "\n",
    "Five attributes are categorical textual values: `Name`, `Sex`, `Ticket`, `Cabin`, `Embarked` (port of embarkation C=Cherbourg, Q=Queenstown, S=Southampton). \n",
    "\n",
    "Our dataset target attribute is `Survived` marking whether passenger survived or not with 1 or 0 respectively.\n",
    "\n",
    "Let's have a closer look at attributes structure."
   ]
  },
  {
   "cell_type": "code",
   "execution_count": 7,
   "metadata": {
    "collapsed": false
   },
   "outputs": [
    {
     "name": "stdout",
     "output_type": "stream",
     "text": [
      "<class 'pandas.core.frame.DataFrame'>\n",
      "Int64Index: 891 entries, 1 to 891\n",
      "Data columns (total 11 columns):\n",
      "Survived    891 non-null int64\n",
      "Pclass      891 non-null int64\n",
      "Name        891 non-null object\n",
      "Sex         891 non-null object\n",
      "Age         714 non-null float64\n",
      "SibSp       891 non-null int64\n",
      "Parch       891 non-null int64\n",
      "Ticket      891 non-null object\n",
      "Fare        891 non-null float64\n",
      "Cabin       204 non-null object\n",
      "Embarked    889 non-null object\n",
      "dtypes: float64(2), int64(4), object(5)\n",
      "memory usage: 83.5+ KB\n"
     ]
    }
   ],
   "source": [
    "titanic_train.info()"
   ]
  },
  {
   "cell_type": "markdown",
   "metadata": {},
   "source": [
    "All in all the dataset contains 891 passengers data out of all 2224 passengers.\n",
    "\n",
    "We deal here with some missing values. The most missing values are in `Cabin` attribute. That column seems not so much informative and the data is rather scarse which is suggesting droping this attribute when preparing training dataset for machine learning. We have also a lot of missing values in `Age` column, however this column seems crucial for our analysis. That is why later on we will have to take care of these missing values either by filling them in (e.g. median value) or by dropping examples with missing values. In `Embarked` attribute values we miss only two values so we can easily drop these two cases later on when preparing the dataset for modelling algorithms.\n",
    "\n",
    "We again see that five attributes have categorical/text values - we will also deal with that later when preparing data for modelling."
   ]
  },
  {
   "cell_type": "markdown",
   "metadata": {},
   "source": [
    "Let's now see some details about numerical values we have in the dataset."
   ]
  },
  {
   "cell_type": "code",
   "execution_count": 8,
   "metadata": {
    "collapsed": false
   },
   "outputs": [
    {
     "data": {
      "text/html": [
       "<div>\n",
       "<style scoped>\n",
       "    .dataframe tbody tr th:only-of-type {\n",
       "        vertical-align: middle;\n",
       "    }\n",
       "\n",
       "    .dataframe tbody tr th {\n",
       "        vertical-align: top;\n",
       "    }\n",
       "\n",
       "    .dataframe thead th {\n",
       "        text-align: right;\n",
       "    }\n",
       "</style>\n",
       "<table border=\"1\" class=\"dataframe\">\n",
       "  <thead>\n",
       "    <tr style=\"text-align: right;\">\n",
       "      <th></th>\n",
       "      <th>Survived</th>\n",
       "      <th>Pclass</th>\n",
       "      <th>Age</th>\n",
       "      <th>SibSp</th>\n",
       "      <th>Parch</th>\n",
       "      <th>Fare</th>\n",
       "    </tr>\n",
       "  </thead>\n",
       "  <tbody>\n",
       "    <tr>\n",
       "      <th>count</th>\n",
       "      <td>891.000000</td>\n",
       "      <td>891.000000</td>\n",
       "      <td>714.000000</td>\n",
       "      <td>891.000000</td>\n",
       "      <td>891.000000</td>\n",
       "      <td>891.000000</td>\n",
       "    </tr>\n",
       "    <tr>\n",
       "      <th>mean</th>\n",
       "      <td>0.383838</td>\n",
       "      <td>2.308642</td>\n",
       "      <td>29.699118</td>\n",
       "      <td>0.523008</td>\n",
       "      <td>0.381594</td>\n",
       "      <td>32.204208</td>\n",
       "    </tr>\n",
       "    <tr>\n",
       "      <th>std</th>\n",
       "      <td>0.486592</td>\n",
       "      <td>0.836071</td>\n",
       "      <td>14.526497</td>\n",
       "      <td>1.102743</td>\n",
       "      <td>0.806057</td>\n",
       "      <td>49.693429</td>\n",
       "    </tr>\n",
       "    <tr>\n",
       "      <th>min</th>\n",
       "      <td>0.000000</td>\n",
       "      <td>1.000000</td>\n",
       "      <td>0.420000</td>\n",
       "      <td>0.000000</td>\n",
       "      <td>0.000000</td>\n",
       "      <td>0.000000</td>\n",
       "    </tr>\n",
       "    <tr>\n",
       "      <th>25%</th>\n",
       "      <td>0.000000</td>\n",
       "      <td>2.000000</td>\n",
       "      <td>20.125000</td>\n",
       "      <td>0.000000</td>\n",
       "      <td>0.000000</td>\n",
       "      <td>7.910400</td>\n",
       "    </tr>\n",
       "    <tr>\n",
       "      <th>50%</th>\n",
       "      <td>0.000000</td>\n",
       "      <td>3.000000</td>\n",
       "      <td>28.000000</td>\n",
       "      <td>0.000000</td>\n",
       "      <td>0.000000</td>\n",
       "      <td>14.454200</td>\n",
       "    </tr>\n",
       "    <tr>\n",
       "      <th>75%</th>\n",
       "      <td>1.000000</td>\n",
       "      <td>3.000000</td>\n",
       "      <td>38.000000</td>\n",
       "      <td>1.000000</td>\n",
       "      <td>0.000000</td>\n",
       "      <td>31.000000</td>\n",
       "    </tr>\n",
       "    <tr>\n",
       "      <th>max</th>\n",
       "      <td>1.000000</td>\n",
       "      <td>3.000000</td>\n",
       "      <td>80.000000</td>\n",
       "      <td>8.000000</td>\n",
       "      <td>6.000000</td>\n",
       "      <td>512.329200</td>\n",
       "    </tr>\n",
       "  </tbody>\n",
       "</table>\n",
       "</div>"
      ],
      "text/plain": [
       "         Survived      Pclass         Age       SibSp       Parch        Fare\n",
       "count  891.000000  891.000000  714.000000  891.000000  891.000000  891.000000\n",
       "mean     0.383838    2.308642   29.699118    0.523008    0.381594   32.204208\n",
       "std      0.486592    0.836071   14.526497    1.102743    0.806057   49.693429\n",
       "min      0.000000    1.000000    0.420000    0.000000    0.000000    0.000000\n",
       "25%      0.000000    2.000000   20.125000    0.000000    0.000000    7.910400\n",
       "50%      0.000000    3.000000   28.000000    0.000000    0.000000   14.454200\n",
       "75%      1.000000    3.000000   38.000000    1.000000    0.000000   31.000000\n",
       "max      1.000000    3.000000   80.000000    8.000000    6.000000  512.329200"
      ]
     },
     "execution_count": 8,
     "metadata": {},
     "output_type": "execute_result"
    }
   ],
   "source": [
    "titanic_train.describe()"
   ]
  },
  {
   "cell_type": "markdown",
   "metadata": {},
   "source": [
    "The only attributes for which calculating statistical values make sense are `Age`, `SibSp`, `Parch` and `Fare`  attributes. We will analyse demographical passengers structure a bit later. All in all the values look correct and it seems data needs no more corrections at this stage of the analysis.\n",
    "\n",
    "We can also see here that attributes values ranges are very different. We will have to be standardized later on when preparing data for modeling.\n",
    "\n",
    "We are ready to move to the data exploration phase."
   ]
  },
  {
   "cell_type": "markdown",
   "metadata": {},
   "source": [
    "## 3. Data exploration <a class=\"anchor\" id=\"exploring\"></a>\n",
    "\n",
    "Let's now dig deeper into data internal structure and values."
   ]
  },
  {
   "cell_type": "markdown",
   "metadata": {},
   "source": [
    "## 3.1 Attributes analysis\n",
    "\n",
    "Let's first look at the general numeric data distributions including the target value `Survived` attribute."
   ]
  },
  {
   "cell_type": "code",
   "execution_count": 9,
   "metadata": {
    "collapsed": false
   },
   "outputs": [
    {
     "data": {
      "text/html": [
       "<div>\n",
       "<style scoped>\n",
       "    .dataframe tbody tr th:only-of-type {\n",
       "        vertical-align: middle;\n",
       "    }\n",
       "\n",
       "    .dataframe tbody tr th {\n",
       "        vertical-align: top;\n",
       "    }\n",
       "\n",
       "    .dataframe thead th {\n",
       "        text-align: right;\n",
       "    }\n",
       "</style>\n",
       "<table border=\"1\" class=\"dataframe\">\n",
       "  <thead>\n",
       "    <tr style=\"text-align: right;\">\n",
       "      <th></th>\n",
       "      <th>Survived</th>\n",
       "      <th>Pclass</th>\n",
       "      <th>Age</th>\n",
       "      <th>SibSp</th>\n",
       "      <th>Parch</th>\n",
       "      <th>Fare</th>\n",
       "    </tr>\n",
       "  </thead>\n",
       "  <tbody>\n",
       "    <tr>\n",
       "      <th>count</th>\n",
       "      <td>891.000000</td>\n",
       "      <td>891.000000</td>\n",
       "      <td>714.000000</td>\n",
       "      <td>891.000000</td>\n",
       "      <td>891.000000</td>\n",
       "      <td>891.000000</td>\n",
       "    </tr>\n",
       "    <tr>\n",
       "      <th>mean</th>\n",
       "      <td>0.383838</td>\n",
       "      <td>2.308642</td>\n",
       "      <td>29.699118</td>\n",
       "      <td>0.523008</td>\n",
       "      <td>0.381594</td>\n",
       "      <td>32.204208</td>\n",
       "    </tr>\n",
       "    <tr>\n",
       "      <th>std</th>\n",
       "      <td>0.486592</td>\n",
       "      <td>0.836071</td>\n",
       "      <td>14.526497</td>\n",
       "      <td>1.102743</td>\n",
       "      <td>0.806057</td>\n",
       "      <td>49.693429</td>\n",
       "    </tr>\n",
       "    <tr>\n",
       "      <th>min</th>\n",
       "      <td>0.000000</td>\n",
       "      <td>1.000000</td>\n",
       "      <td>0.420000</td>\n",
       "      <td>0.000000</td>\n",
       "      <td>0.000000</td>\n",
       "      <td>0.000000</td>\n",
       "    </tr>\n",
       "    <tr>\n",
       "      <th>25%</th>\n",
       "      <td>0.000000</td>\n",
       "      <td>2.000000</td>\n",
       "      <td>20.125000</td>\n",
       "      <td>0.000000</td>\n",
       "      <td>0.000000</td>\n",
       "      <td>7.910400</td>\n",
       "    </tr>\n",
       "    <tr>\n",
       "      <th>50%</th>\n",
       "      <td>0.000000</td>\n",
       "      <td>3.000000</td>\n",
       "      <td>28.000000</td>\n",
       "      <td>0.000000</td>\n",
       "      <td>0.000000</td>\n",
       "      <td>14.454200</td>\n",
       "    </tr>\n",
       "    <tr>\n",
       "      <th>75%</th>\n",
       "      <td>1.000000</td>\n",
       "      <td>3.000000</td>\n",
       "      <td>38.000000</td>\n",
       "      <td>1.000000</td>\n",
       "      <td>0.000000</td>\n",
       "      <td>31.000000</td>\n",
       "    </tr>\n",
       "    <tr>\n",
       "      <th>max</th>\n",
       "      <td>1.000000</td>\n",
       "      <td>3.000000</td>\n",
       "      <td>80.000000</td>\n",
       "      <td>8.000000</td>\n",
       "      <td>6.000000</td>\n",
       "      <td>512.329200</td>\n",
       "    </tr>\n",
       "  </tbody>\n",
       "</table>\n",
       "</div>"
      ],
      "text/plain": [
       "         Survived      Pclass         Age       SibSp       Parch        Fare\n",
       "count  891.000000  891.000000  714.000000  891.000000  891.000000  891.000000\n",
       "mean     0.383838    2.308642   29.699118    0.523008    0.381594   32.204208\n",
       "std      0.486592    0.836071   14.526497    1.102743    0.806057   49.693429\n",
       "min      0.000000    1.000000    0.420000    0.000000    0.000000    0.000000\n",
       "25%      0.000000    2.000000   20.125000    0.000000    0.000000    7.910400\n",
       "50%      0.000000    3.000000   28.000000    0.000000    0.000000   14.454200\n",
       "75%      1.000000    3.000000   38.000000    1.000000    0.000000   31.000000\n",
       "max      1.000000    3.000000   80.000000    8.000000    6.000000  512.329200"
      ]
     },
     "execution_count": 9,
     "metadata": {},
     "output_type": "execute_result"
    }
   ],
   "source": [
    "titanic_train.describe()"
   ]
  },
  {
   "cell_type": "code",
   "execution_count": 10,
   "metadata": {
    "collapsed": false
   },
   "outputs": [
    {
     "data": {
      "text/plain": [
       "array([[<matplotlib.axes._subplots.AxesSubplot object at 0x118c0d898>,\n",
       "        <matplotlib.axes._subplots.AxesSubplot object at 0x10e421d30>],\n",
       "       [<matplotlib.axes._subplots.AxesSubplot object at 0x10e436860>,\n",
       "        <matplotlib.axes._subplots.AxesSubplot object at 0x10e4f4ba8>],\n",
       "       [<matplotlib.axes._subplots.AxesSubplot object at 0x118d0e390>,\n",
       "        <matplotlib.axes._subplots.AxesSubplot object at 0x118d0e3c8>]], dtype=object)"
      ]
     },
     "execution_count": 10,
     "metadata": {},
     "output_type": "execute_result"
    },
    {
     "data": {
      "image/png": "[encoded data removed]",
      "text/plain": [
       "<matplotlib.figure.Figure at 0x118c0d1d0>"
      ]
     },
     "metadata": {},
     "output_type": "display_data"
    }
   ],
   "source": [
    "titanic_train.hist(bins=20, figsize=(18, 16), color=\"#f1b7b0\")"
   ]
  },
  {
   "cell_type": "markdown",
   "metadata": {},
   "source": [
    "We notice a few things in these histograms: \n",
    "- `Age` distribution is centered around 20-30 years ranging to 80 with quite large number of children aged 0-5. The minimal age value is 0.42 and the maximal is 80. The mean value is 29.6991 with quite large standard deviation of 14.5264. The median value is 28.\n",
    "- `Fare` attribute values distribution is strongly positevely skewed with mean 32.2042 and large stadard deviation of 49.6934. Because the distribution is skewed median is much smaller than the mean with value of 14.4542. The range of data is large ranging from 0 to 512. At the same time 75% of the data is lower than 31. \n",
    "- `Parch` (the number of parents/children aboard) distribution mode is 0 by far meaning that most of the passengers traveled without any parents/children and also there are some outlier values with 3 and more parents/children aboard.\n",
    "- `Pclass` distribution shows that almost 500 out of all 891 passengers in the dataset were travelling the 3rd (lowest) class and almost 200 passengers were travelling both in 1st and 2nd class.\n",
    "- `SibSp` (number of siblings/spouses aboard) is similar to `Parch` distribution but with larger number of passengers travelling with one sibling/spouse.\n",
    "- `Survived` obviously shows only two values but we can also see that number of survivors is much smaller than the number of passengers who died in the disaster."
   ]
  },
  {
   "cell_type": "markdown",
   "metadata": {},
   "source": [
    "Let's also look at catgorical attributes values: `Name`, `Sex`, `Ticket`, `Cabin`, `Embarked`."
   ]
  },
  {
   "cell_type": "code",
   "execution_count": 11,
   "metadata": {
    "collapsed": false
   },
   "outputs": [
    {
     "data": {
      "text/plain": [
       "Wiseman, Mr. Phillippe                                   1\n",
       "Yousif, Mr. Wazli                                        1\n",
       "Connors, Mr. Patrick                                     1\n",
       "Bishop, Mr. Dickinson H                                  1\n",
       "Jensen, Mr. Hans Peder                                   1\n",
       "Kelly, Mrs. Florence \"Fannie\"                            1\n",
       "Potter, Mrs. Thomas Jr (Lily Alexenia Wilson)            1\n",
       "LeRoy, Miss. Bertha                                      1\n",
       "Lester, Mr. James                                        1\n",
       "Lindblom, Miss. Augusta Charlotta                        1\n",
       "Doharr, Mr. Tannous                                      1\n",
       "Webber, Miss. Susan                                      1\n",
       "Flynn, Mr. John                                          1\n",
       "Davies, Mr. Charles Henry                                1\n",
       "Turja, Miss. Anna Sofia                                  1\n",
       "Ivanoff, Mr. Kanio                                       1\n",
       "Lam, Mr. Len                                             1\n",
       "Jacobsohn, Mr. Sidney Samuel                             1\n",
       "Frost, Mr. Anthony Wood \"Archie\"                         1\n",
       "Zimmerman, Mr. Leo                                       1\n",
       "Andrews, Miss. Kornelia Theodosia                        1\n",
       "Spencer, Mrs. William Augustus (Marie Eugenie)           1\n",
       "Porter, Mr. Walter Chamberlain                           1\n",
       "Skoog, Master. Harald                                    1\n",
       "Persson, Mr. Ernst Ulrik                                 1\n",
       "Hewlett, Mrs. (Mary D Kingcome)                          1\n",
       "Coleff, Mr. Peju                                         1\n",
       "Yasbeck, Mrs. Antoni (Selini Alexander)                  1\n",
       "Gill, Mr. John William                                   1\n",
       "Minahan, Dr. William Edward                              1\n",
       "                                                        ..\n",
       "Canavan, Miss. Mary                                      1\n",
       "Reuchlin, Jonkheer. John George                          1\n",
       "Nilsson, Miss. Helmina Josefina                          1\n",
       "Quick, Mrs. Frederick Charles (Jane Richards)            1\n",
       "Laroche, Mr. Joseph Philippe Lemercier                   1\n",
       "Moubarek, Master. Gerios                                 1\n",
       "Caldwell, Master. Alden Gates                            1\n",
       "Futrelle, Mrs. Jacques Heath (Lily May Peel)             1\n",
       "Lurette, Miss. Elise                                     1\n",
       "Abelson, Mrs. Samuel (Hannah Wizosky)                    1\n",
       "Sutehall, Mr. Henry Jr                                   1\n",
       "Robert, Mrs. Edward Scott (Elisabeth Walton McMillan)    1\n",
       "Brocklebank, Mr. William Alfred                          1\n",
       "Collander, Mr. Erik Gustaf                               1\n",
       "Johnston, Miss. Catherine Helen \"Carrie\"                 1\n",
       "Renouf, Mrs. Peter Henry (Lillian Jefferys)              1\n",
       "Baxter, Mrs. James (Helene DeLaudeniere Chaput)          1\n",
       "Patchett, Mr. George                                     1\n",
       "Hakkarainen, Mrs. Pekka Pietari (Elin Matilda Dolck)     1\n",
       "Crease, Mr. Ernest James                                 1\n",
       "Foo, Mr. Choong                                          1\n",
       "Douglas, Mr. Walter Donald                               1\n",
       "Danoff, Mr. Yoto                                         1\n",
       "Newsom, Miss. Helen Monypeny                             1\n",
       "Eustis, Miss. Elizabeth Mussey                           1\n",
       "Moran, Mr. James                                         1\n",
       "Cardeza, Mr. Thomas Drake Martinez                       1\n",
       "Slabenoff, Mr. Petco                                     1\n",
       "Palsson, Miss. Stina Viola                               1\n",
       "Duran y More, Miss. Asuncion                             1\n",
       "Name: Name, Length: 891, dtype: int64"
      ]
     },
     "execution_count": 11,
     "metadata": {},
     "output_type": "execute_result"
    }
   ],
   "source": [
    "titanic_train[\"Name\"].value_counts()"
   ]
  },
  {
   "cell_type": "markdown",
   "metadata": {},
   "source": [
    "`Names`, by definition, are rather unique so its distribution would be uniform. It is not categorical attribute then - just textual. This tells us that in modelling phase this value will not be of too much help since there are no group of values that model can identify."
   ]
  },
  {
   "cell_type": "code",
   "execution_count": 12,
   "metadata": {
    "collapsed": false
   },
   "outputs": [
    {
     "data": {
      "text/plain": [
       "CA. 2343             7\n",
       "1601                 7\n",
       "347082               7\n",
       "347088               6\n",
       "3101295              6\n",
       "CA 2144              6\n",
       "S.O.C. 14879         5\n",
       "382652               5\n",
       "LINE                 4\n",
       "4133                 4\n",
       "2666                 4\n",
       "W./C. 6608           4\n",
       "PC 17757             4\n",
       "113781               4\n",
       "17421                4\n",
       "349909               4\n",
       "347077               4\n",
       "19950                4\n",
       "113760               4\n",
       "35273                3\n",
       "PC 17572             3\n",
       "C.A. 31921           3\n",
       "PC 17582             3\n",
       "F.C.C. 13529         3\n",
       "24160                3\n",
       "345773               3\n",
       "371110               3\n",
       "347742               3\n",
       "248727               3\n",
       "SC/Paris 2123        3\n",
       "                    ..\n",
       "695                  1\n",
       "29103                1\n",
       "STON/O2. 3101282     1\n",
       "2650                 1\n",
       "C.A. 24580           1\n",
       "19988                1\n",
       "STON/O 2. 3101288    1\n",
       "113056               1\n",
       "2686                 1\n",
       "237798               1\n",
       "330958               1\n",
       "STON/O2. 3101271     1\n",
       "368703               1\n",
       "349219               1\n",
       "330979               1\n",
       "383121               1\n",
       "363294               1\n",
       "SO/C 14885           1\n",
       "350047               1\n",
       "110813               1\n",
       "STON/O2. 3101290     1\n",
       "3101277              1\n",
       "111369               1\n",
       "PP 4348              1\n",
       "349208               1\n",
       "112053               1\n",
       "112277               1\n",
       "PC 17610             1\n",
       "12233                1\n",
       "244270               1\n",
       "Name: Ticket, Length: 681, dtype: int64"
      ]
     },
     "execution_count": 12,
     "metadata": {},
     "output_type": "execute_result"
    }
   ],
   "source": [
    "titanic_train[\"Ticket\"].value_counts()"
   ]
  },
  {
   "cell_type": "markdown",
   "metadata": {},
   "source": [
    "`Ticket` attribute is also not a classical categorical attribute with multiple unique or close to unique values. There some values repetition but rather tickets identifiers (as we assume they are) are unique. This again can lead to the conclusion that this attribute will not be helpful in survival prediction."
   ]
  },
  {
   "cell_type": "code",
   "execution_count": 13,
   "metadata": {
    "collapsed": false
   },
   "outputs": [
    {
     "data": {
      "text/plain": [
       "G6             4\n",
       "C23 C25 C27    4\n",
       "B96 B98        4\n",
       "E101           3\n",
       "F33            3\n",
       "C22 C26        3\n",
       "F2             3\n",
       "D              3\n",
       "C83            2\n",
       "C126           2\n",
       "C68            2\n",
       "D20            2\n",
       "B18            2\n",
       "D33            2\n",
       "C65            2\n",
       "D26            2\n",
       "B28            2\n",
       "C125           2\n",
       "C92            2\n",
       "B58 B60        2\n",
       "E121           2\n",
       "B22            2\n",
       "E8             2\n",
       "E25            2\n",
       "D35            2\n",
       "B5             2\n",
       "E24            2\n",
       "E67            2\n",
       "D17            2\n",
       "E44            2\n",
       "              ..\n",
       "C47            1\n",
       "B38            1\n",
       "D6             1\n",
       "C111           1\n",
       "B80            1\n",
       "B41            1\n",
       "E58            1\n",
       "C95            1\n",
       "C49            1\n",
       "D19            1\n",
       "B86            1\n",
       "B101           1\n",
       "D28            1\n",
       "D9             1\n",
       "C110           1\n",
       "D47            1\n",
       "A32            1\n",
       "B42            1\n",
       "F E69          1\n",
       "A5             1\n",
       "D15            1\n",
       "B69            1\n",
       "B73            1\n",
       "E38            1\n",
       "A16            1\n",
       "D50            1\n",
       "D7             1\n",
       "C30            1\n",
       "A23            1\n",
       "B78            1\n",
       "Name: Cabin, Length: 147, dtype: int64"
      ]
     },
     "execution_count": 13,
     "metadata": {},
     "output_type": "execute_result"
    }
   ],
   "source": [
    "titanic_train[\"Cabin\"].value_counts()"
   ]
  },
  {
   "cell_type": "markdown",
   "metadata": {},
   "source": [
    "`Cabin` is similar in structure to the `Name` and `Ticket` attributes. It is again rather textual attribute and not categorical. As we saw earlier this is the attribute with the biggest number of missing values: we have only 204 values out of all 891 passengers and the rest is missing. All this suggest that also this attribute will not be of much help during the modeling phase of this project."
   ]
  },
  {
   "cell_type": "code",
   "execution_count": 14,
   "metadata": {
    "collapsed": false
   },
   "outputs": [
    {
     "data": {
      "text/plain": [
       "male      577\n",
       "female    314\n",
       "Name: Sex, dtype: int64"
      ]
     },
     "execution_count": 14,
     "metadata": {},
     "output_type": "execute_result"
    }
   ],
   "source": [
    "titanic_train[\"Sex\"].value_counts()"
   ]
  },
  {
   "cell_type": "markdown",
   "metadata": {},
   "source": [
    "`Sex` attribute has only two possible values: `male` and `female`. It is a categorical attribute. Let's plot it."
   ]
  },
  {
   "cell_type": "code",
   "execution_count": 15,
   "metadata": {
    "collapsed": false
   },
   "outputs": [
    {
     "data": {
      "text/plain": [
       "<matplotlib.axes._subplots.AxesSubplot at 0x11c9d58d0>"
      ]
     },
     "execution_count": 15,
     "metadata": {},
     "output_type": "execute_result"
    },
    {
     "data": {
      "image/png": "[encoded data removed]",
      "text/plain": [
       "<matplotlib.figure.Figure at 0x11ca71a90>"
      ]
     },
     "metadata": {},
     "output_type": "display_data"
    }
   ],
   "source": [
    "titanic_train[\"Sex\"].value_counts().plot(kind='bar', figsize=(6, 4), grid=True, color=\"#f1b7b0\", title=\"Sex\")"
   ]
  },
  {
   "cell_type": "markdown",
   "metadata": {},
   "source": [
    "We see that on Titanic (as measured by analysed dataset) there were almost twice as much males as females."
   ]
  },
  {
   "cell_type": "code",
   "execution_count": 16,
   "metadata": {
    "collapsed": false
   },
   "outputs": [
    {
     "data": {
      "text/plain": [
       "S    644\n",
       "C    168\n",
       "Q     77\n",
       "Name: Embarked, dtype: int64"
      ]
     },
     "execution_count": 16,
     "metadata": {},
     "output_type": "execute_result"
    }
   ],
   "source": [
    "titanic_train[\"Embarked\"].value_counts()"
   ]
  },
  {
   "cell_type": "markdown",
   "metadata": {},
   "source": [
    "`Embarked` attribute has three possible values: `S`, `C` and `Q` (standing for Southampton, Cherbourg or Queenstown city of embarkation) meaning that it is categorical attribute. Let's plot it's values."
   ]
  },
  {
   "cell_type": "code",
   "execution_count": 17,
   "metadata": {
    "collapsed": false
   },
   "outputs": [
    {
     "data": {
      "text/plain": [
       "<matplotlib.axes._subplots.AxesSubplot at 0x11cf0f5c0>"
      ]
     },
     "execution_count": 17,
     "metadata": {},
     "output_type": "execute_result"
    },
    {
     "data": {
      "image/png": "[encoded data removed]",
      "text/plain": [
       "<matplotlib.figure.Figure at 0x11cf205f8>"
      ]
     },
     "metadata": {},
     "output_type": "display_data"
    }
   ],
   "source": [
    "titanic_train[\"Embarked\"].value_counts().plot(kind='bar', figsize=(6, 4), grid=True, color=\"#f1b7b0\", title=\"Embarked\")"
   ]
  },
  {
   "cell_type": "markdown",
   "metadata": {},
   "source": [
    "We can see that vast majority of passengers embarked in Southampton port, less than 200 passengers embarked in Cherbourg and less then 100 embarked in Queenstown. For now we can tell nothing more out of it but later on we will try to see how this attribute values affected the survival chances of passengers.\n",
    "\n",
    "It looks like we have 7 attributes that we can explore for how their values affect pasengers survival chances. These are the five numerical attributes: `Pclass` (passenger class), `Age` (passenger age), `SibSp` (number of siblings/spouses aboard), `Parch` (number of parents/children aboard), `Fare` (fare passenger paid). There are also two categorical attributes that looks like factors that can be analysed for influencing passengers survival chances: `Sex` (passenger sex) and `Embarked` (port of embarkation). \n",
    "\n",
    "In further analysis and modelling we will concentrate on these attributes when analysing and modeling passengers survival. `Name`, `Ticket` and `Cabin` attributes are textual non-categorical and rather unique values and as such are hard to analyze in terms of finding some patterns or relations between them and survival chances.\n",
    "\n",
    "As a sidenote `Sex` and `Embarked` attributes, as categorical values, can be numerically encoded. We will perform this when preparing the data for modeling stage.\n",
    "\n",
    "We can finish now studying individual attributes properties and start looking at relations between them."
   ]
  },
  {
   "cell_type": "markdown",
   "metadata": {},
   "source": [
    "## 3.2 Relations between attributes analysis\n",
    "\n",
    "Let's now dig deeper into data internal relations. Since our dataset is not very large we can create scatter plot between each of the numerical attributes."
   ]
  },
  {
   "cell_type": "code",
   "execution_count": 18,
   "metadata": {
    "collapsed": false,
    "scrolled": false
   },
   "outputs": [
    {
     "data": {
      "image/png": "[encoded data removed]",
      "text/plain": [
       "<matplotlib.figure.Figure at 0x11cfc6b00>"
      ]
     },
     "metadata": {},
     "output_type": "display_data"
    }
   ],
   "source": [
    "scatter_matrix(titanic_train, figsize=(18, 16), c=\"#f1b7b0\", hist_kwds={'color':['#f1b7b0']});"
   ]
  },
  {
   "cell_type": "markdown",
   "metadata": {},
   "source": [
    "It is quite difficult to read something informative from scatter plots since some of the data is not continous.\n",
    "\n",
    "Let's then compute the correlation matrix showing correlation coefficient between each numerical attribute."
   ]
  },
  {
   "cell_type": "code",
   "execution_count": 19,
   "metadata": {
    "collapsed": false,
    "scrolled": true
   },
   "outputs": [
    {
     "data": {
      "text/html": [
       "<div>\n",
       "<style scoped>\n",
       "    .dataframe tbody tr th:only-of-type {\n",
       "        vertical-align: middle;\n",
       "    }\n",
       "\n",
       "    .dataframe tbody tr th {\n",
       "        vertical-align: top;\n",
       "    }\n",
       "\n",
       "    .dataframe thead th {\n",
       "        text-align: right;\n",
       "    }\n",
       "</style>\n",
       "<table border=\"1\" class=\"dataframe\">\n",
       "  <thead>\n",
       "    <tr style=\"text-align: right;\">\n",
       "      <th></th>\n",
       "      <th>Survived</th>\n",
       "      <th>Pclass</th>\n",
       "      <th>Age</th>\n",
       "      <th>SibSp</th>\n",
       "      <th>Parch</th>\n",
       "      <th>Fare</th>\n",
       "    </tr>\n",
       "  </thead>\n",
       "  <tbody>\n",
       "    <tr>\n",
       "      <th>Survived</th>\n",
       "      <td>1.000000</td>\n",
       "      <td>-0.338481</td>\n",
       "      <td>-0.077221</td>\n",
       "      <td>-0.035322</td>\n",
       "      <td>0.081629</td>\n",
       "      <td>0.257307</td>\n",
       "    </tr>\n",
       "    <tr>\n",
       "      <th>Pclass</th>\n",
       "      <td>-0.338481</td>\n",
       "      <td>1.000000</td>\n",
       "      <td>-0.369226</td>\n",
       "      <td>0.083081</td>\n",
       "      <td>0.018443</td>\n",
       "      <td>-0.549500</td>\n",
       "    </tr>\n",
       "    <tr>\n",
       "      <th>Age</th>\n",
       "      <td>-0.077221</td>\n",
       "      <td>-0.369226</td>\n",
       "      <td>1.000000</td>\n",
       "      <td>-0.308247</td>\n",
       "      <td>-0.189119</td>\n",
       "      <td>0.096067</td>\n",
       "    </tr>\n",
       "    <tr>\n",
       "      <th>SibSp</th>\n",
       "      <td>-0.035322</td>\n",
       "      <td>0.083081</td>\n",
       "      <td>-0.308247</td>\n",
       "      <td>1.000000</td>\n",
       "      <td>0.414838</td>\n",
       "      <td>0.159651</td>\n",
       "    </tr>\n",
       "    <tr>\n",
       "      <th>Parch</th>\n",
       "      <td>0.081629</td>\n",
       "      <td>0.018443</td>\n",
       "      <td>-0.189119</td>\n",
       "      <td>0.414838</td>\n",
       "      <td>1.000000</td>\n",
       "      <td>0.216225</td>\n",
       "    </tr>\n",
       "    <tr>\n",
       "      <th>Fare</th>\n",
       "      <td>0.257307</td>\n",
       "      <td>-0.549500</td>\n",
       "      <td>0.096067</td>\n",
       "      <td>0.159651</td>\n",
       "      <td>0.216225</td>\n",
       "      <td>1.000000</td>\n",
       "    </tr>\n",
       "  </tbody>\n",
       "</table>\n",
       "</div>"
      ],
      "text/plain": [
       "          Survived    Pclass       Age     SibSp     Parch      Fare\n",
       "Survived  1.000000 -0.338481 -0.077221 -0.035322  0.081629  0.257307\n",
       "Pclass   -0.338481  1.000000 -0.369226  0.083081  0.018443 -0.549500\n",
       "Age      -0.077221 -0.369226  1.000000 -0.308247 -0.189119  0.096067\n",
       "SibSp    -0.035322  0.083081 -0.308247  1.000000  0.414838  0.159651\n",
       "Parch     0.081629  0.018443 -0.189119  0.414838  1.000000  0.216225\n",
       "Fare      0.257307 -0.549500  0.096067  0.159651  0.216225  1.000000"
      ]
     },
     "execution_count": 19,
     "metadata": {},
     "output_type": "execute_result"
    }
   ],
   "source": [
    "corr_matrix = titanic_train.corr()\n",
    "corr_matrix"
   ]
  },
  {
   "cell_type": "markdown",
   "metadata": {},
   "source": [
    "We can see some meaningful correlations here. To get even better intuition let's visualize the correlation matrix."
   ]
  },
  {
   "cell_type": "code",
   "execution_count": 20,
   "metadata": {
    "collapsed": false
   },
   "outputs": [
    {
     "data": {
      "image/png": "[encoded data removed]",
      "text/plain": [
       "<matplotlib.figure.Figure at 0x11e04a198>"
      ]
     },
     "metadata": {},
     "output_type": "display_data"
    }
   ],
   "source": [
    "fig, axes = plt.subplots(figsize=(8, 8))\n",
    "cax = axes.matshow(corr_matrix, vmin=-1, vmax=1, cmap=plt.cm.pink)\n",
    "fig.colorbar(cax)\n",
    "ticks = np.arange(0, len(corr_matrix), 1)\n",
    "axes.set_xticks(ticks)\n",
    "axes.set_yticks(ticks)\n",
    "axes.set_xticklabels(corr_matrix)\n",
    "axes.set_yticklabels(corr_matrix)\n",
    "plt.show()"
   ]
  },
  {
   "cell_type": "markdown",
   "metadata": {},
   "source": [
    "Analyzing correlation let's remember that our target value is `Survived` attribute. \n",
    "\n",
    "Let's concentrate for now on correlation between target value and other attributes. We see quite strong positive correlation between `Fare` and `Survived` attributes values (0.2573) meaning that who payed more for the ticked could have for some reason higher chances for survival. There is also quite strong negative correlation between `Pclass` and `Survived` attributes values (-0.3385) similarly meaning that the higher class passenger was travelling the lower was risk for not surviving. The rest of the attributes seems not correlated strongly with `Survived`. \n",
    "\n",
    "Looking at relations between other attributes an obvious intution is strong negative correlation between `Pclass` and `Fare` (-0.5495): the more expensive ticket usually means better standard and lower class number (1st class is the most luxourious).\n",
    "\n",
    "Other interesting insight is quite strong positive correlation between `SibSp` and `Parch` attributes (0.41)meaning that someone who travels with siblings or spouse tends to also travel with parents or children.\n",
    "\n",
    "Surprising is positive correlation between `Parch` and `Fare` attributes (0.2162) meaning that person traveling with parents or children tends to pay more for the ticket. Similar but with lower correlation in case of `SibSp` attribute.\n",
    "\n",
    "Other more distinct relation we can see in the dataset is negative correlation between `Pclass` and `Age` (-0.3692). We can interpret it as the lower class number (and high standard) the higher age which seems reasonable.\n",
    "\n",
    "Also interesting is the high negative correlation between `Age` and `SibSp` (-0.3083). It conveys interesting fact that the older passenger was the lower was the number of siblings travelling with."
   ]
  },
  {
   "cell_type": "markdown",
   "metadata": {},
   "source": [
    "We now have quite deep insight in what is going on in the dataset. We will now proceed to answering question posed at the begining of this analysis."
   ]
  },
  {
   "cell_type": "markdown",
   "metadata": {},
   "source": [
    "## 3.3 What was Titanic passengers demographic structure analyzed in terms of attributes?\n",
    "\n",
    "In this part we will analyze attributes we found meaningful in terms of survival analysis: `Pclass`, `Sex`, `Age`, `SibSp`, `Parch`, `Fare` and `Embarked`. We will not analyze `Name`, `Ticket` and `Cabin` attributes since we found that they do not convey information in terms of population survival analysis.\n",
    "\n",
    "Let's start with ticket class analysis - how many passengers travelled in each of the ticket classes. On Titanic there were three tickets classes: first, second and third. They are represented in the dataset using values 1, 2 and 3.  "
   ]
  },
  {
   "cell_type": "code",
   "execution_count": 21,
   "metadata": {
    "collapsed": false
   },
   "outputs": [
    {
     "data": {
      "text/plain": [
       "First class     216\n",
       "Second class    184\n",
       "Third class     491\n",
       "Name: Pclass, dtype: int64"
      ]
     },
     "execution_count": 21,
     "metadata": {},
     "output_type": "execute_result"
    }
   ],
   "source": [
    "titanic_class_counts = titanic_train[\"Pclass\"].value_counts(sort=False)\n",
    "titanic_class_counts.index = [\"First class\", \"Second class\", \"Third class\"]\n",
    "titanic_class_counts"
   ]
  },
  {
   "cell_type": "markdown",
   "metadata": {},
   "source": [
    "Let's see how does this population of passengers looks like."
   ]
  },
  {
   "cell_type": "code",
   "execution_count": 22,
   "metadata": {
    "collapsed": false
   },
   "outputs": [],
   "source": [
    "def get_waffle_plot(data, rows, title):\n",
    "    colors=(\"#f1b7b0\", \"#f0f0f0\", \"#cccccc\", \"#e3d8c0\", \"#f9d9ac\", \"#fdf1b6\", \"#f7dceb\")\n",
    "    fig = plt.figure(\n",
    "        FigureClass=Waffle, \n",
    "        rows=rows,\n",
    "        values=data, \n",
    "        colors=colors[:len(data)],\n",
    "        title={'label': title, 'loc': 'left', \"fontsize\": 14},\n",
    "        figsize=(20, 4),\n",
    "        labels=[\"{} ({}, {:.2f}%)\".format(k, v, v / sum(data.values()) * 100) for k, v in data.items()],\n",
    "        legend={'loc': 'lower left', 'bbox_to_anchor': (0, -0.3), 'ncol': len(data), 'framealpha': 0, \"fontsize\": 14, \"handlelength\": 0.7}\n",
    ")"
   ]
  },
  {
   "cell_type": "code",
   "execution_count": 23,
   "metadata": {
    "collapsed": false
   },
   "outputs": [
    {
     "data": {
      "image/png": "[encoded data removed]",
      "text/plain": [
       "<pywaffle.waffle.Waffle at 0x11e8446d8>"
      ]
     },
     "metadata": {},
     "output_type": "display_data"
    }
   ],
   "source": [
    "get_waffle_plot(titanic_class_counts.to_dict(), rows=9, title=\"Number of passengers travelling in different classes\")"
   ]
  },
  {
   "cell_type": "markdown",
   "metadata": {},
   "source": [
    "We see that vast majority (55.11%) of passengers travelled in lowest third class and almost 25% of passengers travelled in first class. "
   ]
  },
  {
   "cell_type": "code",
   "execution_count": 24,
   "metadata": {
    "collapsed": false
   },
   "outputs": [
    {
     "data": {
      "text/plain": [
       "male      577\n",
       "female    314\n",
       "Name: Sex, dtype: int64"
      ]
     },
     "execution_count": 24,
     "metadata": {},
     "output_type": "execute_result"
    }
   ],
   "source": [
    "titanic_sex_counts = titanic_train[\"Sex\"].value_counts()\n",
    "titanic_sex_counts"
   ]
  },
  {
   "cell_type": "code",
   "execution_count": 25,
   "metadata": {
    "collapsed": false
   },
   "outputs": [
    {
     "data": {
      "image/png": "[encoded data removed]",
      "text/plain": [
       "<pywaffle.waffle.Waffle at 0x11e4695c0>"
      ]
     },
     "metadata": {},
     "output_type": "display_data"
    }
   ],
   "source": [
    "get_waffle_plot(titanic_sex_counts.to_dict(), rows=9, title=\"Number of female and male pasengers\")"
   ]
  },
  {
   "cell_type": "markdown",
   "metadata": {},
   "source": [
    "Majority of all passengers were males (64.76%) with only 35.24% of females."
   ]
  },
  {
   "cell_type": "markdown",
   "metadata": {},
   "source": [
    "To analyze age we need first to bin the data into meaningful age groups."
   ]
  },
  {
   "cell_type": "code",
   "execution_count": 26,
   "metadata": {
    "collapsed": false
   },
   "outputs": [
    {
     "data": {
      "text/plain": [
       "(0, 14]      77\n",
       "(14, 24]    200\n",
       "(24, 34]    201\n",
       "(34, 44]    121\n",
       "(44, 54]     73\n",
       "(54, 64]     31\n",
       "(64, 80]     11\n",
       "Name: Age, dtype: int64"
      ]
     },
     "execution_count": 26,
     "metadata": {},
     "output_type": "execute_result"
    }
   ],
   "source": [
    "titanic_age_groups_counts = pd.cut(titanic_train[\"Age\"], bins=[0, 14, 24, 34, 44, 54, 64, 80]).value_counts().sort_index()\n",
    "titanic_age_groups_counts"
   ]
  },
  {
   "cell_type": "code",
   "execution_count": 27,
   "metadata": {
    "collapsed": false
   },
   "outputs": [
    {
     "data": {
      "image/png": "[encoded data removed]",
      "text/plain": [
       "<pywaffle.waffle.Waffle at 0x11e1fcd68>"
      ]
     },
     "metadata": {},
     "output_type": "display_data"
    }
   ],
   "source": [
    "get_waffle_plot(titanic_age_groups_counts.to_dict(), rows=9, title=\"Number of passengers in different age groups\")"
   ]
  },
  {
   "cell_type": "markdown",
   "metadata": {},
   "source": [
    "10.78% of passengers were children in age 0-14. A little over 28% of passengers were both between 14-24 and 24-34 years old. Almost 17% of all passengers were 34-44 years old. Only 16% of all passengers were above 44 years old. That tells us that Titanic passengers population was quite young.\n",
    "\n",
    "Just out of interest let's dig a bit deeper into passengers age distribution properties."
   ]
  },
  {
   "cell_type": "code",
   "execution_count": 28,
   "metadata": {
    "collapsed": false
   },
   "outputs": [
    {
     "data": {
      "text/plain": [
       "count    714.000000\n",
       "mean      29.699118\n",
       "std       14.526497\n",
       "min        0.420000\n",
       "25%       20.125000\n",
       "50%       28.000000\n",
       "75%       38.000000\n",
       "max       80.000000\n",
       "Name: Age, dtype: float64"
      ]
     },
     "execution_count": 28,
     "metadata": {},
     "output_type": "execute_result"
    }
   ],
   "source": [
    "titanic_train[\"Age\"].describe()"
   ]
  },
  {
   "cell_type": "markdown",
   "metadata": {},
   "source": [
    "We can see that the youngest passenger was 5 months old (0.42 year old). Let's see who she or he was."
   ]
  },
  {
   "cell_type": "code",
   "execution_count": 29,
   "metadata": {
    "collapsed": false
   },
   "outputs": [
    {
     "data": {
      "text/plain": [
       "Survived                                  1\n",
       "Pclass                                    3\n",
       "Name        Thomas, Master. Assad Alexander\n",
       "Sex                                    male\n",
       "Age                                    0.42\n",
       "SibSp                                     0\n",
       "Parch                                     1\n",
       "Ticket                                 2625\n",
       "Fare                                 8.5167\n",
       "Cabin                                   NaN\n",
       "Embarked                                  C\n",
       "Name: 804, dtype: object"
      ]
     },
     "execution_count": 29,
     "metadata": {},
     "output_type": "execute_result"
    }
   ],
   "source": [
    "titanic_train.loc[titanic_train[\"Age\"].argmin()]"
   ]
  },
  {
   "cell_type": "markdown",
   "metadata": {},
   "source": [
    "It was a boy: Assed Alexander Thomas born in Hardīn, Lebanon on 8 November 1911. He survived Titanic disaster - you can read his story [here](https://www.encyclopedia-titanica.org/titanic-survivor/assad-alexander-thomas-tannous.html).\n",
    "\n",
    "On the other side of passengers dataset age distribution is the oldest passenger who was 80. Let's see who she or he was."
   ]
  },
  {
   "cell_type": "code",
   "execution_count": 30,
   "metadata": {
    "collapsed": false
   },
   "outputs": [
    {
     "data": {
      "text/plain": [
       "Survived                                       1\n",
       "Pclass                                         1\n",
       "Name        Barkworth, Mr. Algernon Henry Wilson\n",
       "Sex                                         male\n",
       "Age                                           80\n",
       "SibSp                                          0\n",
       "Parch                                          0\n",
       "Ticket                                     27042\n",
       "Fare                                          30\n",
       "Cabin                                        A23\n",
       "Embarked                                       S\n",
       "Name: 631, dtype: object"
      ]
     },
     "execution_count": 30,
     "metadata": {},
     "output_type": "execute_result"
    }
   ],
   "source": [
    "titanic_train.loc[titanic_train[\"Age\"].argmax()]"
   ]
  },
  {
   "cell_type": "markdown",
   "metadata": {},
   "source": [
    "By accident we found error in the Titanic dataset. When you read Algernon Henry Wilson Barkworth biography (you can find it [here](https://www.encyclopedia-titanica.org/titanic-survivor/algernon-barkworth.html)), we can read that he was born in 1864. That means that in 1912, when Titanic disaster happened, he was 48 years old and not 80 as stated in the dataset. \n",
    "\n",
    "So why 80 in the data set? We can further read that this person died in 1945 - aged 80. This means that dataset contains for this passenger age value of post Titanic death and not day of disaster age as it does for other survived passengers age attribute values. This inconsistency makes the data invalid and confusing when it comes to factual or historical value.\n",
    "\n",
    "For this reason we decide to discard this passenger data from further analysis or modelling.\n"
   ]
  },
  {
   "cell_type": "code",
   "execution_count": 31,
   "metadata": {
    "collapsed": false
   },
   "outputs": [],
   "source": [
    "titanic_train = titanic_train.drop(titanic_train[\"Age\"].argmax(), axis=0)"
   ]
  },
  {
   "cell_type": "code",
   "execution_count": 32,
   "metadata": {
    "collapsed": false
   },
   "outputs": [
    {
     "data": {
      "text/plain": [
       "count    713.000000\n",
       "mean      29.628569\n",
       "std       14.413774\n",
       "min        0.420000\n",
       "25%       20.000000\n",
       "50%       28.000000\n",
       "75%       38.000000\n",
       "max       74.000000\n",
       "Name: Age, dtype: float64"
      ]
     },
     "execution_count": 32,
     "metadata": {},
     "output_type": "execute_result"
    }
   ],
   "source": [
    "titanic_train[\"Age\"].describe()"
   ]
  },
  {
   "cell_type": "markdown",
   "metadata": {},
   "source": [
    "And now we need to bin passengers ages once again."
   ]
  },
  {
   "cell_type": "code",
   "execution_count": 33,
   "metadata": {
    "collapsed": false
   },
   "outputs": [
    {
     "data": {
      "text/plain": [
       "(0, 14]      77\n",
       "(14, 24]    200\n",
       "(24, 34]    201\n",
       "(34, 44]    121\n",
       "(44, 54]     73\n",
       "(54, 64]     31\n",
       "(64, 80]     10\n",
       "Name: Age, dtype: int64"
      ]
     },
     "execution_count": 33,
     "metadata": {},
     "output_type": "execute_result"
    }
   ],
   "source": [
    "titanic_age_groups_counts = pd.cut(titanic_train[\"Age\"], bins=[0, 14, 24, 34, 44, 54, 64, 80]).value_counts().sort_index()\n",
    "titanic_age_groups_counts"
   ]
  },
  {
   "cell_type": "markdown",
   "metadata": {},
   "source": [
    "Let's now check again who is the oldest passenger in the data set - after removing the incorect data record."
   ]
  },
  {
   "cell_type": "code",
   "execution_count": 34,
   "metadata": {
    "collapsed": false
   },
   "outputs": [
    {
     "data": {
      "text/plain": [
       "Survived                      0\n",
       "Pclass                        3\n",
       "Name        Svensson, Mr. Johan\n",
       "Sex                        male\n",
       "Age                          74\n",
       "SibSp                         0\n",
       "Parch                         0\n",
       "Ticket                   347060\n",
       "Fare                      7.775\n",
       "Cabin                       NaN\n",
       "Embarked                      S\n",
       "Name: 852, dtype: object"
      ]
     },
     "execution_count": 34,
     "metadata": {},
     "output_type": "execute_result"
    }
   ],
   "source": [
    "titanic_train.loc[titanic_train[\"Age\"].argmax()]"
   ]
  },
  {
   "cell_type": "markdown",
   "metadata": {},
   "source": [
    "So now we have for sure the oldest known Titanic passenger. His name was Johan Svensson, aged 74 and unfortunatelly died in the disaster (read more [here](https://www.encyclopedia-titanica.org/titanic-victim/johan-svensson.html))."
   ]
  },
  {
   "cell_type": "code",
   "execution_count": 35,
   "metadata": {
    "collapsed": false
   },
   "outputs": [
    {
     "data": {
      "text/plain": [
       "0    607\n",
       "1    209\n",
       "2     28\n",
       "4     18\n",
       "3     16\n",
       "8      7\n",
       "5      5\n",
       "Name: SibSp, dtype: int64"
      ]
     },
     "execution_count": 35,
     "metadata": {},
     "output_type": "execute_result"
    }
   ],
   "source": [
    "titanic_sibsp_counts = titanic_train[\"SibSp\"].value_counts()\n",
    "titanic_sibsp_counts"
   ]
  },
  {
   "cell_type": "code",
   "execution_count": 36,
   "metadata": {
    "collapsed": false
   },
   "outputs": [
    {
     "data": {
      "image/png": "[encoded data removed]",
      "text/plain": [
       "<pywaffle.waffle.Waffle at 0x11eeee860>"
      ]
     },
     "metadata": {},
     "output_type": "display_data"
    }
   ],
   "source": [
    "get_waffle_plot(titanic_sibsp_counts.to_dict(), rows=9, title=\"Number of passengers travelling with number of siblings or spouse\")"
   ]
  },
  {
   "cell_type": "markdown",
   "metadata": {
    "collapsed": true
   },
   "source": [
    "Let's move with the demographic analysis to next attribute. Vast majority of passengers travelled without any siblings or spouse - 68.24%. 23.46% of passengers travelled with one child or spouse. Less than 9% of all passengers traveled with more than one sibling or spouse."
   ]
  },
  {
   "cell_type": "code",
   "execution_count": 37,
   "metadata": {
    "collapsed": false
   },
   "outputs": [
    {
     "data": {
      "text/plain": [
       "0    677\n",
       "1    118\n",
       "2     80\n",
       "5      5\n",
       "3      5\n",
       "4      4\n",
       "6      1\n",
       "Name: Parch, dtype: int64"
      ]
     },
     "execution_count": 37,
     "metadata": {},
     "output_type": "execute_result"
    }
   ],
   "source": [
    "titanic_parch_counts = titanic_train[\"Parch\"].value_counts()\n",
    "titanic_parch_counts"
   ]
  },
  {
   "cell_type": "code",
   "execution_count": 38,
   "metadata": {
    "collapsed": false
   },
   "outputs": [
    {
     "data": {
      "image/png": "[encoded data removed]",
      "text/plain": [
       "<pywaffle.waffle.Waffle at 0x11e25ca58>"
      ]
     },
     "metadata": {},
     "output_type": "display_data"
    }
   ],
   "source": [
    "get_waffle_plot(titanic_parch_counts.to_dict(), rows=9, title=\"Number of passengers travelling with number parents or children\")"
   ]
  },
  {
   "cell_type": "markdown",
   "metadata": {
    "collapsed": true
   },
   "source": [
    "The situation is very similar in case of passengers travelling with parents or children. Most of them (76.09%) travelled alone and 13.24% travelled with just one parent or children. 8.89% of passengers travelled with two parents or children."
   ]
  },
  {
   "cell_type": "code",
   "execution_count": 39,
   "metadata": {
    "collapsed": false
   },
   "outputs": [
    {
     "data": {
      "text/plain": [
       "(0, 20]       500\n",
       "(20, 40]      199\n",
       "(40, 60]       54\n",
       "(60, 80]       48\n",
       "(80, 100]      21\n",
       "(100, 300]     50\n",
       "(300, 600]      3\n",
       "Name: Fare, dtype: int64"
      ]
     },
     "execution_count": 39,
     "metadata": {},
     "output_type": "execute_result"
    }
   ],
   "source": [
    "titanic_fare_groups_counts = pd.cut(titanic_train[\"Fare\"], bins=[0, 20, 40, 60, 80, 100, 300, 600]).value_counts().sort_index()\n",
    "titanic_fare_groups_counts"
   ]
  },
  {
   "cell_type": "code",
   "execution_count": 40,
   "metadata": {
    "collapsed": false
   },
   "outputs": [
    {
     "data": {
      "image/png": "[encoded data removed]",
      "text/plain": [
       "<pywaffle.waffle.Waffle at 0x11dae4668>"
      ]
     },
     "metadata": {},
     "output_type": "display_data"
    }
   ],
   "source": [
    "get_waffle_plot(titanic_fare_groups_counts.to_dict(), rows=9, title=\"Number of passengers in different fare price groups\")"
   ]
  },
  {
   "cell_type": "markdown",
   "metadata": {
    "collapsed": true
   },
   "source": [
    "In terms ticket fare over the half (57.08%) of passengers paid the lowest fare ranging from 0 to 20. Let's remember that we saw that 55.11% of passengers travelled in third class. That follows the result seen here: third class was the cheapest way to travel and the number of passengers in the third class in almost the same as number of passengers who were in the lowest fare group. Again 22.83% passengers paid between 20 and 40 fare. That approximately corresponds to 20.65% of passengers travelling in the second class. We see that the rest of the ticket prices - which most likely are first class tickets - varies very much probably meaning some additional luxuries and services. And also there is relatively small number of such tickets.\n"
   ]
  },
  {
   "cell_type": "code",
   "execution_count": 41,
   "metadata": {
    "collapsed": false
   },
   "outputs": [
    {
     "data": {
      "text/plain": [
       "Southampton    643\n",
       "Cherbourg      168\n",
       "Queenstown      77\n",
       "Name: Embarked, dtype: int64"
      ]
     },
     "execution_count": 41,
     "metadata": {},
     "output_type": "execute_result"
    }
   ],
   "source": [
    "titanic_embarked_counts = titanic_train[\"Embarked\"].value_counts()\n",
    "titanic_embarked_counts.index = [\"Southampton\", \"Cherbourg\", \"Queenstown\"]\n",
    "titanic_embarked_counts"
   ]
  },
  {
   "cell_type": "code",
   "execution_count": 42,
   "metadata": {
    "collapsed": false
   },
   "outputs": [
    {
     "data": {
      "image/png": "[encoded data removed]",
      "text/plain": [
       "<pywaffle.waffle.Waffle at 0x11d3d9080>"
      ]
     },
     "metadata": {},
     "output_type": "display_data"
    }
   ],
   "source": [
    "get_waffle_plot(titanic_embarked_counts.to_dict(), rows=9, title=\"Number of passengers embarking from different ports.\")"
   ]
  },
  {
   "cell_type": "markdown",
   "metadata": {
    "collapsed": true
   },
   "source": [
    "We can see that vast majority of passengers embarked in Southampton (72.44%), 18.9% embarked in Cherbourg and only 8.66% of passengers embarked Titanic in Queenstown."
   ]
  },
  {
   "cell_type": "markdown",
   "metadata": {},
   "source": [
    "## 3.4 What is the overall Titanic passengers survival ratio? \n",
    "\n",
    "We will now try to answer what is the overall Titanic passengers survival ratio. To to that we will create survival ratio metric. We will define it as the ratio between the number of survived passengers and the overall number of passengers. We will use this value for later reference and comparison in passengers subgroups survival analysis.\n",
    "\n",
    "Our dataset contains 891 passengers data out of all 2224 passengers. This is partly due to the reason that we work with labeled train dataset with separate unlabeled test dataset containing 418 passengers data set aside. In this analysis we will treat these 891 passengers not as a sample but rather as our whole population of passengers. The same assumption will apply to subsequent parts of this analysis.\n",
    "\n",
    "Let's now see what is the total number of survived passengers and and those who did not survive. "
   ]
  },
  {
   "cell_type": "code",
   "execution_count": 43,
   "metadata": {
    "collapsed": false
   },
   "outputs": [
    {
     "data": {
      "text/plain": [
       "Not survived    549\n",
       "Survived        341\n",
       "Name: Survived, dtype: int64"
      ]
     },
     "execution_count": 43,
     "metadata": {},
     "output_type": "execute_result"
    }
   ],
   "source": [
    "titanic_survived_counts = titanic_train[\"Survived\"].value_counts(sort=False)\n",
    "titanic_survived_counts.index = [\"Not survived\", \"Survived\"]\n",
    "titanic_survived_counts"
   ]
  },
  {
   "cell_type": "markdown",
   "metadata": {},
   "source": [
    "Let's visualize it."
   ]
  },
  {
   "cell_type": "code",
   "execution_count": 44,
   "metadata": {
    "collapsed": false
   },
   "outputs": [
    {
     "data": {
      "image/png": "[encoded data removed]",
      "text/plain": [
       "<pywaffle.waffle.Waffle at 0x11e266048>"
      ]
     },
     "metadata": {},
     "output_type": "display_data"
    }
   ],
   "source": [
    "get_waffle_plot(titanic_survived_counts.to_dict(), rows=9, title=\"Number of passengers travelling in different classes\")"
   ]
  },
  {
   "cell_type": "markdown",
   "metadata": {},
   "source": [
    "Let's also create overall survival ratio metric."
   ]
  },
  {
   "cell_type": "code",
   "execution_count": 45,
   "metadata": {
    "collapsed": false
   },
   "outputs": [],
   "source": [
    "def get_survival_ratio(passengers_df):\n",
    "    return passengers_df[\"Survived\"].sum() / passengers_df[\"Survived\"].count()"
   ]
  },
  {
   "cell_type": "code",
   "execution_count": 46,
   "metadata": {
    "collapsed": false
   },
   "outputs": [
    {
     "data": {
      "text/plain": [
       "0.38314606741573032"
      ]
     },
     "execution_count": 46,
     "metadata": {},
     "output_type": "execute_result"
    }
   ],
   "source": [
    "overall_survival_ratio = get_survival_ratio(titanic_train)\n",
    "overall_survival_ratio"
   ]
  },
  {
   "cell_type": "markdown",
   "metadata": {},
   "source": [
    "We see that out of Titanic 891 passengers only 342 survived and 549 died. The Titanic survival ratio is approximately 0.3838, meaning that only 38.38% of all passengers (again, we are talking here about population of passengers in the dataset) survived the disaster. That is really small percentage. \n",
    "\n",
    "We can see that majority of Titanic passengers died in the disaster. Let's keep these values - especially the overal survival ratio metric among all Titanic passengers of 0.3838 - as a reference point for further analysis.\n"
   ]
  },
  {
   "cell_type": "markdown",
   "metadata": {},
   "source": [
    "## 3.5 What is the survival ratio for different demographic passengers groups? Which groups have biggest chances for survival and which smallest?\n",
    "\n",
    "Let's now finally see how survival ratio changes for passengers belonging to attributes demographic sub-categories. In this analysis we will process the same attributes as in previous parts: `Pclass`, `Sex`, `Age`, `SibSp`, `Parch`, `Fare` and `Embarked`. \n",
    "\n",
    "We will start by grouping dataset using each of the attributes unique values besides `Age` and `Fare` attributes which we will group using values ranges. Later, based on these grouped values, we will calculate survival ratio for each of the attributes subgroups."
   ]
  },
  {
   "cell_type": "code",
   "execution_count": 47,
   "metadata": {
    "collapsed": false
   },
   "outputs": [
    {
     "data": {
      "text/plain": [
       "{1: Int64Index([  2,   4,   7,  12,  24,  28,  31,  32,  35,  36,\n",
       "             ...\n",
       "             854, 857, 858, 863, 868, 872, 873, 880, 888, 890],\n",
       "            dtype='int64', name='PassengerId', length=215),\n",
       " 2: Int64Index([ 10,  16,  18,  21,  22,  34,  42,  44,  54,  57,\n",
       "             ...\n",
       "             849, 855, 862, 865, 866, 867, 875, 881, 884, 887],\n",
       "            dtype='int64', name='PassengerId', length=184),\n",
       " 3: Int64Index([  1,   3,   5,   6,   8,   9,  11,  13,  14,  15,\n",
       "             ...\n",
       "             876, 877, 878, 879, 882, 883, 885, 886, 889, 891],\n",
       "            dtype='int64', name='PassengerId', length=491)}"
      ]
     },
     "execution_count": 47,
     "metadata": {},
     "output_type": "execute_result"
    }
   ],
   "source": [
    "titanic_pclass_group = titanic_train.groupby(\"Pclass\")\n",
    "titanic_pclass_group.groups"
   ]
  },
  {
   "cell_type": "code",
   "execution_count": 48,
   "metadata": {
    "collapsed": false
   },
   "outputs": [
    {
     "data": {
      "text/plain": [
       "{'female': Int64Index([  2,   3,   4,   9,  10,  11,  12,  15,  16,  19,\n",
       "             ...\n",
       "             867, 872, 875, 876, 880, 881, 883, 886, 888, 889],\n",
       "            dtype='int64', name='PassengerId', length=314),\n",
       " 'male': Int64Index([  1,   5,   6,   7,   8,  13,  14,  17,  18,  21,\n",
       "             ...\n",
       "             874, 877, 878, 879, 882, 884, 885, 887, 890, 891],\n",
       "            dtype='int64', name='PassengerId', length=576)}"
      ]
     },
     "execution_count": 48,
     "metadata": {},
     "output_type": "execute_result"
    }
   ],
   "source": [
    "titanic_sex_group = titanic_train.groupby(\"Sex\")\n",
    "titanic_sex_group.groups"
   ]
  },
  {
   "cell_type": "markdown",
   "metadata": {},
   "source": [
    "In case of `Age` attribute we will group its values into age groups as we did previously in demographic analysis."
   ]
  },
  {
   "cell_type": "code",
   "execution_count": 49,
   "metadata": {
    "collapsed": false
   },
   "outputs": [
    {
     "data": {
      "text/plain": [
       "{Interval(0, 14, closed='right'): Int64Index([  8,  10,  11,  15,  17,  25,  40,  44,  51,  59,  60,  64,  79,\n",
       "             120, 126, 148, 165, 166, 172, 173, 183, 184, 185, 194, 206, 234,\n",
       "             238, 262, 279, 298, 306, 341, 349, 375, 382, 387, 408, 420, 436,\n",
       "             446, 447, 449, 470, 480, 481, 490, 531, 536, 542, 543, 550, 619,\n",
       "             635, 643, 645, 684, 687, 692, 721, 732, 751, 752, 756, 778, 781,\n",
       "             788, 789, 803, 804, 814, 820, 825, 828, 832, 851, 853, 870],\n",
       "            dtype='int64', name='PassengerId'),\n",
       " Interval(14, 24, closed='right'): Int64Index([  1,  13,  23,  28,  38,  39,  45,  50,  52,  57,\n",
       "             ...\n",
       "             854, 856, 859, 862, 865, 876, 877, 878, 883, 888],\n",
       "            dtype='int64', name='PassengerId', length=200),\n",
       " Interval(24, 34, closed='right'): Int64Index([  3,   9,  19,  22,  24,  35,  42,  54,  58,  67,\n",
       "             ...\n",
       "             871, 873, 875, 881, 882, 884, 885, 887, 890, 891],\n",
       "            dtype='int64', name='PassengerId', length=201),\n",
       " Interval(34, 44, closed='right'): Int64Index([  2,   4,   5,  14,  21,  26,  31,  36,  41,  62,\n",
       "             ...\n",
       "             819, 823, 836, 844, 846, 848, 855, 861, 866, 886],\n",
       "            dtype='int64', name='PassengerId', length=121),\n",
       " Interval(44, 54, closed='right'): Int64Index([  7,  53,  63,  93, 111, 125, 130, 133, 151, 156, 168, 178, 188,\n",
       "             204, 223, 250, 260, 263, 277, 300, 318, 332, 339, 340, 363, 398,\n",
       "             407, 435, 441, 450, 454, 459, 461, 463, 464, 483, 497, 514, 516,\n",
       "             527, 537, 545, 557, 572, 583, 587, 592, 593, 598, 600, 632, 646,\n",
       "             661, 663, 696, 699, 707, 713, 715, 724, 737, 755, 766, 772, 775,\n",
       "             790, 797, 821, 857, 858, 863, 872, 874],\n",
       "            dtype='int64', name='PassengerId'),\n",
       " Interval(54, 64, closed='right'): Int64Index([ 12,  16,  95, 153, 171, 175, 196, 233, 253, 269, 276, 327, 367,\n",
       "             439, 468, 484, 488, 493, 546, 556, 571, 588, 626, 627, 648, 660,\n",
       "             685, 695, 773, 830, 880],\n",
       "            dtype='int64', name='PassengerId'),\n",
       " Interval(64, 80, closed='right'): Int64Index([34, 55, 97, 117, 281, 457, 494, 673, 746, 852], dtype='int64', name='PassengerId')}"
      ]
     },
     "execution_count": 49,
     "metadata": {},
     "output_type": "execute_result"
    }
   ],
   "source": [
    "titanic_age_group = titanic_train.groupby(pd.cut(titanic_train[\"Age\"], bins=[0, 14, 24, 34, 44, 54, 64, 80]))\n",
    "titanic_age_group.groups"
   ]
  },
  {
   "cell_type": "code",
   "execution_count": 50,
   "metadata": {
    "collapsed": false
   },
   "outputs": [
    {
     "data": {
      "text/plain": [
       "{0: Int64Index([  3,   5,   6,   7,   9,  12,  13,  15,  16,  18,\n",
       "             ...\n",
       "             881, 882, 883, 884, 885, 886, 887, 888, 890, 891],\n",
       "            dtype='int64', name='PassengerId', length=607),\n",
       " 1: Int64Index([  1,   2,   4,  10,  11,  14,  19,  26,  32,  35,\n",
       "             ...\n",
       "             850, 853, 855, 857, 862, 867, 870, 872, 875, 889],\n",
       "            dtype='int64', name='PassengerId', length=209),\n",
       " 2: Int64Index([ 39,  49,  70, 105, 121, 148, 184, 246, 302, 312, 331, 334, 393,\n",
       "             437, 438, 449, 470, 530, 566, 572, 601, 619, 645, 656, 661, 666,\n",
       "             743, 861],\n",
       "            dtype='int64', name='PassengerId'),\n",
       " 3: Int64Index([8, 25, 28, 64, 86, 89, 177, 230, 342, 375, 410, 486, 635, 643, 727,\n",
       "             820],\n",
       "            dtype='int64', name='PassengerId'),\n",
       " 4: Int64Index([ 17,  51,  69, 120, 165, 172, 183, 234, 262, 267, 279, 542, 543,\n",
       "             687, 788, 814, 825, 851],\n",
       "            dtype='int64', name='PassengerId'),\n",
       " 5: Int64Index([60, 72, 387, 481, 684], dtype='int64', name='PassengerId'),\n",
       " 8: Int64Index([160, 181, 202, 325, 793, 847, 864], dtype='int64', name='PassengerId')}"
      ]
     },
     "execution_count": 50,
     "metadata": {},
     "output_type": "execute_result"
    }
   ],
   "source": [
    "titanic_sibsp_group = titanic_train.groupby(\"SibSp\")\n",
    "titanic_sibsp_group.groups"
   ]
  },
  {
   "cell_type": "code",
   "execution_count": 51,
   "metadata": {
    "collapsed": false
   },
   "outputs": [
    {
     "data": {
      "text/plain": [
       "{0: Int64Index([  1,   2,   3,   4,   5,   6,   7,  10,  12,  13,\n",
       "             ...\n",
       "             878, 879, 882, 883, 884, 885, 887, 888, 890, 891],\n",
       "            dtype='int64', name='PassengerId', length=677),\n",
       " 1: Int64Index([  8,  11,  17,  25,  51,  55,  66,  98,  99, 103,\n",
       "             ...\n",
       "             836, 849, 853, 854, 856, 857, 870, 872, 880, 881],\n",
       "            dtype='int64', name='PassengerId', length=118),\n",
       " 2: Int64Index([  9,  28,  44,  59,  60,  64,  69,  72,  79,  89,  94, 120, 137,\n",
       "             141, 148, 149, 154, 160, 166, 181, 183, 185, 202, 234, 238, 248,\n",
       "             255, 256, 262, 298, 306, 312, 319, 325, 342, 378, 382, 387, 391,\n",
       "             395, 418, 420, 436, 437, 446, 451, 473, 481, 499, 507, 534, 536,\n",
       "             540, 541, 542, 543, 551, 586, 594, 609, 616, 635, 643, 660, 684,\n",
       "             686, 743, 755, 764, 784, 789, 793, 803, 814, 820, 828, 847, 851,\n",
       "             864, 889],\n",
       "            dtype='int64', name='PassengerId'),\n",
       " 3: Int64Index([87, 438, 737, 775, 859], dtype='int64', name='PassengerId'),\n",
       " 4: Int64Index([168, 361, 439, 568], dtype='int64', name='PassengerId'),\n",
       " 5: Int64Index([14, 26, 611, 639, 886], dtype='int64', name='PassengerId'),\n",
       " 6: Int64Index([679], dtype='int64', name='PassengerId')}"
      ]
     },
     "execution_count": 51,
     "metadata": {},
     "output_type": "execute_result"
    }
   ],
   "source": [
    "titanic_parch_group = titanic_train.groupby(\"Parch\")\n",
    "titanic_parch_group.groups"
   ]
  },
  {
   "cell_type": "markdown",
   "metadata": {},
   "source": [
    "And also like in demographic analysis we will binnarize the `Fare` attribute values."
   ]
  },
  {
   "cell_type": "code",
   "execution_count": 52,
   "metadata": {
    "collapsed": false
   },
   "outputs": [
    {
     "data": {
      "text/plain": [
       "{Interval(0, 20, closed='right'): Int64Index([  1,   3,   5,   6,   9,  11,  13,  15,  16,  18,\n",
       "             ...\n",
       "             876, 877, 878, 879, 882, 883, 884, 885, 887, 891],\n",
       "            dtype='int64', name='PassengerId', length=500),\n",
       " Interval(20, 40, closed='right'): Int64Index([  8,  10,  12,  14,  17,  21,  24,  25,  26,  31,\n",
       "             ...\n",
       "             854, 855, 858, 863, 875, 881, 886, 888, 889, 890],\n",
       "            dtype='int64', name='PassengerId', length=199),\n",
       " Interval(40, 60, closed='right'): Int64Index([  4,   7,  36,  44,  60,  72,  75,  84, 111, 138, 167, 170, 186,\n",
       "             249, 310, 330, 357, 371, 384, 387, 435, 458, 476, 481, 494, 510,\n",
       "             514, 524, 540, 572, 578, 584, 600, 603, 609, 622, 644, 670, 672,\n",
       "             679, 684, 686, 691, 693, 711, 713, 725, 749, 782, 810, 827, 839,\n",
       "             868, 872],\n",
       "            dtype='int64', name='PassengerId'),\n",
       " Interval(60, 80, closed='right'): Int64Index([  2,  53,  55,  62,  73,  93,  98, 103, 121, 125, 140, 152, 156,\n",
       "             160, 181, 202, 219, 257, 263, 276, 291, 325, 337, 367, 370, 386,\n",
       "             497, 541, 559, 586, 588, 592, 616, 628, 642, 646, 656, 666, 682,\n",
       "             742, 746, 755, 766, 790, 793, 830, 847, 864],\n",
       "            dtype='int64', name='PassengerId'),\n",
       " Interval(80, 100, closed='right'): Int64Index([ 35,  63, 225, 231, 246, 258, 292, 311, 376, 413, 446, 454, 485,\n",
       "             487, 505, 521, 760, 821, 836, 850, 880],\n",
       "            dtype='int64', name='PassengerId'),\n",
       " Interval(100, 300, closed='right'): Int64Index([ 28,  32,  89, 119, 196, 216, 269, 270, 298, 300, 306, 307, 308,\n",
       "             312, 319, 320, 326, 333, 335, 338, 342, 374, 378, 381, 391, 394,\n",
       "             436, 439, 499, 506, 528, 538, 545, 551, 558, 582, 610, 660, 661,\n",
       "             690, 699, 701, 709, 717, 731, 743, 764, 780, 803, 857],\n",
       "            dtype='int64', name='PassengerId'),\n",
       " Interval(300, 600, closed='right'): Int64Index([259, 680, 738], dtype='int64', name='PassengerId')}"
      ]
     },
     "execution_count": 52,
     "metadata": {},
     "output_type": "execute_result"
    }
   ],
   "source": [
    "titanic_fare_group = titanic_train.groupby(pd.cut(titanic_train[\"Fare\"], bins=[0, 20, 40, 60, 80, 100, 300, 600]))\n",
    "titanic_fare_group.groups"
   ]
  },
  {
   "cell_type": "code",
   "execution_count": 53,
   "metadata": {
    "collapsed": false
   },
   "outputs": [
    {
     "data": {
      "text/plain": [
       "{'C': Int64Index([  2,  10,  20,  27,  31,  32,  35,  37,  40,  43,\n",
       "             ...\n",
       "             848, 850, 853, 859, 860, 867, 875, 876, 880, 890],\n",
       "            dtype='int64', name='PassengerId', length=168),\n",
       " 'Q': Int64Index([  6,  17,  23,  29,  33,  45,  47,  48,  83, 110, 117, 127, 144,\n",
       "             157, 172, 187, 189, 197, 199, 209, 215, 242, 246, 261, 265, 275,\n",
       "             279, 281, 290, 301, 302, 304, 323, 331, 359, 360, 365, 369, 389,\n",
       "             412, 413, 422, 429, 460, 469, 502, 503, 511, 518, 526, 553, 561,\n",
       "             574, 594, 613, 614, 627, 630, 654, 655, 658, 681, 698, 704, 719,\n",
       "             728, 750, 768, 769, 777, 779, 788, 791, 826, 829, 886, 891],\n",
       "            dtype='int64', name='PassengerId'),\n",
       " 'S': Int64Index([  1,   3,   4,   5,   7,   8,   9,  11,  12,  13,\n",
       "             ...\n",
       "             878, 879, 881, 882, 883, 884, 885, 887, 888, 889],\n",
       "            dtype='int64', name='PassengerId', length=643)}"
      ]
     },
     "execution_count": 53,
     "metadata": {},
     "output_type": "execute_result"
    }
   ],
   "source": [
    "titanic_embarked_group = titanic_train.groupby(\"Embarked\")\n",
    "titanic_embarked_group.groups"
   ]
  },
  {
   "cell_type": "markdown",
   "metadata": {},
   "source": [
    "Let's add this age group information as a separate attribute for later use."
   ]
  },
  {
   "cell_type": "code",
   "execution_count": 54,
   "metadata": {
    "collapsed": true
   },
   "outputs": [],
   "source": [
    "def group_age(age):\n",
    "    if age <= 14:\n",
    "        return \"(0, 14]\"\n",
    "    elif age > 14 and age <= 24:\n",
    "        return \"(14, 24]\"\n",
    "    elif age > 24 and age <= 34:\n",
    "        return \"(24, 34]\"\n",
    "    elif age > 34 and age <= 44:\n",
    "        return \"(34, 44]\"\n",
    "    elif age > 44 and age <= 54:\n",
    "        return \"(44, 54]\"\n",
    "    elif age > 54 and age <= 64:\n",
    "        return \"(54, 64]\"\n",
    "    elif age > 64:\n",
    "        return \"(64, 80]\"\n",
    "    else:\n",
    "        return np.nan\n",
    "    \n",
    "def group_fare(fare):\n",
    "    if fare <= 20:\n",
    "        return \"(0, 20]\"\n",
    "    elif fare > 20 and fare <= 40:\n",
    "        return \"(20, 40]\"\n",
    "    elif fare > 40 and fare <= 60:\n",
    "        return \"(40, 60]\"\n",
    "    elif fare > 60 and fare <= 80:\n",
    "        return \"(60, 80]\"\n",
    "    elif fare > 80 and fare <= 100:\n",
    "        return \"(80, 100]\"\n",
    "    elif fare > 100 and fare <= 300:\n",
    "        return \"(100, 300]\"\n",
    "    elif fare > 300 and fare <= 600:\n",
    "        return \"(300, 600]\"\n",
    "    else:\n",
    "        return np.nan"
   ]
  },
  {
   "cell_type": "code",
   "execution_count": 55,
   "metadata": {
    "collapsed": true
   },
   "outputs": [],
   "source": [
    "titanic_train[\"AgeGroup\"] = titanic_train.apply(lambda row: group_age(row[\"Age\"]), axis=1)\n",
    "titanic_train[\"FareGroup\"] = titanic_train.apply(lambda row: group_fare(row[\"Fare\"]), axis=1)"
   ]
  },
  {
   "cell_type": "markdown",
   "metadata": {},
   "source": [
    "Let's see it."
   ]
  },
  {
   "cell_type": "code",
   "execution_count": 56,
   "metadata": {
    "collapsed": false
   },
   "outputs": [
    {
     "data": {
      "text/html": [
       "<div>\n",
       "<style scoped>\n",
       "    .dataframe tbody tr th:only-of-type {\n",
       "        vertical-align: middle;\n",
       "    }\n",
       "\n",
       "    .dataframe tbody tr th {\n",
       "        vertical-align: top;\n",
       "    }\n",
       "\n",
       "    .dataframe thead th {\n",
       "        text-align: right;\n",
       "    }\n",
       "</style>\n",
       "<table border=\"1\" class=\"dataframe\">\n",
       "  <thead>\n",
       "    <tr style=\"text-align: right;\">\n",
       "      <th></th>\n",
       "      <th>Survived</th>\n",
       "      <th>Pclass</th>\n",
       "      <th>Name</th>\n",
       "      <th>Sex</th>\n",
       "      <th>Age</th>\n",
       "      <th>SibSp</th>\n",
       "      <th>Parch</th>\n",
       "      <th>Ticket</th>\n",
       "      <th>Fare</th>\n",
       "      <th>Cabin</th>\n",
       "      <th>Embarked</th>\n",
       "      <th>AgeGroup</th>\n",
       "      <th>FareGroup</th>\n",
       "    </tr>\n",
       "    <tr>\n",
       "      <th>PassengerId</th>\n",
       "      <th></th>\n",
       "      <th></th>\n",
       "      <th></th>\n",
       "      <th></th>\n",
       "      <th></th>\n",
       "      <th></th>\n",
       "      <th></th>\n",
       "      <th></th>\n",
       "      <th></th>\n",
       "      <th></th>\n",
       "      <th></th>\n",
       "      <th></th>\n",
       "      <th></th>\n",
       "    </tr>\n",
       "  </thead>\n",
       "  <tbody>\n",
       "    <tr>\n",
       "      <th>1</th>\n",
       "      <td>0</td>\n",
       "      <td>3</td>\n",
       "      <td>Braund, Mr. Owen Harris</td>\n",
       "      <td>male</td>\n",
       "      <td>22.0</td>\n",
       "      <td>1</td>\n",
       "      <td>0</td>\n",
       "      <td>A/5 21171</td>\n",
       "      <td>7.2500</td>\n",
       "      <td>NaN</td>\n",
       "      <td>S</td>\n",
       "      <td>(14, 24]</td>\n",
       "      <td>(0, 20]</td>\n",
       "    </tr>\n",
       "    <tr>\n",
       "      <th>2</th>\n",
       "      <td>1</td>\n",
       "      <td>1</td>\n",
       "      <td>Cumings, Mrs. John Bradley (Florence Briggs Th...</td>\n",
       "      <td>female</td>\n",
       "      <td>38.0</td>\n",
       "      <td>1</td>\n",
       "      <td>0</td>\n",
       "      <td>PC 17599</td>\n",
       "      <td>71.2833</td>\n",
       "      <td>C85</td>\n",
       "      <td>C</td>\n",
       "      <td>(34, 44]</td>\n",
       "      <td>(60, 80]</td>\n",
       "    </tr>\n",
       "    <tr>\n",
       "      <th>3</th>\n",
       "      <td>1</td>\n",
       "      <td>3</td>\n",
       "      <td>Heikkinen, Miss. Laina</td>\n",
       "      <td>female</td>\n",
       "      <td>26.0</td>\n",
       "      <td>0</td>\n",
       "      <td>0</td>\n",
       "      <td>STON/O2. 3101282</td>\n",
       "      <td>7.9250</td>\n",
       "      <td>NaN</td>\n",
       "      <td>S</td>\n",
       "      <td>(24, 34]</td>\n",
       "      <td>(0, 20]</td>\n",
       "    </tr>\n",
       "    <tr>\n",
       "      <th>4</th>\n",
       "      <td>1</td>\n",
       "      <td>1</td>\n",
       "      <td>Futrelle, Mrs. Jacques Heath (Lily May Peel)</td>\n",
       "      <td>female</td>\n",
       "      <td>35.0</td>\n",
       "      <td>1</td>\n",
       "      <td>0</td>\n",
       "      <td>113803</td>\n",
       "      <td>53.1000</td>\n",
       "      <td>C123</td>\n",
       "      <td>S</td>\n",
       "      <td>(34, 44]</td>\n",
       "      <td>(40, 60]</td>\n",
       "    </tr>\n",
       "    <tr>\n",
       "      <th>5</th>\n",
       "      <td>0</td>\n",
       "      <td>3</td>\n",
       "      <td>Allen, Mr. William Henry</td>\n",
       "      <td>male</td>\n",
       "      <td>35.0</td>\n",
       "      <td>0</td>\n",
       "      <td>0</td>\n",
       "      <td>373450</td>\n",
       "      <td>8.0500</td>\n",
       "      <td>NaN</td>\n",
       "      <td>S</td>\n",
       "      <td>(34, 44]</td>\n",
       "      <td>(0, 20]</td>\n",
       "    </tr>\n",
       "  </tbody>\n",
       "</table>\n",
       "</div>"
      ],
      "text/plain": [
       "             Survived  Pclass  \\\n",
       "PassengerId                     \n",
       "1                   0       3   \n",
       "2                   1       1   \n",
       "3                   1       3   \n",
       "4                   1       1   \n",
       "5                   0       3   \n",
       "\n",
       "                                                          Name     Sex   Age  \\\n",
       "PassengerId                                                                    \n",
       "1                                      Braund, Mr. Owen Harris    male  22.0   \n",
       "2            Cumings, Mrs. John Bradley (Florence Briggs Th...  female  38.0   \n",
       "3                                       Heikkinen, Miss. Laina  female  26.0   \n",
       "4                 Futrelle, Mrs. Jacques Heath (Lily May Peel)  female  35.0   \n",
       "5                                     Allen, Mr. William Henry    male  35.0   \n",
       "\n",
       "             SibSp  Parch            Ticket     Fare Cabin Embarked  AgeGroup  \\\n",
       "PassengerId                                                                     \n",
       "1                1      0         A/5 21171   7.2500   NaN        S  (14, 24]   \n",
       "2                1      0          PC 17599  71.2833   C85        C  (34, 44]   \n",
       "3                0      0  STON/O2. 3101282   7.9250   NaN        S  (24, 34]   \n",
       "4                1      0            113803  53.1000  C123        S  (34, 44]   \n",
       "5                0      0            373450   8.0500   NaN        S  (34, 44]   \n",
       "\n",
       "            FareGroup  \n",
       "PassengerId            \n",
       "1             (0, 20]  \n",
       "2            (60, 80]  \n",
       "3             (0, 20]  \n",
       "4            (40, 60]  \n",
       "5             (0, 20]  "
      ]
     },
     "execution_count": 56,
     "metadata": {},
     "output_type": "execute_result"
    }
   ],
   "source": [
    "titanic_train.head()"
   ]
  },
  {
   "cell_type": "markdown",
   "metadata": {},
   "source": [
    "With passengers data grouped we can now proceed with calculating survival ratio for each of the group. We will also prepend each group name (index value) with the attribute name for later analysis. This will help us to distinct groups with similar names created from separate attributes."
   ]
  },
  {
   "cell_type": "code",
   "execution_count": 57,
   "metadata": {
    "collapsed": false
   },
   "outputs": [
    {
     "data": {
      "text/plain": [
       "Pclass: 1    0.627907\n",
       "Pclass: 2    0.472826\n",
       "Pclass: 3    0.242363\n",
       "dtype: float64"
      ]
     },
     "execution_count": 57,
     "metadata": {},
     "output_type": "execute_result"
    }
   ],
   "source": [
    "titanic_pclass_survival_ratio = titanic_pclass_group.apply(get_survival_ratio)\n",
    "titanic_pclass_survival_ratio.index = [\"Pclass: \" + str(idx) for idx in titanic_pclass_survival_ratio.index]\n",
    "titanic_pclass_survival_ratio"
   ]
  },
  {
   "cell_type": "code",
   "execution_count": 58,
   "metadata": {
    "collapsed": false
   },
   "outputs": [
    {
     "data": {
      "text/plain": [
       "Sex: female    0.742038\n",
       "Sex: male      0.187500\n",
       "dtype: float64"
      ]
     },
     "execution_count": 58,
     "metadata": {},
     "output_type": "execute_result"
    }
   ],
   "source": [
    "titanic_sex_survival_ratio = titanic_sex_group.apply(get_survival_ratio)\n",
    "titanic_sex_survival_ratio.index = [\"Sex: \" + str(idx) for idx in titanic_sex_survival_ratio.index]\n",
    "titanic_sex_survival_ratio"
   ]
  },
  {
   "cell_type": "code",
   "execution_count": 59,
   "metadata": {
    "collapsed": false
   },
   "outputs": [
    {
     "data": {
      "text/plain": [
       "Age: (0, 14]     0.584416\n",
       "Age: (14, 24]    0.365000\n",
       "Age: (24, 34]    0.388060\n",
       "Age: (34, 44]    0.421488\n",
       "Age: (44, 54]    0.410959\n",
       "Age: (54, 64]    0.387097\n",
       "Age: (64, 80]    0.000000\n",
       "dtype: float64"
      ]
     },
     "execution_count": 59,
     "metadata": {},
     "output_type": "execute_result"
    }
   ],
   "source": [
    "titanic_age_survival_ratio = titanic_age_group.apply(get_survival_ratio)\n",
    "titanic_age_survival_ratio.index = [\"Age: \" + str(idx) for idx in titanic_age_survival_ratio.index]\n",
    "titanic_age_survival_ratio"
   ]
  },
  {
   "cell_type": "code",
   "execution_count": 60,
   "metadata": {
    "collapsed": false
   },
   "outputs": [
    {
     "data": {
      "text/plain": [
       "Sibsp: 0    0.344316\n",
       "Sibsp: 1    0.535885\n",
       "Sibsp: 2    0.464286\n",
       "Sibsp: 3    0.250000\n",
       "Sibsp: 4    0.166667\n",
       "Sibsp: 5    0.000000\n",
       "Sibsp: 8    0.000000\n",
       "dtype: float64"
      ]
     },
     "execution_count": 60,
     "metadata": {},
     "output_type": "execute_result"
    }
   ],
   "source": [
    "titanic_sibsp_survival_ratio = titanic_sibsp_group.apply(get_survival_ratio)\n",
    "titanic_sibsp_survival_ratio.index = [\"Sibsp: \" + str(idx) for idx in titanic_sibsp_survival_ratio.index]\n",
    "titanic_sibsp_survival_ratio"
   ]
  },
  {
   "cell_type": "code",
   "execution_count": 61,
   "metadata": {
    "collapsed": false
   },
   "outputs": [
    {
     "data": {
      "text/plain": [
       "Parch: 0    0.342688\n",
       "Parch: 1    0.550847\n",
       "Parch: 2    0.500000\n",
       "Parch: 3    0.600000\n",
       "Parch: 4    0.000000\n",
       "Parch: 5    0.200000\n",
       "Parch: 6    0.000000\n",
       "dtype: float64"
      ]
     },
     "execution_count": 61,
     "metadata": {},
     "output_type": "execute_result"
    }
   ],
   "source": [
    "titanic_parch_survival_ratio = titanic_parch_group.apply(get_survival_ratio)\n",
    "titanic_parch_survival_ratio.index = [\"Parch: \" + str(idx) for idx in titanic_parch_survival_ratio.index]\n",
    "titanic_parch_survival_ratio"
   ]
  },
  {
   "cell_type": "code",
   "execution_count": 62,
   "metadata": {
    "collapsed": false
   },
   "outputs": [
    {
     "data": {
      "text/plain": [
       "Fare: (0, 20]       0.284000\n",
       "Fare: (20, 40]      0.427136\n",
       "Fare: (40, 60]      0.574074\n",
       "Fare: (60, 80]      0.520833\n",
       "Fare: (80, 100]     0.857143\n",
       "Fare: (100, 300]    0.720000\n",
       "Fare: (300, 600]    1.000000\n",
       "dtype: float64"
      ]
     },
     "execution_count": 62,
     "metadata": {},
     "output_type": "execute_result"
    }
   ],
   "source": [
    "titanic_fare_survival_ratio = titanic_fare_group.apply(get_survival_ratio)\n",
    "titanic_fare_survival_ratio.index = [\"Fare: \" + str(idx) for idx in titanic_fare_survival_ratio.index]\n",
    "titanic_fare_survival_ratio"
   ]
  },
  {
   "cell_type": "code",
   "execution_count": 63,
   "metadata": {
    "collapsed": false
   },
   "outputs": [
    {
     "data": {
      "text/plain": [
       "Embarked: C    0.553571\n",
       "Embarked: Q    0.389610\n",
       "Embarked: S    0.335925\n",
       "dtype: float64"
      ]
     },
     "execution_count": 63,
     "metadata": {},
     "output_type": "execute_result"
    }
   ],
   "source": [
    "titanic_embarked_survival_ratio = titanic_embarked_group.apply(get_survival_ratio)\n",
    "titanic_embarked_survival_ratio.index = [\"Embarked: \" + str(idx) for idx in titanic_embarked_survival_ratio.index]\n",
    "titanic_embarked_survival_ratio"
   ]
  },
  {
   "cell_type": "markdown",
   "metadata": {},
   "source": [
    "We will now combine all the survival ratios into one sequence. As a reference we will also add an overall titanic survival ratio."
   ]
  },
  {
   "cell_type": "code",
   "execution_count": 64,
   "metadata": {
    "collapsed": false
   },
   "outputs": [
    {
     "data": {
      "text/plain": [
       "Pclass: 1           0.627907\n",
       "Pclass: 2           0.472826\n",
       "Pclass: 3           0.242363\n",
       "Sex: female         0.742038\n",
       "Sex: male           0.187500\n",
       "Age: (0, 14]        0.584416\n",
       "Age: (14, 24]       0.365000\n",
       "Age: (24, 34]       0.388060\n",
       "Age: (34, 44]       0.421488\n",
       "Age: (44, 54]       0.410959\n",
       "Age: (54, 64]       0.387097\n",
       "Age: (64, 80]       0.000000\n",
       "Sibsp: 0            0.344316\n",
       "Sibsp: 1            0.535885\n",
       "Sibsp: 2            0.464286\n",
       "Sibsp: 3            0.250000\n",
       "Sibsp: 4            0.166667\n",
       "Sibsp: 5            0.000000\n",
       "Sibsp: 8            0.000000\n",
       "Parch: 0            0.342688\n",
       "Parch: 1            0.550847\n",
       "Parch: 2            0.500000\n",
       "Parch: 3            0.600000\n",
       "Parch: 4            0.000000\n",
       "Parch: 5            0.200000\n",
       "Parch: 6            0.000000\n",
       "Fare: (0, 20]       0.284000\n",
       "Fare: (20, 40]      0.427136\n",
       "Fare: (40, 60]      0.574074\n",
       "Fare: (60, 80]      0.520833\n",
       "Fare: (80, 100]     0.857143\n",
       "Fare: (100, 300]    0.720000\n",
       "Fare: (300, 600]    1.000000\n",
       "Embarked: C         0.553571\n",
       "Embarked: Q         0.389610\n",
       "Embarked: S         0.335925\n",
       "Overall             0.383146\n",
       "dtype: float64"
      ]
     },
     "execution_count": 64,
     "metadata": {},
     "output_type": "execute_result"
    }
   ],
   "source": [
    "survival_ratios = pd.concat([titanic_pclass_survival_ratio,\n",
    "                             titanic_sex_survival_ratio,\n",
    "                             titanic_age_survival_ratio,\n",
    "                             titanic_sibsp_survival_ratio,\n",
    "                             titanic_parch_survival_ratio,\n",
    "                             titanic_fare_survival_ratio,\n",
    "                             titanic_embarked_survival_ratio], axis=0)\n",
    "survival_ratios[\"Overall\"] = overall_survival_ratio\n",
    "survival_ratios"
   ]
  },
  {
   "cell_type": "markdown",
   "metadata": {},
   "source": [
    "We will also prepare passengers count for each of the above groups to visualize how big each of the analysed group was."
   ]
  },
  {
   "cell_type": "code",
   "execution_count": 65,
   "metadata": {
    "collapsed": false
   },
   "outputs": [
    {
     "data": {
      "text/plain": [
       "1             215\n",
       "2             184\n",
       "3             491\n",
       "female        314\n",
       "male          576\n",
       "(0, 14]        77\n",
       "(14, 24]      200\n",
       "(24, 34]      201\n",
       "(34, 44]      121\n",
       "(44, 54]       73\n",
       "(54, 64]       31\n",
       "(64, 80]       10\n",
       "0             607\n",
       "1             209\n",
       "2              28\n",
       "3              16\n",
       "4              18\n",
       "5               5\n",
       "8               7\n",
       "0             677\n",
       "1             118\n",
       "2              80\n",
       "3               5\n",
       "4               4\n",
       "5               5\n",
       "6               1\n",
       "(0, 20]       500\n",
       "(20, 40]      199\n",
       "(40, 60]       54\n",
       "(60, 80]       48\n",
       "(80, 100]      21\n",
       "(100, 300]     50\n",
       "(300, 600]      3\n",
       "C             168\n",
       "Q              77\n",
       "S             643\n",
       "Overall       890\n",
       "dtype: int64"
      ]
     },
     "execution_count": 65,
     "metadata": {},
     "output_type": "execute_result"
    }
   ],
   "source": [
    "titanic_pclass_survival_count = titanic_pclass_group.apply(len)\n",
    "titanic_sex_survival_count = titanic_sex_group.apply(len)\n",
    "titanic_age_survival_count = titanic_age_group.apply(len)\n",
    "titanic_sibsp_survival_count = titanic_sibsp_group.apply(len)\n",
    "titanic_parch_survival_count = titanic_parch_group.apply(len)\n",
    "titanic_fare_survival_count = titanic_fare_group.apply(len)\n",
    "titanic_embarked_survival_count = titanic_embarked_group.apply(len)\n",
    "\n",
    "groups_counts = pd.concat([titanic_pclass_survival_count,\n",
    "                           titanic_sex_survival_count,\n",
    "                           titanic_age_survival_count,\n",
    "                           titanic_sibsp_survival_count,\n",
    "                           titanic_parch_survival_count,\n",
    "                           titanic_fare_survival_count,\n",
    "                           titanic_embarked_survival_count\n",
    "])\n",
    "groups_counts[\"Overall\"] = len(titanic_train)\n",
    "groups_counts"
   ]
  },
  {
   "cell_type": "markdown",
   "metadata": {},
   "source": [
    "Let's now visualize these results."
   ]
  },
  {
   "cell_type": "code",
   "execution_count": 66,
   "metadata": {
    "collapsed": false
   },
   "outputs": [],
   "source": [
    "def get_groups_survival_ratio_plot(survival_ratios, groups_counts, labels, figsize=(20, 10)):\n",
    "    idx = np.arange(len(survival_ratios))\n",
    "    width = len(survival_ratios) / 50\n",
    "\n",
    "    fig, axes = plt.subplots(nrows=2, ncols=1, figsize=figsize, sharex=True)\n",
    "    axes[0].bar(idx, groups_counts, width, color='#f9d9ac', label=\"Passengers number\")\n",
    "    axes[0].set_title(\"Atributes groups passengers counts\")\n",
    "    axes[0].set_ylabel(\"Number of passengers\")\n",
    "    axes[0].legend(loc=2)\n",
    "    \n",
    "    axes[1].bar(idx, survival_ratios, width, color='#f1b7b0', label=\"Survived\")\n",
    "    axes[1].bar(idx, 1 - survival_ratios, width, bottom=survival_ratios, color='#f0f0f0', label=\"Not survived\")\n",
    "    axes[1].set_title(\"Survival ratios for atributes groups\")\n",
    "    axes[1].set_ylabel(\"Survival ratio\")\n",
    "    axes[1].legend(loc=2)\n",
    "    \n",
    "    plt.xticks(idx, labels, rotation='vertical', fontsize=12)\n",
    "    plt.tight_layout()\n",
    "    plt.show()"
   ]
  },
  {
   "cell_type": "code",
   "execution_count": 67,
   "metadata": {
    "collapsed": false,
    "scrolled": false
   },
   "outputs": [
    {
     "data": {
      "image/png": "[encoded data removed]",
      "text/plain": [
       "<matplotlib.figure.Figure at 0x11d151908>"
      ]
     },
     "metadata": {},
     "output_type": "display_data"
    }
   ],
   "source": [
    "get_groups_survival_ratio_plot(survival_ratios.values, groups_counts.values, survival_ratios.index)"
   ]
  },
  {
   "cell_type": "markdown",
   "metadata": {},
   "source": [
    "Let's now finally analyse the survival ratio for different attributes subgroups. As a reference on the right hand side of the graph we placed the overal Titanic passengers survival ratio - it is equal to 0.38. To test whether attribute's values affected the passengers survival ratio significantly (in inferential statistics meaning) we will use .05 significance level."
   ]
  },
  {
   "cell_type": "markdown",
   "metadata": {},
   "source": [
    "### 3.5.1 Pclass attribute\n",
    "\n",
    "Let's start with `Pclass` survival ratio levels. As we could expect, based on popular knowledge, the first (and even second) class passengers had a lot greater chances of survival than third class passengers. The survival ratio was 0.63 in the first class meaning that 63% of passengers travelling in this class survived. Second class had a bit lower survival ratio of 0.47. But the third class passengers survival ratio of 0.24 is shocking. Only 24% of third class passengers survived the disaster. That plus the fact that third class was the most populated (third bar in the top plot) with 491 passengers (out of all 891 in this dataset) gives the image of dramatic situation these people were in. Looking for the reasons of this high mortality level is beyond the scope of this analysis.\n"
   ]
  },
  {
   "cell_type": "code",
   "execution_count": 68,
   "metadata": {
    "collapsed": false
   },
   "outputs": [
    {
     "data": {
      "text/html": [
       "<table class=\"simpletable\">\n",
       "<caption>OLS Regression Results</caption>\n",
       "<tr>\n",
       "  <th>Dep. Variable:</th>        <td>Survived</td>     <th>  R-squared:         </th> <td>   0.115</td>\n",
       "</tr>\n",
       "<tr>\n",
       "  <th>Model:</th>                   <td>OLS</td>       <th>  Adj. R-squared:    </th> <td>   0.113</td>\n",
       "</tr>\n",
       "<tr>\n",
       "  <th>Method:</th>             <td>Least Squares</td>  <th>  F-statistic:       </th> <td>   57.37</td>\n",
       "</tr>\n",
       "<tr>\n",
       "  <th>Date:</th>             <td>Sun, 14 Jan 2018</td> <th>  Prob (F-statistic):</th> <td>3.72e-24</td>\n",
       "</tr>\n",
       "<tr>\n",
       "  <th>Time:</th>                 <td>01:57:08</td>     <th>  Log-Likelihood:    </th> <td> -566.83</td>\n",
       "</tr>\n",
       "<tr>\n",
       "  <th>No. Observations:</th>      <td>   890</td>      <th>  AIC:               </th> <td>   1140.</td>\n",
       "</tr>\n",
       "<tr>\n",
       "  <th>Df Residuals:</th>          <td>   887</td>      <th>  BIC:               </th> <td>   1154.</td>\n",
       "</tr>\n",
       "<tr>\n",
       "  <th>Df Model:</th>              <td>     2</td>      <th>                     </th>     <td> </td>   \n",
       "</tr>\n",
       "<tr>\n",
       "  <th>Covariance Type:</th>      <td>nonrobust</td>    <th>                     </th>     <td> </td>   \n",
       "</tr>\n",
       "</table>\n",
       "<table class=\"simpletable\">\n",
       "<tr>\n",
       "         <td></td>           <th>coef</th>     <th>std err</th>      <th>t</th>      <th>P>|t|</th>  <th>[0.025</th>    <th>0.975]</th>  \n",
       "</tr>\n",
       "<tr>\n",
       "  <th>Intercept</th>      <td>    0.6279</td> <td>    0.031</td> <td>   20.092</td> <td> 0.000</td> <td>    0.567</td> <td>    0.689</td>\n",
       "</tr>\n",
       "<tr>\n",
       "  <th>C(Pclass)[T.2]</th> <td>   -0.1551</td> <td>    0.046</td> <td>   -3.370</td> <td> 0.001</td> <td>   -0.245</td> <td>   -0.065</td>\n",
       "</tr>\n",
       "<tr>\n",
       "  <th>C(Pclass)[T.3]</th> <td>   -0.3855</td> <td>    0.037</td> <td>  -10.288</td> <td> 0.000</td> <td>   -0.459</td> <td>   -0.312</td>\n",
       "</tr>\n",
       "</table>\n",
       "<table class=\"simpletable\">\n",
       "<tr>\n",
       "  <th>Omnibus:</th>       <td>1398.566</td> <th>  Durbin-Watson:     </th> <td>   1.954</td>\n",
       "</tr>\n",
       "<tr>\n",
       "  <th>Prob(Omnibus):</th>  <td> 0.000</td>  <th>  Jarque-Bera (JB):  </th> <td>  87.283</td>\n",
       "</tr>\n",
       "<tr>\n",
       "  <th>Skew:</th>           <td> 0.424</td>  <th>  Prob(JB):          </th> <td>1.11e-19</td>\n",
       "</tr>\n",
       "<tr>\n",
       "  <th>Kurtosis:</th>       <td> 1.721</td>  <th>  Cond. No.          </th> <td>    4.57</td>\n",
       "</tr>\n",
       "</table>"
      ],
      "text/plain": [
       "<class 'statsmodels.iolib.summary.Summary'>\n",
       "\"\"\"\n",
       "                            OLS Regression Results                            \n",
       "==============================================================================\n",
       "Dep. Variable:               Survived   R-squared:                       0.115\n",
       "Model:                            OLS   Adj. R-squared:                  0.113\n",
       "Method:                 Least Squares   F-statistic:                     57.37\n",
       "Date:                Sun, 14 Jan 2018   Prob (F-statistic):           3.72e-24\n",
       "Time:                        01:57:08   Log-Likelihood:                -566.83\n",
       "No. Observations:                 890   AIC:                             1140.\n",
       "Df Residuals:                     887   BIC:                             1154.\n",
       "Df Model:                           2                                         \n",
       "Covariance Type:            nonrobust                                         \n",
       "==================================================================================\n",
       "                     coef    std err          t      P>|t|      [0.025      0.975]\n",
       "----------------------------------------------------------------------------------\n",
       "Intercept          0.6279      0.031     20.092      0.000       0.567       0.689\n",
       "C(Pclass)[T.2]    -0.1551      0.046     -3.370      0.001      -0.245      -0.065\n",
       "C(Pclass)[T.3]    -0.3855      0.037    -10.288      0.000      -0.459      -0.312\n",
       "==============================================================================\n",
       "Omnibus:                     1398.566   Durbin-Watson:                   1.954\n",
       "Prob(Omnibus):                  0.000   Jarque-Bera (JB):               87.283\n",
       "Skew:                           0.424   Prob(JB):                     1.11e-19\n",
       "Kurtosis:                       1.721   Cond. No.                         4.57\n",
       "==============================================================================\n",
       "\n",
       "Warnings:\n",
       "[1] Standard Errors assume that the covariance matrix of the errors is correctly specified.\n",
       "\"\"\""
      ]
     },
     "execution_count": 68,
     "metadata": {},
     "output_type": "execute_result"
    }
   ],
   "source": [
    "model = ols(\"Survived ~ C(Pclass)\", titanic_train).fit()\n",
    "model.summary()"
   ]
  },
  {
   "cell_type": "markdown",
   "metadata": {},
   "source": [
    "All three passengers classes effects are significant with p < .05. "
   ]
  },
  {
   "cell_type": "markdown",
   "metadata": {},
   "source": [
    "### 3.5.2 Sex attribute\n",
    "\n",
    "Looking at `Sex` attribute groups values we also see clear relationship in terms of survival ratio. Clearly women were more likely to survive than men with 0.74 survival ratio for women and 0.18 for men. Again this is what we could expect from popular knowledge. This could be expected following \"Women and children first\" marine code of conduct (more about it [here](https://en.wikipedia.org/wiki/Women_and_children_first)). This fact is clearly visible in the data."
   ]
  },
  {
   "cell_type": "code",
   "execution_count": 69,
   "metadata": {
    "collapsed": false
   },
   "outputs": [
    {
     "data": {
      "text/html": [
       "<table class=\"simpletable\">\n",
       "<caption>OLS Regression Results</caption>\n",
       "<tr>\n",
       "  <th>Dep. Variable:</th>        <td>Survived</td>     <th>  R-squared:         </th> <td>   0.297</td>\n",
       "</tr>\n",
       "<tr>\n",
       "  <th>Model:</th>                   <td>OLS</td>       <th>  Adj. R-squared:    </th> <td>   0.296</td>\n",
       "</tr>\n",
       "<tr>\n",
       "  <th>Method:</th>             <td>Least Squares</td>  <th>  F-statistic:       </th> <td>   375.3</td>\n",
       "</tr>\n",
       "<tr>\n",
       "  <th>Date:</th>             <td>Sun, 14 Jan 2018</td> <th>  Prob (F-statistic):</th> <td>5.17e-70</td>\n",
       "</tr>\n",
       "<tr>\n",
       "  <th>Time:</th>                 <td>01:57:08</td>     <th>  Log-Likelihood:    </th> <td> -464.09</td>\n",
       "</tr>\n",
       "<tr>\n",
       "  <th>No. Observations:</th>      <td>   890</td>      <th>  AIC:               </th> <td>   932.2</td>\n",
       "</tr>\n",
       "<tr>\n",
       "  <th>Df Residuals:</th>          <td>   888</td>      <th>  BIC:               </th> <td>   941.8</td>\n",
       "</tr>\n",
       "<tr>\n",
       "  <th>Df Model:</th>              <td>     1</td>      <th>                     </th>     <td> </td>   \n",
       "</tr>\n",
       "<tr>\n",
       "  <th>Covariance Type:</th>      <td>nonrobust</td>    <th>                     </th>     <td> </td>   \n",
       "</tr>\n",
       "</table>\n",
       "<table class=\"simpletable\">\n",
       "<tr>\n",
       "         <td></td>           <th>coef</th>     <th>std err</th>      <th>t</th>      <th>P>|t|</th>  <th>[0.025</th>    <th>0.975]</th>  \n",
       "</tr>\n",
       "<tr>\n",
       "  <th>Intercept</th>      <td>    0.7420</td> <td>    0.023</td> <td>   32.224</td> <td> 0.000</td> <td>    0.697</td> <td>    0.787</td>\n",
       "</tr>\n",
       "<tr>\n",
       "  <th>C(Sex)[T.male]</th> <td>   -0.5545</td> <td>    0.029</td> <td>  -19.373</td> <td> 0.000</td> <td>   -0.611</td> <td>   -0.498</td>\n",
       "</tr>\n",
       "</table>\n",
       "<table class=\"simpletable\">\n",
       "<tr>\n",
       "  <th>Omnibus:</th>       <td>25.375</td> <th>  Durbin-Watson:     </th> <td>   1.955</td>\n",
       "</tr>\n",
       "<tr>\n",
       "  <th>Prob(Omnibus):</th> <td> 0.000</td> <th>  Jarque-Bera (JB):  </th> <td>  27.091</td>\n",
       "</tr>\n",
       "<tr>\n",
       "  <th>Skew:</th>          <td> 0.427</td> <th>  Prob(JB):          </th> <td>1.31e-06</td>\n",
       "</tr>\n",
       "<tr>\n",
       "  <th>Kurtosis:</th>      <td> 2.982</td> <th>  Cond. No.          </th> <td>    3.13</td>\n",
       "</tr>\n",
       "</table>"
      ],
      "text/plain": [
       "<class 'statsmodels.iolib.summary.Summary'>\n",
       "\"\"\"\n",
       "                            OLS Regression Results                            \n",
       "==============================================================================\n",
       "Dep. Variable:               Survived   R-squared:                       0.297\n",
       "Model:                            OLS   Adj. R-squared:                  0.296\n",
       "Method:                 Least Squares   F-statistic:                     375.3\n",
       "Date:                Sun, 14 Jan 2018   Prob (F-statistic):           5.17e-70\n",
       "Time:                        01:57:08   Log-Likelihood:                -464.09\n",
       "No. Observations:                 890   AIC:                             932.2\n",
       "Df Residuals:                     888   BIC:                             941.8\n",
       "Df Model:                           1                                         \n",
       "Covariance Type:            nonrobust                                         \n",
       "==================================================================================\n",
       "                     coef    std err          t      P>|t|      [0.025      0.975]\n",
       "----------------------------------------------------------------------------------\n",
       "Intercept          0.7420      0.023     32.224      0.000       0.697       0.787\n",
       "C(Sex)[T.male]    -0.5545      0.029    -19.373      0.000      -0.611      -0.498\n",
       "==============================================================================\n",
       "Omnibus:                       25.375   Durbin-Watson:                   1.955\n",
       "Prob(Omnibus):                  0.000   Jarque-Bera (JB):               27.091\n",
       "Skew:                           0.427   Prob(JB):                     1.31e-06\n",
       "Kurtosis:                       2.982   Cond. No.                         3.13\n",
       "==============================================================================\n",
       "\n",
       "Warnings:\n",
       "[1] Standard Errors assume that the covariance matrix of the errors is correctly specified.\n",
       "\"\"\""
      ]
     },
     "execution_count": 69,
     "metadata": {},
     "output_type": "execute_result"
    }
   ],
   "source": [
    "model = ols(\"Survived ~ C(Sex)\", titanic_train).fit()\n",
    "model.summary()"
   ]
  },
  {
   "cell_type": "markdown",
   "metadata": {},
   "source": [
    "Both sexes effects are significant with p < .05. "
   ]
  },
  {
   "cell_type": "markdown",
   "metadata": {},
   "source": [
    "### 3.5.3 Age attribute\n",
    "\n",
    "Going step forward, was the same rescue law applied to children or maybe other age groups? Analysing `Age` attribute survival ratios it appears that the answer is positive. Passengers in the age group of 0-14 have much higher survival ratio of 0.58 than the rest of passengers. Other passengers age groups oscilate around the overall survival ratio of 0.38. With one exception however: for age group of 64-80 passengers have very small survival ratio of 0.09. Again this analysis is not a place to look for specific reasons for this fact."
   ]
  },
  {
   "cell_type": "code",
   "execution_count": 70,
   "metadata": {
    "collapsed": false,
    "scrolled": false
   },
   "outputs": [
    {
     "data": {
      "text/html": [
       "<table class=\"simpletable\">\n",
       "<caption>OLS Regression Results</caption>\n",
       "<tr>\n",
       "  <th>Dep. Variable:</th>        <td>Survived</td>     <th>  R-squared:         </th> <td>   0.026</td>\n",
       "</tr>\n",
       "<tr>\n",
       "  <th>Model:</th>                   <td>OLS</td>       <th>  Adj. R-squared:    </th> <td>   0.018</td>\n",
       "</tr>\n",
       "<tr>\n",
       "  <th>Method:</th>             <td>Least Squares</td>  <th>  F-statistic:       </th> <td>   3.194</td>\n",
       "</tr>\n",
       "<tr>\n",
       "  <th>Date:</th>             <td>Sun, 14 Jan 2018</td> <th>  Prob (F-statistic):</th>  <td>0.00423</td>\n",
       "</tr>\n",
       "<tr>\n",
       "  <th>Time:</th>                 <td>01:57:08</td>     <th>  Log-Likelihood:    </th> <td> -494.93</td>\n",
       "</tr>\n",
       "<tr>\n",
       "  <th>No. Observations:</th>      <td>   713</td>      <th>  AIC:               </th> <td>   1004.</td>\n",
       "</tr>\n",
       "<tr>\n",
       "  <th>Df Residuals:</th>          <td>   706</td>      <th>  BIC:               </th> <td>   1036.</td>\n",
       "</tr>\n",
       "<tr>\n",
       "  <th>Df Model:</th>              <td>     6</td>      <th>                     </th>     <td> </td>   \n",
       "</tr>\n",
       "<tr>\n",
       "  <th>Covariance Type:</th>      <td>nonrobust</td>    <th>                     </th>     <td> </td>   \n",
       "</tr>\n",
       "</table>\n",
       "<table class=\"simpletable\">\n",
       "<tr>\n",
       "            <td></td>              <th>coef</th>     <th>std err</th>      <th>t</th>      <th>P>|t|</th>  <th>[0.025</th>    <th>0.975]</th>  \n",
       "</tr>\n",
       "<tr>\n",
       "  <th>Intercept</th>            <td>    0.5844</td> <td>    0.055</td> <td>   10.534</td> <td> 0.000</td> <td>    0.475</td> <td>    0.693</td>\n",
       "</tr>\n",
       "<tr>\n",
       "  <th>AgeGroup[T.(14, 24]]</th> <td>   -0.2194</td> <td>    0.065</td> <td>   -3.361</td> <td> 0.001</td> <td>   -0.348</td> <td>   -0.091</td>\n",
       "</tr>\n",
       "<tr>\n",
       "  <th>AgeGroup[T.(24, 34]]</th> <td>   -0.1964</td> <td>    0.065</td> <td>   -3.010</td> <td> 0.003</td> <td>   -0.324</td> <td>   -0.068</td>\n",
       "</tr>\n",
       "<tr>\n",
       "  <th>AgeGroup[T.(34, 44]]</th> <td>   -0.1629</td> <td>    0.071</td> <td>   -2.296</td> <td> 0.022</td> <td>   -0.302</td> <td>   -0.024</td>\n",
       "</tr>\n",
       "<tr>\n",
       "  <th>AgeGroup[T.(44, 54]]</th> <td>   -0.1735</td> <td>    0.080</td> <td>   -2.181</td> <td> 0.030</td> <td>   -0.330</td> <td>   -0.017</td>\n",
       "</tr>\n",
       "<tr>\n",
       "  <th>AgeGroup[T.(54, 64]]</th> <td>   -0.1973</td> <td>    0.104</td> <td>   -1.906</td> <td> 0.057</td> <td>   -0.401</td> <td>    0.006</td>\n",
       "</tr>\n",
       "<tr>\n",
       "  <th>AgeGroup[T.(64, 80]]</th> <td>   -0.5844</td> <td>    0.164</td> <td>   -3.571</td> <td> 0.000</td> <td>   -0.906</td> <td>   -0.263</td>\n",
       "</tr>\n",
       "</table>\n",
       "<table class=\"simpletable\">\n",
       "<tr>\n",
       "  <th>Omnibus:</th>       <td>15.115</td> <th>  Durbin-Watson:     </th> <td>   1.908</td>\n",
       "</tr>\n",
       "<tr>\n",
       "  <th>Prob(Omnibus):</th> <td> 0.001</td> <th>  Jarque-Bera (JB):  </th> <td> 110.115</td>\n",
       "</tr>\n",
       "<tr>\n",
       "  <th>Skew:</th>          <td> 0.364</td> <th>  Prob(JB):          </th> <td>1.23e-24</td>\n",
       "</tr>\n",
       "<tr>\n",
       "  <th>Kurtosis:</th>      <td> 1.218</td> <th>  Cond. No.          </th> <td>    10.8</td>\n",
       "</tr>\n",
       "</table>"
      ],
      "text/plain": [
       "<class 'statsmodels.iolib.summary.Summary'>\n",
       "\"\"\"\n",
       "                            OLS Regression Results                            \n",
       "==============================================================================\n",
       "Dep. Variable:               Survived   R-squared:                       0.026\n",
       "Model:                            OLS   Adj. R-squared:                  0.018\n",
       "Method:                 Least Squares   F-statistic:                     3.194\n",
       "Date:                Sun, 14 Jan 2018   Prob (F-statistic):            0.00423\n",
       "Time:                        01:57:08   Log-Likelihood:                -494.93\n",
       "No. Observations:                 713   AIC:                             1004.\n",
       "Df Residuals:                     706   BIC:                             1036.\n",
       "Df Model:                           6                                         \n",
       "Covariance Type:            nonrobust                                         \n",
       "========================================================================================\n",
       "                           coef    std err          t      P>|t|      [0.025      0.975]\n",
       "----------------------------------------------------------------------------------------\n",
       "Intercept                0.5844      0.055     10.534      0.000       0.475       0.693\n",
       "AgeGroup[T.(14, 24]]    -0.2194      0.065     -3.361      0.001      -0.348      -0.091\n",
       "AgeGroup[T.(24, 34]]    -0.1964      0.065     -3.010      0.003      -0.324      -0.068\n",
       "AgeGroup[T.(34, 44]]    -0.1629      0.071     -2.296      0.022      -0.302      -0.024\n",
       "AgeGroup[T.(44, 54]]    -0.1735      0.080     -2.181      0.030      -0.330      -0.017\n",
       "AgeGroup[T.(54, 64]]    -0.1973      0.104     -1.906      0.057      -0.401       0.006\n",
       "AgeGroup[T.(64, 80]]    -0.5844      0.164     -3.571      0.000      -0.906      -0.263\n",
       "==============================================================================\n",
       "Omnibus:                       15.115   Durbin-Watson:                   1.908\n",
       "Prob(Omnibus):                  0.001   Jarque-Bera (JB):              110.115\n",
       "Skew:                           0.364   Prob(JB):                     1.23e-24\n",
       "Kurtosis:                       1.218   Cond. No.                         10.8\n",
       "==============================================================================\n",
       "\n",
       "Warnings:\n",
       "[1] Standard Errors assume that the covariance matrix of the errors is correctly specified.\n",
       "\"\"\""
      ]
     },
     "execution_count": 70,
     "metadata": {},
     "output_type": "execute_result"
    }
   ],
   "source": [
    "model = ols(\"Survived ~ AgeGroup\", titanic_train).fit()\n",
    "model.summary()"
   ]
  },
  {
   "cell_type": "markdown",
   "metadata": {},
   "source": [
    "All ages groups besides `(54, 64`] group effects are significant with p < .05. "
   ]
  },
  {
   "cell_type": "markdown",
   "metadata": {},
   "source": [
    "### 3.5.4 Sibsp attribute\n",
    "\n",
    "Let's now analyze `Sibsp` and groups of passengers travelling with different number of siblings or spouse. The data set specification defines siblings as: brother, sister, stepbrother, stepsister. It also defines spouse as: husband, wife. There is no other information in the data set that could help us to separate these two groups (whether passenger traveled with sibling, spouse or alone) so we will analyse as is in the data set.\n",
    "\n",
    "It is interesting whether travelling with siblings or spouse affected chances for survival. 608 passengers, meaning vast majority, traveled without any with 0.35 survival ratio. Passengers travelling with one and two siblings or spouse had higher survival chances of 0.54 and 0.46. There were passengers travelling with three, four, five and eight siblings or spouse on board. Their survival ratio was lower and reaching 0 for the last two groups. Again analysing these groups we need to remeber that very few passengers belonged to these groups. For example, only 7 passengers belonged to 8 siblings or spouse group. Let's see who they were."
   ]
  },
  {
   "cell_type": "code",
   "execution_count": 71,
   "metadata": {
    "collapsed": false
   },
   "outputs": [
    {
     "data": {
      "text/html": [
       "<div>\n",
       "<style scoped>\n",
       "    .dataframe tbody tr th:only-of-type {\n",
       "        vertical-align: middle;\n",
       "    }\n",
       "\n",
       "    .dataframe tbody tr th {\n",
       "        vertical-align: top;\n",
       "    }\n",
       "\n",
       "    .dataframe thead th {\n",
       "        text-align: right;\n",
       "    }\n",
       "</style>\n",
       "<table border=\"1\" class=\"dataframe\">\n",
       "  <thead>\n",
       "    <tr style=\"text-align: right;\">\n",
       "      <th></th>\n",
       "      <th>Survived</th>\n",
       "      <th>Pclass</th>\n",
       "      <th>Name</th>\n",
       "      <th>Sex</th>\n",
       "      <th>Age</th>\n",
       "      <th>SibSp</th>\n",
       "      <th>Parch</th>\n",
       "      <th>Ticket</th>\n",
       "      <th>Fare</th>\n",
       "      <th>Cabin</th>\n",
       "      <th>Embarked</th>\n",
       "      <th>AgeGroup</th>\n",
       "      <th>FareGroup</th>\n",
       "    </tr>\n",
       "    <tr>\n",
       "      <th>PassengerId</th>\n",
       "      <th></th>\n",
       "      <th></th>\n",
       "      <th></th>\n",
       "      <th></th>\n",
       "      <th></th>\n",
       "      <th></th>\n",
       "      <th></th>\n",
       "      <th></th>\n",
       "      <th></th>\n",
       "      <th></th>\n",
       "      <th></th>\n",
       "      <th></th>\n",
       "      <th></th>\n",
       "    </tr>\n",
       "  </thead>\n",
       "  <tbody>\n",
       "    <tr>\n",
       "      <th>160</th>\n",
       "      <td>0</td>\n",
       "      <td>3</td>\n",
       "      <td>Sage, Master. Thomas Henry</td>\n",
       "      <td>male</td>\n",
       "      <td>NaN</td>\n",
       "      <td>8</td>\n",
       "      <td>2</td>\n",
       "      <td>CA. 2343</td>\n",
       "      <td>69.55</td>\n",
       "      <td>NaN</td>\n",
       "      <td>S</td>\n",
       "      <td>NaN</td>\n",
       "      <td>(60, 80]</td>\n",
       "    </tr>\n",
       "    <tr>\n",
       "      <th>181</th>\n",
       "      <td>0</td>\n",
       "      <td>3</td>\n",
       "      <td>Sage, Miss. Constance Gladys</td>\n",
       "      <td>female</td>\n",
       "      <td>NaN</td>\n",
       "      <td>8</td>\n",
       "      <td>2</td>\n",
       "      <td>CA. 2343</td>\n",
       "      <td>69.55</td>\n",
       "      <td>NaN</td>\n",
       "      <td>S</td>\n",
       "      <td>NaN</td>\n",
       "      <td>(60, 80]</td>\n",
       "    </tr>\n",
       "    <tr>\n",
       "      <th>202</th>\n",
       "      <td>0</td>\n",
       "      <td>3</td>\n",
       "      <td>Sage, Mr. Frederick</td>\n",
       "      <td>male</td>\n",
       "      <td>NaN</td>\n",
       "      <td>8</td>\n",
       "      <td>2</td>\n",
       "      <td>CA. 2343</td>\n",
       "      <td>69.55</td>\n",
       "      <td>NaN</td>\n",
       "      <td>S</td>\n",
       "      <td>NaN</td>\n",
       "      <td>(60, 80]</td>\n",
       "    </tr>\n",
       "    <tr>\n",
       "      <th>325</th>\n",
       "      <td>0</td>\n",
       "      <td>3</td>\n",
       "      <td>Sage, Mr. George John Jr</td>\n",
       "      <td>male</td>\n",
       "      <td>NaN</td>\n",
       "      <td>8</td>\n",
       "      <td>2</td>\n",
       "      <td>CA. 2343</td>\n",
       "      <td>69.55</td>\n",
       "      <td>NaN</td>\n",
       "      <td>S</td>\n",
       "      <td>NaN</td>\n",
       "      <td>(60, 80]</td>\n",
       "    </tr>\n",
       "    <tr>\n",
       "      <th>793</th>\n",
       "      <td>0</td>\n",
       "      <td>3</td>\n",
       "      <td>Sage, Miss. Stella Anna</td>\n",
       "      <td>female</td>\n",
       "      <td>NaN</td>\n",
       "      <td>8</td>\n",
       "      <td>2</td>\n",
       "      <td>CA. 2343</td>\n",
       "      <td>69.55</td>\n",
       "      <td>NaN</td>\n",
       "      <td>S</td>\n",
       "      <td>NaN</td>\n",
       "      <td>(60, 80]</td>\n",
       "    </tr>\n",
       "    <tr>\n",
       "      <th>847</th>\n",
       "      <td>0</td>\n",
       "      <td>3</td>\n",
       "      <td>Sage, Mr. Douglas Bullen</td>\n",
       "      <td>male</td>\n",
       "      <td>NaN</td>\n",
       "      <td>8</td>\n",
       "      <td>2</td>\n",
       "      <td>CA. 2343</td>\n",
       "      <td>69.55</td>\n",
       "      <td>NaN</td>\n",
       "      <td>S</td>\n",
       "      <td>NaN</td>\n",
       "      <td>(60, 80]</td>\n",
       "    </tr>\n",
       "    <tr>\n",
       "      <th>864</th>\n",
       "      <td>0</td>\n",
       "      <td>3</td>\n",
       "      <td>Sage, Miss. Dorothy Edith \"Dolly\"</td>\n",
       "      <td>female</td>\n",
       "      <td>NaN</td>\n",
       "      <td>8</td>\n",
       "      <td>2</td>\n",
       "      <td>CA. 2343</td>\n",
       "      <td>69.55</td>\n",
       "      <td>NaN</td>\n",
       "      <td>S</td>\n",
       "      <td>NaN</td>\n",
       "      <td>(60, 80]</td>\n",
       "    </tr>\n",
       "  </tbody>\n",
       "</table>\n",
       "</div>"
      ],
      "text/plain": [
       "             Survived  Pclass                               Name     Sex  Age  \\\n",
       "PassengerId                                                                     \n",
       "160                 0       3         Sage, Master. Thomas Henry    male  NaN   \n",
       "181                 0       3       Sage, Miss. Constance Gladys  female  NaN   \n",
       "202                 0       3                Sage, Mr. Frederick    male  NaN   \n",
       "325                 0       3           Sage, Mr. George John Jr    male  NaN   \n",
       "793                 0       3            Sage, Miss. Stella Anna  female  NaN   \n",
       "847                 0       3           Sage, Mr. Douglas Bullen    male  NaN   \n",
       "864                 0       3  Sage, Miss. Dorothy Edith \"Dolly\"  female  NaN   \n",
       "\n",
       "             SibSp  Parch    Ticket   Fare Cabin Embarked AgeGroup FareGroup  \n",
       "PassengerId                                                                   \n",
       "160              8      2  CA. 2343  69.55   NaN        S      NaN  (60, 80]  \n",
       "181              8      2  CA. 2343  69.55   NaN        S      NaN  (60, 80]  \n",
       "202              8      2  CA. 2343  69.55   NaN        S      NaN  (60, 80]  \n",
       "325              8      2  CA. 2343  69.55   NaN        S      NaN  (60, 80]  \n",
       "793              8      2  CA. 2343  69.55   NaN        S      NaN  (60, 80]  \n",
       "847              8      2  CA. 2343  69.55   NaN        S      NaN  (60, 80]  \n",
       "864              8      2  CA. 2343  69.55   NaN        S      NaN  (60, 80]  "
      ]
     },
     "execution_count": 71,
     "metadata": {},
     "output_type": "execute_result"
    }
   ],
   "source": [
    "titanic_train[titanic_train[\"SibSp\"] == 8]"
   ]
  },
  {
   "cell_type": "markdown",
   "metadata": {},
   "source": [
    "As we can see it is a case of a tragic story of one big familly, all travelling in the third class. Unfortunatelly all died in the disaster. In fact it was two parents travelling with 8 children but three of them are not included in this dataset. That is why `SibSp` is 8 even though we have only 7 individuals here. You can read more about their story [here](https://www.encyclopedia-titanica.org/titanic-victim/thomas-henry-sage.html)."
   ]
  },
  {
   "cell_type": "code",
   "execution_count": 72,
   "metadata": {
    "collapsed": false
   },
   "outputs": [
    {
     "data": {
      "text/html": [
       "<table class=\"simpletable\">\n",
       "<caption>OLS Regression Results</caption>\n",
       "<tr>\n",
       "  <th>Dep. Variable:</th>        <td>Survived</td>     <th>  R-squared:         </th> <td>   0.042</td>\n",
       "</tr>\n",
       "<tr>\n",
       "  <th>Model:</th>                   <td>OLS</td>       <th>  Adj. R-squared:    </th> <td>   0.036</td>\n",
       "</tr>\n",
       "<tr>\n",
       "  <th>Method:</th>             <td>Least Squares</td>  <th>  F-statistic:       </th> <td>   6.475</td>\n",
       "</tr>\n",
       "<tr>\n",
       "  <th>Date:</th>             <td>Sun, 14 Jan 2018</td> <th>  Prob (F-statistic):</th> <td>1.07e-06</td>\n",
       "</tr>\n",
       "<tr>\n",
       "  <th>Time:</th>                 <td>01:57:08</td>     <th>  Log-Likelihood:    </th> <td> -601.80</td>\n",
       "</tr>\n",
       "<tr>\n",
       "  <th>No. Observations:</th>      <td>   890</td>      <th>  AIC:               </th> <td>   1218.</td>\n",
       "</tr>\n",
       "<tr>\n",
       "  <th>Df Residuals:</th>          <td>   883</td>      <th>  BIC:               </th> <td>   1251.</td>\n",
       "</tr>\n",
       "<tr>\n",
       "  <th>Df Model:</th>              <td>     6</td>      <th>                     </th>     <td> </td>   \n",
       "</tr>\n",
       "<tr>\n",
       "  <th>Covariance Type:</th>      <td>nonrobust</td>    <th>                     </th>     <td> </td>   \n",
       "</tr>\n",
       "</table>\n",
       "<table class=\"simpletable\">\n",
       "<tr>\n",
       "        <td></td>           <th>coef</th>     <th>std err</th>      <th>t</th>      <th>P>|t|</th>  <th>[0.025</th>    <th>0.975]</th>  \n",
       "</tr>\n",
       "<tr>\n",
       "  <th>Intercept</th>     <td>    0.3443</td> <td>    0.019</td> <td>   17.759</td> <td> 0.000</td> <td>    0.306</td> <td>    0.382</td>\n",
       "</tr>\n",
       "<tr>\n",
       "  <th>C(SibSp)[T.1]</th> <td>    0.1916</td> <td>    0.038</td> <td>    5.000</td> <td> 0.000</td> <td>    0.116</td> <td>    0.267</td>\n",
       "</tr>\n",
       "<tr>\n",
       "  <th>C(SibSp)[T.2]</th> <td>    0.1200</td> <td>    0.092</td> <td>    1.299</td> <td> 0.194</td> <td>   -0.061</td> <td>    0.301</td>\n",
       "</tr>\n",
       "<tr>\n",
       "  <th>C(SibSp)[T.3]</th> <td>   -0.0943</td> <td>    0.121</td> <td>   -0.780</td> <td> 0.436</td> <td>   -0.332</td> <td>    0.143</td>\n",
       "</tr>\n",
       "<tr>\n",
       "  <th>C(SibSp)[T.4]</th> <td>   -0.1776</td> <td>    0.114</td> <td>   -1.555</td> <td> 0.120</td> <td>   -0.402</td> <td>    0.047</td>\n",
       "</tr>\n",
       "<tr>\n",
       "  <th>C(SibSp)[T.5]</th> <td>   -0.3443</td> <td>    0.215</td> <td>   -1.605</td> <td> 0.109</td> <td>   -0.765</td> <td>    0.077</td>\n",
       "</tr>\n",
       "<tr>\n",
       "  <th>C(SibSp)[T.8]</th> <td>   -0.3443</td> <td>    0.182</td> <td>   -1.896</td> <td> 0.058</td> <td>   -0.701</td> <td>    0.012</td>\n",
       "</tr>\n",
       "</table>\n",
       "<table class=\"simpletable\">\n",
       "<tr>\n",
       "  <th>Omnibus:</th>       <td>27.286</td> <th>  Durbin-Watson:     </th> <td>   1.953</td>\n",
       "</tr>\n",
       "<tr>\n",
       "  <th>Prob(Omnibus):</th> <td> 0.000</td> <th>  Jarque-Bera (JB):  </th> <td> 129.234</td>\n",
       "</tr>\n",
       "<tr>\n",
       "  <th>Skew:</th>          <td> 0.444</td> <th>  Prob(JB):          </th> <td>8.65e-29</td>\n",
       "</tr>\n",
       "<tr>\n",
       "  <th>Kurtosis:</th>      <td> 1.358</td> <th>  Cond. No.          </th> <td>    13.8</td>\n",
       "</tr>\n",
       "</table>"
      ],
      "text/plain": [
       "<class 'statsmodels.iolib.summary.Summary'>\n",
       "\"\"\"\n",
       "                            OLS Regression Results                            \n",
       "==============================================================================\n",
       "Dep. Variable:               Survived   R-squared:                       0.042\n",
       "Model:                            OLS   Adj. R-squared:                  0.036\n",
       "Method:                 Least Squares   F-statistic:                     6.475\n",
       "Date:                Sun, 14 Jan 2018   Prob (F-statistic):           1.07e-06\n",
       "Time:                        01:57:08   Log-Likelihood:                -601.80\n",
       "No. Observations:                 890   AIC:                             1218.\n",
       "Df Residuals:                     883   BIC:                             1251.\n",
       "Df Model:                           6                                         \n",
       "Covariance Type:            nonrobust                                         \n",
       "=================================================================================\n",
       "                    coef    std err          t      P>|t|      [0.025      0.975]\n",
       "---------------------------------------------------------------------------------\n",
       "Intercept         0.3443      0.019     17.759      0.000       0.306       0.382\n",
       "C(SibSp)[T.1]     0.1916      0.038      5.000      0.000       0.116       0.267\n",
       "C(SibSp)[T.2]     0.1200      0.092      1.299      0.194      -0.061       0.301\n",
       "C(SibSp)[T.3]    -0.0943      0.121     -0.780      0.436      -0.332       0.143\n",
       "C(SibSp)[T.4]    -0.1776      0.114     -1.555      0.120      -0.402       0.047\n",
       "C(SibSp)[T.5]    -0.3443      0.215     -1.605      0.109      -0.765       0.077\n",
       "C(SibSp)[T.8]    -0.3443      0.182     -1.896      0.058      -0.701       0.012\n",
       "==============================================================================\n",
       "Omnibus:                       27.286   Durbin-Watson:                   1.953\n",
       "Prob(Omnibus):                  0.000   Jarque-Bera (JB):              129.234\n",
       "Skew:                           0.444   Prob(JB):                     8.65e-29\n",
       "Kurtosis:                       1.358   Cond. No.                         13.8\n",
       "==============================================================================\n",
       "\n",
       "Warnings:\n",
       "[1] Standard Errors assume that the covariance matrix of the errors is correctly specified.\n",
       "\"\"\""
      ]
     },
     "execution_count": 72,
     "metadata": {},
     "output_type": "execute_result"
    }
   ],
   "source": [
    "model = ols(\"Survived ~ C(SibSp)\", titanic_train).fit()\n",
    "model.summary()"
   ]
  },
  {
   "cell_type": "markdown",
   "metadata": {},
   "source": [
    "Only passengers travelling without any and with one sibling/spouse effects are significant with p < .05. "
   ]
  },
  {
   "cell_type": "markdown",
   "metadata": {},
   "source": [
    "### 3.5.5 Parch attribute\n",
    "\n",
    "Moving on to analysis of `Parch` attribute survival ratio. Again vast majority of passengers (678) traveled without any children or parents with survival ratio of 0.34. We can see that passengers travelling with one, two or three children or parents had bigger chances of survival (0.55, 0.50 and 0.60 accordingly), but again let's remember that these groups had much less passengers (118, 80, 5). There were only 10 passenger travelling with four, five or six parents or children and their survival ratio was small but these groups are to small to draw any conclusions.\n"
   ]
  },
  {
   "cell_type": "code",
   "execution_count": 73,
   "metadata": {
    "collapsed": false
   },
   "outputs": [
    {
     "data": {
      "text/html": [
       "<table class=\"simpletable\">\n",
       "<caption>OLS Regression Results</caption>\n",
       "<tr>\n",
       "  <th>Dep. Variable:</th>        <td>Survived</td>     <th>  R-squared:         </th> <td>   0.032</td>\n",
       "</tr>\n",
       "<tr>\n",
       "  <th>Model:</th>                   <td>OLS</td>       <th>  Adj. R-squared:    </th> <td>   0.025</td>\n",
       "</tr>\n",
       "<tr>\n",
       "  <th>Method:</th>             <td>Least Squares</td>  <th>  F-statistic:       </th> <td>   4.809</td>\n",
       "</tr>\n",
       "<tr>\n",
       "  <th>Date:</th>             <td>Sun, 14 Jan 2018</td> <th>  Prob (F-statistic):</th> <td>7.71e-05</td>\n",
       "</tr>\n",
       "<tr>\n",
       "  <th>Time:</th>                 <td>01:57:08</td>     <th>  Log-Likelihood:    </th> <td> -606.65</td>\n",
       "</tr>\n",
       "<tr>\n",
       "  <th>No. Observations:</th>      <td>   890</td>      <th>  AIC:               </th> <td>   1227.</td>\n",
       "</tr>\n",
       "<tr>\n",
       "  <th>Df Residuals:</th>          <td>   883</td>      <th>  BIC:               </th> <td>   1261.</td>\n",
       "</tr>\n",
       "<tr>\n",
       "  <th>Df Model:</th>              <td>     6</td>      <th>                     </th>     <td> </td>   \n",
       "</tr>\n",
       "<tr>\n",
       "  <th>Covariance Type:</th>      <td>nonrobust</td>    <th>                     </th>     <td> </td>   \n",
       "</tr>\n",
       "</table>\n",
       "<table class=\"simpletable\">\n",
       "<tr>\n",
       "        <td></td>           <th>coef</th>     <th>std err</th>      <th>t</th>      <th>P>|t|</th>  <th>[0.025</th>    <th>0.975]</th>  \n",
       "</tr>\n",
       "<tr>\n",
       "  <th>Intercept</th>     <td>    0.3427</td> <td>    0.018</td> <td>   18.565</td> <td> 0.000</td> <td>    0.306</td> <td>    0.379</td>\n",
       "</tr>\n",
       "<tr>\n",
       "  <th>C(Parch)[T.1]</th> <td>    0.2082</td> <td>    0.048</td> <td>    4.345</td> <td> 0.000</td> <td>    0.114</td> <td>    0.302</td>\n",
       "</tr>\n",
       "<tr>\n",
       "  <th>C(Parch)[T.2]</th> <td>    0.1573</td> <td>    0.057</td> <td>    2.770</td> <td> 0.006</td> <td>    0.046</td> <td>    0.269</td>\n",
       "</tr>\n",
       "<tr>\n",
       "  <th>C(Parch)[T.3]</th> <td>    0.2573</td> <td>    0.216</td> <td>    1.194</td> <td> 0.233</td> <td>   -0.166</td> <td>    0.680</td>\n",
       "</tr>\n",
       "<tr>\n",
       "  <th>C(Parch)[T.4]</th> <td>   -0.3427</td> <td>    0.241</td> <td>   -1.423</td> <td> 0.155</td> <td>   -0.815</td> <td>    0.130</td>\n",
       "</tr>\n",
       "<tr>\n",
       "  <th>C(Parch)[T.5]</th> <td>   -0.1427</td> <td>    0.216</td> <td>   -0.662</td> <td> 0.508</td> <td>   -0.566</td> <td>    0.280</td>\n",
       "</tr>\n",
       "<tr>\n",
       "  <th>C(Parch)[T.6]</th> <td>   -0.3427</td> <td>    0.481</td> <td>   -0.713</td> <td> 0.476</td> <td>   -1.286</td> <td>    0.601</td>\n",
       "</tr>\n",
       "</table>\n",
       "<table class=\"simpletable\">\n",
       "<tr>\n",
       "  <th>Omnibus:</th>       <td>29.577</td> <th>  Durbin-Watson:     </th> <td>   1.960</td>\n",
       "</tr>\n",
       "<tr>\n",
       "  <th>Prob(Omnibus):</th> <td> 0.000</td> <th>  Jarque-Bera (JB):  </th> <td> 133.501</td>\n",
       "</tr>\n",
       "<tr>\n",
       "  <th>Skew:</th>          <td> 0.464</td> <th>  Prob(JB):          </th> <td>1.02e-29</td>\n",
       "</tr>\n",
       "<tr>\n",
       "  <th>Kurtosis:</th>      <td> 1.345</td> <th>  Cond. No.          </th> <td>    30.3</td>\n",
       "</tr>\n",
       "</table>"
      ],
      "text/plain": [
       "<class 'statsmodels.iolib.summary.Summary'>\n",
       "\"\"\"\n",
       "                            OLS Regression Results                            \n",
       "==============================================================================\n",
       "Dep. Variable:               Survived   R-squared:                       0.032\n",
       "Model:                            OLS   Adj. R-squared:                  0.025\n",
       "Method:                 Least Squares   F-statistic:                     4.809\n",
       "Date:                Sun, 14 Jan 2018   Prob (F-statistic):           7.71e-05\n",
       "Time:                        01:57:08   Log-Likelihood:                -606.65\n",
       "No. Observations:                 890   AIC:                             1227.\n",
       "Df Residuals:                     883   BIC:                             1261.\n",
       "Df Model:                           6                                         \n",
       "Covariance Type:            nonrobust                                         \n",
       "=================================================================================\n",
       "                    coef    std err          t      P>|t|      [0.025      0.975]\n",
       "---------------------------------------------------------------------------------\n",
       "Intercept         0.3427      0.018     18.565      0.000       0.306       0.379\n",
       "C(Parch)[T.1]     0.2082      0.048      4.345      0.000       0.114       0.302\n",
       "C(Parch)[T.2]     0.1573      0.057      2.770      0.006       0.046       0.269\n",
       "C(Parch)[T.3]     0.2573      0.216      1.194      0.233      -0.166       0.680\n",
       "C(Parch)[T.4]    -0.3427      0.241     -1.423      0.155      -0.815       0.130\n",
       "C(Parch)[T.5]    -0.1427      0.216     -0.662      0.508      -0.566       0.280\n",
       "C(Parch)[T.6]    -0.3427      0.481     -0.713      0.476      -1.286       0.601\n",
       "==============================================================================\n",
       "Omnibus:                       29.577   Durbin-Watson:                   1.960\n",
       "Prob(Omnibus):                  0.000   Jarque-Bera (JB):              133.501\n",
       "Skew:                           0.464   Prob(JB):                     1.02e-29\n",
       "Kurtosis:                       1.345   Cond. No.                         30.3\n",
       "==============================================================================\n",
       "\n",
       "Warnings:\n",
       "[1] Standard Errors assume that the covariance matrix of the errors is correctly specified.\n",
       "\"\"\""
      ]
     },
     "execution_count": 73,
     "metadata": {},
     "output_type": "execute_result"
    }
   ],
   "source": [
    "model = ols(\"Survived ~ C(Parch)\", titanic_train).fit()\n",
    "model.summary()"
   ]
  },
  {
   "cell_type": "markdown",
   "metadata": {},
   "source": [
    "Only passengers travelling without any and with one or two children/parents effects are significant with p < .05. "
   ]
  },
  {
   "cell_type": "markdown",
   "metadata": {},
   "source": [
    "### 3.5.6 Fare attribute\n",
    "\n",
    "When we look at `Fare` attribute survival ratio values we can see clearly almost linear relation between the price of the ticket and the survival ratio. It looks like the more passenger paid for the ticket the bigger were the chances of survival. The survival ratio for passengers who bought the tickets for 0-20 was 0.28, for passengers with tickers between 20-40 the survival ratio was 0.43. And for further groups: 40-60 0.57, 60-80 0.520833, 80-100 0.86, 100-300, 0.72, and for tickets with price between 300-600 the survival ratio was 1.00 meaning that all of these passengers survived. There are two facts we need to mention. First, the more expesive ticket the higher class in which passenger traveled meaning of course the higher chances for survival. Second, the number of passengers in groups of ticket prices above 40 is about 50 passengers making them small with only three passengers in the most expensive 300-600 ticket price range price group.\n"
   ]
  },
  {
   "cell_type": "code",
   "execution_count": 74,
   "metadata": {
    "collapsed": false,
    "scrolled": false
   },
   "outputs": [
    {
     "data": {
      "text/html": [
       "<table class=\"simpletable\">\n",
       "<caption>OLS Regression Results</caption>\n",
       "<tr>\n",
       "  <th>Dep. Variable:</th>        <td>Survived</td>     <th>  R-squared:         </th> <td>   0.098</td>\n",
       "</tr>\n",
       "<tr>\n",
       "  <th>Model:</th>                   <td>OLS</td>       <th>  Adj. R-squared:    </th> <td>   0.091</td>\n",
       "</tr>\n",
       "<tr>\n",
       "  <th>Method:</th>             <td>Least Squares</td>  <th>  F-statistic:       </th> <td>   15.91</td>\n",
       "</tr>\n",
       "<tr>\n",
       "  <th>Date:</th>             <td>Sun, 14 Jan 2018</td> <th>  Prob (F-statistic):</th> <td>2.00e-17</td>\n",
       "</tr>\n",
       "<tr>\n",
       "  <th>Time:</th>                 <td>01:57:08</td>     <th>  Log-Likelihood:    </th> <td> -575.27</td>\n",
       "</tr>\n",
       "<tr>\n",
       "  <th>No. Observations:</th>      <td>   890</td>      <th>  AIC:               </th> <td>   1165.</td>\n",
       "</tr>\n",
       "<tr>\n",
       "  <th>Df Residuals:</th>          <td>   883</td>      <th>  BIC:               </th> <td>   1198.</td>\n",
       "</tr>\n",
       "<tr>\n",
       "  <th>Df Model:</th>              <td>     6</td>      <th>                     </th>     <td> </td>   \n",
       "</tr>\n",
       "<tr>\n",
       "  <th>Covariance Type:</th>      <td>nonrobust</td>    <th>                     </th>     <td> </td>   \n",
       "</tr>\n",
       "</table>\n",
       "<table class=\"simpletable\">\n",
       "<tr>\n",
       "               <td></td>                 <th>coef</th>     <th>std err</th>      <th>t</th>      <th>P>|t|</th>  <th>[0.025</th>    <th>0.975]</th>  \n",
       "</tr>\n",
       "<tr>\n",
       "  <th>Intercept</th>                  <td>    0.2777</td> <td>    0.020</td> <td>   13.591</td> <td> 0.000</td> <td>    0.238</td> <td>    0.318</td>\n",
       "</tr>\n",
       "<tr>\n",
       "  <th>C(FareGroup)[T.(100, 300]]</th> <td>    0.4423</td> <td>    0.069</td> <td>    6.440</td> <td> 0.000</td> <td>    0.308</td> <td>    0.577</td>\n",
       "</tr>\n",
       "<tr>\n",
       "  <th>C(FareGroup)[T.(20, 40]]</th>   <td>    0.1495</td> <td>    0.039</td> <td>    3.862</td> <td> 0.000</td> <td>    0.074</td> <td>    0.225</td>\n",
       "</tr>\n",
       "<tr>\n",
       "  <th>C(FareGroup)[T.(300, 600]]</th> <td>    0.7223</td> <td>    0.268</td> <td>    2.691</td> <td> 0.007</td> <td>    0.195</td> <td>    1.249</td>\n",
       "</tr>\n",
       "<tr>\n",
       "  <th>C(FareGroup)[T.(40, 60]]</th>   <td>    0.2964</td> <td>    0.066</td> <td>    4.469</td> <td> 0.000</td> <td>    0.166</td> <td>    0.427</td>\n",
       "</tr>\n",
       "<tr>\n",
       "  <th>C(FareGroup)[T.(60, 80]]</th>   <td>    0.2432</td> <td>    0.070</td> <td>    3.475</td> <td> 0.001</td> <td>    0.106</td> <td>    0.380</td>\n",
       "</tr>\n",
       "<tr>\n",
       "  <th>C(FareGroup)[T.(80, 100]]</th>  <td>    0.5795</td> <td>    0.103</td> <td>    5.614</td> <td> 0.000</td> <td>    0.377</td> <td>    0.782</td>\n",
       "</tr>\n",
       "</table>\n",
       "<table class=\"simpletable\">\n",
       "<tr>\n",
       "  <th>Omnibus:</th>       <td>17099.237</td> <th>  Durbin-Watson:     </th> <td>   1.952</td>\n",
       "</tr>\n",
       "<tr>\n",
       "  <th>Prob(Omnibus):</th>  <td> 0.000</td>   <th>  Jarque-Bera (JB):  </th> <td> 106.885</td>\n",
       "</tr>\n",
       "<tr>\n",
       "  <th>Skew:</th>           <td> 0.505</td>   <th>  Prob(JB):          </th> <td>6.17e-24</td>\n",
       "</tr>\n",
       "<tr>\n",
       "  <th>Kurtosis:</th>       <td> 1.636</td>   <th>  Cond. No.          </th> <td>    17.9</td>\n",
       "</tr>\n",
       "</table>"
      ],
      "text/plain": [
       "<class 'statsmodels.iolib.summary.Summary'>\n",
       "\"\"\"\n",
       "                            OLS Regression Results                            \n",
       "==============================================================================\n",
       "Dep. Variable:               Survived   R-squared:                       0.098\n",
       "Model:                            OLS   Adj. R-squared:                  0.091\n",
       "Method:                 Least Squares   F-statistic:                     15.91\n",
       "Date:                Sun, 14 Jan 2018   Prob (F-statistic):           2.00e-17\n",
       "Time:                        01:57:08   Log-Likelihood:                -575.27\n",
       "No. Observations:                 890   AIC:                             1165.\n",
       "Df Residuals:                     883   BIC:                             1198.\n",
       "Df Model:                           6                                         \n",
       "Covariance Type:            nonrobust                                         \n",
       "==============================================================================================\n",
       "                                 coef    std err          t      P>|t|      [0.025      0.975]\n",
       "----------------------------------------------------------------------------------------------\n",
       "Intercept                      0.2777      0.020     13.591      0.000       0.238       0.318\n",
       "C(FareGroup)[T.(100, 300]]     0.4423      0.069      6.440      0.000       0.308       0.577\n",
       "C(FareGroup)[T.(20, 40]]       0.1495      0.039      3.862      0.000       0.074       0.225\n",
       "C(FareGroup)[T.(300, 600]]     0.7223      0.268      2.691      0.007       0.195       1.249\n",
       "C(FareGroup)[T.(40, 60]]       0.2964      0.066      4.469      0.000       0.166       0.427\n",
       "C(FareGroup)[T.(60, 80]]       0.2432      0.070      3.475      0.001       0.106       0.380\n",
       "C(FareGroup)[T.(80, 100]]      0.5795      0.103      5.614      0.000       0.377       0.782\n",
       "==============================================================================\n",
       "Omnibus:                    17099.237   Durbin-Watson:                   1.952\n",
       "Prob(Omnibus):                  0.000   Jarque-Bera (JB):              106.885\n",
       "Skew:                           0.505   Prob(JB):                     6.17e-24\n",
       "Kurtosis:                       1.636   Cond. No.                         17.9\n",
       "==============================================================================\n",
       "\n",
       "Warnings:\n",
       "[1] Standard Errors assume that the covariance matrix of the errors is correctly specified.\n",
       "\"\"\""
      ]
     },
     "execution_count": 74,
     "metadata": {},
     "output_type": "execute_result"
    }
   ],
   "source": [
    "model = ols(\"Survived ~ C(FareGroup)\", titanic_train).fit()\n",
    "model.summary()"
   ]
  },
  {
   "cell_type": "markdown",
   "metadata": {},
   "source": [
    "However all passengers tickets fares groups effects are significant with p < .05. "
   ]
  },
  {
   "cell_type": "markdown",
   "metadata": {},
   "source": [
    "### 3.5.7 Embarked attribute\n",
    "\n",
    "Finally let's look at the `Embarked` atribute passengers groups. As a reminder: `C` stands for Cherbourg port of departure, `Q` stands for Queenstown and `S` stands for Southampton. Majority of Titanic passengers (644) embarked in Southhampton. Also this group of passengers have the lowest survival ratio out of all three ports of embarkation (0.34). Similarly passengers who embarked in Queenstown had survival ratio equal to 0.39. However those who embarked in Cherbourg had survival ratio of 0.55. First of all there were much less passengers embarking in the last two ports: only 77 passengers in Queenstown and 168 passengers in Cherbourg. We could guess, considering large number of passengers, that the third class passengers embarked mostly in Southhampton and Queenstown and that could be the reason for such small, as compared to Cherbourg port, survival ratio for passengers embarking here. Let's check it with data."
   ]
  },
  {
   "cell_type": "code",
   "execution_count": 75,
   "metadata": {
    "collapsed": false
   },
   "outputs": [
    {
     "data": {
      "text/plain": [
       "1    126\n",
       "2    164\n",
       "3    353\n",
       "Name: Pclass, dtype: int64"
      ]
     },
     "execution_count": 75,
     "metadata": {},
     "output_type": "execute_result"
    }
   ],
   "source": [
    "titanic_embarked_group.get_group(\"S\")[\"Pclass\"].value_counts(sort=False)"
   ]
  },
  {
   "cell_type": "code",
   "execution_count": 76,
   "metadata": {
    "collapsed": false
   },
   "outputs": [
    {
     "data": {
      "text/plain": [
       "1     2\n",
       "2     3\n",
       "3    72\n",
       "Name: Pclass, dtype: int64"
      ]
     },
     "execution_count": 76,
     "metadata": {},
     "output_type": "execute_result"
    }
   ],
   "source": [
    "titanic_embarked_group.get_group(\"Q\")[\"Pclass\"].value_counts(sort=False)"
   ]
  },
  {
   "cell_type": "code",
   "execution_count": 77,
   "metadata": {
    "collapsed": false
   },
   "outputs": [
    {
     "data": {
      "text/plain": [
       "1    85\n",
       "2    17\n",
       "3    66\n",
       "Name: Pclass, dtype: int64"
      ]
     },
     "execution_count": 77,
     "metadata": {},
     "output_type": "execute_result"
    }
   ],
   "source": [
    "titanic_embarked_group.get_group(\"C\")[\"Pclass\"].value_counts(sort=False)"
   ]
  },
  {
   "cell_type": "markdown",
   "metadata": {
    "collapsed": true
   },
   "source": [
    "That confirms our hypothesis: both in Southampton and Queenstown third class passengers were the majority of embarking there. In Cherbourg port the situation was the opposite: first class passengers were the majority and that is the reason survival ratio is so high for that passengers subgroup."
   ]
  },
  {
   "cell_type": "code",
   "execution_count": 78,
   "metadata": {
    "collapsed": false
   },
   "outputs": [
    {
     "data": {
      "text/html": [
       "<table class=\"simpletable\">\n",
       "<caption>OLS Regression Results</caption>\n",
       "<tr>\n",
       "  <th>Dep. Variable:</th>        <td>Survived</td>     <th>  R-squared:         </th> <td>   0.030</td>\n",
       "</tr>\n",
       "<tr>\n",
       "  <th>Model:</th>                   <td>OLS</td>       <th>  Adj. R-squared:    </th> <td>   0.028</td>\n",
       "</tr>\n",
       "<tr>\n",
       "  <th>Method:</th>             <td>Least Squares</td>  <th>  F-statistic:       </th> <td>   13.75</td>\n",
       "</tr>\n",
       "<tr>\n",
       "  <th>Date:</th>             <td>Sun, 14 Jan 2018</td> <th>  Prob (F-statistic):</th> <td>1.32e-06</td>\n",
       "</tr>\n",
       "<tr>\n",
       "  <th>Time:</th>                 <td>01:57:08</td>     <th>  Log-Likelihood:    </th> <td> -605.37</td>\n",
       "</tr>\n",
       "<tr>\n",
       "  <th>No. Observations:</th>      <td>   888</td>      <th>  AIC:               </th> <td>   1217.</td>\n",
       "</tr>\n",
       "<tr>\n",
       "  <th>Df Residuals:</th>          <td>   885</td>      <th>  BIC:               </th> <td>   1231.</td>\n",
       "</tr>\n",
       "<tr>\n",
       "  <th>Df Model:</th>              <td>     2</td>      <th>                     </th>     <td> </td>   \n",
       "</tr>\n",
       "<tr>\n",
       "  <th>Covariance Type:</th>      <td>nonrobust</td>    <th>                     </th>     <td> </td>   \n",
       "</tr>\n",
       "</table>\n",
       "<table class=\"simpletable\">\n",
       "<tr>\n",
       "        <td></td>           <th>coef</th>     <th>std err</th>      <th>t</th>      <th>P>|t|</th>  <th>[0.025</th>    <th>0.975]</th>  \n",
       "</tr>\n",
       "<tr>\n",
       "  <th>Intercept</th>     <td>    0.5536</td> <td>    0.037</td> <td>   14.971</td> <td> 0.000</td> <td>    0.481</td> <td>    0.626</td>\n",
       "</tr>\n",
       "<tr>\n",
       "  <th>Embarked[T.Q]</th> <td>   -0.1640</td> <td>    0.066</td> <td>   -2.486</td> <td> 0.013</td> <td>   -0.293</td> <td>   -0.035</td>\n",
       "</tr>\n",
       "<tr>\n",
       "  <th>Embarked[T.S]</th> <td>   -0.2176</td> <td>    0.042</td> <td>   -5.241</td> <td> 0.000</td> <td>   -0.299</td> <td>   -0.136</td>\n",
       "</tr>\n",
       "</table>\n",
       "<table class=\"simpletable\">\n",
       "<tr>\n",
       "  <th>Omnibus:</th>       <td>31.328</td> <th>  Durbin-Watson:     </th> <td>   1.971</td>\n",
       "</tr>\n",
       "<tr>\n",
       "  <th>Prob(Omnibus):</th> <td> 0.000</td> <th>  Jarque-Bera (JB):  </th> <td> 133.204</td>\n",
       "</tr>\n",
       "<tr>\n",
       "  <th>Skew:</th>          <td> 0.480</td> <th>  Prob(JB):          </th> <td>1.19e-29</td>\n",
       "</tr>\n",
       "<tr>\n",
       "  <th>Kurtosis:</th>      <td> 1.363</td> <th>  Cond. No.          </th> <td>    5.94</td>\n",
       "</tr>\n",
       "</table>"
      ],
      "text/plain": [
       "<class 'statsmodels.iolib.summary.Summary'>\n",
       "\"\"\"\n",
       "                            OLS Regression Results                            \n",
       "==============================================================================\n",
       "Dep. Variable:               Survived   R-squared:                       0.030\n",
       "Model:                            OLS   Adj. R-squared:                  0.028\n",
       "Method:                 Least Squares   F-statistic:                     13.75\n",
       "Date:                Sun, 14 Jan 2018   Prob (F-statistic):           1.32e-06\n",
       "Time:                        01:57:08   Log-Likelihood:                -605.37\n",
       "No. Observations:                 888   AIC:                             1217.\n",
       "Df Residuals:                     885   BIC:                             1231.\n",
       "Df Model:                           2                                         \n",
       "Covariance Type:            nonrobust                                         \n",
       "=================================================================================\n",
       "                    coef    std err          t      P>|t|      [0.025      0.975]\n",
       "---------------------------------------------------------------------------------\n",
       "Intercept         0.5536      0.037     14.971      0.000       0.481       0.626\n",
       "Embarked[T.Q]    -0.1640      0.066     -2.486      0.013      -0.293      -0.035\n",
       "Embarked[T.S]    -0.2176      0.042     -5.241      0.000      -0.299      -0.136\n",
       "==============================================================================\n",
       "Omnibus:                       31.328   Durbin-Watson:                   1.971\n",
       "Prob(Omnibus):                  0.000   Jarque-Bera (JB):              133.204\n",
       "Skew:                           0.480   Prob(JB):                     1.19e-29\n",
       "Kurtosis:                       1.363   Cond. No.                         5.94\n",
       "==============================================================================\n",
       "\n",
       "Warnings:\n",
       "[1] Standard Errors assume that the covariance matrix of the errors is correctly specified.\n",
       "\"\"\""
      ]
     },
     "execution_count": 78,
     "metadata": {},
     "output_type": "execute_result"
    }
   ],
   "source": [
    "model = ols(\"Survived ~ Embarked\", titanic_train).fit()\n",
    "model.summary()"
   ]
  },
  {
   "cell_type": "markdown",
   "metadata": {
    "collapsed": true
   },
   "source": [
    "All passengers embarkation ports effects are significant with p < .05. "
   ]
  },
  {
   "cell_type": "markdown",
   "metadata": {},
   "source": [
    "## 4. Modelling data preparation <a class=\"anchor\" id=\"preparation\"></a>\n",
    "\n",
    "We will start by loading fresh data set without any modifications."
   ]
  },
  {
   "cell_type": "code",
   "execution_count": 79,
   "metadata": {
    "collapsed": false
   },
   "outputs": [
    {
     "data": {
      "text/html": [
       "<div>\n",
       "<style scoped>\n",
       "    .dataframe tbody tr th:only-of-type {\n",
       "        vertical-align: middle;\n",
       "    }\n",
       "\n",
       "    .dataframe tbody tr th {\n",
       "        vertical-align: top;\n",
       "    }\n",
       "\n",
       "    .dataframe thead th {\n",
       "        text-align: right;\n",
       "    }\n",
       "</style>\n",
       "<table border=\"1\" class=\"dataframe\">\n",
       "  <thead>\n",
       "    <tr style=\"text-align: right;\">\n",
       "      <th></th>\n",
       "      <th>Survived</th>\n",
       "      <th>Pclass</th>\n",
       "      <th>Name</th>\n",
       "      <th>Sex</th>\n",
       "      <th>Age</th>\n",
       "      <th>SibSp</th>\n",
       "      <th>Parch</th>\n",
       "      <th>Ticket</th>\n",
       "      <th>Fare</th>\n",
       "      <th>Cabin</th>\n",
       "      <th>Embarked</th>\n",
       "    </tr>\n",
       "    <tr>\n",
       "      <th>PassengerId</th>\n",
       "      <th></th>\n",
       "      <th></th>\n",
       "      <th></th>\n",
       "      <th></th>\n",
       "      <th></th>\n",
       "      <th></th>\n",
       "      <th></th>\n",
       "      <th></th>\n",
       "      <th></th>\n",
       "      <th></th>\n",
       "      <th></th>\n",
       "    </tr>\n",
       "  </thead>\n",
       "  <tbody>\n",
       "    <tr>\n",
       "      <th>1</th>\n",
       "      <td>0</td>\n",
       "      <td>3</td>\n",
       "      <td>Braund, Mr. Owen Harris</td>\n",
       "      <td>male</td>\n",
       "      <td>22.0</td>\n",
       "      <td>1</td>\n",
       "      <td>0</td>\n",
       "      <td>A/5 21171</td>\n",
       "      <td>7.2500</td>\n",
       "      <td>NaN</td>\n",
       "      <td>S</td>\n",
       "    </tr>\n",
       "    <tr>\n",
       "      <th>2</th>\n",
       "      <td>1</td>\n",
       "      <td>1</td>\n",
       "      <td>Cumings, Mrs. John Bradley (Florence Briggs Th...</td>\n",
       "      <td>female</td>\n",
       "      <td>38.0</td>\n",
       "      <td>1</td>\n",
       "      <td>0</td>\n",
       "      <td>PC 17599</td>\n",
       "      <td>71.2833</td>\n",
       "      <td>C85</td>\n",
       "      <td>C</td>\n",
       "    </tr>\n",
       "    <tr>\n",
       "      <th>3</th>\n",
       "      <td>1</td>\n",
       "      <td>3</td>\n",
       "      <td>Heikkinen, Miss. Laina</td>\n",
       "      <td>female</td>\n",
       "      <td>26.0</td>\n",
       "      <td>0</td>\n",
       "      <td>0</td>\n",
       "      <td>STON/O2. 3101282</td>\n",
       "      <td>7.9250</td>\n",
       "      <td>NaN</td>\n",
       "      <td>S</td>\n",
       "    </tr>\n",
       "    <tr>\n",
       "      <th>4</th>\n",
       "      <td>1</td>\n",
       "      <td>1</td>\n",
       "      <td>Futrelle, Mrs. Jacques Heath (Lily May Peel)</td>\n",
       "      <td>female</td>\n",
       "      <td>35.0</td>\n",
       "      <td>1</td>\n",
       "      <td>0</td>\n",
       "      <td>113803</td>\n",
       "      <td>53.1000</td>\n",
       "      <td>C123</td>\n",
       "      <td>S</td>\n",
       "    </tr>\n",
       "    <tr>\n",
       "      <th>5</th>\n",
       "      <td>0</td>\n",
       "      <td>3</td>\n",
       "      <td>Allen, Mr. William Henry</td>\n",
       "      <td>male</td>\n",
       "      <td>35.0</td>\n",
       "      <td>0</td>\n",
       "      <td>0</td>\n",
       "      <td>373450</td>\n",
       "      <td>8.0500</td>\n",
       "      <td>NaN</td>\n",
       "      <td>S</td>\n",
       "    </tr>\n",
       "  </tbody>\n",
       "</table>\n",
       "</div>"
      ],
      "text/plain": [
       "             Survived  Pclass  \\\n",
       "PassengerId                     \n",
       "1                   0       3   \n",
       "2                   1       1   \n",
       "3                   1       3   \n",
       "4                   1       1   \n",
       "5                   0       3   \n",
       "\n",
       "                                                          Name     Sex   Age  \\\n",
       "PassengerId                                                                    \n",
       "1                                      Braund, Mr. Owen Harris    male  22.0   \n",
       "2            Cumings, Mrs. John Bradley (Florence Briggs Th...  female  38.0   \n",
       "3                                       Heikkinen, Miss. Laina  female  26.0   \n",
       "4                 Futrelle, Mrs. Jacques Heath (Lily May Peel)  female  35.0   \n",
       "5                                     Allen, Mr. William Henry    male  35.0   \n",
       "\n",
       "             SibSp  Parch            Ticket     Fare Cabin Embarked  \n",
       "PassengerId                                                          \n",
       "1                1      0         A/5 21171   7.2500   NaN        S  \n",
       "2                1      0          PC 17599  71.2833   C85        C  \n",
       "3                0      0  STON/O2. 3101282   7.9250   NaN        S  \n",
       "4                1      0            113803  53.1000  C123        S  \n",
       "5                0      0            373450   8.0500   NaN        S  "
      ]
     },
     "execution_count": 79,
     "metadata": {},
     "output_type": "execute_result"
    }
   ],
   "source": [
    "titanic_train = pd.read_csv(\"datasets/train.csv\")\n",
    "titanic_train = titanic_train.set_index(\"PassengerId\")\n",
    "titanic_train.head()"
   ]
  },
  {
   "cell_type": "markdown",
   "metadata": {},
   "source": [
    "Let's now separate the predictors and the labels since we don’t necessarily want to apply the same transformations to them."
   ]
  },
  {
   "cell_type": "code",
   "execution_count": 80,
   "metadata": {
    "collapsed": false
   },
   "outputs": [],
   "source": [
    "titanic_train_predict = titanic_train.drop(\"Survived\", axis=1)\n",
    "titanic_train_labels = titanic_train[\"Survived\"]"
   ]
  },
  {
   "cell_type": "code",
   "execution_count": 81,
   "metadata": {
    "collapsed": false
   },
   "outputs": [
    {
     "data": {
      "text/html": [
       "<div>\n",
       "<style scoped>\n",
       "    .dataframe tbody tr th:only-of-type {\n",
       "        vertical-align: middle;\n",
       "    }\n",
       "\n",
       "    .dataframe tbody tr th {\n",
       "        vertical-align: top;\n",
       "    }\n",
       "\n",
       "    .dataframe thead th {\n",
       "        text-align: right;\n",
       "    }\n",
       "</style>\n",
       "<table border=\"1\" class=\"dataframe\">\n",
       "  <thead>\n",
       "    <tr style=\"text-align: right;\">\n",
       "      <th></th>\n",
       "      <th>Pclass</th>\n",
       "      <th>Name</th>\n",
       "      <th>Sex</th>\n",
       "      <th>Age</th>\n",
       "      <th>SibSp</th>\n",
       "      <th>Parch</th>\n",
       "      <th>Ticket</th>\n",
       "      <th>Fare</th>\n",
       "      <th>Cabin</th>\n",
       "      <th>Embarked</th>\n",
       "    </tr>\n",
       "    <tr>\n",
       "      <th>PassengerId</th>\n",
       "      <th></th>\n",
       "      <th></th>\n",
       "      <th></th>\n",
       "      <th></th>\n",
       "      <th></th>\n",
       "      <th></th>\n",
       "      <th></th>\n",
       "      <th></th>\n",
       "      <th></th>\n",
       "      <th></th>\n",
       "    </tr>\n",
       "  </thead>\n",
       "  <tbody>\n",
       "    <tr>\n",
       "      <th>1</th>\n",
       "      <td>3</td>\n",
       "      <td>Braund, Mr. Owen Harris</td>\n",
       "      <td>male</td>\n",
       "      <td>22.0</td>\n",
       "      <td>1</td>\n",
       "      <td>0</td>\n",
       "      <td>A/5 21171</td>\n",
       "      <td>7.2500</td>\n",
       "      <td>NaN</td>\n",
       "      <td>S</td>\n",
       "    </tr>\n",
       "    <tr>\n",
       "      <th>2</th>\n",
       "      <td>1</td>\n",
       "      <td>Cumings, Mrs. John Bradley (Florence Briggs Th...</td>\n",
       "      <td>female</td>\n",
       "      <td>38.0</td>\n",
       "      <td>1</td>\n",
       "      <td>0</td>\n",
       "      <td>PC 17599</td>\n",
       "      <td>71.2833</td>\n",
       "      <td>C85</td>\n",
       "      <td>C</td>\n",
       "    </tr>\n",
       "    <tr>\n",
       "      <th>3</th>\n",
       "      <td>3</td>\n",
       "      <td>Heikkinen, Miss. Laina</td>\n",
       "      <td>female</td>\n",
       "      <td>26.0</td>\n",
       "      <td>0</td>\n",
       "      <td>0</td>\n",
       "      <td>STON/O2. 3101282</td>\n",
       "      <td>7.9250</td>\n",
       "      <td>NaN</td>\n",
       "      <td>S</td>\n",
       "    </tr>\n",
       "    <tr>\n",
       "      <th>4</th>\n",
       "      <td>1</td>\n",
       "      <td>Futrelle, Mrs. Jacques Heath (Lily May Peel)</td>\n",
       "      <td>female</td>\n",
       "      <td>35.0</td>\n",
       "      <td>1</td>\n",
       "      <td>0</td>\n",
       "      <td>113803</td>\n",
       "      <td>53.1000</td>\n",
       "      <td>C123</td>\n",
       "      <td>S</td>\n",
       "    </tr>\n",
       "    <tr>\n",
       "      <th>5</th>\n",
       "      <td>3</td>\n",
       "      <td>Allen, Mr. William Henry</td>\n",
       "      <td>male</td>\n",
       "      <td>35.0</td>\n",
       "      <td>0</td>\n",
       "      <td>0</td>\n",
       "      <td>373450</td>\n",
       "      <td>8.0500</td>\n",
       "      <td>NaN</td>\n",
       "      <td>S</td>\n",
       "    </tr>\n",
       "  </tbody>\n",
       "</table>\n",
       "</div>"
      ],
      "text/plain": [
       "             Pclass                                               Name  \\\n",
       "PassengerId                                                              \n",
       "1                 3                            Braund, Mr. Owen Harris   \n",
       "2                 1  Cumings, Mrs. John Bradley (Florence Briggs Th...   \n",
       "3                 3                             Heikkinen, Miss. Laina   \n",
       "4                 1       Futrelle, Mrs. Jacques Heath (Lily May Peel)   \n",
       "5                 3                           Allen, Mr. William Henry   \n",
       "\n",
       "                Sex   Age  SibSp  Parch            Ticket     Fare Cabin  \\\n",
       "PassengerId                                                                \n",
       "1              male  22.0      1      0         A/5 21171   7.2500   NaN   \n",
       "2            female  38.0      1      0          PC 17599  71.2833   C85   \n",
       "3            female  26.0      0      0  STON/O2. 3101282   7.9250   NaN   \n",
       "4            female  35.0      1      0            113803  53.1000  C123   \n",
       "5              male  35.0      0      0            373450   8.0500   NaN   \n",
       "\n",
       "            Embarked  \n",
       "PassengerId           \n",
       "1                  S  \n",
       "2                  C  \n",
       "3                  S  \n",
       "4                  S  \n",
       "5                  S  "
      ]
     },
     "execution_count": 81,
     "metadata": {},
     "output_type": "execute_result"
    }
   ],
   "source": [
    "titanic_train_predict.head()"
   ]
  },
  {
   "cell_type": "code",
   "execution_count": 82,
   "metadata": {
    "collapsed": false
   },
   "outputs": [
    {
     "data": {
      "text/plain": [
       "PassengerId\n",
       "1    0\n",
       "2    1\n",
       "3    1\n",
       "4    1\n",
       "5    0\n",
       "Name: Survived, dtype: int64"
      ]
     },
     "execution_count": 82,
     "metadata": {},
     "output_type": "execute_result"
    }
   ],
   "source": [
    "titanic_train_labels.head()"
   ]
  },
  {
   "cell_type": "markdown",
   "metadata": {},
   "source": [
    "In the data exploration phase we decided that we will not use `Name`, `Ticket` and `Cabin` attributes since they convey no patterns for our model to use. Let's drop these attributes from our train data set then."
   ]
  },
  {
   "cell_type": "code",
   "execution_count": 83,
   "metadata": {
    "collapsed": false
   },
   "outputs": [],
   "source": [
    "titanic_train_predict = titanic_train_predict.drop([\"Name\", \"Ticket\", \"Cabin\"], axis=1)"
   ]
  },
  {
   "cell_type": "code",
   "execution_count": 84,
   "metadata": {
    "collapsed": false
   },
   "outputs": [
    {
     "data": {
      "text/html": [
       "<div>\n",
       "<style scoped>\n",
       "    .dataframe tbody tr th:only-of-type {\n",
       "        vertical-align: middle;\n",
       "    }\n",
       "\n",
       "    .dataframe tbody tr th {\n",
       "        vertical-align: top;\n",
       "    }\n",
       "\n",
       "    .dataframe thead th {\n",
       "        text-align: right;\n",
       "    }\n",
       "</style>\n",
       "<table border=\"1\" class=\"dataframe\">\n",
       "  <thead>\n",
       "    <tr style=\"text-align: right;\">\n",
       "      <th></th>\n",
       "      <th>Pclass</th>\n",
       "      <th>Sex</th>\n",
       "      <th>Age</th>\n",
       "      <th>SibSp</th>\n",
       "      <th>Parch</th>\n",
       "      <th>Fare</th>\n",
       "      <th>Embarked</th>\n",
       "    </tr>\n",
       "    <tr>\n",
       "      <th>PassengerId</th>\n",
       "      <th></th>\n",
       "      <th></th>\n",
       "      <th></th>\n",
       "      <th></th>\n",
       "      <th></th>\n",
       "      <th></th>\n",
       "      <th></th>\n",
       "    </tr>\n",
       "  </thead>\n",
       "  <tbody>\n",
       "    <tr>\n",
       "      <th>1</th>\n",
       "      <td>3</td>\n",
       "      <td>male</td>\n",
       "      <td>22.0</td>\n",
       "      <td>1</td>\n",
       "      <td>0</td>\n",
       "      <td>7.2500</td>\n",
       "      <td>S</td>\n",
       "    </tr>\n",
       "    <tr>\n",
       "      <th>2</th>\n",
       "      <td>1</td>\n",
       "      <td>female</td>\n",
       "      <td>38.0</td>\n",
       "      <td>1</td>\n",
       "      <td>0</td>\n",
       "      <td>71.2833</td>\n",
       "      <td>C</td>\n",
       "    </tr>\n",
       "    <tr>\n",
       "      <th>3</th>\n",
       "      <td>3</td>\n",
       "      <td>female</td>\n",
       "      <td>26.0</td>\n",
       "      <td>0</td>\n",
       "      <td>0</td>\n",
       "      <td>7.9250</td>\n",
       "      <td>S</td>\n",
       "    </tr>\n",
       "    <tr>\n",
       "      <th>4</th>\n",
       "      <td>1</td>\n",
       "      <td>female</td>\n",
       "      <td>35.0</td>\n",
       "      <td>1</td>\n",
       "      <td>0</td>\n",
       "      <td>53.1000</td>\n",
       "      <td>S</td>\n",
       "    </tr>\n",
       "    <tr>\n",
       "      <th>5</th>\n",
       "      <td>3</td>\n",
       "      <td>male</td>\n",
       "      <td>35.0</td>\n",
       "      <td>0</td>\n",
       "      <td>0</td>\n",
       "      <td>8.0500</td>\n",
       "      <td>S</td>\n",
       "    </tr>\n",
       "  </tbody>\n",
       "</table>\n",
       "</div>"
      ],
      "text/plain": [
       "             Pclass     Sex   Age  SibSp  Parch     Fare Embarked\n",
       "PassengerId                                                      \n",
       "1                 3    male  22.0      1      0   7.2500        S\n",
       "2                 1  female  38.0      1      0  71.2833        C\n",
       "3                 3  female  26.0      0      0   7.9250        S\n",
       "4                 1  female  35.0      1      0  53.1000        S\n",
       "5                 3    male  35.0      0      0   8.0500        S"
      ]
     },
     "execution_count": 84,
     "metadata": {},
     "output_type": "execute_result"
    }
   ],
   "source": [
    "titanic_train_predict.head()"
   ]
  },
  {
   "cell_type": "markdown",
   "metadata": {},
   "source": [
    "We are left with seven predictor attributes in the dataset. There are four problems we need to deal with: missing values, quite large numerical values scale differences, numerical categorical attributes and textual categorical attributes which are not to convenient for machine learning algorithms. "
   ]
  },
  {
   "cell_type": "markdown",
   "metadata": {},
   "source": [
    "Let's start by taking care of missing values in the data. "
   ]
  },
  {
   "cell_type": "code",
   "execution_count": 85,
   "metadata": {
    "collapsed": false
   },
   "outputs": [
    {
     "name": "stdout",
     "output_type": "stream",
     "text": [
      "<class 'pandas.core.frame.DataFrame'>\n",
      "Int64Index: 891 entries, 1 to 891\n",
      "Data columns (total 7 columns):\n",
      "Pclass      891 non-null int64\n",
      "Sex         891 non-null object\n",
      "Age         714 non-null float64\n",
      "SibSp       891 non-null int64\n",
      "Parch       891 non-null int64\n",
      "Fare        891 non-null float64\n",
      "Embarked    889 non-null object\n",
      "dtypes: float64(2), int64(3), object(2)\n",
      "memory usage: 55.7+ KB\n"
     ]
    }
   ],
   "source": [
    "titanic_train_predict.info()"
   ]
  },
  {
   "cell_type": "markdown",
   "metadata": {},
   "source": [
    "We can see that `Age` and `Embarked` attributes have some missing values. And when the latter misses values only in two training examples, the former has 177 missing values. There are three strategies we can take: get rid of whole attribute, get rid of missing data examples or fill the missing data with media or mean value for example. \n",
    "\n",
    "When it comes to `Embarked` we can fill these two cases with distribution mode value - that is Southampton. When it comes to `Age` - we cannot drop 177 training example. We also cannot drop whole `Age` attribute since it seems crucial survival indicator. What we are left with is to fill the missing values. And since `Age` distribution is skewed (positively) we will fill it with median value since it is a better central tendency measure for such distributions. "
   ]
  },
  {
   "cell_type": "markdown",
   "metadata": {},
   "source": [
    "As for quite large numerical values scale differences, we will take care of this by applying feature scaling to our numerical attributes values."
   ]
  },
  {
   "cell_type": "code",
   "execution_count": 86,
   "metadata": {
    "collapsed": false
   },
   "outputs": [
    {
     "data": {
      "text/html": [
       "<div>\n",
       "<style scoped>\n",
       "    .dataframe tbody tr th:only-of-type {\n",
       "        vertical-align: middle;\n",
       "    }\n",
       "\n",
       "    .dataframe tbody tr th {\n",
       "        vertical-align: top;\n",
       "    }\n",
       "\n",
       "    .dataframe thead th {\n",
       "        text-align: right;\n",
       "    }\n",
       "</style>\n",
       "<table border=\"1\" class=\"dataframe\">\n",
       "  <thead>\n",
       "    <tr style=\"text-align: right;\">\n",
       "      <th></th>\n",
       "      <th>Pclass</th>\n",
       "      <th>Age</th>\n",
       "      <th>SibSp</th>\n",
       "      <th>Parch</th>\n",
       "      <th>Fare</th>\n",
       "    </tr>\n",
       "  </thead>\n",
       "  <tbody>\n",
       "    <tr>\n",
       "      <th>count</th>\n",
       "      <td>891.000000</td>\n",
       "      <td>714.000000</td>\n",
       "      <td>891.000000</td>\n",
       "      <td>891.000000</td>\n",
       "      <td>891.000000</td>\n",
       "    </tr>\n",
       "    <tr>\n",
       "      <th>mean</th>\n",
       "      <td>2.308642</td>\n",
       "      <td>29.699118</td>\n",
       "      <td>0.523008</td>\n",
       "      <td>0.381594</td>\n",
       "      <td>32.204208</td>\n",
       "    </tr>\n",
       "    <tr>\n",
       "      <th>std</th>\n",
       "      <td>0.836071</td>\n",
       "      <td>14.526497</td>\n",
       "      <td>1.102743</td>\n",
       "      <td>0.806057</td>\n",
       "      <td>49.693429</td>\n",
       "    </tr>\n",
       "    <tr>\n",
       "      <th>min</th>\n",
       "      <td>1.000000</td>\n",
       "      <td>0.420000</td>\n",
       "      <td>0.000000</td>\n",
       "      <td>0.000000</td>\n",
       "      <td>0.000000</td>\n",
       "    </tr>\n",
       "    <tr>\n",
       "      <th>25%</th>\n",
       "      <td>2.000000</td>\n",
       "      <td>20.125000</td>\n",
       "      <td>0.000000</td>\n",
       "      <td>0.000000</td>\n",
       "      <td>7.910400</td>\n",
       "    </tr>\n",
       "    <tr>\n",
       "      <th>50%</th>\n",
       "      <td>3.000000</td>\n",
       "      <td>28.000000</td>\n",
       "      <td>0.000000</td>\n",
       "      <td>0.000000</td>\n",
       "      <td>14.454200</td>\n",
       "    </tr>\n",
       "    <tr>\n",
       "      <th>75%</th>\n",
       "      <td>3.000000</td>\n",
       "      <td>38.000000</td>\n",
       "      <td>1.000000</td>\n",
       "      <td>0.000000</td>\n",
       "      <td>31.000000</td>\n",
       "    </tr>\n",
       "    <tr>\n",
       "      <th>max</th>\n",
       "      <td>3.000000</td>\n",
       "      <td>80.000000</td>\n",
       "      <td>8.000000</td>\n",
       "      <td>6.000000</td>\n",
       "      <td>512.329200</td>\n",
       "    </tr>\n",
       "  </tbody>\n",
       "</table>\n",
       "</div>"
      ],
      "text/plain": [
       "           Pclass         Age       SibSp       Parch        Fare\n",
       "count  891.000000  714.000000  891.000000  891.000000  891.000000\n",
       "mean     2.308642   29.699118    0.523008    0.381594   32.204208\n",
       "std      0.836071   14.526497    1.102743    0.806057   49.693429\n",
       "min      1.000000    0.420000    0.000000    0.000000    0.000000\n",
       "25%      2.000000   20.125000    0.000000    0.000000    7.910400\n",
       "50%      3.000000   28.000000    0.000000    0.000000   14.454200\n",
       "75%      3.000000   38.000000    1.000000    0.000000   31.000000\n",
       "max      3.000000   80.000000    8.000000    6.000000  512.329200"
      ]
     },
     "execution_count": 86,
     "metadata": {},
     "output_type": "execute_result"
    }
   ],
   "source": [
    "titanic_train_predict.describe()"
   ]
  },
  {
   "cell_type": "markdown",
   "metadata": {},
   "source": [
    "As for categorical numerical values, `Pclass`, `SibSp` and `Parch`, integer attribute representation cannot be used directly with scikit-learn estimators, as these expect continuous input, and would interpret the categories as being ordered, which is not desired. To convert categorical features to features that can be used with scikit-learn estimators we will use a one-hot encoding, which is implemented in OneHotEncoder. This estimator transforms each categorical feature with m possible values into m binary features, with only one active.\n",
    "\n",
    "And as for categorical textual attributes: `Sex` and `Embarked`. These textual categorical values first need to be coded as integers and then they will also encoded using OneHotEncoder.\n",
    "\n",
    "Let's now separate numerical continous, numerical categorical and textual attributes for further processing."
   ]
  },
  {
   "cell_type": "code",
   "execution_count": 87,
   "metadata": {
    "collapsed": false
   },
   "outputs": [],
   "source": [
    "titanic_train_predict_num = titanic_train_predict[[\"Age\", \"Fare\"]]\n",
    "titanic_train_predict_cat = titanic_train_predict[[\"Pclass\", \"SibSp\", \"Parch\"]]\n",
    "titanic_train_predict_txt = titanic_train_predict[[\"Sex\", \"Embarked\"]]"
   ]
  },
  {
   "cell_type": "code",
   "execution_count": 88,
   "metadata": {
    "collapsed": false
   },
   "outputs": [
    {
     "data": {
      "text/html": [
       "<div>\n",
       "<style scoped>\n",
       "    .dataframe tbody tr th:only-of-type {\n",
       "        vertical-align: middle;\n",
       "    }\n",
       "\n",
       "    .dataframe tbody tr th {\n",
       "        vertical-align: top;\n",
       "    }\n",
       "\n",
       "    .dataframe thead th {\n",
       "        text-align: right;\n",
       "    }\n",
       "</style>\n",
       "<table border=\"1\" class=\"dataframe\">\n",
       "  <thead>\n",
       "    <tr style=\"text-align: right;\">\n",
       "      <th></th>\n",
       "      <th>Age</th>\n",
       "      <th>Fare</th>\n",
       "    </tr>\n",
       "    <tr>\n",
       "      <th>PassengerId</th>\n",
       "      <th></th>\n",
       "      <th></th>\n",
       "    </tr>\n",
       "  </thead>\n",
       "  <tbody>\n",
       "    <tr>\n",
       "      <th>1</th>\n",
       "      <td>22.0</td>\n",
       "      <td>7.2500</td>\n",
       "    </tr>\n",
       "    <tr>\n",
       "      <th>2</th>\n",
       "      <td>38.0</td>\n",
       "      <td>71.2833</td>\n",
       "    </tr>\n",
       "    <tr>\n",
       "      <th>3</th>\n",
       "      <td>26.0</td>\n",
       "      <td>7.9250</td>\n",
       "    </tr>\n",
       "    <tr>\n",
       "      <th>4</th>\n",
       "      <td>35.0</td>\n",
       "      <td>53.1000</td>\n",
       "    </tr>\n",
       "    <tr>\n",
       "      <th>5</th>\n",
       "      <td>35.0</td>\n",
       "      <td>8.0500</td>\n",
       "    </tr>\n",
       "  </tbody>\n",
       "</table>\n",
       "</div>"
      ],
      "text/plain": [
       "              Age     Fare\n",
       "PassengerId               \n",
       "1            22.0   7.2500\n",
       "2            38.0  71.2833\n",
       "3            26.0   7.9250\n",
       "4            35.0  53.1000\n",
       "5            35.0   8.0500"
      ]
     },
     "execution_count": 88,
     "metadata": {},
     "output_type": "execute_result"
    }
   ],
   "source": [
    "titanic_train_predict_num.head()"
   ]
  },
  {
   "cell_type": "code",
   "execution_count": 89,
   "metadata": {
    "collapsed": false
   },
   "outputs": [
    {
     "data": {
      "text/html": [
       "<div>\n",
       "<style scoped>\n",
       "    .dataframe tbody tr th:only-of-type {\n",
       "        vertical-align: middle;\n",
       "    }\n",
       "\n",
       "    .dataframe tbody tr th {\n",
       "        vertical-align: top;\n",
       "    }\n",
       "\n",
       "    .dataframe thead th {\n",
       "        text-align: right;\n",
       "    }\n",
       "</style>\n",
       "<table border=\"1\" class=\"dataframe\">\n",
       "  <thead>\n",
       "    <tr style=\"text-align: right;\">\n",
       "      <th></th>\n",
       "      <th>Pclass</th>\n",
       "      <th>SibSp</th>\n",
       "      <th>Parch</th>\n",
       "    </tr>\n",
       "    <tr>\n",
       "      <th>PassengerId</th>\n",
       "      <th></th>\n",
       "      <th></th>\n",
       "      <th></th>\n",
       "    </tr>\n",
       "  </thead>\n",
       "  <tbody>\n",
       "    <tr>\n",
       "      <th>1</th>\n",
       "      <td>3</td>\n",
       "      <td>1</td>\n",
       "      <td>0</td>\n",
       "    </tr>\n",
       "    <tr>\n",
       "      <th>2</th>\n",
       "      <td>1</td>\n",
       "      <td>1</td>\n",
       "      <td>0</td>\n",
       "    </tr>\n",
       "    <tr>\n",
       "      <th>3</th>\n",
       "      <td>3</td>\n",
       "      <td>0</td>\n",
       "      <td>0</td>\n",
       "    </tr>\n",
       "    <tr>\n",
       "      <th>4</th>\n",
       "      <td>1</td>\n",
       "      <td>1</td>\n",
       "      <td>0</td>\n",
       "    </tr>\n",
       "    <tr>\n",
       "      <th>5</th>\n",
       "      <td>3</td>\n",
       "      <td>0</td>\n",
       "      <td>0</td>\n",
       "    </tr>\n",
       "  </tbody>\n",
       "</table>\n",
       "</div>"
      ],
      "text/plain": [
       "             Pclass  SibSp  Parch\n",
       "PassengerId                      \n",
       "1                 3      1      0\n",
       "2                 1      1      0\n",
       "3                 3      0      0\n",
       "4                 1      1      0\n",
       "5                 3      0      0"
      ]
     },
     "execution_count": 89,
     "metadata": {},
     "output_type": "execute_result"
    }
   ],
   "source": [
    "titanic_train_predict_cat.head()"
   ]
  },
  {
   "cell_type": "code",
   "execution_count": 90,
   "metadata": {
    "collapsed": false
   },
   "outputs": [
    {
     "data": {
      "text/html": [
       "<div>\n",
       "<style scoped>\n",
       "    .dataframe tbody tr th:only-of-type {\n",
       "        vertical-align: middle;\n",
       "    }\n",
       "\n",
       "    .dataframe tbody tr th {\n",
       "        vertical-align: top;\n",
       "    }\n",
       "\n",
       "    .dataframe thead th {\n",
       "        text-align: right;\n",
       "    }\n",
       "</style>\n",
       "<table border=\"1\" class=\"dataframe\">\n",
       "  <thead>\n",
       "    <tr style=\"text-align: right;\">\n",
       "      <th></th>\n",
       "      <th>Sex</th>\n",
       "      <th>Embarked</th>\n",
       "    </tr>\n",
       "    <tr>\n",
       "      <th>PassengerId</th>\n",
       "      <th></th>\n",
       "      <th></th>\n",
       "    </tr>\n",
       "  </thead>\n",
       "  <tbody>\n",
       "    <tr>\n",
       "      <th>1</th>\n",
       "      <td>male</td>\n",
       "      <td>S</td>\n",
       "    </tr>\n",
       "    <tr>\n",
       "      <th>2</th>\n",
       "      <td>female</td>\n",
       "      <td>C</td>\n",
       "    </tr>\n",
       "    <tr>\n",
       "      <th>3</th>\n",
       "      <td>female</td>\n",
       "      <td>S</td>\n",
       "    </tr>\n",
       "    <tr>\n",
       "      <th>4</th>\n",
       "      <td>female</td>\n",
       "      <td>S</td>\n",
       "    </tr>\n",
       "    <tr>\n",
       "      <th>5</th>\n",
       "      <td>male</td>\n",
       "      <td>S</td>\n",
       "    </tr>\n",
       "  </tbody>\n",
       "</table>\n",
       "</div>"
      ],
      "text/plain": [
       "                Sex Embarked\n",
       "PassengerId                 \n",
       "1              male        S\n",
       "2            female        C\n",
       "3            female        S\n",
       "4            female        S\n",
       "5              male        S"
      ]
     },
     "execution_count": 90,
     "metadata": {},
     "output_type": "execute_result"
    }
   ],
   "source": [
    "titanic_train_predict_txt.head()"
   ]
  },
  {
   "cell_type": "markdown",
   "metadata": {},
   "source": [
    "To perform all numerical attributes transformations - missing data imputation and features scaling - we will use Pipeline."
   ]
  },
  {
   "cell_type": "code",
   "execution_count": 91,
   "metadata": {
    "collapsed": false
   },
   "outputs": [
    {
     "data": {
      "text/plain": [
       "array([[-0.56573646, -0.50244517],\n",
       "       [ 0.66386103,  0.78684529],\n",
       "       [-0.25833709, -0.48885426],\n",
       "       ..., \n",
       "       [-0.1046374 , -0.17626324],\n",
       "       [-0.25833709, -0.04438104],\n",
       "       [ 0.20276197, -0.49237783]])"
      ]
     },
     "execution_count": 91,
     "metadata": {},
     "output_type": "execute_result"
    }
   ],
   "source": [
    "num_pipeline = Pipeline([\n",
    "    (\"imputer\", Imputer(strategy=\"median\")),\n",
    "    (\"std_scaler\", StandardScaler()),\n",
    "])\n",
    "\n",
    "titanic_train_predict_num_tr = num_pipeline.fit_transform(titanic_train_predict_num)\n",
    "titanic_train_predict_num_tr"
   ]
  },
  {
   "cell_type": "code",
   "execution_count": 92,
   "metadata": {
    "collapsed": false
   },
   "outputs": [
    {
     "data": {
      "text/plain": [
       "(891, 2)"
      ]
     },
     "execution_count": 92,
     "metadata": {},
     "output_type": "execute_result"
    }
   ],
   "source": [
    "titanic_train_predict_num_tr.shape"
   ]
  },
  {
   "cell_type": "markdown",
   "metadata": {
    "collapsed": false
   },
   "source": [
    "Missing values were filled with median value and attributes were scaled properly."
   ]
  },
  {
   "cell_type": "markdown",
   "metadata": {},
   "source": [
    "As mentioned to transform categorical numerical attributes we will use OneHotEncoder."
   ]
  },
  {
   "cell_type": "code",
   "execution_count": 93,
   "metadata": {
    "collapsed": false
   },
   "outputs": [],
   "source": [
    "encoder = OneHotEncoder(n_values=[4, 9, 10])\n",
    "titanic_train_predict_cat_1hot = encoder.fit_transform(titanic_train_predict_cat).toarray()"
   ]
  },
  {
   "cell_type": "markdown",
   "metadata": {
    "collapsed": true
   },
   "source": [
    "We have four (couting with 0 values as a empty base class) possible categories in `Pclass`, nine possible categories in `SibSp` and ten possible categories in `Parch` attribute. That makes 23 values for each encoded training examples. Let's check it."
   ]
  },
  {
   "cell_type": "code",
   "execution_count": 94,
   "metadata": {
    "collapsed": false
   },
   "outputs": [
    {
     "data": {
      "text/plain": [
       "(891, 23)"
      ]
     },
     "execution_count": 94,
     "metadata": {},
     "output_type": "execute_result"
    }
   ],
   "source": [
    "titanic_train_predict_cat_1hot.shape"
   ]
  },
  {
   "cell_type": "markdown",
   "metadata": {},
   "source": [
    "And that is correct.\n",
    "\n",
    "As the last part we will take care of textual categorical values. As mentioned we will first encode values with intergers. We can use Pandas' `factorize()` method to convert this string categorical features to an integer categorical features. Then we will again use OneHotEncoder.\n",
    "\n",
    "However first we need to fill the missing values."
   ]
  },
  {
   "cell_type": "code",
   "execution_count": 95,
   "metadata": {
    "collapsed": false
   },
   "outputs": [],
   "source": [
    "titanic_train_predict_txt[\"Embarked\"] = titanic_train_predict_txt[\"Embarked\"].fillna(\"S\")"
   ]
  },
  {
   "cell_type": "code",
   "execution_count": 96,
   "metadata": {
    "collapsed": false
   },
   "outputs": [],
   "source": [
    "titanic_train_predict_txt_cat = titanic_train_predict_txt.apply(lambda x: pd.factorize(x)[0])"
   ]
  },
  {
   "cell_type": "code",
   "execution_count": 97,
   "metadata": {
    "collapsed": false
   },
   "outputs": [
    {
     "data": {
      "text/plain": [
       "array([[ 1.,  0.,  1.,  0.,  0.],\n",
       "       [ 0.,  1.,  0.,  1.,  0.],\n",
       "       [ 0.,  1.,  1.,  0.,  0.],\n",
       "       ..., \n",
       "       [ 0.,  1.,  1.,  0.,  0.],\n",
       "       [ 1.,  0.,  0.,  1.,  0.],\n",
       "       [ 1.,  0.,  0.,  0.,  1.]])"
      ]
     },
     "execution_count": 97,
     "metadata": {},
     "output_type": "execute_result"
    }
   ],
   "source": [
    "encoder = OneHotEncoder(n_values=[2, 3])\n",
    "titanic_train_predict_txt_1hot = encoder.fit_transform(titanic_train_predict_txt_cat).toarray()\n",
    "titanic_train_predict_txt_1hot"
   ]
  },
  {
   "cell_type": "markdown",
   "metadata": {},
   "source": [
    "Again we should have two categories from `Sex` attribute and three from `Embarked` making five in total for encoded values."
   ]
  },
  {
   "cell_type": "code",
   "execution_count": 98,
   "metadata": {
    "collapsed": false
   },
   "outputs": [
    {
     "data": {
      "text/plain": [
       "(891, 5)"
      ]
     },
     "execution_count": 98,
     "metadata": {},
     "output_type": "execute_result"
    }
   ],
   "source": [
    "titanic_train_predict_txt_1hot.shape"
   ]
  },
  {
   "cell_type": "markdown",
   "metadata": {},
   "source": [
    "The data looks correct.\n",
    "\n",
    "We now have three arrays of data ready to be processed by machine learning algos. Let's concatenate them into one array."
   ]
  },
  {
   "cell_type": "code",
   "execution_count": 99,
   "metadata": {
    "collapsed": false
   },
   "outputs": [],
   "source": [
    "titanic_train_predict = np.concatenate([titanic_train_predict_num_tr, titanic_train_predict_cat_1hot, titanic_train_predict_txt_1hot], axis=1)"
   ]
  },
  {
   "cell_type": "code",
   "execution_count": 100,
   "metadata": {
    "collapsed": false
   },
   "outputs": [
    {
     "data": {
      "text/plain": [
       "(891, 30)"
      ]
     },
     "execution_count": 100,
     "metadata": {},
     "output_type": "execute_result"
    }
   ],
   "source": [
    "titanic_train_predict.shape"
   ]
  },
  {
   "cell_type": "markdown",
   "metadata": {},
   "source": [
    "We have 30 features for our 891 training examples with all missing values filled in."
   ]
  },
  {
   "cell_type": "markdown",
   "metadata": {},
   "source": [
    "Let's now streamline this whole process to a function for future smooth predictors data preprocessing (e.g. preprocessing test dataset)."
   ]
  },
  {
   "cell_type": "code",
   "execution_count": 9,
   "metadata": {
    "collapsed": true
   },
   "outputs": [],
   "source": [
    "def preprocess_predict_dataset(titanic_predict):\n",
    "     \n",
    "    # Remove unnecessary attributes. \n",
    "    titanic_predict = titanic_predict.drop([\"Name\", \"Ticket\", \"Cabin\"], axis=1)\n",
    "\n",
    "    # Split data depending on the attribute type and processing needed.\n",
    "    titanic_predict_num = titanic_predict[[\"Age\", \"Fare\"]]\n",
    "    titanic_predict_cat = titanic_predict[[\"Pclass\", \"SibSp\", \"Parch\"]]\n",
    "    titanic_predict_txt = titanic_predict[[\"Sex\", \"Embarked\"]]\n",
    "\n",
    "    # Process numerical attributes.\n",
    "    num_pipeline = Pipeline([\n",
    "        (\"imputer\", Imputer(strategy=\"median\")),\n",
    "        (\"std_scaler\", StandardScaler()),\n",
    "    ])\n",
    "    titanic_predict_num_tr = num_pipeline.fit_transform(titanic_predict_num)\n",
    "\n",
    "    # Process numerical categorical attributes.\n",
    "    encoder = OneHotEncoder(n_values=[4, 9, 10])\n",
    "    titanic_predict_cat_1hot = encoder.fit_transform(titanic_predict_cat).toarray()\n",
    "\n",
    "    # Process textual categorical attributes.\n",
    "    titanic_predict_txt[\"Embarked\"] = titanic_predict_txt[\"Embarked\"].fillna(\"S\")\n",
    "    titanic_predict_txt_cat = titanic_predict_txt.apply(lambda x: pd.factorize(x)[0])\n",
    "    \n",
    "    encoder = OneHotEncoder(n_values=[2, 3])\n",
    "    titanic_predict_txt_1hot = encoder.fit_transform(titanic_predict_txt_cat).toarray()\n",
    "\n",
    "    # Prepare the final dataset.\n",
    "    titanic_predict = np.concatenate([titanic_predict_num_tr, \n",
    "                                      titanic_predict_cat_1hot, \n",
    "                                      titanic_predict_txt_1hot], axis=1)\n",
    "    \n",
    "    return titanic_predict"
   ]
  },
  {
   "cell_type": "markdown",
   "metadata": {
    "collapsed": false
   },
   "source": [
    "Let's test the whole data preprocessing flow."
   ]
  },
  {
   "cell_type": "code",
   "execution_count": 10,
   "metadata": {
    "collapsed": false
   },
   "outputs": [],
   "source": [
    "titanic_train = pd.read_csv(\"datasets/train.csv\")\n",
    "titanic_train = titanic_train.set_index(\"PassengerId\")\n",
    "\n",
    "titanic_train_predict = titanic_train.drop(\"Survived\", axis=1)\n",
    "titanic_train_labels = titanic_train[\"Survived\"]\n",
    "\n",
    "titanic_train_predict = preprocess_predict_dataset(titanic_train_predict)"
   ]
  },
  {
   "cell_type": "code",
   "execution_count": 11,
   "metadata": {
    "collapsed": false
   },
   "outputs": [
    {
     "data": {
      "text/plain": [
       "((891, 30), (891,))"
      ]
     },
     "execution_count": 11,
     "metadata": {},
     "output_type": "execute_result"
    }
   ],
   "source": [
    "titanic_train_predict.shape, titanic_train_labels.shape"
   ]
  },
  {
   "cell_type": "markdown",
   "metadata": {},
   "source": [
    "Datasets look good. We can move on to machine learning models prototyping."
   ]
  },
  {
   "cell_type": "markdown",
   "metadata": {},
   "source": [
    "## 5. Models prototyping <a class=\"anchor\" id=\"prototyping\"></a>\n",
    "\n",
    "Our data is prepared so we are ready to train multiple quick models to check how they behave. As we stated in the begining of this analysis we deal with supervised learning binary clasification problem so we will try multiple classification algorithms. Our measure is classification accuracy. We will evaluate our models using cross-validation on training dataset. This way the training set remains full and the assessment will be much more accurate as compared to using training data to train and measure the results in which case we risk traning data overfitting.\n",
    "\n",
    "Let's start with logistic regression."
   ]
  },
  {
   "cell_type": "code",
   "execution_count": 104,
   "metadata": {
    "collapsed": false
   },
   "outputs": [
    {
     "data": {
      "text/plain": [
       "LogisticRegression(C=1.0, class_weight=None, dual=False, fit_intercept=True,\n",
       "          intercept_scaling=1, max_iter=100, multi_class='ovr', n_jobs=1,\n",
       "          penalty='l2', random_state=None, solver='liblinear', tol=0.0001,\n",
       "          verbose=0, warm_start=False)"
      ]
     },
     "execution_count": 104,
     "metadata": {},
     "output_type": "execute_result"
    }
   ],
   "source": [
    "log_clf = LogisticRegression()\n",
    "log_clf.fit(titanic_train_predict, titanic_train_labels)"
   ]
  },
  {
   "cell_type": "code",
   "execution_count": 105,
   "metadata": {
    "collapsed": false
   },
   "outputs": [
    {
     "data": {
      "text/plain": [
       "array([ 0.7979798,  0.8047138,  0.8047138])"
      ]
     },
     "execution_count": 105,
     "metadata": {},
     "output_type": "execute_result"
    }
   ],
   "source": [
    "cross_val_score(log_clf, titanic_train_predict, titanic_train_labels, \n",
    "                cv=3, scoring=\"accuracy\")"
   ]
  },
  {
   "cell_type": "markdown",
   "metadata": {},
   "source": [
    "That looks like a promising result.\n",
    "\n",
    "Let's try now Stochastic Gradient Descent classifier."
   ]
  },
  {
   "cell_type": "code",
   "execution_count": 106,
   "metadata": {
    "collapsed": false
   },
   "outputs": [
    {
     "data": {
      "text/plain": [
       "array([ 0.7003367 ,  0.77777778,  0.74747475])"
      ]
     },
     "execution_count": 106,
     "metadata": {},
     "output_type": "execute_result"
    }
   ],
   "source": [
    "sgd_clf = SGDClassifier()\n",
    "sgd_clf.fit(titanic_train_predict, titanic_train_labels)\n",
    "cross_val_score(sgd_clf, titanic_train_predict, titanic_train_labels, \n",
    "                cv=3, scoring=\"accuracy\")"
   ]
  },
  {
   "cell_type": "markdown",
   "metadata": {
    "collapsed": true
   },
   "source": [
    "A bit worse than Logistic Regression.\n",
    "\n",
    "Another algorithm we will prototype is k-nearest neighbors algorithm."
   ]
  },
  {
   "cell_type": "code",
   "execution_count": 130,
   "metadata": {
    "collapsed": false
   },
   "outputs": [
    {
     "data": {
      "text/plain": [
       "array([ 0.76767677,  0.78114478,  0.7979798 ])"
      ]
     },
     "execution_count": 130,
     "metadata": {},
     "output_type": "execute_result"
    }
   ],
   "source": [
    "knn_clf = KNeighborsClassifier(n_neighbors = 3)\n",
    "knn_clf.fit(titanic_train_predict, titanic_train_labels)\n",
    "cross_val_score(knn_clf, titanic_train_predict, titanic_train_labels, \n",
    "                cv=3, scoring=\"accuracy\")"
   ]
  },
  {
   "cell_type": "markdown",
   "metadata": {},
   "source": [
    "Better results than Stochastic Gradient Descent but still not a top result.\n",
    "\n",
    "Next we will try Gausian Naive Bayes algorithm."
   ]
  },
  {
   "cell_type": "code",
   "execution_count": 108,
   "metadata": {
    "collapsed": false
   },
   "outputs": [
    {
     "data": {
      "text/plain": [
       "array([ 0.42087542,  0.4040404 ,  0.3973064 ])"
      ]
     },
     "execution_count": 108,
     "metadata": {},
     "output_type": "execute_result"
    }
   ],
   "source": [
    "bayes_clf = GaussianNB()\n",
    "bayes_clf.fit(titanic_train_predict, titanic_train_labels)\n",
    "cross_val_score(bayes_clf, titanic_train_predict, titanic_train_labels, \n",
    "                cv=3, scoring=\"accuracy\")"
   ]
  },
  {
   "cell_type": "markdown",
   "metadata": {
    "collapsed": true
   },
   "source": [
    "Definetely the worst result so far."
   ]
  },
  {
   "cell_type": "markdown",
   "metadata": {},
   "source": [
    "Let's see how Linear Suppor Vector Machine will perform."
   ]
  },
  {
   "cell_type": "code",
   "execution_count": 7,
   "metadata": {
    "collapsed": false
   },
   "outputs": [
    {
     "data": {
      "text/plain": [
       "array([ 0.78787879,  0.81481481,  0.78114478])"
      ]
     },
     "execution_count": 7,
     "metadata": {},
     "output_type": "execute_result"
    }
   ],
   "source": [
    "lin_svc_clf = LinearSVC(loss=\"hinge\")\n",
    "lin_svc_clf.fit(titanic_train_predict, titanic_train_labels)\n",
    "cross_val_score(lin_svc_clf, titanic_train_predict, titanic_train_labels,\n",
    "                cv=3, scoring=\"accuracy\")"
   ]
  },
  {
   "cell_type": "markdown",
   "metadata": {},
   "source": [
    "That is really promising result but not the best.\n",
    "\n",
    "Let's now check other linear SVC classifier offered by scikit. The difference between them is the underlying C implementation: LinearSVC uses liblinear library and the solver for SVC is libsvm."
   ]
  },
  {
   "cell_type": "code",
   "execution_count": 131,
   "metadata": {
    "collapsed": false
   },
   "outputs": [
    {
     "data": {
      "text/plain": [
       "array([ 0.79124579,  0.81481481,  0.78451178])"
      ]
     },
     "execution_count": 131,
     "metadata": {},
     "output_type": "execute_result"
    }
   ],
   "source": [
    "svc_clf = SVC(kernel=\"linear\")\n",
    "svc_clf.fit(titanic_train_predict, titanic_train_labels)\n",
    "cross_val_score(svc_clf, titanic_train_predict, titanic_train_labels,\n",
    "                cv=3, scoring=\"accuracy\")"
   ]
  },
  {
   "cell_type": "markdown",
   "metadata": {},
   "source": [
    "That is surprising how better results we get - this is one of the top results so far.\n",
    "\n",
    "And now non-linear SVC kernel using Gaussian Radial Basis Function."
   ]
  },
  {
   "cell_type": "code",
   "execution_count": 111,
   "metadata": {
    "collapsed": false
   },
   "outputs": [
    {
     "data": {
      "text/plain": [
       "array([ 0.78451178,  0.7979798 ,  0.77777778])"
      ]
     },
     "execution_count": 111,
     "metadata": {},
     "output_type": "execute_result"
    }
   ],
   "source": [
    "rbf_svc_clf = SVC(kernel=\"rbf\")\n",
    "rbf_svc_clf.fit(titanic_train_predict, titanic_train_labels)\n",
    "cross_val_score(rbf_svc_clf, titanic_train_predict, titanic_train_labels,\n",
    "                cv=3, scoring=\"accuracy\")"
   ]
  },
  {
   "cell_type": "markdown",
   "metadata": {},
   "source": [
    "This SVC kernel give medium results - not the worst but also not the best.\n",
    "\n",
    "Let's now test Decision Tree algorithm."
   ]
  },
  {
   "cell_type": "code",
   "execution_count": 112,
   "metadata": {
    "collapsed": false
   },
   "outputs": [
    {
     "data": {
      "text/plain": [
       "array([ 0.73737374,  0.76430976,  0.76767677])"
      ]
     },
     "execution_count": 112,
     "metadata": {},
     "output_type": "execute_result"
    }
   ],
   "source": [
    "tree_clf = DecisionTreeClassifier()\n",
    "tree_clf.fit(titanic_train_predict, titanic_train_labels)\n",
    "cross_val_score(tree_clf, titanic_train_predict, titanic_train_labels,\n",
    "                cv=3, scoring=\"accuracy\")"
   ]
  },
  {
   "cell_type": "markdown",
   "metadata": {},
   "source": [
    "That's good result - looks promising.\n",
    "\n",
    "And now enseble method Random Forrests algorithm."
   ]
  },
  {
   "cell_type": "code",
   "execution_count": 132,
   "metadata": {
    "collapsed": false
   },
   "outputs": [
    {
     "data": {
      "text/plain": [
       "array([ 0.76767677,  0.81818182,  0.79124579])"
      ]
     },
     "execution_count": 132,
     "metadata": {},
     "output_type": "execute_result"
    }
   ],
   "source": [
    "forest_clf = RandomForestClassifier()\n",
    "forest_clf.fit(titanic_train_predict, titanic_train_labels)\n",
    "cross_val_score(forest_clf, titanic_train_predict, titanic_train_labels,\n",
    "                cv=3, scoring=\"accuracy\")"
   ]
  },
  {
   "cell_type": "markdown",
   "metadata": {},
   "source": [
    "Again this is a satisfying accuracy score.\n",
    "\n",
    "To sum up we have following algorithms cross-validation best results for the following algorithms:\n",
    "```\n",
    "Logistic Regression \t\t\t    0.7979798,  0.8047138,  0.8047138\n",
    "SVC with linear kernel \t\t\t 0.79124579, 0.81481481, 0.78451178\n",
    "Random Forrest \t\t\t\t     0.76767677, 0.81818182, 0.79124579\n",
    "```\n",
    "We will try to fine-tune these models to improve them even more and then select the best one to be deployed and used with our test dataset."
   ]
  },
  {
   "cell_type": "markdown",
   "metadata": {},
   "source": [
    "## 6. Models hyperparameters fine-tuning <a class=\"anchor\" id=\"tuning\"></a>\n",
    "\n",
    "We will now perform our best prototype models hyperparameter fine-tuning. So far we used them with default parameters only. Tuning each manually, considering number of possible params and values to test, would be to difficult. That is why we will use grid-search to search for models best parameters.\n",
    "\n",
    "We will start with Logistic Regression tuning. We will perform grid search on ridge vs. lasso regularization methods, different regularization strengths and number of iterations."
   ]
  },
  {
   "cell_type": "code",
   "execution_count": 114,
   "metadata": {
    "collapsed": false
   },
   "outputs": [
    {
     "data": {
      "text/plain": [
       "GridSearchCV(cv=5, error_score='raise',\n",
       "       estimator=LogisticRegression(C=1.0, class_weight=None, dual=False, fit_intercept=True,\n",
       "          intercept_scaling=1, max_iter=100, multi_class='ovr', n_jobs=1,\n",
       "          penalty='l2', random_state=None, solver='liblinear', tol=0.0001,\n",
       "          verbose=0, warm_start=False),\n",
       "       fit_params={}, iid=True, n_jobs=1,\n",
       "       param_grid=[{'penalty': ['l1', 'l2'], 'C': [0.001, 0.01, 0.1, 0.3, 1, 3, 10, 30, 100, 300, 1000], 'max_iter': [100, 200, 300]}],\n",
       "       pre_dispatch='2*n_jobs', refit=True, return_train_score=True,\n",
       "       scoring='accuracy', verbose=0)"
      ]
     },
     "execution_count": 114,
     "metadata": {},
     "output_type": "execute_result"
    }
   ],
   "source": [
    "log_param_grid = [{\n",
    "    \"penalty\": [\"l1\", \"l2\"], \n",
    "     'C': [0.001, 0.01, 0.1, 0.3, 1, 3, 10, 30, 100, 300, 1000], \n",
    "     \"max_iter\": [100, 200, 300]\n",
    "}]\n",
    "\n",
    "log_clf = LogisticRegression()\n",
    "log_grid_search = GridSearchCV(log_clf, log_param_grid, cv=5, scoring=\"accuracy\")\n",
    "log_grid_search.fit(titanic_train_predict, titanic_train_labels)"
   ]
  },
  {
   "cell_type": "markdown",
   "metadata": {},
   "source": [
    "Let's have a look at best accuracy score and model parameter we get it for."
   ]
  },
  {
   "cell_type": "code",
   "execution_count": 115,
   "metadata": {
    "collapsed": false
   },
   "outputs": [
    {
     "data": {
      "text/plain": [
       "0.80920314253647585"
      ]
     },
     "execution_count": 115,
     "metadata": {},
     "output_type": "execute_result"
    }
   ],
   "source": [
    "log_grid_search.best_score_"
   ]
  },
  {
   "cell_type": "code",
   "execution_count": 116,
   "metadata": {
    "collapsed": false
   },
   "outputs": [
    {
     "data": {
      "text/plain": [
       "{'C': 3, 'max_iter': 100, 'penalty': 'l2'}"
      ]
     },
     "execution_count": 116,
     "metadata": {},
     "output_type": "execute_result"
    }
   ],
   "source": [
    "log_grid_search.best_params_"
   ]
  },
  {
   "cell_type": "markdown",
   "metadata": {},
   "source": [
    "0.809 is better result than before.\n",
    "\n",
    "Let's move on SVM tuning. This time we will perform grid search on different regularization strengths."
   ]
  },
  {
   "cell_type": "code",
   "execution_count": 117,
   "metadata": {
    "collapsed": false
   },
   "outputs": [
    {
     "data": {
      "text/plain": [
       "GridSearchCV(cv=3, error_score='raise',\n",
       "       estimator=SVC(C=1.0, cache_size=200, class_weight=None, coef0=0.0,\n",
       "  decision_function_shape=None, degree=3, gamma='auto', kernel='linear',\n",
       "  max_iter=-1, probability=False, random_state=None, shrinking=True,\n",
       "  tol=0.001, verbose=False),\n",
       "       fit_params={}, iid=True, n_jobs=1, param_grid=[{'C': [0.3, 1, 3]}],\n",
       "       pre_dispatch='2*n_jobs', refit=True, return_train_score=True,\n",
       "       scoring='accuracy', verbose=0)"
      ]
     },
     "execution_count": 117,
     "metadata": {},
     "output_type": "execute_result"
    }
   ],
   "source": [
    "svm_param_grid = [{\"C\": [0.3, 1, 3]}]\n",
    "\n",
    "svc_clf = SVC(kernel=\"linear\")\n",
    "svc_grid_search = GridSearchCV(svc_clf, svm_param_grid, cv=3, scoring=\"accuracy\")\n",
    "svc_grid_search.fit(titanic_train_predict, titanic_train_labels)"
   ]
  },
  {
   "cell_type": "markdown",
   "metadata": {},
   "source": [
    "Again let's see our accuracy measure result for tuned model and its parameters."
   ]
  },
  {
   "cell_type": "code",
   "execution_count": 118,
   "metadata": {
    "collapsed": false
   },
   "outputs": [
    {
     "data": {
      "text/plain": [
       "0.79685746352413023"
      ]
     },
     "execution_count": 118,
     "metadata": {},
     "output_type": "execute_result"
    }
   ],
   "source": [
    "svc_grid_search.best_score_"
   ]
  },
  {
   "cell_type": "code",
   "execution_count": 119,
   "metadata": {
    "collapsed": false
   },
   "outputs": [
    {
     "data": {
      "text/plain": [
       "{'C': 1}"
      ]
     },
     "execution_count": 119,
     "metadata": {},
     "output_type": "execute_result"
    }
   ],
   "source": [
    "svc_grid_search.best_params_"
   ]
  },
  {
   "cell_type": "markdown",
   "metadata": {},
   "source": [
    "We did not manage to tune SVC linear kernel model to be much better than in prototyping phase.\n",
    "\n",
    "And finally let's fine-tune our Random Forest classfier. We will tune it with different combinations of number of estimators and maximal number of features parameters."
   ]
  },
  {
   "cell_type": "code",
   "execution_count": 120,
   "metadata": {
    "collapsed": false
   },
   "outputs": [
    {
     "data": {
      "text/plain": [
       "GridSearchCV(cv=5, error_score='raise',\n",
       "       estimator=RandomForestClassifier(bootstrap=True, class_weight=None, criterion='gini',\n",
       "            max_depth=None, max_features='auto', max_leaf_nodes=None,\n",
       "            min_impurity_split=1e-07, min_samples_leaf=1,\n",
       "            min_samples_split=2, min_weight_fraction_leaf=0.0,\n",
       "            n_estimators=10, n_jobs=1, oob_score=False, random_state=None,\n",
       "            verbose=0, warm_start=False),\n",
       "       fit_params={}, iid=True, n_jobs=1,\n",
       "       param_grid=[{'n_estimators': [3, 10, 30, 50, 60, 70, 80, 90, 120, 180, 270, 360, 500], 'max_features': [2, 4, 6, 8, 10, 12, 20, 22]}],\n",
       "       pre_dispatch='2*n_jobs', refit=True, return_train_score=True,\n",
       "       scoring='accuracy', verbose=0)"
      ]
     },
     "execution_count": 120,
     "metadata": {},
     "output_type": "execute_result"
    }
   ],
   "source": [
    "forest_param_grid = [\n",
    "    {\"n_estimators\": [3, 10, 30, 50, 60, 70, 80, 90, 120, 180, 270, 360, 500], \n",
    "     \"max_features\": [2, 4, 6, 8, 10, 12, 20, 22]},\n",
    "]\n",
    "\n",
    "forest_clf = RandomForestClassifier()\n",
    "forest_grid_search = GridSearchCV(forest_clf, forest_param_grid, cv=5, scoring=\"accuracy\")\n",
    "forest_grid_search.fit(titanic_train_predict, titanic_train_labels)"
   ]
  },
  {
   "cell_type": "markdown",
   "metadata": {},
   "source": [
    "Let's see result of this algorithm fine-tuning."
   ]
  },
  {
   "cell_type": "code",
   "execution_count": 121,
   "metadata": {
    "collapsed": false
   },
   "outputs": [
    {
     "data": {
      "text/plain": [
       "0.8271604938271605"
      ]
     },
     "execution_count": 121,
     "metadata": {},
     "output_type": "execute_result"
    }
   ],
   "source": [
    "forest_grid_search.best_score_"
   ]
  },
  {
   "cell_type": "code",
   "execution_count": 122,
   "metadata": {
    "collapsed": false
   },
   "outputs": [
    {
     "data": {
      "text/plain": [
       "{'max_features': 22, 'n_estimators': 10}"
      ]
     },
     "execution_count": 122,
     "metadata": {},
     "output_type": "execute_result"
    }
   ],
   "source": [
    "forest_grid_search.best_params_"
   ]
  },
  {
   "cell_type": "markdown",
   "metadata": {},
   "source": [
    "This is clearly our best model classification accuracy result. We will use it as our final model."
   ]
  },
  {
   "cell_type": "markdown",
   "metadata": {},
   "source": [
    "## 7. Model test dataset evaluation and deployment <a class=\"anchor\" id=\"evaluation\"></a>\n",
    "\n",
    "Let's now use test dataset to evaluate our best model. This time when loading data we do not have to separate the predictors and the labels. The dataset contains only predictors. It is prepared for Kaggle submission. We get test dataset evaluation score after submitting it to the competition where our model predictions are compared with test dataset labels (unknown to us)."
   ]
  },
  {
   "cell_type": "code",
   "execution_count": 123,
   "metadata": {
    "collapsed": false
   },
   "outputs": [],
   "source": [
    "titanic_test_predict = pd.read_csv(\"datasets/test.csv\")\n",
    "titanic_test_predict = titanic_test_predict.set_index(\"PassengerId\")\n",
    "\n",
    "titanic_test_predict = preprocess_predict_dataset(titanic_test_predict)"
   ]
  },
  {
   "cell_type": "code",
   "execution_count": 124,
   "metadata": {
    "collapsed": false
   },
   "outputs": [
    {
     "data": {
      "text/plain": [
       "(418, 30)"
      ]
     },
     "execution_count": 124,
     "metadata": {},
     "output_type": "execute_result"
    }
   ],
   "source": [
    "titanic_test_predict.shape"
   ]
  },
  {
   "cell_type": "markdown",
   "metadata": {},
   "source": [
    "The test data is ready. Let's evaluate our final model on the test set: fine-tuned Random forest proved to be the best of several tested modelling methods. Let's copy the tuned model and use it to make predictions based on our preprocessed test dataset."
   ]
  },
  {
   "cell_type": "code",
   "execution_count": 125,
   "metadata": {
    "collapsed": true
   },
   "outputs": [],
   "source": [
    "final_model = forest_grid_search.best_estimator_"
   ]
  },
  {
   "cell_type": "code",
   "execution_count": 126,
   "metadata": {
    "collapsed": true
   },
   "outputs": [],
   "source": [
    "final_prediction = final_model.predict(titanic_test_predict)"
   ]
  },
  {
   "cell_type": "markdown",
   "metadata": {},
   "source": [
    "Our final model prediction is ready. Let's now write it to submission data file prepared along the specifications we set in the beginning of this analysis."
   ]
  },
  {
   "cell_type": "code",
   "execution_count": 127,
   "metadata": {
    "collapsed": false
   },
   "outputs": [],
   "source": [
    "final_prediction_df = pd.DataFrame({'PassengerId': range(892, 892+len(final_prediction)), \n",
    "                                    'Survived': final_prediction})"
   ]
  },
  {
   "cell_type": "code",
   "execution_count": 128,
   "metadata": {
    "collapsed": false
   },
   "outputs": [
    {
     "data": {
      "text/html": [
       "<div>\n",
       "<style scoped>\n",
       "    .dataframe tbody tr th:only-of-type {\n",
       "        vertical-align: middle;\n",
       "    }\n",
       "\n",
       "    .dataframe tbody tr th {\n",
       "        vertical-align: top;\n",
       "    }\n",
       "\n",
       "    .dataframe thead th {\n",
       "        text-align: right;\n",
       "    }\n",
       "</style>\n",
       "<table border=\"1\" class=\"dataframe\">\n",
       "  <thead>\n",
       "    <tr style=\"text-align: right;\">\n",
       "      <th></th>\n",
       "      <th>PassengerId</th>\n",
       "      <th>Survived</th>\n",
       "    </tr>\n",
       "  </thead>\n",
       "  <tbody>\n",
       "    <tr>\n",
       "      <th>0</th>\n",
       "      <td>892</td>\n",
       "      <td>0</td>\n",
       "    </tr>\n",
       "    <tr>\n",
       "      <th>1</th>\n",
       "      <td>893</td>\n",
       "      <td>0</td>\n",
       "    </tr>\n",
       "    <tr>\n",
       "      <th>2</th>\n",
       "      <td>894</td>\n",
       "      <td>0</td>\n",
       "    </tr>\n",
       "    <tr>\n",
       "      <th>3</th>\n",
       "      <td>895</td>\n",
       "      <td>0</td>\n",
       "    </tr>\n",
       "    <tr>\n",
       "      <th>4</th>\n",
       "      <td>896</td>\n",
       "      <td>0</td>\n",
       "    </tr>\n",
       "  </tbody>\n",
       "</table>\n",
       "</div>"
      ],
      "text/plain": [
       "   PassengerId  Survived\n",
       "0          892         0\n",
       "1          893         0\n",
       "2          894         0\n",
       "3          895         0\n",
       "4          896         0"
      ]
     },
     "execution_count": 128,
     "metadata": {},
     "output_type": "execute_result"
    }
   ],
   "source": [
    "final_prediction_df.head()"
   ]
  },
  {
   "cell_type": "code",
   "execution_count": 129,
   "metadata": {
    "collapsed": true
   },
   "outputs": [],
   "source": [
    "final_prediction_df.to_csv(\"datasets/submission.csv\", index=False)"
   ]
  },
  {
   "cell_type": "markdown",
   "metadata": {},
   "source": [
    "After submission we achieved 0.74162 accuracy in test dataset validation. Not bad but we still can improve our models quite a lot. To be continued."
   ]
  },
  {
   "cell_type": "markdown",
   "metadata": {},
   "source": [
    "## 8. Summary <a class=\"anchor\" id=\"summary\"></a>\n",
    "\n",
    "In this analysis we worked with Titanic survival dataset for 891 passengers data out of all 2224 Titanic passengers.\n",
    "\n",
    "We first answered what was Titanic passengers demographic structure analyzed in terms of attributes. We saw that vast majority (55.11%) of passengers travelled in lowest third class, almost 25% of passengers travelled in first class and 20.65% traveled in second class. Majority of all passengers were males: 64.76% and only 35.24% of females. 10.78% of passengers were children in age of 0-14. A little over 28% of passengers were both between 14-24 and 24-34 years old. Almost 17% of all passengers were 34-44 years old. Only 16% of all passengers were above 44 years old. That tells us that Titanic passengers population was quite young.\n",
    "\n",
    "Vast majority of passengers travelled without any siblings or spouse - 68.24% of them. 23.46% of passengers travelled with one child or spouse. Less than 9% of all passengers traveled with more than one sibling or spouse. The situation is very similar in case of passengers travelling with parents or children. Most of them, 76.09%, travelled alone and 13.24% travelled with just one parent or children. 8.89% of passengers travelled with two parents or children. In terms of ticket fare over the half, 57.08%, of passengers paid the lowest fare ranging from 0 to 20. 22.83% passengers paid between 20 and 40 fare. We saw that the rest of the ticket prices, 20.11%, varies very much ranging from 40 to 600. Finally we can see that vast majority of passengers, 72.44%, embarked in Southampton, 18.9% embarked in Cherbourg and only 8.66% of passengers embarked Titanic in Queenstown.\n",
    "\n",
    "In this part of analysis by accident we found error in the Titanic dataset. We found out that the age of the person appearing in the dataset as the oldest (80) is the age of actual death many years after person disaster survival. This means that dataset age information for this passenger, by error, contains age value of the post Titanic death and not the day of disaster age as it does for other survived passengers age attribute. This inconsistency makes the data invalid and confusing when it comes to factual or historical value.\n",
    "\n",
    "We answered what is the overall Titanic passengers survival ratio. We found out that from Titanic 891 passengers only 342 survived and 549 died. The Titanic survival ratio is approximately 0.3838, meaning that only 38.38% of all passengers survived the disaster.\n",
    "\n",
    "Finally we turned to the analysis of survival ratio for different demographic passengers groups. As for passengers classes survival ratio, the survival ratio for the first class passengers was 0.63. Second class had a bit lower survival ratio of 0.47. But comparing that to the third class passengers survival ratio of 0.24 is shocking. All three passengers classes effects are significant with p < .05. Looking at gender based survival differences we also see clear relationship in terms of survival ratio values. Clearly women were more likely to survive than men with 0.74 survival ratio for women and 0.18 for men. Both gender effects are significant with p < .05. As for age groups survival ratio passengers in the age group of 0-14 have much higher survival ratio of 0.58 than the rest of passengers. Other passengers age groups oscillate around the overall survival ratio of 0.38. All ages groups effects besides (54, 64] group are significant with p < .05.\n",
    "\n",
    "As for passengers travelling with different number of siblings or spouse, passengers travelling without any had survival ratio of 0.35. Passengers travelling with one and two sibling or spouse had higher survival chances of 0.54 and 0.46. Only passengers travelling without any and with one sibling/spouse effects are significant with p < .05. Considering groups of passengers depending on the number of parents and children they travelled with, again passengers travelling alone had survival ratio of 0.34. We can see that passengers travelling with one, two or three children or parents had bigger chances of survival, 0.55, 0.50 and 0.60 accordingly, but again let's remember that these groups had much less passengers. Only passengers travelling without any and with one or two children/parents effects are significant with p < .05.\n",
    "\n",
    "When we look at ticket fare attribute survival ratio values we can see clearly almost linear relation between the price of the ticket and the survival ratio. It looks like the more passenger paid for the ticket the bigger were chances of survival. The survival ratio for passengers who bought the tickets for 0-20 was 0.28, for passengers with tickers between 20-40 the survival ratio was 0.43. And for further groups: 40-60 0.57, 60-80 0.520833, 80-100 0.86, 100-300 0.72. For tickets with price between 300-600 the survival ratio was 1.00 meaning that all of these passengers survived. All passengers tickets fares groups effects are significant with p < .05. Finally we looked at the Embarked attribute passengers groups. Passengers who embarked in Southampton had the lowest survival ratio out of all three ports of embarkation (0.34). Similarly passengers who embarked in Queenstown had survival ratio equal to 0.39. However those who embarked in Cherbourg had survival ratio of 0.55. We confirmed it with data that the third class passengers embarked mostly in Southampton and Queenstown and that could be the reason for such small, as compared to Cherbourg port, survival ratio for passengers embarking in Southampton. All passengers embarkation ports effects are significant with p < .05.\n",
    "\n",
    "Finally we modeled our data using various machine learning algorithms. As a result of performed tests and hyperparameters tuning Random Forest model was proven to give best cross-validation accuracy score for survival predictions of 0.82716. After evaluating our final model on test dataset our model reached 0.74162 accuracy score. This is quite good result but also leaves quite a lot of space for improvements."
   ]
  },
  {
   "cell_type": "code",
   "execution_count": null,
   "metadata": {
    "collapsed": true
   },
   "outputs": [],
   "source": []
  }
 ],
 "metadata": {
  "kernelspec": {
   "display_name": "Python 3",
   "language": "python",
   "name": "python3"
  },
  "language_info": {
   "codemirror_mode": {
    "name": "ipython",
    "version": 3
   },
   "file_extension": ".py",
   "mimetype": "text/x-python",
   "name": "python",
   "nbconvert_exporter": "python",
   "pygments_lexer": "ipython3",
   "version": "3.6.3"
  }
 },
 "nbformat": 4,
 "nbformat_minor": 2
}
