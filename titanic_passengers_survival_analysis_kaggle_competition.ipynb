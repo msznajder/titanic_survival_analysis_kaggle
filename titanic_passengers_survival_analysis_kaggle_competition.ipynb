{
 "cells": [
  {
   "cell_type": "markdown",
   "metadata": {},
   "source": [
    "# Titanic passengers survival analysis Kaggle competition\n",
    "\n",
    "In this notebook we will conduct data analysis and predictive modelling of Titanic passengers survival dataset for Kaggle [Titanic dataset](https://www.kaggle.com/c/titanic).\n",
    "\n",
    "Titanic passengers survival dataset is one of the most canonical data analysis and machine learning datasets. Let's see how this data looks like, investigate main trends in it and try to predict survival chances of passengers based on numerous features.\n",
    "\n",
    "The main steps of the analysis process we will conduct are:\n",
    "1. Frame the problem\n",
    "2. Get the data\n",
    "3. Explore the data\n",
    "4. Prepare the data for machine learning algorithms\n",
    "5. Select a model and train it\n",
    "6. Fine-tune the model\n",
    "7. Submit solution"
   ]
  },
  {
   "cell_type": "code",
   "execution_count": 183,
   "metadata": {
    "collapsed": false
   },
   "outputs": [],
   "source": [
    "import numpy as np\n",
    "\n",
    "import matplotlib.patches as mpatches\n",
    "import matplotlib.pyplot as plt\n",
    "from pywaffle import Waffle\n",
    "\n",
    "import warnings\n",
    "warnings.filterwarnings('ignore')"
   ]
  },
  {
   "cell_type": "markdown",
   "metadata": {},
   "source": [
    "## 1. Frame the problem\n",
    "\n",
    "Titanic sinking was one of the biggest shipwreck tragedies in history. It killed 1502 out of 2224 passengers. This tragedy led to better safety regulations for ships. The main reason for such a great death toll was not enough number of lifeboats to fit all passengers. This can lead to the conclusion that some groups of people were more likely to survive than others - woman, children and upper-class passeners for example.\n",
    "\n",
    "### 1.1 The goal\n",
    "\n",
    "The goal of this analysis is two fold. Firstly, we want to analyse the data set, explore it answering related questions using data visualization and statistical methods. Secondly our goal is to predict which passengers were likely to survive Titanic catastrophy and which not. For each `PassengerId` in the provided unlabeled test set, we want to predict a whether given passenger survived or not.\n",
    "\n",
    "### 1.2 Analysis\n",
    "\n",
    "There are some questions we would like to answer with Titanic dataset analysis.\n",
    "\n",
    "* What is Titanic passengers demographic structure analyzed in terms of attributes?\n",
    "\n",
    "* What is the overall Titanic passengers survival ratio?\n",
    "\n",
    "* What is the survival ratio for different demographic passengers groups? Which groups have biggest chances for survival and which smallest?\n",
    "\n",
    "* Is the difference between survived group statistically significant as compared to the rest of population? Were the differences between the most distinct groups statistically significant? \n",
    "\n",
    "### 1.3 Modeling\n",
    "\n",
    "As for second goal, since we are given multiple features data with labeled survival values this is clearly an supervised learning problem. Moreover we try to predict discrete categorical value: 0 or 1 (representing not-survived and survived passenger). This tells us that we deal here with binary categorization problem.\n",
    "\n",
    "As a measure of created machine learning models performance we choose the percentage of passengers we correctly predict, that is accuracy level.\n",
    "\n",
    "As a final product we will prepare and submit a csv file with predicted survival for exactly 418 entries in the test dataset. The file should have exactly 2 columns:\n",
    "* PassengerId (sorted in any order)\n",
    "* Survived (contains your binary predictions: 1 for survived, 0 for deceased)\n",
    "\n",
    "The example submission dataset should look like this:\n",
    "```\n",
    "PassengerId,Survived\n",
    " 892,0\n",
    " 893,1\n",
    " 894,0\n",
    " Etc.\n",
    "```"
   ]
  },
  {
   "cell_type": "markdown",
   "metadata": {},
   "source": [
    "## 2. Get the data\n",
    "\n",
    "Let's get through the process of acquiring the dataset."
   ]
  },
  {
   "cell_type": "markdown",
   "metadata": {},
   "source": [
    "### 2.1 Download and load the data.\n",
    "\n",
    "We first download the dataset from Kaggle website. We will first list all files we downloaded."
   ]
  },
  {
   "cell_type": "code",
   "execution_count": 115,
   "metadata": {
    "collapsed": false
   },
   "outputs": [
    {
     "name": "stdout",
     "output_type": "stream",
     "text": [
      "data_description.txt  submission.csv        train.csv\r\n",
      "gender_submission.csv test.csv\r\n"
     ]
    }
   ],
   "source": [
    "!ls datasets/"
   ]
  },
  {
   "cell_type": "markdown",
   "metadata": {},
   "source": [
    "Now let's start by looking at the data description from Kaggle."
   ]
  },
  {
   "cell_type": "code",
   "execution_count": 116,
   "metadata": {
    "collapsed": false,
    "scrolled": false
   },
   "outputs": [
    {
     "name": "stdout",
     "output_type": "stream",
     "text": [
      "Data Dictionary:\r\n",
      "survival\tSurvival\t\t0 = No, 1 = Yes\r\n",
      "pclass\t\tTicket class\t\t1 = 1st, 2 = 2nd, 3 = 3rd\r\n",
      "sex\t\tSex\t\r\n",
      "Age             Age in years\t\r\n",
      "sibsp\t\t# of siblings / spouses aboard the Titanic\t\r\n",
      "parch\t\t# of parents / children aboard the Titanic\t\r\n",
      "ticket\t\tTicket number\t\r\n",
      "fare\t\tPassenger fare\t\r\n",
      "cabin\t\tCabin number\t\r\n",
      "embarked\tPort of Embarkation\tC = Cherbourg, Q = Queenstown, S = Southampton\r\n",
      "\r\n",
      "\r\n",
      "Variable Notes:\r\n",
      "pclass: A proxy for socio-economic status (SES)\r\n",
      "1st = Upper\r\n",
      "2nd = Middle\r\n",
      "3rd = Lower\r\n",
      "\r\n",
      "age: Age is fractional if less than 1. If the age is estimated, is it in the form of xx.5\r\n",
      "\r\n",
      "sibsp: The dataset defines family relations in this way...\r\n",
      "Sibling = brother, sister, stepbrother, stepsister\r\n",
      "Spouse = husband, wife (mistresses and fiancés were ignored)\r\n",
      "\r\n",
      "parch: The dataset defines family relations in this way...\r\n",
      "Parent = mother, father\r\n",
      "Child = daughter, son, stepdaughter, stepson\r\n",
      "Some children travelled only with a nanny, therefore parch=0 for them."
     ]
    }
   ],
   "source": [
    "!cat datasets/data_description.txt"
   ]
  },
  {
   "cell_type": "markdown",
   "metadata": {},
   "source": [
    "We see all the details we need to understand data notation here.\n",
    "\n",
    "We also know that the data has been already split for us into two groups:\n",
    "* training set (train.csv) - used in data analysis and machine learning model training\n",
    "* test set (test.csv) - used for machine learning model testing\n",
    "\n",
    "That is why we do not have to prepare test dataset in this analysis. \n",
    "\n",
    "We are now ready to load and look at our dataset."
   ]
  },
  {
   "cell_type": "code",
   "execution_count": 117,
   "metadata": {
    "collapsed": true
   },
   "outputs": [],
   "source": [
    "import pandas as pd\n",
    "\n",
    "titanic_train = pd.read_csv(\"datasets/train.csv\")"
   ]
  },
  {
   "cell_type": "markdown",
   "metadata": {},
   "source": [
    "### 2.2 Take a quick look at the data"
   ]
  },
  {
   "cell_type": "markdown",
   "metadata": {},
   "source": [
    "Let's see how our data looks like."
   ]
  },
  {
   "cell_type": "code",
   "execution_count": 118,
   "metadata": {
    "collapsed": false
   },
   "outputs": [
    {
     "data": {
      "text/html": [
       "<div>\n",
       "<table border=\"1\" class=\"dataframe\">\n",
       "  <thead>\n",
       "    <tr style=\"text-align: right;\">\n",
       "      <th></th>\n",
       "      <th>PassengerId</th>\n",
       "      <th>Survived</th>\n",
       "      <th>Pclass</th>\n",
       "      <th>Name</th>\n",
       "      <th>Sex</th>\n",
       "      <th>Age</th>\n",
       "      <th>SibSp</th>\n",
       "      <th>Parch</th>\n",
       "      <th>Ticket</th>\n",
       "      <th>Fare</th>\n",
       "      <th>Cabin</th>\n",
       "      <th>Embarked</th>\n",
       "    </tr>\n",
       "  </thead>\n",
       "  <tbody>\n",
       "    <tr>\n",
       "      <th>0</th>\n",
       "      <td>1</td>\n",
       "      <td>0</td>\n",
       "      <td>3</td>\n",
       "      <td>Braund, Mr. Owen Harris</td>\n",
       "      <td>male</td>\n",
       "      <td>22.0</td>\n",
       "      <td>1</td>\n",
       "      <td>0</td>\n",
       "      <td>A/5 21171</td>\n",
       "      <td>7.2500</td>\n",
       "      <td>NaN</td>\n",
       "      <td>S</td>\n",
       "    </tr>\n",
       "    <tr>\n",
       "      <th>1</th>\n",
       "      <td>2</td>\n",
       "      <td>1</td>\n",
       "      <td>1</td>\n",
       "      <td>Cumings, Mrs. John Bradley (Florence Briggs Th...</td>\n",
       "      <td>female</td>\n",
       "      <td>38.0</td>\n",
       "      <td>1</td>\n",
       "      <td>0</td>\n",
       "      <td>PC 17599</td>\n",
       "      <td>71.2833</td>\n",
       "      <td>C85</td>\n",
       "      <td>C</td>\n",
       "    </tr>\n",
       "    <tr>\n",
       "      <th>2</th>\n",
       "      <td>3</td>\n",
       "      <td>1</td>\n",
       "      <td>3</td>\n",
       "      <td>Heikkinen, Miss. Laina</td>\n",
       "      <td>female</td>\n",
       "      <td>26.0</td>\n",
       "      <td>0</td>\n",
       "      <td>0</td>\n",
       "      <td>STON/O2. 3101282</td>\n",
       "      <td>7.9250</td>\n",
       "      <td>NaN</td>\n",
       "      <td>S</td>\n",
       "    </tr>\n",
       "    <tr>\n",
       "      <th>3</th>\n",
       "      <td>4</td>\n",
       "      <td>1</td>\n",
       "      <td>1</td>\n",
       "      <td>Futrelle, Mrs. Jacques Heath (Lily May Peel)</td>\n",
       "      <td>female</td>\n",
       "      <td>35.0</td>\n",
       "      <td>1</td>\n",
       "      <td>0</td>\n",
       "      <td>113803</td>\n",
       "      <td>53.1000</td>\n",
       "      <td>C123</td>\n",
       "      <td>S</td>\n",
       "    </tr>\n",
       "    <tr>\n",
       "      <th>4</th>\n",
       "      <td>5</td>\n",
       "      <td>0</td>\n",
       "      <td>3</td>\n",
       "      <td>Allen, Mr. William Henry</td>\n",
       "      <td>male</td>\n",
       "      <td>35.0</td>\n",
       "      <td>0</td>\n",
       "      <td>0</td>\n",
       "      <td>373450</td>\n",
       "      <td>8.0500</td>\n",
       "      <td>NaN</td>\n",
       "      <td>S</td>\n",
       "    </tr>\n",
       "  </tbody>\n",
       "</table>\n",
       "</div>"
      ],
      "text/plain": [
       "   PassengerId  Survived  Pclass  \\\n",
       "0            1         0       3   \n",
       "1            2         1       1   \n",
       "2            3         1       3   \n",
       "3            4         1       1   \n",
       "4            5         0       3   \n",
       "\n",
       "                                                Name     Sex   Age  SibSp  \\\n",
       "0                            Braund, Mr. Owen Harris    male  22.0      1   \n",
       "1  Cumings, Mrs. John Bradley (Florence Briggs Th...  female  38.0      1   \n",
       "2                             Heikkinen, Miss. Laina  female  26.0      0   \n",
       "3       Futrelle, Mrs. Jacques Heath (Lily May Peel)  female  35.0      1   \n",
       "4                           Allen, Mr. William Henry    male  35.0      0   \n",
       "\n",
       "   Parch            Ticket     Fare Cabin Embarked  \n",
       "0      0         A/5 21171   7.2500   NaN        S  \n",
       "1      0          PC 17599  71.2833   C85        C  \n",
       "2      0  STON/O2. 3101282   7.9250   NaN        S  \n",
       "3      0            113803  53.1000  C123        S  \n",
       "4      0            373450   8.0500   NaN        S  "
      ]
     },
     "execution_count": 118,
     "metadata": {},
     "output_type": "execute_result"
    }
   ],
   "source": [
    "titanic_train.head()"
   ]
  },
  {
   "cell_type": "markdown",
   "metadata": {},
   "source": [
    "Assuming that `PassengerId` attribute values are unique (and they are) let's first make `PassengerId` our index column."
   ]
  },
  {
   "cell_type": "code",
   "execution_count": 119,
   "metadata": {
    "collapsed": false
   },
   "outputs": [
    {
     "data": {
      "text/html": [
       "<div>\n",
       "<table border=\"1\" class=\"dataframe\">\n",
       "  <thead>\n",
       "    <tr style=\"text-align: right;\">\n",
       "      <th></th>\n",
       "      <th>Survived</th>\n",
       "      <th>Pclass</th>\n",
       "      <th>Name</th>\n",
       "      <th>Sex</th>\n",
       "      <th>Age</th>\n",
       "      <th>SibSp</th>\n",
       "      <th>Parch</th>\n",
       "      <th>Ticket</th>\n",
       "      <th>Fare</th>\n",
       "      <th>Cabin</th>\n",
       "      <th>Embarked</th>\n",
       "    </tr>\n",
       "    <tr>\n",
       "      <th>PassengerId</th>\n",
       "      <th></th>\n",
       "      <th></th>\n",
       "      <th></th>\n",
       "      <th></th>\n",
       "      <th></th>\n",
       "      <th></th>\n",
       "      <th></th>\n",
       "      <th></th>\n",
       "      <th></th>\n",
       "      <th></th>\n",
       "      <th></th>\n",
       "    </tr>\n",
       "  </thead>\n",
       "  <tbody>\n",
       "    <tr>\n",
       "      <th>1</th>\n",
       "      <td>0</td>\n",
       "      <td>3</td>\n",
       "      <td>Braund, Mr. Owen Harris</td>\n",
       "      <td>male</td>\n",
       "      <td>22.0</td>\n",
       "      <td>1</td>\n",
       "      <td>0</td>\n",
       "      <td>A/5 21171</td>\n",
       "      <td>7.2500</td>\n",
       "      <td>NaN</td>\n",
       "      <td>S</td>\n",
       "    </tr>\n",
       "    <tr>\n",
       "      <th>2</th>\n",
       "      <td>1</td>\n",
       "      <td>1</td>\n",
       "      <td>Cumings, Mrs. John Bradley (Florence Briggs Th...</td>\n",
       "      <td>female</td>\n",
       "      <td>38.0</td>\n",
       "      <td>1</td>\n",
       "      <td>0</td>\n",
       "      <td>PC 17599</td>\n",
       "      <td>71.2833</td>\n",
       "      <td>C85</td>\n",
       "      <td>C</td>\n",
       "    </tr>\n",
       "    <tr>\n",
       "      <th>3</th>\n",
       "      <td>1</td>\n",
       "      <td>3</td>\n",
       "      <td>Heikkinen, Miss. Laina</td>\n",
       "      <td>female</td>\n",
       "      <td>26.0</td>\n",
       "      <td>0</td>\n",
       "      <td>0</td>\n",
       "      <td>STON/O2. 3101282</td>\n",
       "      <td>7.9250</td>\n",
       "      <td>NaN</td>\n",
       "      <td>S</td>\n",
       "    </tr>\n",
       "    <tr>\n",
       "      <th>4</th>\n",
       "      <td>1</td>\n",
       "      <td>1</td>\n",
       "      <td>Futrelle, Mrs. Jacques Heath (Lily May Peel)</td>\n",
       "      <td>female</td>\n",
       "      <td>35.0</td>\n",
       "      <td>1</td>\n",
       "      <td>0</td>\n",
       "      <td>113803</td>\n",
       "      <td>53.1000</td>\n",
       "      <td>C123</td>\n",
       "      <td>S</td>\n",
       "    </tr>\n",
       "    <tr>\n",
       "      <th>5</th>\n",
       "      <td>0</td>\n",
       "      <td>3</td>\n",
       "      <td>Allen, Mr. William Henry</td>\n",
       "      <td>male</td>\n",
       "      <td>35.0</td>\n",
       "      <td>0</td>\n",
       "      <td>0</td>\n",
       "      <td>373450</td>\n",
       "      <td>8.0500</td>\n",
       "      <td>NaN</td>\n",
       "      <td>S</td>\n",
       "    </tr>\n",
       "  </tbody>\n",
       "</table>\n",
       "</div>"
      ],
      "text/plain": [
       "             Survived  Pclass  \\\n",
       "PassengerId                     \n",
       "1                   0       3   \n",
       "2                   1       1   \n",
       "3                   1       3   \n",
       "4                   1       1   \n",
       "5                   0       3   \n",
       "\n",
       "                                                          Name     Sex   Age  \\\n",
       "PassengerId                                                                    \n",
       "1                                      Braund, Mr. Owen Harris    male  22.0   \n",
       "2            Cumings, Mrs. John Bradley (Florence Briggs Th...  female  38.0   \n",
       "3                                       Heikkinen, Miss. Laina  female  26.0   \n",
       "4                 Futrelle, Mrs. Jacques Heath (Lily May Peel)  female  35.0   \n",
       "5                                     Allen, Mr. William Henry    male  35.0   \n",
       "\n",
       "             SibSp  Parch            Ticket     Fare Cabin Embarked  \n",
       "PassengerId                                                          \n",
       "1                1      0         A/5 21171   7.2500   NaN        S  \n",
       "2                1      0          PC 17599  71.2833   C85        C  \n",
       "3                0      0  STON/O2. 3101282   7.9250   NaN        S  \n",
       "4                1      0            113803  53.1000  C123        S  \n",
       "5                0      0            373450   8.0500   NaN        S  "
      ]
     },
     "execution_count": 119,
     "metadata": {},
     "output_type": "execute_result"
    }
   ],
   "source": [
    "titanic_train = titanic_train.set_index(\"PassengerId\")\n",
    "titanic_train.head()"
   ]
  },
  {
   "cell_type": "markdown",
   "metadata": {},
   "source": [
    "As we can see the dataset contains not that many attributes: we have 11 of them. Six of them are numeric: `Survived` (informing whether passenger survived or not), `Pclass` (passenger class), `Age`, `SibSp` (number of siblings/spouses aboard), `Parch` (number of parents/children aboard), `Fare`. Out of these six `Survived` and `Pclass` attributes are numerically encoded categorical values meaning that calculating descriptive statistics for them is meaningless.\n",
    "\n",
    "Five attributes are categorical textual values: `Name`, `Sex`, `Ticket`, `Cabin`, `Embarked` (port of embarkation C=Cherbourg, Q=Queenstown, S=Southampton). Our dataset the target attribute is `Survived` marking whether passenger survived or not with 1 or 0 respectively.\n",
    "\n",
    "Let's have a closer look at attributes structure."
   ]
  },
  {
   "cell_type": "code",
   "execution_count": 120,
   "metadata": {
    "collapsed": false
   },
   "outputs": [
    {
     "name": "stdout",
     "output_type": "stream",
     "text": [
      "<class 'pandas.core.frame.DataFrame'>\n",
      "Int64Index: 891 entries, 1 to 891\n",
      "Data columns (total 11 columns):\n",
      "Survived    891 non-null int64\n",
      "Pclass      891 non-null int64\n",
      "Name        891 non-null object\n",
      "Sex         891 non-null object\n",
      "Age         714 non-null float64\n",
      "SibSp       891 non-null int64\n",
      "Parch       891 non-null int64\n",
      "Ticket      891 non-null object\n",
      "Fare        891 non-null float64\n",
      "Cabin       204 non-null object\n",
      "Embarked    889 non-null object\n",
      "dtypes: float64(2), int64(4), object(5)\n",
      "memory usage: 83.5+ KB\n"
     ]
    }
   ],
   "source": [
    "titanic_train.info()"
   ]
  },
  {
   "cell_type": "markdown",
   "metadata": {},
   "source": [
    "All in all the dataset contains 891 passengers data out of all 2224 passengers.\n",
    "\n",
    "We deal here with some missing values. The most missing values are in `Cabin` attribute. That column seems not so much informative and the data if rather scarse which would suggesting droping these feature when preparing training dataset for machine learning. We have also a lot of missing values in `Age` column however this column seems crucial for our analysis. That is why later on we will have to take care of these missing values either by filling them in (e.g. median value) or by dropping examples with missing values. In `Embarked` attribute values we miss only two values so we can easily drop these two cases later on when preparing the dataset for modelling algorithms.\n",
    "\n",
    "We again see that five attributes have categorical/text values - we will also deal with that later when preparing data for modelling.\n"
   ]
  },
  {
   "cell_type": "markdown",
   "metadata": {},
   "source": [
    "Let's now see some details about numerical values we have in the dataset."
   ]
  },
  {
   "cell_type": "code",
   "execution_count": 121,
   "metadata": {
    "collapsed": false
   },
   "outputs": [
    {
     "data": {
      "text/html": [
       "<div>\n",
       "<table border=\"1\" class=\"dataframe\">\n",
       "  <thead>\n",
       "    <tr style=\"text-align: right;\">\n",
       "      <th></th>\n",
       "      <th>Survived</th>\n",
       "      <th>Pclass</th>\n",
       "      <th>Age</th>\n",
       "      <th>SibSp</th>\n",
       "      <th>Parch</th>\n",
       "      <th>Fare</th>\n",
       "    </tr>\n",
       "  </thead>\n",
       "  <tbody>\n",
       "    <tr>\n",
       "      <th>count</th>\n",
       "      <td>891.000000</td>\n",
       "      <td>891.000000</td>\n",
       "      <td>714.000000</td>\n",
       "      <td>891.000000</td>\n",
       "      <td>891.000000</td>\n",
       "      <td>891.000000</td>\n",
       "    </tr>\n",
       "    <tr>\n",
       "      <th>mean</th>\n",
       "      <td>0.383838</td>\n",
       "      <td>2.308642</td>\n",
       "      <td>29.699118</td>\n",
       "      <td>0.523008</td>\n",
       "      <td>0.381594</td>\n",
       "      <td>32.204208</td>\n",
       "    </tr>\n",
       "    <tr>\n",
       "      <th>std</th>\n",
       "      <td>0.486592</td>\n",
       "      <td>0.836071</td>\n",
       "      <td>14.526497</td>\n",
       "      <td>1.102743</td>\n",
       "      <td>0.806057</td>\n",
       "      <td>49.693429</td>\n",
       "    </tr>\n",
       "    <tr>\n",
       "      <th>min</th>\n",
       "      <td>0.000000</td>\n",
       "      <td>1.000000</td>\n",
       "      <td>0.420000</td>\n",
       "      <td>0.000000</td>\n",
       "      <td>0.000000</td>\n",
       "      <td>0.000000</td>\n",
       "    </tr>\n",
       "    <tr>\n",
       "      <th>25%</th>\n",
       "      <td>0.000000</td>\n",
       "      <td>2.000000</td>\n",
       "      <td>20.125000</td>\n",
       "      <td>0.000000</td>\n",
       "      <td>0.000000</td>\n",
       "      <td>7.910400</td>\n",
       "    </tr>\n",
       "    <tr>\n",
       "      <th>50%</th>\n",
       "      <td>0.000000</td>\n",
       "      <td>3.000000</td>\n",
       "      <td>28.000000</td>\n",
       "      <td>0.000000</td>\n",
       "      <td>0.000000</td>\n",
       "      <td>14.454200</td>\n",
       "    </tr>\n",
       "    <tr>\n",
       "      <th>75%</th>\n",
       "      <td>1.000000</td>\n",
       "      <td>3.000000</td>\n",
       "      <td>38.000000</td>\n",
       "      <td>1.000000</td>\n",
       "      <td>0.000000</td>\n",
       "      <td>31.000000</td>\n",
       "    </tr>\n",
       "    <tr>\n",
       "      <th>max</th>\n",
       "      <td>1.000000</td>\n",
       "      <td>3.000000</td>\n",
       "      <td>80.000000</td>\n",
       "      <td>8.000000</td>\n",
       "      <td>6.000000</td>\n",
       "      <td>512.329200</td>\n",
       "    </tr>\n",
       "  </tbody>\n",
       "</table>\n",
       "</div>"
      ],
      "text/plain": [
       "         Survived      Pclass         Age       SibSp       Parch        Fare\n",
       "count  891.000000  891.000000  714.000000  891.000000  891.000000  891.000000\n",
       "mean     0.383838    2.308642   29.699118    0.523008    0.381594   32.204208\n",
       "std      0.486592    0.836071   14.526497    1.102743    0.806057   49.693429\n",
       "min      0.000000    1.000000    0.420000    0.000000    0.000000    0.000000\n",
       "25%      0.000000    2.000000   20.125000    0.000000    0.000000    7.910400\n",
       "50%      0.000000    3.000000   28.000000    0.000000    0.000000   14.454200\n",
       "75%      1.000000    3.000000   38.000000    1.000000    0.000000   31.000000\n",
       "max      1.000000    3.000000   80.000000    8.000000    6.000000  512.329200"
      ]
     },
     "execution_count": 121,
     "metadata": {},
     "output_type": "execute_result"
    }
   ],
   "source": [
    "titanic_train.describe()"
   ]
  },
  {
   "cell_type": "markdown",
   "metadata": {},
   "source": [
    "The only attributes for which calculating statistical values make sense are `Age`, `SibSp`, `Parch` and `Fare`  attributes. We will analyse this demographical passengers structure a bit more later on. All in all the values look correct and it seems it needs no more corrections at this stage of the project. \n",
    "\n",
    "We can also see here that atrributes values ranges are very different between themselves and will have to be standardized later on when preparing data for modeling.\n",
    "\n",
    "We are ready to move to the data exploration phase."
   ]
  },
  {
   "cell_type": "markdown",
   "metadata": {},
   "source": [
    "## 3. Explore the data\n",
    "\n",
    "Let's now dig deeper into data internal structure and values."
   ]
  },
  {
   "cell_type": "markdown",
   "metadata": {},
   "source": [
    "### 3.1 Attributes analysis\n",
    "\n",
    "Let's first look at the general numeric data distributions including the target value `Survived` attribute."
   ]
  },
  {
   "cell_type": "code",
   "execution_count": 122,
   "metadata": {
    "collapsed": false
   },
   "outputs": [
    {
     "data": {
      "text/html": [
       "<div>\n",
       "<table border=\"1\" class=\"dataframe\">\n",
       "  <thead>\n",
       "    <tr style=\"text-align: right;\">\n",
       "      <th></th>\n",
       "      <th>Survived</th>\n",
       "      <th>Pclass</th>\n",
       "      <th>Age</th>\n",
       "      <th>SibSp</th>\n",
       "      <th>Parch</th>\n",
       "      <th>Fare</th>\n",
       "    </tr>\n",
       "  </thead>\n",
       "  <tbody>\n",
       "    <tr>\n",
       "      <th>count</th>\n",
       "      <td>891.000000</td>\n",
       "      <td>891.000000</td>\n",
       "      <td>714.000000</td>\n",
       "      <td>891.000000</td>\n",
       "      <td>891.000000</td>\n",
       "      <td>891.000000</td>\n",
       "    </tr>\n",
       "    <tr>\n",
       "      <th>mean</th>\n",
       "      <td>0.383838</td>\n",
       "      <td>2.308642</td>\n",
       "      <td>29.699118</td>\n",
       "      <td>0.523008</td>\n",
       "      <td>0.381594</td>\n",
       "      <td>32.204208</td>\n",
       "    </tr>\n",
       "    <tr>\n",
       "      <th>std</th>\n",
       "      <td>0.486592</td>\n",
       "      <td>0.836071</td>\n",
       "      <td>14.526497</td>\n",
       "      <td>1.102743</td>\n",
       "      <td>0.806057</td>\n",
       "      <td>49.693429</td>\n",
       "    </tr>\n",
       "    <tr>\n",
       "      <th>min</th>\n",
       "      <td>0.000000</td>\n",
       "      <td>1.000000</td>\n",
       "      <td>0.420000</td>\n",
       "      <td>0.000000</td>\n",
       "      <td>0.000000</td>\n",
       "      <td>0.000000</td>\n",
       "    </tr>\n",
       "    <tr>\n",
       "      <th>25%</th>\n",
       "      <td>0.000000</td>\n",
       "      <td>2.000000</td>\n",
       "      <td>20.125000</td>\n",
       "      <td>0.000000</td>\n",
       "      <td>0.000000</td>\n",
       "      <td>7.910400</td>\n",
       "    </tr>\n",
       "    <tr>\n",
       "      <th>50%</th>\n",
       "      <td>0.000000</td>\n",
       "      <td>3.000000</td>\n",
       "      <td>28.000000</td>\n",
       "      <td>0.000000</td>\n",
       "      <td>0.000000</td>\n",
       "      <td>14.454200</td>\n",
       "    </tr>\n",
       "    <tr>\n",
       "      <th>75%</th>\n",
       "      <td>1.000000</td>\n",
       "      <td>3.000000</td>\n",
       "      <td>38.000000</td>\n",
       "      <td>1.000000</td>\n",
       "      <td>0.000000</td>\n",
       "      <td>31.000000</td>\n",
       "    </tr>\n",
       "    <tr>\n",
       "      <th>max</th>\n",
       "      <td>1.000000</td>\n",
       "      <td>3.000000</td>\n",
       "      <td>80.000000</td>\n",
       "      <td>8.000000</td>\n",
       "      <td>6.000000</td>\n",
       "      <td>512.329200</td>\n",
       "    </tr>\n",
       "  </tbody>\n",
       "</table>\n",
       "</div>"
      ],
      "text/plain": [
       "         Survived      Pclass         Age       SibSp       Parch        Fare\n",
       "count  891.000000  891.000000  714.000000  891.000000  891.000000  891.000000\n",
       "mean     0.383838    2.308642   29.699118    0.523008    0.381594   32.204208\n",
       "std      0.486592    0.836071   14.526497    1.102743    0.806057   49.693429\n",
       "min      0.000000    1.000000    0.420000    0.000000    0.000000    0.000000\n",
       "25%      0.000000    2.000000   20.125000    0.000000    0.000000    7.910400\n",
       "50%      0.000000    3.000000   28.000000    0.000000    0.000000   14.454200\n",
       "75%      1.000000    3.000000   38.000000    1.000000    0.000000   31.000000\n",
       "max      1.000000    3.000000   80.000000    8.000000    6.000000  512.329200"
      ]
     },
     "execution_count": 122,
     "metadata": {},
     "output_type": "execute_result"
    }
   ],
   "source": [
    "titanic_train.describe()"
   ]
  },
  {
   "cell_type": "code",
   "execution_count": 123,
   "metadata": {
    "collapsed": false
   },
   "outputs": [
    {
     "data": {
      "image/png": "[encoded data removed]",
      "text/plain": [
       "<matplotlib.figure.Figure at 0x119deb0f0>"
      ]
     },
     "metadata": {},
     "output_type": "display_data"
    }
   ],
   "source": [
    "%matplotlib inline \n",
    "import matplotlib.pyplot as plt\n",
    "\n",
    "titanic_train.hist(bins=20, figsize=(18, 13), color=\"#f1b7b0\")\n",
    "plt.show()"
   ]
  },
  {
   "cell_type": "markdown",
   "metadata": {},
   "source": [
    "We notice a few things in these histograms: \n",
    "- `Age` distribution is centered around 20-30 years old group ranging to 80 with quite large number of children aged 0-5; the minimal age value is 0.42 and the maximal is 80; the mean value is 29.6991 with quit large standard deviation of 14.5264; the median value is 28.\n",
    "- `Fare` attribute values distribution is strongly positevely skewed with mean 32.2042 and large stadard deviation of 49.6934; because the distribution is skewed median is much smaller than the mean with value of 14.4542; the range of data is large ranging from 0 to 512; at the same time 75% of the data is lower than 31. \n",
    "- `Parch` (the number of parents/children aboard) distribution mode is 0 by far meaning that most of the passengers traveled without any parents/children and also there are some outlier values with 3 and more parents/children aboard.\n",
    "- `Pclass` distribution shows that almost 500 out of all 891 passengers in the dataset were travelling the 3rd (lowest) class and almost 200 passengers were travelling both in 1st and 2nd class.\n",
    "- `SibSp` (number of siblings/spouses aboard) is similar to `Parch` distribution but with larger number of passengers travelling with one sibling/spouse.\n",
    "- `Survived` obviously shows only two values but we can also see that number of survivors is much smaller than the number of passengers who died in the catastrophy."
   ]
  },
  {
   "cell_type": "markdown",
   "metadata": {},
   "source": [
    "Let's also look at catgorical attributes values: `Name`, `Sex`, `Ticket`, `Cabin`, `Embarked`."
   ]
  },
  {
   "cell_type": "code",
   "execution_count": 124,
   "metadata": {
    "collapsed": false
   },
   "outputs": [
    {
     "data": {
      "text/plain": [
       "Lahtinen, Mrs. William (Anna Sylfven)                        1\n",
       "Chapman, Mr. Charles Henry                                   1\n",
       "Eklund, Mr. Hans Linus                                       1\n",
       "Harris, Mr. Henry Birkhardt                                  1\n",
       "Kassem, Mr. Fared                                            1\n",
       "Laroche, Mrs. Joseph (Juliette Marie Louise Lafargue)        1\n",
       "Todoroff, Mr. Lalio                                          1\n",
       "Carlsson, Mr. August Sigfrid                                 1\n",
       "Harper, Rev. John                                            1\n",
       "Leitch, Miss. Jessie Wills                                   1\n",
       "Hamalainen, Master. Viljo                                    1\n",
       "Hendekovic, Mr. Ignjac                                       1\n",
       "Spencer, Mrs. William Augustus (Marie Eugenie)               1\n",
       "Lemore, Mrs. (Amelia Milley)                                 1\n",
       "Hocking, Mr. Richard George                                  1\n",
       "Wiklund, Mr. Jakob Alfred                                    1\n",
       "Uruchurtu, Don. Manuel E                                     1\n",
       "Braund, Mr. Owen Harris                                      1\n",
       "Fortune, Miss. Mabel Helen                                   1\n",
       "Bailey, Mr. Percy Andrew                                     1\n",
       "Pears, Mr. Thomas Clinton                                    1\n",
       "Petterson, Mr. Johan Emil                                    1\n",
       "Troutt, Miss. Edwina Celia \"Winnie\"                          1\n",
       "Newell, Miss. Madeleine                                      1\n",
       "Reynaldo, Ms. Encarnacion                                    1\n",
       "Goodwin, Miss. Lillian Amy                                   1\n",
       "Navratil, Master. Edmond Roger                               1\n",
       "Denkoff, Mr. Mitto                                           1\n",
       "Lundahl, Mr. Johan Svensson                                  1\n",
       "Compton, Miss. Sara Rebecca                                  1\n",
       "                                                            ..\n",
       "Thorneycroft, Mrs. Percival (Florence Kate White)            1\n",
       "Petranec, Miss. Matilda                                      1\n",
       "Harris, Mr. Walter                                           1\n",
       "Lefebre, Miss. Ida                                           1\n",
       "Andersson, Mrs. Anders Johan (Alfrida Konstantia Brogren)    1\n",
       "Jacobsohn, Mrs. Sidney Samuel (Amy Frances Christy)          1\n",
       "Goodwin, Mrs. Frederick (Augusta Tyler)                      1\n",
       "Coutts, Master. William Loch \"William\"                       1\n",
       "Gill, Mr. John William                                       1\n",
       "Ward, Miss. Anna                                             1\n",
       "O'Dwyer, Miss. Ellen \"Nellie\"                                1\n",
       "Rood, Mr. Hugh Roscoe                                        1\n",
       "Hassan, Mr. Houssein G N                                     1\n",
       "Francatelli, Miss. Laura Mabel                               1\n",
       "Persson, Mr. Ernst Ulrik                                     1\n",
       "Padro y Manent, Mr. Julian                                   1\n",
       "Edvardsson, Mr. Gustaf Hjalmar                               1\n",
       "Strom, Mrs. Wilhelm (Elna Matilda Persson)                   1\n",
       "Cleaver, Miss. Alice                                         1\n",
       "Elias, Mr. Dibo                                              1\n",
       "Asplund, Master. Edvin Rojj Felix                            1\n",
       "Meo, Mr. Alfonzo                                             1\n",
       "Otter, Mr. Richard                                           1\n",
       "Keefe, Mr. Arthur                                            1\n",
       "Chip, Mr. Chang                                              1\n",
       "Nicholls, Mr. Joseph Charles                                 1\n",
       "Coutts, Master. Eden Leslie \"Neville\"                        1\n",
       "Andersson, Miss. Ingeborg Constanzia                         1\n",
       "Long, Mr. Milton Clyde                                       1\n",
       "Partner, Mr. Austen                                          1\n",
       "Name: Name, dtype: int64"
      ]
     },
     "execution_count": 124,
     "metadata": {},
     "output_type": "execute_result"
    }
   ],
   "source": [
    "titanic_train[\"Name\"].value_counts()"
   ]
  },
  {
   "cell_type": "markdown",
   "metadata": {},
   "source": [
    "`Names`, by definition, are rather unique so its distribution would be flat. It is not categorical attribute then - just textual. This tells us that in modelling phase this value will not be of too much help since there are no group of values that model can identify."
   ]
  },
  {
   "cell_type": "code",
   "execution_count": 125,
   "metadata": {
    "collapsed": false
   },
   "outputs": [
    {
     "data": {
      "text/plain": [
       "CA. 2343             7\n",
       "1601                 7\n",
       "347082               7\n",
       "3101295              6\n",
       "CA 2144              6\n",
       "347088               6\n",
       "S.O.C. 14879         5\n",
       "382652               5\n",
       "LINE                 4\n",
       "17421                4\n",
       "349909               4\n",
       "4133                 4\n",
       "PC 17757             4\n",
       "19950                4\n",
       "2666                 4\n",
       "113781               4\n",
       "W./C. 6608           4\n",
       "113760               4\n",
       "347077               4\n",
       "PC 17572             3\n",
       "363291               3\n",
       "SC/Paris 2123        3\n",
       "239853               3\n",
       "C.A. 31921           3\n",
       "29106                3\n",
       "110152               3\n",
       "C.A. 34651           3\n",
       "PC 17755             3\n",
       "35273                3\n",
       "PC 17582             3\n",
       "                    ..\n",
       "A/4 45380            1\n",
       "29108                1\n",
       "315088               1\n",
       "F.C.C. 13528         1\n",
       "STON/O2. 3101282     1\n",
       "349216               1\n",
       "250652               1\n",
       "36866                1\n",
       "349203               1\n",
       "364500               1\n",
       "C.A. 29178           1\n",
       "17764                1\n",
       "STON/O 2. 3101280    1\n",
       "PC 17603             1\n",
       "349223               1\n",
       "370373               1\n",
       "364846               1\n",
       "348121               1\n",
       "237668               1\n",
       "315151               1\n",
       "374910               1\n",
       "7545                 1\n",
       "4579                 1\n",
       "315086               1\n",
       "365222               1\n",
       "239856               1\n",
       "PC 17612             1\n",
       "248740               1\n",
       "239854               1\n",
       "28665                1\n",
       "Name: Ticket, dtype: int64"
      ]
     },
     "execution_count": 125,
     "metadata": {},
     "output_type": "execute_result"
    }
   ],
   "source": [
    "titanic_train[\"Ticket\"].value_counts()"
   ]
  },
  {
   "cell_type": "markdown",
   "metadata": {},
   "source": [
    "`Ticket` attribute is also not a classical categorical attribute with multiple unique or close to unoque values. There some values repetition but rather tickets identifiers (as we assume they are) are rather unique. This again can lead to the conclusion that this data will not be helpful in survival prediction model."
   ]
  },
  {
   "cell_type": "code",
   "execution_count": 126,
   "metadata": {
    "collapsed": false
   },
   "outputs": [
    {
     "data": {
      "text/plain": [
       "B96 B98            4\n",
       "C23 C25 C27        4\n",
       "G6                 4\n",
       "C22 C26            3\n",
       "E101               3\n",
       "F33                3\n",
       "D                  3\n",
       "F2                 3\n",
       "D33                2\n",
       "B18                2\n",
       "E8                 2\n",
       "F4                 2\n",
       "E25                2\n",
       "C52                2\n",
       "E67                2\n",
       "C2                 2\n",
       "C65                2\n",
       "D35                2\n",
       "C126               2\n",
       "D17                2\n",
       "B5                 2\n",
       "B22                2\n",
       "B57 B59 B63 B66    2\n",
       "E24                2\n",
       "D36                2\n",
       "C123               2\n",
       "B35                2\n",
       "C92                2\n",
       "C93                2\n",
       "F G73              2\n",
       "                  ..\n",
       "A23                1\n",
       "B42                1\n",
       "E17                1\n",
       "D21                1\n",
       "C110               1\n",
       "A19                1\n",
       "D7                 1\n",
       "E40                1\n",
       "D6                 1\n",
       "C85                1\n",
       "A34                1\n",
       "C103               1\n",
       "C82                1\n",
       "E77                1\n",
       "D46                1\n",
       "B4                 1\n",
       "B71                1\n",
       "B41                1\n",
       "B80                1\n",
       "A24                1\n",
       "C87                1\n",
       "B86                1\n",
       "B37                1\n",
       "B78                1\n",
       "E31                1\n",
       "D49                1\n",
       "C7                 1\n",
       "B73                1\n",
       "C95                1\n",
       "A10                1\n",
       "Name: Cabin, dtype: int64"
      ]
     },
     "execution_count": 126,
     "metadata": {},
     "output_type": "execute_result"
    }
   ],
   "source": [
    "titanic_train[\"Cabin\"].value_counts()"
   ]
  },
  {
   "cell_type": "markdown",
   "metadata": {},
   "source": [
    "`Cabin` is similar in structure to the `Name` and `Ticket` attributes. It is again rather textual attribute and note categorical. As we also seen earlier this is the attribute with the biggest number of missing data: we have only 204 values out of all 891 passengers and the rest is missing. All this suggest that also this attribute will not be of much help during the modeling phase of this project."
   ]
  },
  {
   "cell_type": "code",
   "execution_count": 127,
   "metadata": {
    "collapsed": false
   },
   "outputs": [
    {
     "data": {
      "text/plain": [
       "male      577\n",
       "female    314\n",
       "Name: Sex, dtype: int64"
      ]
     },
     "execution_count": 127,
     "metadata": {},
     "output_type": "execute_result"
    }
   ],
   "source": [
    "titanic_train[\"Sex\"].value_counts()"
   ]
  },
  {
   "cell_type": "markdown",
   "metadata": {},
   "source": [
    "`Sex` attribute has only two possible values: `male` and `female`. It is a categorical attribute. Let's plot it."
   ]
  },
  {
   "cell_type": "code",
   "execution_count": 128,
   "metadata": {
    "collapsed": false
   },
   "outputs": [
    {
     "data": {
      "text/plain": [
       "<matplotlib.axes._subplots.AxesSubplot at 0x11ae97940>"
      ]
     },
     "execution_count": 128,
     "metadata": {},
     "output_type": "execute_result"
    },
    {
     "data": {
      "image/png": "[encoded data removed]",
      "text/plain": [
       "<matplotlib.figure.Figure at 0x11adc1e10>"
      ]
     },
     "metadata": {},
     "output_type": "display_data"
    }
   ],
   "source": [
    "titanic_train[\"Sex\"].value_counts().plot(kind='bar', figsize=(7, 4), grid=True, color=\"#f1b7b0\")"
   ]
  },
  {
   "cell_type": "markdown",
   "metadata": {},
   "source": [
    "We see that on Titanic (as measured by analysed dataset) there were almost twice as much males than females."
   ]
  },
  {
   "cell_type": "code",
   "execution_count": 129,
   "metadata": {
    "collapsed": false
   },
   "outputs": [
    {
     "data": {
      "text/plain": [
       "S    644\n",
       "C    168\n",
       "Q     77\n",
       "Name: Embarked, dtype: int64"
      ]
     },
     "execution_count": 129,
     "metadata": {},
     "output_type": "execute_result"
    }
   ],
   "source": [
    "titanic_train[\"Embarked\"].value_counts()"
   ]
  },
  {
   "cell_type": "markdown",
   "metadata": {},
   "source": [
    "`Embarked` attribute has three possible values: `S`, `C` and `Q` (standing for Southampton, Cherbourg or Queenstown city of embarkation) meaning that it is categorical attribute. Let's plot it's values."
   ]
  },
  {
   "cell_type": "code",
   "execution_count": 130,
   "metadata": {
    "collapsed": false
   },
   "outputs": [
    {
     "data": {
      "text/plain": [
       "<matplotlib.axes._subplots.AxesSubplot at 0x1166094a8>"
      ]
     },
     "execution_count": 130,
     "metadata": {},
     "output_type": "execute_result"
    },
    {
     "data": {
      "image/png": "[encoded data removed]",
      "text/plain": [
       "<matplotlib.figure.Figure at 0x1168f4d30>"
      ]
     },
     "metadata": {},
     "output_type": "display_data"
    }
   ],
   "source": [
    "titanic_train[\"Embarked\"].value_counts().plot(kind='bar', figsize=(7, 4), grid=True, color=\"#f1b7b0\")"
   ]
  },
  {
   "cell_type": "markdown",
   "metadata": {},
   "source": [
    "We can see that vast majority of passengers embarked in Southampton port, less than 200 passengers embarked in Cherbourg and less then embarked in Queenstown. For now we can tell nothing more out of it but later on we will try to see how this attribute values affected the survival chances of passengers.\n",
    "\n",
    "It looks like we have 7 attributes that we can explore for how their values affect pasengers the survival chances. These are the five numerical attributes: `Pclass` (passenger class), `Age` (passenger age), `SibSp` (number of siblings/spouses aboard), `Parch` (number of parents/children aboard), `Fare` (fare passenger paid). There are also two categorical attributes that looks like factors that can be analysed for influencing passengers survival chances: `Sex` (passenger sex) and `Embarked` (port of embarkation). \n",
    "\n",
    "In further analysis and modelling we will concentrate on these attributes when analysing and modeling passengers survival chances. `Name`, `Ticket` and `Cabin` attributes are textual non-categorical and rather unique values and as such are hard to analyze in terms of finding some patterns or relations between them and our target `Survived` attribute.\n",
    "\n",
    "As a sidenote `Sex` and `Embarked`, as categorical values, can be numerically encoded. We will perform this when preparing the data for modeling stage.\n",
    "\n",
    "We can finish now studying individual attributes properties and start looking at relations between them."
   ]
  },
  {
   "cell_type": "code",
   "execution_count": 131,
   "metadata": {
    "collapsed": false
   },
   "outputs": [
    {
     "data": {
      "text/html": [
       "<div>\n",
       "<table border=\"1\" class=\"dataframe\">\n",
       "  <thead>\n",
       "    <tr style=\"text-align: right;\">\n",
       "      <th></th>\n",
       "      <th>Survived</th>\n",
       "      <th>Pclass</th>\n",
       "      <th>Name</th>\n",
       "      <th>Sex</th>\n",
       "      <th>Age</th>\n",
       "      <th>SibSp</th>\n",
       "      <th>Parch</th>\n",
       "      <th>Ticket</th>\n",
       "      <th>Fare</th>\n",
       "      <th>Cabin</th>\n",
       "      <th>Embarked</th>\n",
       "    </tr>\n",
       "    <tr>\n",
       "      <th>PassengerId</th>\n",
       "      <th></th>\n",
       "      <th></th>\n",
       "      <th></th>\n",
       "      <th></th>\n",
       "      <th></th>\n",
       "      <th></th>\n",
       "      <th></th>\n",
       "      <th></th>\n",
       "      <th></th>\n",
       "      <th></th>\n",
       "      <th></th>\n",
       "    </tr>\n",
       "  </thead>\n",
       "  <tbody>\n",
       "    <tr>\n",
       "      <th>1</th>\n",
       "      <td>0</td>\n",
       "      <td>3</td>\n",
       "      <td>Braund, Mr. Owen Harris</td>\n",
       "      <td>male</td>\n",
       "      <td>22.0</td>\n",
       "      <td>1</td>\n",
       "      <td>0</td>\n",
       "      <td>A/5 21171</td>\n",
       "      <td>7.2500</td>\n",
       "      <td>NaN</td>\n",
       "      <td>S</td>\n",
       "    </tr>\n",
       "    <tr>\n",
       "      <th>2</th>\n",
       "      <td>1</td>\n",
       "      <td>1</td>\n",
       "      <td>Cumings, Mrs. John Bradley (Florence Briggs Th...</td>\n",
       "      <td>female</td>\n",
       "      <td>38.0</td>\n",
       "      <td>1</td>\n",
       "      <td>0</td>\n",
       "      <td>PC 17599</td>\n",
       "      <td>71.2833</td>\n",
       "      <td>C85</td>\n",
       "      <td>C</td>\n",
       "    </tr>\n",
       "    <tr>\n",
       "      <th>3</th>\n",
       "      <td>1</td>\n",
       "      <td>3</td>\n",
       "      <td>Heikkinen, Miss. Laina</td>\n",
       "      <td>female</td>\n",
       "      <td>26.0</td>\n",
       "      <td>0</td>\n",
       "      <td>0</td>\n",
       "      <td>STON/O2. 3101282</td>\n",
       "      <td>7.9250</td>\n",
       "      <td>NaN</td>\n",
       "      <td>S</td>\n",
       "    </tr>\n",
       "    <tr>\n",
       "      <th>4</th>\n",
       "      <td>1</td>\n",
       "      <td>1</td>\n",
       "      <td>Futrelle, Mrs. Jacques Heath (Lily May Peel)</td>\n",
       "      <td>female</td>\n",
       "      <td>35.0</td>\n",
       "      <td>1</td>\n",
       "      <td>0</td>\n",
       "      <td>113803</td>\n",
       "      <td>53.1000</td>\n",
       "      <td>C123</td>\n",
       "      <td>S</td>\n",
       "    </tr>\n",
       "    <tr>\n",
       "      <th>5</th>\n",
       "      <td>0</td>\n",
       "      <td>3</td>\n",
       "      <td>Allen, Mr. William Henry</td>\n",
       "      <td>male</td>\n",
       "      <td>35.0</td>\n",
       "      <td>0</td>\n",
       "      <td>0</td>\n",
       "      <td>373450</td>\n",
       "      <td>8.0500</td>\n",
       "      <td>NaN</td>\n",
       "      <td>S</td>\n",
       "    </tr>\n",
       "  </tbody>\n",
       "</table>\n",
       "</div>"
      ],
      "text/plain": [
       "             Survived  Pclass  \\\n",
       "PassengerId                     \n",
       "1                   0       3   \n",
       "2                   1       1   \n",
       "3                   1       3   \n",
       "4                   1       1   \n",
       "5                   0       3   \n",
       "\n",
       "                                                          Name     Sex   Age  \\\n",
       "PassengerId                                                                    \n",
       "1                                      Braund, Mr. Owen Harris    male  22.0   \n",
       "2            Cumings, Mrs. John Bradley (Florence Briggs Th...  female  38.0   \n",
       "3                                       Heikkinen, Miss. Laina  female  26.0   \n",
       "4                 Futrelle, Mrs. Jacques Heath (Lily May Peel)  female  35.0   \n",
       "5                                     Allen, Mr. William Henry    male  35.0   \n",
       "\n",
       "             SibSp  Parch            Ticket     Fare Cabin Embarked  \n",
       "PassengerId                                                          \n",
       "1                1      0         A/5 21171   7.2500   NaN        S  \n",
       "2                1      0          PC 17599  71.2833   C85        C  \n",
       "3                0      0  STON/O2. 3101282   7.9250   NaN        S  \n",
       "4                1      0            113803  53.1000  C123        S  \n",
       "5                0      0            373450   8.0500   NaN        S  "
      ]
     },
     "execution_count": 131,
     "metadata": {},
     "output_type": "execute_result"
    }
   ],
   "source": [
    "titanic_train.head()"
   ]
  },
  {
   "cell_type": "markdown",
   "metadata": {},
   "source": [
    "### 3.2 Relations between attributes analysis\n",
    "\n",
    "Let's now dig deeper into data internal structure and values. Since our dataset is not very large we can create scatter plot between each of the numerical attributes."
   ]
  },
  {
   "cell_type": "code",
   "execution_count": 132,
   "metadata": {
    "collapsed": false
   },
   "outputs": [
    {
     "data": {
      "image/png": "[encoded data removed]",
      "text/plain": [
       "<matplotlib.figure.Figure at 0x10d8ea828>"
      ]
     },
     "metadata": {},
     "output_type": "display_data"
    }
   ],
   "source": [
    "from pandas.tools.plotting import scatter_matrix\n",
    "\n",
    "scatter_matrix(titanic_train, figsize=(16, 13), c=\"#f1b7b0\")\n",
    "plt.show()"
   ]
  },
  {
   "cell_type": "markdown",
   "metadata": {},
   "source": [
    "It is quite difficult to read something informative from scatter plots since some of the data is not continous.\n",
    "\n",
    "Let's then compute the correlation matrix showing value for correlation coefficient between each numerical attribute."
   ]
  },
  {
   "cell_type": "code",
   "execution_count": 133,
   "metadata": {
    "collapsed": false
   },
   "outputs": [
    {
     "data": {
      "text/html": [
       "<div>\n",
       "<table border=\"1\" class=\"dataframe\">\n",
       "  <thead>\n",
       "    <tr style=\"text-align: right;\">\n",
       "      <th></th>\n",
       "      <th>Survived</th>\n",
       "      <th>Pclass</th>\n",
       "      <th>Age</th>\n",
       "      <th>SibSp</th>\n",
       "      <th>Parch</th>\n",
       "      <th>Fare</th>\n",
       "    </tr>\n",
       "  </thead>\n",
       "  <tbody>\n",
       "    <tr>\n",
       "      <th>Survived</th>\n",
       "      <td>1.000000</td>\n",
       "      <td>-0.338481</td>\n",
       "      <td>-0.077221</td>\n",
       "      <td>-0.035322</td>\n",
       "      <td>0.081629</td>\n",
       "      <td>0.257307</td>\n",
       "    </tr>\n",
       "    <tr>\n",
       "      <th>Pclass</th>\n",
       "      <td>-0.338481</td>\n",
       "      <td>1.000000</td>\n",
       "      <td>-0.369226</td>\n",
       "      <td>0.083081</td>\n",
       "      <td>0.018443</td>\n",
       "      <td>-0.549500</td>\n",
       "    </tr>\n",
       "    <tr>\n",
       "      <th>Age</th>\n",
       "      <td>-0.077221</td>\n",
       "      <td>-0.369226</td>\n",
       "      <td>1.000000</td>\n",
       "      <td>-0.308247</td>\n",
       "      <td>-0.189119</td>\n",
       "      <td>0.096067</td>\n",
       "    </tr>\n",
       "    <tr>\n",
       "      <th>SibSp</th>\n",
       "      <td>-0.035322</td>\n",
       "      <td>0.083081</td>\n",
       "      <td>-0.308247</td>\n",
       "      <td>1.000000</td>\n",
       "      <td>0.414838</td>\n",
       "      <td>0.159651</td>\n",
       "    </tr>\n",
       "    <tr>\n",
       "      <th>Parch</th>\n",
       "      <td>0.081629</td>\n",
       "      <td>0.018443</td>\n",
       "      <td>-0.189119</td>\n",
       "      <td>0.414838</td>\n",
       "      <td>1.000000</td>\n",
       "      <td>0.216225</td>\n",
       "    </tr>\n",
       "    <tr>\n",
       "      <th>Fare</th>\n",
       "      <td>0.257307</td>\n",
       "      <td>-0.549500</td>\n",
       "      <td>0.096067</td>\n",
       "      <td>0.159651</td>\n",
       "      <td>0.216225</td>\n",
       "      <td>1.000000</td>\n",
       "    </tr>\n",
       "  </tbody>\n",
       "</table>\n",
       "</div>"
      ],
      "text/plain": [
       "          Survived    Pclass       Age     SibSp     Parch      Fare\n",
       "Survived  1.000000 -0.338481 -0.077221 -0.035322  0.081629  0.257307\n",
       "Pclass   -0.338481  1.000000 -0.369226  0.083081  0.018443 -0.549500\n",
       "Age      -0.077221 -0.369226  1.000000 -0.308247 -0.189119  0.096067\n",
       "SibSp    -0.035322  0.083081 -0.308247  1.000000  0.414838  0.159651\n",
       "Parch     0.081629  0.018443 -0.189119  0.414838  1.000000  0.216225\n",
       "Fare      0.257307 -0.549500  0.096067  0.159651  0.216225  1.000000"
      ]
     },
     "execution_count": 133,
     "metadata": {},
     "output_type": "execute_result"
    }
   ],
   "source": [
    "corr_matrix = titanic_train.corr()\n",
    "corr_matrix"
   ]
  },
  {
   "cell_type": "markdown",
   "metadata": {},
   "source": [
    "We can see some meaningful correlations here. To get even better intuition let's visualize the correlation matrix."
   ]
  },
  {
   "cell_type": "code",
   "execution_count": 134,
   "metadata": {
    "collapsed": false
   },
   "outputs": [
    {
     "data": {
      "image/png": "[encoded data removed]",
      "text/plain": [
       "<matplotlib.figure.Figure at 0x119fd16a0>"
      ]
     },
     "metadata": {},
     "output_type": "display_data"
    }
   ],
   "source": [
    "fig, axes = plt.subplots(figsize=(12, 8))\n",
    "cax = axes.matshow(corr_matrix, vmin=-1, vmax=1, cmap=plt.cm.pink)\n",
    "fig.colorbar(cax)\n",
    "ticks = np.arange(0, len(corr_matrix), 1)\n",
    "axes.set_xticks(ticks)\n",
    "axes.set_yticks(ticks)\n",
    "axes.set_xticklabels(corr_matrix)\n",
    "axes.set_yticklabels(corr_matrix)\n",
    "plt.show()"
   ]
  },
  {
   "cell_type": "markdown",
   "metadata": {},
   "source": [
    "Analyzing correlation let's remember that our target value is `Survived` attribute. Let's concentrate for now on correlation between target value and other attributes. We see quite stron positive correlation between `Fare` and `Survived` attributes values (0.2573) meaning that who payed more for the ticked could have for some reason higher chances for survival. There is also quite strong negative correlation between `Pclass` and `Survived` attributes values (-0.3385) similarly meaning that the higher class passenger was travelling the lower was risk for not surviving. The rest of the attributes seems not correlated with `Survived`. \n",
    "\n",
    "Looking on other at relations between other attributes an obvious intution is strong negative correlation between `Pclass` and `Fare` (-0.5495): the more expensive ticket usually means better standard and lower class number (1st class is the most luxourious).\n",
    "\n",
    "Other interesting insight is quite strong positive correlation between `SibSp` and `Parch` attributes meaning that someone who tends to travel with siblings or spouse tends to also travel with parents or children.\n",
    "\n",
    "Surprising is positive correlation between `Parch` and `Fare` attributes (0.2162) meaning that person traveling with parents or children tends to pay more for the ticket. Similar but with lower correlation in case of `SibSp` attribute.\n",
    "\n",
    "Other more distinct relation we can see in the dataset is negative correlation between `Pclass` and `Age` (-0.3692). We can interpret is as the lower class number the higher age which seems reasonable.\n",
    "\n",
    "Also interesting is the high negative correlation between `Age` and `SibSp` (-0.3083). It conveys interesting fact that the older passenger was the lower was the number of siblings travelling with."
   ]
  },
  {
   "cell_type": "markdown",
   "metadata": {},
   "source": [
    "We now have quite deep insight in what is going on, in general, in the dataset. \n",
    "\n",
    "Now we will proceed to answering question posed at the begining of this analysis."
   ]
  },
  {
   "cell_type": "markdown",
   "metadata": {},
   "source": [
    "### 3.3 What was Titanic passengers demographic structure analyzed in terms of attributes?\n",
    "\n",
    "In this part we will analyze attributes we found meaningful in terms of survival analysis: `Pclass`, `Sex`, `Age`, `SibSp`, `Parch`, `Fare` and `Embarked`. We will not analyze `Name`, `Ticket` and `Cabin` attributes since we found that they do not convey information in terms of population survival analysis.\n",
    "\n",
    "Let's start with ticket class analysis - how many passengers travelled in each of the ticket classes. On Titanic there were three tickets classes: first, second and third. They are represented in the dataset using values 1, 2 and 3.  "
   ]
  },
  {
   "cell_type": "code",
   "execution_count": 135,
   "metadata": {
    "collapsed": false
   },
   "outputs": [
    {
     "data": {
      "text/plain": [
       "1    216\n",
       "2    184\n",
       "3    491\n",
       "Name: Pclass, dtype: int64"
      ]
     },
     "execution_count": 135,
     "metadata": {},
     "output_type": "execute_result"
    }
   ],
   "source": [
    "titanic_class_counts = titanic_train[\"Pclass\"].value_counts(sort=False)\n",
    "titanic_class_counts"
   ]
  },
  {
   "cell_type": "markdown",
   "metadata": {},
   "source": [
    "Let's see how does this population of passengers looks like."
   ]
  },
  {
   "cell_type": "code",
   "execution_count": 136,
   "metadata": {
    "collapsed": false
   },
   "outputs": [],
   "source": [
    "def get_waffle_plot(data, rows, title):\n",
    "    colors=(\"#f1b7b0\", \"#f0f0f0\", \"#e3d8c0\", \"#f9d9ac\", \"#f1b7b0\", \"#f0f0f0\", \"#e3d8c0\", \"#f9d9ac\")\n",
    "    fig = plt.figure(\n",
    "        FigureClass=Waffle, \n",
    "        rows=rows,\n",
    "        values=data, \n",
    "        colors=colors[:len(data)],\n",
    "        title={'label': title, 'loc': 'left', \"fontsize\": 14},\n",
    "        figsize=(20, 4),\n",
    "        labels=[\"{} ({} passengers, {:.2f}%)\".format(k, v, v / sum(data.values()) * 100) for k, v in data.items()],\n",
    "        legend={'loc': 'lower left', 'bbox_to_anchor': (0, -0.3), 'ncol': len(data), 'framealpha': 0, \"fontsize\": 14, \"handlelength\": 0.7}\n",
    ")\n",
    "    plt.show()\n"
   ]
  },
  {
   "cell_type": "code",
   "execution_count": 137,
   "metadata": {
    "collapsed": false
   },
   "outputs": [
    {
     "data": {
      "image/png": "[encoded data removed]",
      "text/plain": [
       "<pywaffle.waffle.Waffle at 0x119c56080>"
      ]
     },
     "metadata": {},
     "output_type": "display_data"
    }
   ],
   "source": [
    "get_waffle_plot(titanic_class_counts.to_dict(), rows=9, title=\"Number of passengers travelling in different classes\")"
   ]
  },
  {
   "cell_type": "markdown",
   "metadata": {},
   "source": [
    "We see that vast majority (55.11%) of passengers travelled in lowest third class and almost 25% of passengers travelled in first class. "
   ]
  },
  {
   "cell_type": "code",
   "execution_count": 138,
   "metadata": {
    "collapsed": false
   },
   "outputs": [
    {
     "data": {
      "text/plain": [
       "male      577\n",
       "female    314\n",
       "Name: Sex, dtype: int64"
      ]
     },
     "execution_count": 138,
     "metadata": {},
     "output_type": "execute_result"
    }
   ],
   "source": [
    "titanic_sex_counts = titanic_train[\"Sex\"].value_counts()\n",
    "titanic_sex_counts"
   ]
  },
  {
   "cell_type": "code",
   "execution_count": 139,
   "metadata": {
    "collapsed": false
   },
   "outputs": [
    {
     "data": {
      "image/png": "[encoded data removed]",
      "text/plain": [
       "<pywaffle.waffle.Waffle at 0x11bd53940>"
      ]
     },
     "metadata": {},
     "output_type": "display_data"
    }
   ],
   "source": [
    "get_waffle_plot(titanic_sex_counts.to_dict(), rows=9, title=\"Number of female and male pasengers\")"
   ]
  },
  {
   "cell_type": "markdown",
   "metadata": {},
   "source": [
    "Majority of all passengers were males (64.76%) with only 35.24% of females."
   ]
  },
  {
   "cell_type": "markdown",
   "metadata": {},
   "source": [
    "To analyze age we need first to bin the data into meaningful age groups."
   ]
  },
  {
   "cell_type": "code",
   "execution_count": 140,
   "metadata": {
    "collapsed": false
   },
   "outputs": [
    {
     "data": {
      "text/plain": [
       "(0, 14]      77\n",
       "(14, 24]    200\n",
       "(24, 34]    201\n",
       "(34, 44]    121\n",
       "(44, 54]     73\n",
       "(54, 64]     31\n",
       "(64, 80]     11\n",
       "Name: Age, dtype: int64"
      ]
     },
     "execution_count": 140,
     "metadata": {},
     "output_type": "execute_result"
    }
   ],
   "source": [
    "titanic_age_groups_counts = pd.cut(titanic_train[\"Age\"], bins=[0, 14, 24, 34, 44, 54, 64, 80]).value_counts().sort_index()\n",
    "titanic_age_groups_counts"
   ]
  },
  {
   "cell_type": "code",
   "execution_count": 141,
   "metadata": {
    "collapsed": false
   },
   "outputs": [
    {
     "data": {
      "image/png": "[encoded data removed]",
      "text/plain": [
       "<pywaffle.waffle.Waffle at 0x11af9bfd0>"
      ]
     },
     "metadata": {},
     "output_type": "display_data"
    }
   ],
   "source": [
    "get_waffle_plot(titanic_age_groups_counts.to_dict(), rows=9, title=\"Number of passengers in different age groups\")"
   ]
  },
  {
   "cell_type": "markdown",
   "metadata": {},
   "source": [
    "10.78% of passengers were children in age 0-14. A little ober 28% of passengers were both between 14-24 and 24-34 years old. Almost 17% of all passengers were 34-44 years old. Only 16% of all passengers were above 44 years old. That tells us that Titanic passengers population was quite young.\n",
    "\n",
    "Just out of interest let's dig a bit deeper into passengers age distribution properties."
   ]
  },
  {
   "cell_type": "code",
   "execution_count": 142,
   "metadata": {
    "collapsed": false
   },
   "outputs": [
    {
     "data": {
      "text/plain": [
       "count    714.000000\n",
       "mean      29.699118\n",
       "std       14.526497\n",
       "min        0.420000\n",
       "25%       20.125000\n",
       "50%       28.000000\n",
       "75%       38.000000\n",
       "max       80.000000\n",
       "Name: Age, dtype: float64"
      ]
     },
     "execution_count": 142,
     "metadata": {},
     "output_type": "execute_result"
    }
   ],
   "source": [
    "titanic_train[\"Age\"].describe()"
   ]
  },
  {
   "cell_type": "markdown",
   "metadata": {},
   "source": [
    "We can see that the youngest passenger was 5 months old (0.42 year old). Let's see who she or he was."
   ]
  },
  {
   "cell_type": "code",
   "execution_count": 143,
   "metadata": {
    "collapsed": false
   },
   "outputs": [
    {
     "data": {
      "text/plain": [
       "Survived                                  1\n",
       "Pclass                                    3\n",
       "Name        Thomas, Master. Assad Alexander\n",
       "Sex                                    male\n",
       "Age                                    0.42\n",
       "SibSp                                     0\n",
       "Parch                                     1\n",
       "Ticket                                 2625\n",
       "Fare                                 8.5167\n",
       "Cabin                                   NaN\n",
       "Embarked                                  C\n",
       "Name: 804, dtype: object"
      ]
     },
     "execution_count": 143,
     "metadata": {},
     "output_type": "execute_result"
    }
   ],
   "source": [
    "titanic_train.loc[titanic_train[\"Age\"].argmin()]"
   ]
  },
  {
   "cell_type": "markdown",
   "metadata": {},
   "source": [
    "It was a boy: Assed Alexander Thomas was born in Hardīn, Lebanon on 8 November 1911. He survived Titanic catastrophy - you can read his story [here](https://www.encyclopedia-titanica.org/titanic-survivor/assad-alexander-thomas-tannous.html).\n",
    "\n",
    "On the other side of passengers dataset age distribution is the oldest passenger who was 80. Let's see who she or he was."
   ]
  },
  {
   "cell_type": "code",
   "execution_count": 144,
   "metadata": {
    "collapsed": false
   },
   "outputs": [
    {
     "data": {
      "text/plain": [
       "Survived                                       1\n",
       "Pclass                                         1\n",
       "Name        Barkworth, Mr. Algernon Henry Wilson\n",
       "Sex                                         male\n",
       "Age                                           80\n",
       "SibSp                                          0\n",
       "Parch                                          0\n",
       "Ticket                                     27042\n",
       "Fare                                          30\n",
       "Cabin                                        A23\n",
       "Embarked                                       S\n",
       "Name: 631, dtype: object"
      ]
     },
     "execution_count": 144,
     "metadata": {},
     "output_type": "execute_result"
    }
   ],
   "source": [
    "titanic_train.loc[titanic_train[\"Age\"].argmax()]"
   ]
  },
  {
   "cell_type": "markdown",
   "metadata": {},
   "source": [
    "By accident we found some error in the Titanic dataset. When you read Algernon Henry Wilson Barkworth biography (you can find it [here](https://www.encyclopedia-titanica.org/titanic-survivor/algernon-barkworth.html)), we can read that he was born in 1864. That means that in 1912, when Titanic catastrophy happened, he was 48 years old and not 80 as stated in the dataset. So why 80 in the data set? We can further read that this person died in 1945 - aged 80. \n",
    "\n",
    "This means that dataset age this passenger contains value of post Titanic death age and not day of catastrophy age as it does for other survived passengers age attribute values. This inconsistency makes the data invalid and confusingwhen it comes to factual or historical value.\n",
    "\n",
    "For this reason we decide to discard this passenger data from further analysis or modelling.\n"
   ]
  },
  {
   "cell_type": "code",
   "execution_count": 145,
   "metadata": {
    "collapsed": false
   },
   "outputs": [],
   "source": [
    "titanic_train = titanic_train.drop(titanic_train[\"Age\"].argmax(), axis=0)"
   ]
  },
  {
   "cell_type": "code",
   "execution_count": 146,
   "metadata": {
    "collapsed": false
   },
   "outputs": [
    {
     "data": {
      "text/plain": [
       "count    713.000000\n",
       "mean      29.628569\n",
       "std       14.413774\n",
       "min        0.420000\n",
       "25%       20.000000\n",
       "50%       28.000000\n",
       "75%       38.000000\n",
       "max       74.000000\n",
       "Name: Age, dtype: float64"
      ]
     },
     "execution_count": 146,
     "metadata": {},
     "output_type": "execute_result"
    }
   ],
   "source": [
    "titanic_train[\"Age\"].describe()"
   ]
  },
  {
   "cell_type": "markdown",
   "metadata": {},
   "source": [
    "And now we need to bin passengers ages once again."
   ]
  },
  {
   "cell_type": "code",
   "execution_count": 147,
   "metadata": {
    "collapsed": false
   },
   "outputs": [
    {
     "data": {
      "text/plain": [
       "(0, 14]      77\n",
       "(14, 24]    200\n",
       "(24, 34]    201\n",
       "(34, 44]    121\n",
       "(44, 54]     73\n",
       "(54, 64]     31\n",
       "(64, 80]     10\n",
       "Name: Age, dtype: int64"
      ]
     },
     "execution_count": 147,
     "metadata": {},
     "output_type": "execute_result"
    }
   ],
   "source": [
    "titanic_age_groups_counts = pd.cut(titanic_train[\"Age\"], bins=[0, 14, 24, 34, 44, 54, 64, 80]).value_counts().sort_index()\n",
    "titanic_age_groups_counts"
   ]
  },
  {
   "cell_type": "markdown",
   "metadata": {},
   "source": [
    "Let's now check again who is the oldest passenger in the data set - after removing the incorect data record."
   ]
  },
  {
   "cell_type": "code",
   "execution_count": 148,
   "metadata": {
    "collapsed": false
   },
   "outputs": [
    {
     "data": {
      "text/plain": [
       "Survived                      0\n",
       "Pclass                        3\n",
       "Name        Svensson, Mr. Johan\n",
       "Sex                        male\n",
       "Age                          74\n",
       "SibSp                         0\n",
       "Parch                         0\n",
       "Ticket                   347060\n",
       "Fare                      7.775\n",
       "Cabin                       NaN\n",
       "Embarked                      S\n",
       "Name: 852, dtype: object"
      ]
     },
     "execution_count": 148,
     "metadata": {},
     "output_type": "execute_result"
    }
   ],
   "source": [
    "titanic_train.loc[titanic_train[\"Age\"].argmax()]"
   ]
  },
  {
   "cell_type": "markdown",
   "metadata": {},
   "source": [
    "So now we have for sure the oldest known Titanic passenger. His name was Johan Svensson, aged 74 and unfortunatelly died in the catastrophy (read more [here](https://www.encyclopedia-titanica.org/titanic-victim/johan-svensson.html))."
   ]
  },
  {
   "cell_type": "code",
   "execution_count": 149,
   "metadata": {
    "collapsed": false
   },
   "outputs": [
    {
     "data": {
      "text/plain": [
       "0    607\n",
       "1    209\n",
       "2     28\n",
       "4     18\n",
       "3     16\n",
       "8      7\n",
       "5      5\n",
       "Name: SibSp, dtype: int64"
      ]
     },
     "execution_count": 149,
     "metadata": {},
     "output_type": "execute_result"
    }
   ],
   "source": [
    "titanic_sibsp_counts = titanic_train[\"SibSp\"].value_counts()\n",
    "titanic_sibsp_counts"
   ]
  },
  {
   "cell_type": "code",
   "execution_count": 150,
   "metadata": {
    "collapsed": false
   },
   "outputs": [
    {
     "data": {
      "image/png": "[encoded data removed]",
      "text/plain": [
       "<pywaffle.waffle.Waffle at 0x11b270b00>"
      ]
     },
     "metadata": {},
     "output_type": "display_data"
    }
   ],
   "source": [
    "get_waffle_plot(titanic_sibsp_counts.to_dict(), rows=9, title=\"Number of passengers travelling with siblings or spouse\")"
   ]
  },
  {
   "cell_type": "markdown",
   "metadata": {
    "collapsed": true
   },
   "source": [
    "Vast majority of passengers travelled without any siblings or spouse - 68.24%. 23.46% of passengers travelled with one child or spouse. Less than 9% of all passengers traveled with more than one sibling or spouse."
   ]
  },
  {
   "cell_type": "code",
   "execution_count": 151,
   "metadata": {
    "collapsed": false
   },
   "outputs": [
    {
     "data": {
      "text/plain": [
       "0    677\n",
       "1    118\n",
       "2     80\n",
       "5      5\n",
       "3      5\n",
       "4      4\n",
       "6      1\n",
       "Name: Parch, dtype: int64"
      ]
     },
     "execution_count": 151,
     "metadata": {},
     "output_type": "execute_result"
    }
   ],
   "source": [
    "titanic_parch_counts = titanic_train[\"Parch\"].value_counts()\n",
    "titanic_parch_counts"
   ]
  },
  {
   "cell_type": "code",
   "execution_count": 152,
   "metadata": {
    "collapsed": false
   },
   "outputs": [
    {
     "data": {
      "image/png": "[encoded data removed]",
      "text/plain": [
       "<pywaffle.waffle.Waffle at 0x11671c550>"
      ]
     },
     "metadata": {},
     "output_type": "display_data"
    }
   ],
   "source": [
    "get_waffle_plot(titanic_parch_counts.to_dict(), rows=9, title=\"Number of passengers travelling with parents or children\")"
   ]
  },
  {
   "cell_type": "markdown",
   "metadata": {
    "collapsed": true
   },
   "source": [
    "The situation is very similar in case of passengers travelling with parents or children. Most of them (76.09%) travelled alone and 13.24% travelled with just one parent or children. 8.89 passengers travelled with two parents or children."
   ]
  },
  {
   "cell_type": "code",
   "execution_count": 153,
   "metadata": {
    "collapsed": false
   },
   "outputs": [
    {
     "data": {
      "text/plain": [
       "(0, 20]       500\n",
       "(20, 40]      199\n",
       "(40, 60]       54\n",
       "(60, 80]       48\n",
       "(80, 100]      21\n",
       "(100, 300]     50\n",
       "(300, 600]      3\n",
       "Name: Fare, dtype: int64"
      ]
     },
     "execution_count": 153,
     "metadata": {},
     "output_type": "execute_result"
    }
   ],
   "source": [
    "titanic_fare_groups_counts = pd.cut(titanic_train[\"Fare\"], bins=[0, 20, 40, 60, 80, 100, 300, 600]).value_counts().sort_index()\n",
    "titanic_fare_groups_counts"
   ]
  },
  {
   "cell_type": "code",
   "execution_count": 154,
   "metadata": {
    "collapsed": false
   },
   "outputs": [
    {
     "data": {
      "image/png": "[encoded data removed]",
      "text/plain": [
       "<pywaffle.waffle.Waffle at 0x11671c1d0>"
      ]
     },
     "metadata": {},
     "output_type": "display_data"
    }
   ],
   "source": [
    "get_waffle_plot(titanic_fare_groups_counts.to_dict(), rows=9, title=\"Number of passengers in different fare price groups\")"
   ]
  },
  {
   "cell_type": "markdown",
   "metadata": {
    "collapsed": true
   },
   "source": [
    "In terms ticket fare over the half (57.08%) of passengers paid the lowest fare ranging from 0 to 20. Let's remember that we saw that 55.11% of passengers travelled in third class. That follows the result seen here: third class was the cheapest way to travel and the number of passengers in the third class in almost the same as number of passengers who were in the lowest fare group. Again 22.83% passengers paid between 20 and 40 fare. That approximately corresponds to 20.65% of passengers travelling in the second class. We see that the rest of the ticket prices - which most likely are first class tickets - varies very much probably meaning some additional luxuries and services. And also there is relatively small number of such tickets."
   ]
  },
  {
   "cell_type": "code",
   "execution_count": 155,
   "metadata": {
    "collapsed": false
   },
   "outputs": [
    {
     "data": {
      "text/plain": [
       "S    643\n",
       "C    168\n",
       "Q     77\n",
       "Name: Embarked, dtype: int64"
      ]
     },
     "execution_count": 155,
     "metadata": {},
     "output_type": "execute_result"
    }
   ],
   "source": [
    "titanic_embarked_counts = titanic_train[\"Embarked\"].value_counts()\n",
    "titanic_embarked_counts"
   ]
  },
  {
   "cell_type": "code",
   "execution_count": 156,
   "metadata": {
    "collapsed": false
   },
   "outputs": [
    {
     "data": {
      "image/png": "[encoded data removed]",
      "text/plain": [
       "<pywaffle.waffle.Waffle at 0x119ed1fd0>"
      ]
     },
     "metadata": {},
     "output_type": "display_data"
    }
   ],
   "source": [
    "get_waffle_plot(titanic_embarked_counts.to_dict(), rows=9, title=\"Number of passengers embarking from different ports.\")"
   ]
  },
  {
   "cell_type": "markdown",
   "metadata": {
    "collapsed": true
   },
   "source": [
    "We can see that vast majority of passengers embarked in Southampton (72.44%), 18.9% embarked in Cherbourg and only 8.66% of passengers embarked Titanic in Queenstown."
   ]
  },
  {
   "cell_type": "markdown",
   "metadata": {},
   "source": [
    "### 3.4 What is the overall Titanic passengers survival ratio? \n",
    "\n",
    "We will now try to answer what is the overall Titanic passengers survival ratio. To to that we will create survival ratio metric. We will define it as the ratio between the number of survived passengers and the overall number of passengers. We will use this value for later reference and comparison in other attributes analysis.\n",
    "\n",
    "Our dataset contains 891 passengers data out of all 2224 passengers. This is partly due to the reason that we work with labeled train dataset with separate unlabeled test dataset with 418 passengers data set aside. In this analysis we will treat these 891 passengers not as a sample but rather as our whole population of 891 passengers. The same assumption will apply to subsequent parts of this analysis.\n",
    "\n",
    "Let's now see what is the total number of survived passengers and and those who did not survive. "
   ]
  },
  {
   "cell_type": "code",
   "execution_count": 157,
   "metadata": {
    "collapsed": false
   },
   "outputs": [
    {
     "data": {
      "text/plain": [
       "0    549\n",
       "1    341\n",
       "Name: Survived, dtype: int64"
      ]
     },
     "execution_count": 157,
     "metadata": {},
     "output_type": "execute_result"
    }
   ],
   "source": [
    "titanic_survived_counts = titanic_train[\"Survived\"].value_counts(sort=False)\n",
    "titanic_survived_counts"
   ]
  },
  {
   "cell_type": "markdown",
   "metadata": {},
   "source": [
    "Let's visualize it."
   ]
  },
  {
   "cell_type": "code",
   "execution_count": 158,
   "metadata": {
    "collapsed": false
   },
   "outputs": [
    {
     "data": {
      "image/png": "[encoded data removed]",
      "text/plain": [
       "<pywaffle.waffle.Waffle at 0x11af5d550>"
      ]
     },
     "metadata": {},
     "output_type": "display_data"
    }
   ],
   "source": [
    "get_waffle_plot(titanic_survived_counts.to_dict(), rows=9, title=\"Number of passengers travelling in different classes\")"
   ]
  },
  {
   "cell_type": "markdown",
   "metadata": {},
   "source": [
    "Let's also create overall survival ratio metric."
   ]
  },
  {
   "cell_type": "code",
   "execution_count": 159,
   "metadata": {
    "collapsed": false
   },
   "outputs": [],
   "source": [
    "def get_survival_ratio(passengers_df):\n",
    "    return passengers_df[\"Survived\"].sum() / passengers_df[\"Survived\"].count()"
   ]
  },
  {
   "cell_type": "code",
   "execution_count": 160,
   "metadata": {
    "collapsed": false
   },
   "outputs": [
    {
     "data": {
      "text/plain": [
       "0.38314606741573032"
      ]
     },
     "execution_count": 160,
     "metadata": {},
     "output_type": "execute_result"
    }
   ],
   "source": [
    "overall_survival_ratio = get_survival_ratio(titanic_train)\n",
    "overall_survival_ratio"
   ]
  },
  {
   "cell_type": "markdown",
   "metadata": {},
   "source": [
    "We see that from Titanic 891 passengers only 342 survived and 549 died. The Titanic survival ratio is approximately 0.3838, meaning that only 38.38% of all passengers (again, we are talking here about population of passengers in the dataset) survived the catastrophy. That is really small percentage. \n",
    "\n",
    "Again we can see that majority of Titanic passengers died in the catastrophy. Let's keep these values - especially the overal survival ratio metric among all Titanic passengers of 0.3838 - as a reference point for further analysis.\n"
   ]
  },
  {
   "cell_type": "markdown",
   "metadata": {},
   "source": [
    "### 3.5 What is the survival ratio for different demographic passengers groups? Which groups have biggest chances for survival and which smallest?\n",
    "\n",
    "Let's now finally see how survival ratio changes in groups belonging to attributes demographic sub-categories. In this analysis we will process the same attributes as in 3.3 part: `Pclass`, `Sex`, `Age`, `SibSp`, `Parch`, `Fare` and `Embarked`. \n",
    "\n",
    "We will start by grouping dataset using each of the attributes unique values. Later, based on these grouped values, we will calculate survival ratio for each of the attributes sub-groups."
   ]
  },
  {
   "cell_type": "code",
   "execution_count": 161,
   "metadata": {
    "collapsed": false
   },
   "outputs": [
    {
     "data": {
      "text/plain": [
       "{1: Int64Index([  2,   4,   7,  12,  24,  28,  31,  32,  35,  36,\n",
       "             ...\n",
       "             854, 857, 858, 863, 868, 872, 873, 880, 888, 890],\n",
       "            dtype='int64', name='PassengerId', length=215),\n",
       " 2: Int64Index([ 10,  16,  18,  21,  22,  34,  42,  44,  54,  57,\n",
       "             ...\n",
       "             849, 855, 862, 865, 866, 867, 875, 881, 884, 887],\n",
       "            dtype='int64', name='PassengerId', length=184),\n",
       " 3: Int64Index([  1,   3,   5,   6,   8,   9,  11,  13,  14,  15,\n",
       "             ...\n",
       "             876, 877, 878, 879, 882, 883, 885, 886, 889, 891],\n",
       "            dtype='int64', name='PassengerId', length=491)}"
      ]
     },
     "execution_count": 161,
     "metadata": {},
     "output_type": "execute_result"
    }
   ],
   "source": [
    "titanic_pclass_group = titanic_train.groupby(\"Pclass\")\n",
    "titanic_pclass_group.groups"
   ]
  },
  {
   "cell_type": "code",
   "execution_count": 162,
   "metadata": {
    "collapsed": false
   },
   "outputs": [
    {
     "data": {
      "text/plain": [
       "{'female': Int64Index([  2,   3,   4,   9,  10,  11,  12,  15,  16,  19,\n",
       "             ...\n",
       "             867, 872, 875, 876, 880, 881, 883, 886, 888, 889],\n",
       "            dtype='int64', name='PassengerId', length=314),\n",
       " 'male': Int64Index([  1,   5,   6,   7,   8,  13,  14,  17,  18,  21,\n",
       "             ...\n",
       "             874, 877, 878, 879, 882, 884, 885, 887, 890, 891],\n",
       "            dtype='int64', name='PassengerId', length=576)}"
      ]
     },
     "execution_count": 162,
     "metadata": {},
     "output_type": "execute_result"
    }
   ],
   "source": [
    "titanic_sex_group = titanic_train.groupby(\"Sex\")\n",
    "titanic_sex_group.groups"
   ]
  },
  {
   "cell_type": "markdown",
   "metadata": {},
   "source": [
    "In case of `Age` attribute we will group its values into age groups as we did previously in demographic analysis."
   ]
  },
  {
   "cell_type": "code",
   "execution_count": 163,
   "metadata": {
    "collapsed": false
   },
   "outputs": [
    {
     "data": {
      "text/plain": [
       "{'(0, 14]': Int64Index([  8,  10,  11,  15,  17,  25,  40,  44,  51,  59,  60,  64,  79,\n",
       "             120, 126, 148, 165, 166, 172, 173, 183, 184, 185, 194, 206, 234,\n",
       "             238, 262, 279, 298, 306, 341, 349, 375, 382, 387, 408, 420, 436,\n",
       "             446, 447, 449, 470, 480, 481, 490, 531, 536, 542, 543, 550, 619,\n",
       "             635, 643, 645, 684, 687, 692, 721, 732, 751, 752, 756, 778, 781,\n",
       "             788, 789, 803, 804, 814, 820, 825, 828, 832, 851, 853, 870],\n",
       "            dtype='int64', name='PassengerId'),\n",
       " '(14, 24]': Int64Index([  1,  13,  23,  28,  38,  39,  45,  50,  52,  57,\n",
       "             ...\n",
       "             854, 856, 859, 862, 865, 876, 877, 878, 883, 888],\n",
       "            dtype='int64', name='PassengerId', length=200),\n",
       " '(24, 34]': Int64Index([  3,   9,  19,  22,  24,  35,  42,  54,  58,  67,\n",
       "             ...\n",
       "             871, 873, 875, 881, 882, 884, 885, 887, 890, 891],\n",
       "            dtype='int64', name='PassengerId', length=201),\n",
       " '(34, 44]': Int64Index([  2,   4,   5,  14,  21,  26,  31,  36,  41,  62,\n",
       "             ...\n",
       "             819, 823, 836, 844, 846, 848, 855, 861, 866, 886],\n",
       "            dtype='int64', name='PassengerId', length=121),\n",
       " '(44, 54]': Int64Index([  7,  53,  63,  93, 111, 125, 130, 133, 151, 156, 168, 178, 188,\n",
       "             204, 223, 250, 260, 263, 277, 300, 318, 332, 339, 340, 363, 398,\n",
       "             407, 435, 441, 450, 454, 459, 461, 463, 464, 483, 497, 514, 516,\n",
       "             527, 537, 545, 557, 572, 583, 587, 592, 593, 598, 600, 632, 646,\n",
       "             661, 663, 696, 699, 707, 713, 715, 724, 737, 755, 766, 772, 775,\n",
       "             790, 797, 821, 857, 858, 863, 872, 874],\n",
       "            dtype='int64', name='PassengerId'),\n",
       " '(54, 64]': Int64Index([ 12,  16,  95, 153, 171, 175, 196, 233, 253, 269, 276, 327, 367,\n",
       "             439, 468, 484, 488, 493, 546, 556, 571, 588, 626, 627, 648, 660,\n",
       "             685, 695, 773, 830, 880],\n",
       "            dtype='int64', name='PassengerId'),\n",
       " '(64, 80]': Int64Index([34, 55, 97, 117, 281, 457, 494, 673, 746, 852], dtype='int64', name='PassengerId')}"
      ]
     },
     "execution_count": 163,
     "metadata": {},
     "output_type": "execute_result"
    }
   ],
   "source": [
    "titanic_age_group = titanic_train.groupby(pd.cut(titanic_train[\"Age\"], bins=[0, 14, 24, 34, 44, 54, 64, 80]))\n",
    "titanic_age_group.groups"
   ]
  },
  {
   "cell_type": "code",
   "execution_count": 164,
   "metadata": {
    "collapsed": false
   },
   "outputs": [
    {
     "data": {
      "text/plain": [
       "{0: Int64Index([  3,   5,   6,   7,   9,  12,  13,  15,  16,  18,\n",
       "             ...\n",
       "             881, 882, 883, 884, 885, 886, 887, 888, 890, 891],\n",
       "            dtype='int64', name='PassengerId', length=607),\n",
       " 1: Int64Index([  1,   2,   4,  10,  11,  14,  19,  26,  32,  35,\n",
       "             ...\n",
       "             850, 853, 855, 857, 862, 867, 870, 872, 875, 889],\n",
       "            dtype='int64', name='PassengerId', length=209),\n",
       " 2: Int64Index([ 39,  49,  70, 105, 121, 148, 184, 246, 302, 312, 331, 334, 393,\n",
       "             437, 438, 449, 470, 530, 566, 572, 601, 619, 645, 656, 661, 666,\n",
       "             743, 861],\n",
       "            dtype='int64', name='PassengerId'),\n",
       " 3: Int64Index([8, 25, 28, 64, 86, 89, 177, 230, 342, 375, 410, 486, 635, 643, 727,\n",
       "             820],\n",
       "            dtype='int64', name='PassengerId'),\n",
       " 4: Int64Index([ 17,  51,  69, 120, 165, 172, 183, 234, 262, 267, 279, 542, 543,\n",
       "             687, 788, 814, 825, 851],\n",
       "            dtype='int64', name='PassengerId'),\n",
       " 5: Int64Index([60, 72, 387, 481, 684], dtype='int64', name='PassengerId'),\n",
       " 8: Int64Index([160, 181, 202, 325, 793, 847, 864], dtype='int64', name='PassengerId')}"
      ]
     },
     "execution_count": 164,
     "metadata": {},
     "output_type": "execute_result"
    }
   ],
   "source": [
    "titanic_sibsp_group = titanic_train.groupby(\"SibSp\")\n",
    "titanic_sibsp_group.groups"
   ]
  },
  {
   "cell_type": "code",
   "execution_count": 165,
   "metadata": {
    "collapsed": false
   },
   "outputs": [
    {
     "data": {
      "text/plain": [
       "{0: Int64Index([  1,   2,   3,   4,   5,   6,   7,  10,  12,  13,\n",
       "             ...\n",
       "             878, 879, 882, 883, 884, 885, 887, 888, 890, 891],\n",
       "            dtype='int64', name='PassengerId', length=677),\n",
       " 1: Int64Index([  8,  11,  17,  25,  51,  55,  66,  98,  99, 103,\n",
       "             ...\n",
       "             836, 849, 853, 854, 856, 857, 870, 872, 880, 881],\n",
       "            dtype='int64', name='PassengerId', length=118),\n",
       " 2: Int64Index([  9,  28,  44,  59,  60,  64,  69,  72,  79,  89,  94, 120, 137,\n",
       "             141, 148, 149, 154, 160, 166, 181, 183, 185, 202, 234, 238, 248,\n",
       "             255, 256, 262, 298, 306, 312, 319, 325, 342, 378, 382, 387, 391,\n",
       "             395, 418, 420, 436, 437, 446, 451, 473, 481, 499, 507, 534, 536,\n",
       "             540, 541, 542, 543, 551, 586, 594, 609, 616, 635, 643, 660, 684,\n",
       "             686, 743, 755, 764, 784, 789, 793, 803, 814, 820, 828, 847, 851,\n",
       "             864, 889],\n",
       "            dtype='int64', name='PassengerId'),\n",
       " 3: Int64Index([87, 438, 737, 775, 859], dtype='int64', name='PassengerId'),\n",
       " 4: Int64Index([168, 361, 439, 568], dtype='int64', name='PassengerId'),\n",
       " 5: Int64Index([14, 26, 611, 639, 886], dtype='int64', name='PassengerId'),\n",
       " 6: Int64Index([679], dtype='int64', name='PassengerId')}"
      ]
     },
     "execution_count": 165,
     "metadata": {},
     "output_type": "execute_result"
    }
   ],
   "source": [
    "titanic_parch_group = titanic_train.groupby(\"Parch\")\n",
    "titanic_parch_group.groups"
   ]
  },
  {
   "cell_type": "markdown",
   "metadata": {},
   "source": [
    "And also like in demographic analysis we will binnarize the `Fare` attribute values."
   ]
  },
  {
   "cell_type": "code",
   "execution_count": 166,
   "metadata": {
    "collapsed": false
   },
   "outputs": [
    {
     "data": {
      "text/plain": [
       "{'(0, 20]': Int64Index([  1,   3,   5,   6,   9,  11,  13,  15,  16,  18,\n",
       "             ...\n",
       "             876, 877, 878, 879, 882, 883, 884, 885, 887, 891],\n",
       "            dtype='int64', name='PassengerId', length=500),\n",
       " '(100, 300]': Int64Index([ 28,  32,  89, 119, 196, 216, 269, 270, 298, 300, 306, 307, 308,\n",
       "             312, 319, 320, 326, 333, 335, 338, 342, 374, 378, 381, 391, 394,\n",
       "             436, 439, 499, 506, 528, 538, 545, 551, 558, 582, 610, 660, 661,\n",
       "             690, 699, 701, 709, 717, 731, 743, 764, 780, 803, 857],\n",
       "            dtype='int64', name='PassengerId'),\n",
       " '(20, 40]': Int64Index([  8,  10,  12,  14,  17,  21,  24,  25,  26,  31,\n",
       "             ...\n",
       "             854, 855, 858, 863, 875, 881, 886, 888, 889, 890],\n",
       "            dtype='int64', name='PassengerId', length=199),\n",
       " '(300, 600]': Int64Index([259, 680, 738], dtype='int64', name='PassengerId'),\n",
       " '(40, 60]': Int64Index([  4,   7,  36,  44,  60,  72,  75,  84, 111, 138, 167, 170, 186,\n",
       "             249, 310, 330, 357, 371, 384, 387, 435, 458, 476, 481, 494, 510,\n",
       "             514, 524, 540, 572, 578, 584, 600, 603, 609, 622, 644, 670, 672,\n",
       "             679, 684, 686, 691, 693, 711, 713, 725, 749, 782, 810, 827, 839,\n",
       "             868, 872],\n",
       "            dtype='int64', name='PassengerId'),\n",
       " '(60, 80]': Int64Index([  2,  53,  55,  62,  73,  93,  98, 103, 121, 125, 140, 152, 156,\n",
       "             160, 181, 202, 219, 257, 263, 276, 291, 325, 337, 367, 370, 386,\n",
       "             497, 541, 559, 586, 588, 592, 616, 628, 642, 646, 656, 666, 682,\n",
       "             742, 746, 755, 766, 790, 793, 830, 847, 864],\n",
       "            dtype='int64', name='PassengerId'),\n",
       " '(80, 100]': Int64Index([ 35,  63, 225, 231, 246, 258, 292, 311, 376, 413, 446, 454, 485,\n",
       "             487, 505, 521, 760, 821, 836, 850, 880],\n",
       "            dtype='int64', name='PassengerId')}"
      ]
     },
     "execution_count": 166,
     "metadata": {},
     "output_type": "execute_result"
    }
   ],
   "source": [
    "titanic_fare_group = titanic_train.groupby(pd.cut(titanic_train[\"Fare\"], bins=[0, 20, 40, 60, 80, 100, 300, 600]))\n",
    "titanic_fare_group.groups"
   ]
  },
  {
   "cell_type": "code",
   "execution_count": 167,
   "metadata": {
    "collapsed": false
   },
   "outputs": [
    {
     "data": {
      "text/plain": [
       "{'C': Int64Index([  2,  10,  20,  27,  31,  32,  35,  37,  40,  43,\n",
       "             ...\n",
       "             848, 850, 853, 859, 860, 867, 875, 876, 880, 890],\n",
       "            dtype='int64', name='PassengerId', length=168),\n",
       " 'Q': Int64Index([  6,  17,  23,  29,  33,  45,  47,  48,  83, 110, 117, 127, 144,\n",
       "             157, 172, 187, 189, 197, 199, 209, 215, 242, 246, 261, 265, 275,\n",
       "             279, 281, 290, 301, 302, 304, 323, 331, 359, 360, 365, 369, 389,\n",
       "             412, 413, 422, 429, 460, 469, 502, 503, 511, 518, 526, 553, 561,\n",
       "             574, 594, 613, 614, 627, 630, 654, 655, 658, 681, 698, 704, 719,\n",
       "             728, 750, 768, 769, 777, 779, 788, 791, 826, 829, 886, 891],\n",
       "            dtype='int64', name='PassengerId'),\n",
       " 'S': Int64Index([  1,   3,   4,   5,   7,   8,   9,  11,  12,  13,\n",
       "             ...\n",
       "             878, 879, 881, 882, 883, 884, 885, 887, 888, 889],\n",
       "            dtype='int64', name='PassengerId', length=643)}"
      ]
     },
     "execution_count": 167,
     "metadata": {},
     "output_type": "execute_result"
    }
   ],
   "source": [
    "titanic_embarked_group = titanic_train.groupby(\"Embarked\")\n",
    "titanic_embarked_group.groups"
   ]
  },
  {
   "cell_type": "markdown",
   "metadata": {},
   "source": [
    "With passengers data grouped with all meaningful attributes we can now proceed with calculating survival ration for each of the group. We will also prepend each group name (index value) with the attribute name for later analysis. This will help us to distinct groups with similar names created from separate attributes."
   ]
  },
  {
   "cell_type": "code",
   "execution_count": 168,
   "metadata": {
    "collapsed": false
   },
   "outputs": [
    {
     "data": {
      "text/plain": [
       "Pclass: 1    0.627907\n",
       "Pclass: 2    0.472826\n",
       "Pclass: 3    0.242363\n",
       "dtype: float64"
      ]
     },
     "execution_count": 168,
     "metadata": {},
     "output_type": "execute_result"
    }
   ],
   "source": [
    "titanic_pclass_survival_ratio = titanic_pclass_group.apply(get_survival_ratio)\n",
    "titanic_pclass_survival_ratio.index = [\"Pclass: \" + str(idx) for idx in titanic_pclass_survival_ratio.index]\n",
    "titanic_pclass_survival_ratio"
   ]
  },
  {
   "cell_type": "code",
   "execution_count": 169,
   "metadata": {
    "collapsed": false
   },
   "outputs": [
    {
     "data": {
      "text/plain": [
       "Sex: female    0.742038\n",
       "Sex: male      0.187500\n",
       "dtype: float64"
      ]
     },
     "execution_count": 169,
     "metadata": {},
     "output_type": "execute_result"
    }
   ],
   "source": [
    "titanic_sex_survival_ratio = titanic_sex_group.apply(get_survival_ratio)\n",
    "titanic_sex_survival_ratio.index = [\"Sex: \" + str(idx) for idx in titanic_sex_survival_ratio.index]\n",
    "titanic_sex_survival_ratio"
   ]
  },
  {
   "cell_type": "code",
   "execution_count": 170,
   "metadata": {
    "collapsed": false
   },
   "outputs": [
    {
     "data": {
      "text/plain": [
       "Age: (0, 14]     0.584416\n",
       "Age: (14, 24]    0.365000\n",
       "Age: (24, 34]    0.388060\n",
       "Age: (34, 44]    0.421488\n",
       "Age: (44, 54]    0.410959\n",
       "Age: (54, 64]    0.387097\n",
       "Age: (64, 80]    0.000000\n",
       "dtype: float64"
      ]
     },
     "execution_count": 170,
     "metadata": {},
     "output_type": "execute_result"
    }
   ],
   "source": [
    "titanic_age_survival_ratio = titanic_age_group.apply(get_survival_ratio)\n",
    "titanic_age_survival_ratio.index = [\"Age: \" + str(idx) for idx in titanic_age_survival_ratio.index]\n",
    "titanic_age_survival_ratio"
   ]
  },
  {
   "cell_type": "code",
   "execution_count": 171,
   "metadata": {
    "collapsed": false
   },
   "outputs": [
    {
     "data": {
      "text/plain": [
       "Sibsp: 0    0.344316\n",
       "Sibsp: 1    0.535885\n",
       "Sibsp: 2    0.464286\n",
       "Sibsp: 3    0.250000\n",
       "Sibsp: 4    0.166667\n",
       "Sibsp: 5    0.000000\n",
       "Sibsp: 8    0.000000\n",
       "dtype: float64"
      ]
     },
     "execution_count": 171,
     "metadata": {},
     "output_type": "execute_result"
    }
   ],
   "source": [
    "titanic_sibsp_survival_ratio = titanic_sibsp_group.apply(get_survival_ratio)\n",
    "titanic_sibsp_survival_ratio.index = [\"Sibsp: \" + str(idx) for idx in titanic_sibsp_survival_ratio.index]\n",
    "titanic_sibsp_survival_ratio"
   ]
  },
  {
   "cell_type": "code",
   "execution_count": 172,
   "metadata": {
    "collapsed": false
   },
   "outputs": [
    {
     "data": {
      "text/plain": [
       "Parch: 0    0.342688\n",
       "Parch: 1    0.550847\n",
       "Parch: 2    0.500000\n",
       "Parch: 3    0.600000\n",
       "Parch: 4    0.000000\n",
       "Parch: 5    0.200000\n",
       "Parch: 6    0.000000\n",
       "dtype: float64"
      ]
     },
     "execution_count": 172,
     "metadata": {},
     "output_type": "execute_result"
    }
   ],
   "source": [
    "titanic_parch_survival_ratio = titanic_parch_group.apply(get_survival_ratio)\n",
    "titanic_parch_survival_ratio.index = [\"Parch: \" + str(idx) for idx in titanic_parch_survival_ratio.index]\n",
    "titanic_parch_survival_ratio"
   ]
  },
  {
   "cell_type": "code",
   "execution_count": 173,
   "metadata": {
    "collapsed": false
   },
   "outputs": [
    {
     "data": {
      "text/plain": [
       "Fare: (0, 20]       0.284000\n",
       "Fare: (20, 40]      0.427136\n",
       "Fare: (40, 60]      0.574074\n",
       "Fare: (60, 80]      0.520833\n",
       "Fare: (80, 100]     0.857143\n",
       "Fare: (100, 300]    0.720000\n",
       "Fare: (300, 600]    1.000000\n",
       "dtype: float64"
      ]
     },
     "execution_count": 173,
     "metadata": {},
     "output_type": "execute_result"
    }
   ],
   "source": [
    "titanic_fare_survival_ratio = titanic_fare_group.apply(get_survival_ratio)\n",
    "titanic_fare_survival_ratio.index = [\"Fare: \" + str(idx) for idx in titanic_fare_survival_ratio.index]\n",
    "titanic_fare_survival_ratio"
   ]
  },
  {
   "cell_type": "code",
   "execution_count": 174,
   "metadata": {
    "collapsed": false
   },
   "outputs": [
    {
     "data": {
      "text/plain": [
       "Embarked: C    0.553571\n",
       "Embarked: Q    0.389610\n",
       "Embarked: S    0.335925\n",
       "dtype: float64"
      ]
     },
     "execution_count": 174,
     "metadata": {},
     "output_type": "execute_result"
    }
   ],
   "source": [
    "titanic_embarked_survival_ratio = titanic_embarked_group.apply(get_survival_ratio)\n",
    "titanic_embarked_survival_ratio.index = [\"Embarked: \" + str(idx) for idx in titanic_embarked_survival_ratio.index]\n",
    "titanic_embarked_survival_ratio"
   ]
  },
  {
   "cell_type": "markdown",
   "metadata": {},
   "source": [
    "We will now combine all the survival ratios. As a reference we will also add an overall titanic survival ratio."
   ]
  },
  {
   "cell_type": "code",
   "execution_count": 175,
   "metadata": {
    "collapsed": false
   },
   "outputs": [
    {
     "data": {
      "text/plain": [
       "Pclass: 1           0.627907\n",
       "Pclass: 2           0.472826\n",
       "Pclass: 3           0.242363\n",
       "Sex: female         0.742038\n",
       "Sex: male           0.187500\n",
       "Age: (0, 14]        0.584416\n",
       "Age: (14, 24]       0.365000\n",
       "Age: (24, 34]       0.388060\n",
       "Age: (34, 44]       0.421488\n",
       "Age: (44, 54]       0.410959\n",
       "Age: (54, 64]       0.387097\n",
       "Age: (64, 80]       0.000000\n",
       "Sibsp: 0            0.344316\n",
       "Sibsp: 1            0.535885\n",
       "Sibsp: 2            0.464286\n",
       "Sibsp: 3            0.250000\n",
       "Sibsp: 4            0.166667\n",
       "Sibsp: 5            0.000000\n",
       "Sibsp: 8            0.000000\n",
       "Parch: 0            0.342688\n",
       "Parch: 1            0.550847\n",
       "Parch: 2            0.500000\n",
       "Parch: 3            0.600000\n",
       "Parch: 4            0.000000\n",
       "Parch: 5            0.200000\n",
       "Parch: 6            0.000000\n",
       "Fare: (0, 20]       0.284000\n",
       "Fare: (20, 40]      0.427136\n",
       "Fare: (40, 60]      0.574074\n",
       "Fare: (60, 80]      0.520833\n",
       "Fare: (80, 100]     0.857143\n",
       "Fare: (100, 300]    0.720000\n",
       "Fare: (300, 600]    1.000000\n",
       "Embarked: C         0.553571\n",
       "Embarked: Q         0.389610\n",
       "Embarked: S         0.335925\n",
       "Overall             0.383146\n",
       "dtype: float64"
      ]
     },
     "execution_count": 175,
     "metadata": {},
     "output_type": "execute_result"
    }
   ],
   "source": [
    "survival_ratios = pd.concat([\n",
    "            titanic_pclass_survival_ratio,\n",
    "            titanic_sex_survival_ratio,\n",
    "            titanic_age_survival_ratio,\n",
    "            titanic_sibsp_survival_ratio,\n",
    "            titanic_parch_survival_ratio,\n",
    "            titanic_fare_survival_ratio,\n",
    "            titanic_embarked_survival_ratio], \n",
    "    axis=0)\n",
    "survival_ratios[\"Overall\"] = overall_survival_ratio\n",
    "survival_ratios"
   ]
  },
  {
   "cell_type": "markdown",
   "metadata": {},
   "source": [
    "We will also prepare passengers count from each of above groups to visualize how big each of the analysed group was."
   ]
  },
  {
   "cell_type": "code",
   "execution_count": 176,
   "metadata": {
    "collapsed": false
   },
   "outputs": [
    {
     "data": {
      "text/plain": [
       "1             215\n",
       "2             184\n",
       "3             491\n",
       "female        314\n",
       "male          576\n",
       "(0, 14]        77\n",
       "(14, 24]      200\n",
       "(24, 34]      201\n",
       "(34, 44]      121\n",
       "(44, 54]       73\n",
       "(54, 64]       31\n",
       "(64, 80]       10\n",
       "0             607\n",
       "1             209\n",
       "2              28\n",
       "3              16\n",
       "4              18\n",
       "5               5\n",
       "8               7\n",
       "0             677\n",
       "1             118\n",
       "2              80\n",
       "3               5\n",
       "4               4\n",
       "5               5\n",
       "6               1\n",
       "(0, 20]       500\n",
       "(20, 40]      199\n",
       "(40, 60]       54\n",
       "(60, 80]       48\n",
       "(80, 100]      21\n",
       "(100, 300]     50\n",
       "(300, 600]      3\n",
       "C             168\n",
       "Q              77\n",
       "S             643\n",
       "Overall       890\n",
       "dtype: int64"
      ]
     },
     "execution_count": 176,
     "metadata": {},
     "output_type": "execute_result"
    }
   ],
   "source": [
    "titanic_pclass_survival_count = titanic_pclass_group.apply(len)\n",
    "titanic_sex_survival_count = titanic_sex_group.apply(len)\n",
    "titanic_age_survival_count = titanic_age_group.apply(len)\n",
    "titanic_sibsp_survival_count = titanic_sibsp_group.apply(len)\n",
    "titanic_parch_survival_count = titanic_parch_group.apply(len)\n",
    "titanic_fare_survival_count = titanic_fare_group.apply(len)\n",
    "titanic_embarked_survival_count = titanic_embarked_group.apply(len)\n",
    "\n",
    "groups_counts = pd.concat([\n",
    "    titanic_pclass_survival_count,\n",
    "    titanic_sex_survival_count,\n",
    "    titanic_age_survival_count,\n",
    "    titanic_sibsp_survival_count,\n",
    "    titanic_parch_survival_count,\n",
    "    titanic_fare_survival_count,\n",
    "    titanic_embarked_survival_count\n",
    "])\n",
    "groups_counts[\"Overall\"] = len(titanic_train)\n",
    "groups_counts"
   ]
  },
  {
   "cell_type": "markdown",
   "metadata": {},
   "source": [
    "Let's now visualize and analyze these results."
   ]
  },
  {
   "cell_type": "code",
   "execution_count": 177,
   "metadata": {
    "collapsed": false
   },
   "outputs": [],
   "source": [
    "def get_groups_survival_ratio_plot(survival_ratios, groups_counts, labels, figsize=(20, 10)):\n",
    "    idx = np.arange(len(survival_ratios))\n",
    "    width = len(survival_ratios) / 50\n",
    "\n",
    "    fig, axes = plt.subplots(nrows=2, ncols=1, figsize=figsize, sharex=True)\n",
    "    axes[0].bar(idx, groups_counts, width, color='#f9d9ac', label=\"Passengers number\")\n",
    "    axes[0].set_title(\"Atributes groups passengers counts\")\n",
    "    axes[0].set_ylabel(\"Number of passengers\")\n",
    "    axes[0].legend(loc=2)\n",
    "    \n",
    "    axes[1].bar(idx, survival_ratios, width, color='#f1b7b0', label=\"Survived\")\n",
    "    axes[1].bar(idx, 1 - survival_ratios, width, bottom=survival_ratios, color='#f0f0f0', label=\"Not survived\")\n",
    "    axes[1].set_title(\"Survival ratios for atributes groups\")\n",
    "    axes[1].set_ylabel(\"Survival ratio\")\n",
    "    axes[1].legend(loc=2)\n",
    "    \n",
    "    plt.xticks(idx, labels, rotation='vertical', fontsize=12)\n",
    "    plt.tight_layout()\n",
    "    plt.show()"
   ]
  },
  {
   "cell_type": "code",
   "execution_count": 178,
   "metadata": {
    "collapsed": false,
    "scrolled": false
   },
   "outputs": [
    {
     "data": {
      "image/png": "[encoded data removed]",
      "text/plain": [
       "<matplotlib.figure.Figure at 0x119ed1518>"
      ]
     },
     "metadata": {},
     "output_type": "display_data"
    }
   ],
   "source": [
    "get_groups_survival_ratio_plot(survival_ratios.values, groups_counts.values, survival_ratios.index)"
   ]
  },
  {
   "cell_type": "markdown",
   "metadata": {},
   "source": [
    "Let's now finally analyse the results we got. As a reference on the right hand side of the graph we places the overal Titanic passengers survival ratio 0.38. \n",
    "\n",
    "Let's start with `Pclass` survival ratio levels. As we could expect, based on popular knowledge, the first (and even second) class passengers had a lot greater chances of survival than third class passengers. The survival rate was 0.63 in the first class meaning that 62% of passengers travelling in this class survived. Second class had a bit lower survival rate of 0.47. But comparing that to the third class passengers survival ration of 0.24 is shocking. Only 24% of third class passengers survived the catastrophy. That plus the fact that third class was the most populated (third bar in the top plot) with 491 passengers (out of all 891 in this dataset) gives the image of dramatic situation these people were in. Looking for the reasons of this high mortality level is beyond the scope of this analysis.\n",
    "\n",
    "Looking at `Sex` attribute values groups we also see clear relationship in terms of survival ratio values. Clearly women were more likely to survive than men with 0.74 survival ration for women and 0.18 for men. Again this is what we could expect from popular knowledge. This could be expected following \"Women and children first\" marine code of conduct (more about it [here](https://en.wikipedia.org/wiki/Women_and_children_first)). This fact is clearly visible in the data we see here.\n",
    "\n",
    "Going step forward, was the same rescue law applied to children or maybe other age groups? Analysing `Age` attribute survival ratios it appears that the answer is positive. Passengers in the age group of 0-14 have much higher survival ration of 0.58 than the rest of passengers. Other passengers age groups oscilate around the overall survival ratio of 0.38. With one exception however: for age group of 64-80 passengers have very small survival rate of 0.09. Again this analysis is not a place to look for specific reasons for this fact. We just need to mention that there were only 11 passengers in this age group.\n",
    "\n",
    "Let's now analyze `Sibsp` and groups of passengers travelling with different number of siblings or spouse. The data set specification defines siblings as: brother, sister, stepbrother, stepsister. It also defines spouse as: husband, wife. There is no other information in the data set that could help us to separate these two groups (whether passenger traveled with sibling, spouse or alone) so we will analyse as is recorded in the data set.\n",
    "\n",
    "It is interesting whether travelling with siblings or spouse affected chances for survival. 608 passengers, meaning vast majority, traveled without any with 0.35 survival ratio. Passengers travelling with one and two sibling or spouse had higher survival chances of 0.54 and 0.46. There were passengers travelling 3, 4, 5 and 8 siblings or spouse on board. They survival ratio was lower and reaching 0 for the last two groups. Again analysing these groups survival ratio we need to remeber that very few passengers belonged to these groups. For example, only 7 passengers belonged to 8 siblings or spouse group. Let's see who they were.\n"
   ]
  },
  {
   "cell_type": "code",
   "execution_count": 179,
   "metadata": {
    "collapsed": false
   },
   "outputs": [
    {
     "data": {
      "text/html": [
       "<div>\n",
       "<table border=\"1\" class=\"dataframe\">\n",
       "  <thead>\n",
       "    <tr style=\"text-align: right;\">\n",
       "      <th></th>\n",
       "      <th>Survived</th>\n",
       "      <th>Pclass</th>\n",
       "      <th>Name</th>\n",
       "      <th>Sex</th>\n",
       "      <th>Age</th>\n",
       "      <th>SibSp</th>\n",
       "      <th>Parch</th>\n",
       "      <th>Ticket</th>\n",
       "      <th>Fare</th>\n",
       "      <th>Cabin</th>\n",
       "      <th>Embarked</th>\n",
       "    </tr>\n",
       "    <tr>\n",
       "      <th>PassengerId</th>\n",
       "      <th></th>\n",
       "      <th></th>\n",
       "      <th></th>\n",
       "      <th></th>\n",
       "      <th></th>\n",
       "      <th></th>\n",
       "      <th></th>\n",
       "      <th></th>\n",
       "      <th></th>\n",
       "      <th></th>\n",
       "      <th></th>\n",
       "    </tr>\n",
       "  </thead>\n",
       "  <tbody>\n",
       "    <tr>\n",
       "      <th>160</th>\n",
       "      <td>0</td>\n",
       "      <td>3</td>\n",
       "      <td>Sage, Master. Thomas Henry</td>\n",
       "      <td>male</td>\n",
       "      <td>NaN</td>\n",
       "      <td>8</td>\n",
       "      <td>2</td>\n",
       "      <td>CA. 2343</td>\n",
       "      <td>69.55</td>\n",
       "      <td>NaN</td>\n",
       "      <td>S</td>\n",
       "    </tr>\n",
       "    <tr>\n",
       "      <th>181</th>\n",
       "      <td>0</td>\n",
       "      <td>3</td>\n",
       "      <td>Sage, Miss. Constance Gladys</td>\n",
       "      <td>female</td>\n",
       "      <td>NaN</td>\n",
       "      <td>8</td>\n",
       "      <td>2</td>\n",
       "      <td>CA. 2343</td>\n",
       "      <td>69.55</td>\n",
       "      <td>NaN</td>\n",
       "      <td>S</td>\n",
       "    </tr>\n",
       "    <tr>\n",
       "      <th>202</th>\n",
       "      <td>0</td>\n",
       "      <td>3</td>\n",
       "      <td>Sage, Mr. Frederick</td>\n",
       "      <td>male</td>\n",
       "      <td>NaN</td>\n",
       "      <td>8</td>\n",
       "      <td>2</td>\n",
       "      <td>CA. 2343</td>\n",
       "      <td>69.55</td>\n",
       "      <td>NaN</td>\n",
       "      <td>S</td>\n",
       "    </tr>\n",
       "    <tr>\n",
       "      <th>325</th>\n",
       "      <td>0</td>\n",
       "      <td>3</td>\n",
       "      <td>Sage, Mr. George John Jr</td>\n",
       "      <td>male</td>\n",
       "      <td>NaN</td>\n",
       "      <td>8</td>\n",
       "      <td>2</td>\n",
       "      <td>CA. 2343</td>\n",
       "      <td>69.55</td>\n",
       "      <td>NaN</td>\n",
       "      <td>S</td>\n",
       "    </tr>\n",
       "    <tr>\n",
       "      <th>793</th>\n",
       "      <td>0</td>\n",
       "      <td>3</td>\n",
       "      <td>Sage, Miss. Stella Anna</td>\n",
       "      <td>female</td>\n",
       "      <td>NaN</td>\n",
       "      <td>8</td>\n",
       "      <td>2</td>\n",
       "      <td>CA. 2343</td>\n",
       "      <td>69.55</td>\n",
       "      <td>NaN</td>\n",
       "      <td>S</td>\n",
       "    </tr>\n",
       "    <tr>\n",
       "      <th>847</th>\n",
       "      <td>0</td>\n",
       "      <td>3</td>\n",
       "      <td>Sage, Mr. Douglas Bullen</td>\n",
       "      <td>male</td>\n",
       "      <td>NaN</td>\n",
       "      <td>8</td>\n",
       "      <td>2</td>\n",
       "      <td>CA. 2343</td>\n",
       "      <td>69.55</td>\n",
       "      <td>NaN</td>\n",
       "      <td>S</td>\n",
       "    </tr>\n",
       "    <tr>\n",
       "      <th>864</th>\n",
       "      <td>0</td>\n",
       "      <td>3</td>\n",
       "      <td>Sage, Miss. Dorothy Edith \"Dolly\"</td>\n",
       "      <td>female</td>\n",
       "      <td>NaN</td>\n",
       "      <td>8</td>\n",
       "      <td>2</td>\n",
       "      <td>CA. 2343</td>\n",
       "      <td>69.55</td>\n",
       "      <td>NaN</td>\n",
       "      <td>S</td>\n",
       "    </tr>\n",
       "  </tbody>\n",
       "</table>\n",
       "</div>"
      ],
      "text/plain": [
       "             Survived  Pclass                               Name     Sex  Age  \\\n",
       "PassengerId                                                                     \n",
       "160                 0       3         Sage, Master. Thomas Henry    male  NaN   \n",
       "181                 0       3       Sage, Miss. Constance Gladys  female  NaN   \n",
       "202                 0       3                Sage, Mr. Frederick    male  NaN   \n",
       "325                 0       3           Sage, Mr. George John Jr    male  NaN   \n",
       "793                 0       3            Sage, Miss. Stella Anna  female  NaN   \n",
       "847                 0       3           Sage, Mr. Douglas Bullen    male  NaN   \n",
       "864                 0       3  Sage, Miss. Dorothy Edith \"Dolly\"  female  NaN   \n",
       "\n",
       "             SibSp  Parch    Ticket   Fare Cabin Embarked  \n",
       "PassengerId                                                \n",
       "160              8      2  CA. 2343  69.55   NaN        S  \n",
       "181              8      2  CA. 2343  69.55   NaN        S  \n",
       "202              8      2  CA. 2343  69.55   NaN        S  \n",
       "325              8      2  CA. 2343  69.55   NaN        S  \n",
       "793              8      2  CA. 2343  69.55   NaN        S  \n",
       "847              8      2  CA. 2343  69.55   NaN        S  \n",
       "864              8      2  CA. 2343  69.55   NaN        S  "
      ]
     },
     "execution_count": 179,
     "metadata": {},
     "output_type": "execute_result"
    }
   ],
   "source": [
    "titanic_train[titanic_train[\"SibSp\"] == 8]"
   ]
  },
  {
   "cell_type": "markdown",
   "metadata": {},
   "source": [
    "As we can see it is a case of a tragic story of one big familly, all travelling in the third class. Unfortunatelly all died in the catastrophy. In fact it was two parents travelling with 8 children but three of them are not included in this dataset. That is why `SibSp` is 8 even though we have only 7 individuals here. You can read more about their story [here](https://www.encyclopedia-titanica.org/titanic-victim/thomas-henry-sage.html)."
   ]
  },
  {
   "cell_type": "markdown",
   "metadata": {},
   "source": [
    "Moving on to analysis of `Parch` attribute survival ratio. Parch column in the data set according to data our data book represents number of parents or children aboard the Titanic. This can include three seprate groups of passengers:\n",
    "* children travelling with parents,\n",
    "* adults travelling with children,\n",
    "* adults travelling with parents.\n",
    "\n",
    "We could be able to separate these three subcategories from Parch column information by age in further analysis. If Parch value in not equal to zero and the passenger age is less than 18 years old we will could assume that passenger is a child travelling with parent. If passenger is above 18 years old we could assume that she or he is an adult who travels with children. However of course it can happend that adult person is travelling with a parent and/or children. It is not distinct separation so we will perform analysis including all of these groups together.\n",
    "\n",
    "Again vast majority of passengers (678) traveled without any children or parents with survival ratio of 0.34. We can see that passengers travelling with 1, 2 or 3 children or parents had bigger chances of survival (0.55, 0.50 and 0.60 accordingly), but again let's remember that these groups had much less passengers (118, 80, 5). There were only 10 passenger travelling with 4, 5 or 6 parents or children, they had smaller chances for survival but the group were to small to draw any conclusions.\n",
    "\n",
    "When we look at `Fare` attribute survival ratio values we can see clear almost linear relation between the price o the ticket and the survival ratio. It looks like the more passenger paid for the ticket the bigger were the chances of survival. The survival ratio for passengers who bought the tickets for 0-20 was 0.28, for passengers with tickers between 20-40 the survival ration was 0.43. And for further groups: 40-60 0.57, 60-80 0.520833, 80-100 0.86, 100-300, 0.72, and for tickets with price between 300-600 the survival ratio was 1.00 meaning that all of these passengers survived. There are two facts we need to mention. First, the more expesive ticket the higher class in which passenger traveled meaning of course the higher chances for survival. Second, the number of passengers in groups of ticket prices above 40 is about 50 passengers making them small with only three passengers in the most expensive 300-600 ticket price range price group.\n",
    "\n",
    "Finally let's look at the `Embarked` atribute passengers groups. As a reminder: `C` stands for Cherbourg port of departure, `Q` stands for Queenstown and `S` stands for Southampton. Majority of Titanic passengers (644) embarked in Southhampton. Also this group of passengers have the lowest survival ratio out of all three ports of embarkation (0.34). Similarly passengers who embarked in Queenstown had survival ratio equal to 0.39. However those who embarked in Cherbourg had survival ratio of 0.55. First of all there were much less passengers embarking in the last two ports the other two ports (77 in Queenstown and 168 in Cherbourg). We could guess, considering large number of passengers, that the third class passengers embarked mostly in Southhampton and Queenstown and that could be the reason for such small, as compared to Cherbourg port, survival ratio for passengers embarking here. Let's check it with data."
   ]
  },
  {
   "cell_type": "code",
   "execution_count": 180,
   "metadata": {
    "collapsed": false
   },
   "outputs": [
    {
     "data": {
      "text/plain": [
       "1    126\n",
       "2    164\n",
       "3    353\n",
       "Name: Pclass, dtype: int64"
      ]
     },
     "execution_count": 180,
     "metadata": {},
     "output_type": "execute_result"
    }
   ],
   "source": [
    "titanic_embarked_group.get_group(\"S\")[\"Pclass\"].value_counts(sort=False)"
   ]
  },
  {
   "cell_type": "code",
   "execution_count": 181,
   "metadata": {
    "collapsed": false
   },
   "outputs": [
    {
     "data": {
      "text/plain": [
       "1     2\n",
       "2     3\n",
       "3    72\n",
       "Name: Pclass, dtype: int64"
      ]
     },
     "execution_count": 181,
     "metadata": {},
     "output_type": "execute_result"
    }
   ],
   "source": [
    "titanic_embarked_group.get_group(\"Q\")[\"Pclass\"].value_counts(sort=False)"
   ]
  },
  {
   "cell_type": "code",
   "execution_count": 182,
   "metadata": {
    "collapsed": false
   },
   "outputs": [
    {
     "data": {
      "text/plain": [
       "1    85\n",
       "2    17\n",
       "3    66\n",
       "Name: Pclass, dtype: int64"
      ]
     },
     "execution_count": 182,
     "metadata": {},
     "output_type": "execute_result"
    }
   ],
   "source": [
    "titanic_embarked_group.get_group(\"C\")[\"Pclass\"].value_counts(sort=False)"
   ]
  },
  {
   "cell_type": "markdown",
   "metadata": {
    "collapsed": true
   },
   "source": [
    "That confirms our hypothesis. Both in Southampton and Queenstown third class passengers, and those had much lower chances for survival, we the majority of embarking there. In Cherbourg port the situation was the opposite: first class passengers were the majority and that is the reason survival ration is so high for these passengers."
   ]
  },
  {
   "cell_type": "code",
   "execution_count": null,
   "metadata": {
    "collapsed": true
   },
   "outputs": [],
   "source": []
  }
 ],
 "metadata": {
  "kernelspec": {
   "display_name": "Python 3",
   "language": "python",
   "name": "python3"
  },
  "language_info": {
   "codemirror_mode": {
    "name": "ipython",
    "version": 3
   },
   "file_extension": ".py",
   "mimetype": "text/x-python",
   "name": "python",
   "nbconvert_exporter": "python",
   "pygments_lexer": "ipython3",
   "version": "3.6.3"
  }
 },
 "nbformat": 4,
 "nbformat_minor": 2
}
