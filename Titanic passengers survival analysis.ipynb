{
 "cells": [
  {
   "cell_type": "markdown",
   "metadata": {},
   "source": [
    "# Titanic passengers survival analysis\n",
    "\n",
    "Titanic sinking was one of the most shocking transportation catastrophes in the history. Let's analyze Titanic passengers data and look for what factors could affect passengers chances to survive. The analysis will be based on classic data set available on [Kaggle](https://www.kaggle.com/c/titanic)."
   ]
  },
  {
   "cell_type": "markdown",
   "metadata": {},
   "source": [
    "## 1. Questions\n",
    "\n",
    "There are several interesting things that can be analysed.\n",
    "\n",
    "- What was the overall survival rate among all passengers?\n",
    "\n",
    "- How does it differ for women, men or children?\n",
    "\n",
    "- How does being of specific deck defined chances of survival?\n",
    "\n",
    "- Were people related or travelling together more probable to survive than those traveling alone?\n",
    "\n",
    "- Were people relative to each other surviving together or not?\n",
    "\n",
    "- How does it differ for crew memebers and technical staff?\n",
    "\n",
    "- What were the factors that could affect person survival chances?\n",
    "\n",
    "- What were the features that most of passengers in lifeboats shared?\n",
    "\n",
    "- What were the features that most of passengers who did not survive shared?\n",
    "\n",
    "- What combination of factors gave the biggest chances for survival? And what combination for the lowest?\n",
    "\n",
    "\n",
    "These are just initial questions I can come up with. We will later review them after wrangling some data. Let's wrangle then.\n"
   ]
  },
  {
   "cell_type": "markdown",
   "metadata": {},
   "source": [
    "## 2. Data wrangling"
   ]
  },
  {
   "cell_type": "code",
   "execution_count": 4,
   "metadata": {
    "collapsed": true
   },
   "outputs": [],
   "source": [
    "import pandas as pd\n",
    "import matplotlib.pyplot as plt\n",
    "\n",
    "%matplotlib inline"
   ]
  },
  {
   "cell_type": "markdown",
   "metadata": {},
   "source": [
    "First let's see data set description from Kaggle:\n",
    "\n",
    "#### Data Dictionary\n",
    "\n",
    "```\n",
    "Variable\tDefinition\tKey\n",
    "survival\tSurvival\t0 = No, 1 = Yes\n",
    "pclass\tTicket class\t1 = 1st, 2 = 2nd, 3 = 3rd\n",
    "sex\tSex\t\n",
    "Age\tAge in years\t\n",
    "sibsp\t# of siblings / spouses aboard the Titanic\t\n",
    "parch\t# of parents / children aboard the Titanic\t\n",
    "ticket\tTicket number\t\n",
    "fare\tPassenger fare\t\n",
    "cabin\tCabin number\t\n",
    "embarked\tPort of Embarkation\tC = Cherbourg, Q = Queenstown, S = Southampton\n",
    "```\n",
    "\n",
    "#### Variable Notes\n",
    "\n",
    "```\n",
    "pclass: A proxy for socio-economic status (SES)\n",
    "1st = Upper\n",
    "2nd = Middle\n",
    "3rd = Lower\n",
    "\n",
    "age: Age is fractional if less than 1. If the age is estimated, is it in the form of xx.5\n",
    "\n",
    "sibsp: The dataset defines family relations in this way...\n",
    "Sibling = brother, sister, stepbrother, stepsister\n",
    "Spouse = husband, wife (mistresses and fiancés were ignored)\n",
    "\n",
    "parch: The dataset defines family relations in this way...\n",
    "Parent = mother, father\n",
    "Child = daughter, son, stepdaughter, stepson\n",
    "Some children travelled only with a nanny, therefore parch=0 for them.\n",
    "```\n"
   ]
  },
  {
   "cell_type": "code",
   "execution_count": 5,
   "metadata": {
    "collapsed": false
   },
   "outputs": [],
   "source": [
    "survival_df = pd.read_csv(\"data/train.csv\")"
   ]
  },
  {
   "cell_type": "markdown",
   "metadata": {},
   "source": [
    "Let's see how the data looks like and what are its basic features after loading to a Data Frame."
   ]
  },
  {
   "cell_type": "code",
   "execution_count": 6,
   "metadata": {
    "collapsed": false
   },
   "outputs": [
    {
     "data": {
      "text/html": [
       "<div>\n",
       "<table border=\"1\" class=\"dataframe\">\n",
       "  <thead>\n",
       "    <tr style=\"text-align: right;\">\n",
       "      <th></th>\n",
       "      <th>PassengerId</th>\n",
       "      <th>Survived</th>\n",
       "      <th>Pclass</th>\n",
       "      <th>Name</th>\n",
       "      <th>Sex</th>\n",
       "      <th>Age</th>\n",
       "      <th>SibSp</th>\n",
       "      <th>Parch</th>\n",
       "      <th>Ticket</th>\n",
       "      <th>Fare</th>\n",
       "      <th>Cabin</th>\n",
       "      <th>Embarked</th>\n",
       "    </tr>\n",
       "  </thead>\n",
       "  <tbody>\n",
       "    <tr>\n",
       "      <th>0</th>\n",
       "      <td>1</td>\n",
       "      <td>0</td>\n",
       "      <td>3</td>\n",
       "      <td>Braund, Mr. Owen Harris</td>\n",
       "      <td>male</td>\n",
       "      <td>22.0</td>\n",
       "      <td>1</td>\n",
       "      <td>0</td>\n",
       "      <td>A/5 21171</td>\n",
       "      <td>7.2500</td>\n",
       "      <td>NaN</td>\n",
       "      <td>S</td>\n",
       "    </tr>\n",
       "    <tr>\n",
       "      <th>1</th>\n",
       "      <td>2</td>\n",
       "      <td>1</td>\n",
       "      <td>1</td>\n",
       "      <td>Cumings, Mrs. John Bradley (Florence Briggs Th...</td>\n",
       "      <td>female</td>\n",
       "      <td>38.0</td>\n",
       "      <td>1</td>\n",
       "      <td>0</td>\n",
       "      <td>PC 17599</td>\n",
       "      <td>71.2833</td>\n",
       "      <td>C85</td>\n",
       "      <td>C</td>\n",
       "    </tr>\n",
       "    <tr>\n",
       "      <th>2</th>\n",
       "      <td>3</td>\n",
       "      <td>1</td>\n",
       "      <td>3</td>\n",
       "      <td>Heikkinen, Miss. Laina</td>\n",
       "      <td>female</td>\n",
       "      <td>26.0</td>\n",
       "      <td>0</td>\n",
       "      <td>0</td>\n",
       "      <td>STON/O2. 3101282</td>\n",
       "      <td>7.9250</td>\n",
       "      <td>NaN</td>\n",
       "      <td>S</td>\n",
       "    </tr>\n",
       "    <tr>\n",
       "      <th>3</th>\n",
       "      <td>4</td>\n",
       "      <td>1</td>\n",
       "      <td>1</td>\n",
       "      <td>Futrelle, Mrs. Jacques Heath (Lily May Peel)</td>\n",
       "      <td>female</td>\n",
       "      <td>35.0</td>\n",
       "      <td>1</td>\n",
       "      <td>0</td>\n",
       "      <td>113803</td>\n",
       "      <td>53.1000</td>\n",
       "      <td>C123</td>\n",
       "      <td>S</td>\n",
       "    </tr>\n",
       "    <tr>\n",
       "      <th>4</th>\n",
       "      <td>5</td>\n",
       "      <td>0</td>\n",
       "      <td>3</td>\n",
       "      <td>Allen, Mr. William Henry</td>\n",
       "      <td>male</td>\n",
       "      <td>35.0</td>\n",
       "      <td>0</td>\n",
       "      <td>0</td>\n",
       "      <td>373450</td>\n",
       "      <td>8.0500</td>\n",
       "      <td>NaN</td>\n",
       "      <td>S</td>\n",
       "    </tr>\n",
       "  </tbody>\n",
       "</table>\n",
       "</div>"
      ],
      "text/plain": [
       "   PassengerId  Survived  Pclass  \\\n",
       "0            1         0       3   \n",
       "1            2         1       1   \n",
       "2            3         1       3   \n",
       "3            4         1       1   \n",
       "4            5         0       3   \n",
       "\n",
       "                                                Name     Sex   Age  SibSp  \\\n",
       "0                            Braund, Mr. Owen Harris    male  22.0      1   \n",
       "1  Cumings, Mrs. John Bradley (Florence Briggs Th...  female  38.0      1   \n",
       "2                             Heikkinen, Miss. Laina  female  26.0      0   \n",
       "3       Futrelle, Mrs. Jacques Heath (Lily May Peel)  female  35.0      1   \n",
       "4                           Allen, Mr. William Henry    male  35.0      0   \n",
       "\n",
       "   Parch            Ticket     Fare Cabin Embarked  \n",
       "0      0         A/5 21171   7.2500   NaN        S  \n",
       "1      0          PC 17599  71.2833   C85        C  \n",
       "2      0  STON/O2. 3101282   7.9250   NaN        S  \n",
       "3      0            113803  53.1000  C123        S  \n",
       "4      0            373450   8.0500   NaN        S  "
      ]
     },
     "execution_count": 6,
     "metadata": {},
     "output_type": "execute_result"
    }
   ],
   "source": [
    "survival_df.head()"
   ]
  },
  {
   "cell_type": "code",
   "execution_count": 7,
   "metadata": {
    "collapsed": false
   },
   "outputs": [
    {
     "data": {
      "text/html": [
       "<div>\n",
       "<table border=\"1\" class=\"dataframe\">\n",
       "  <thead>\n",
       "    <tr style=\"text-align: right;\">\n",
       "      <th></th>\n",
       "      <th>PassengerId</th>\n",
       "      <th>Survived</th>\n",
       "      <th>Pclass</th>\n",
       "      <th>Name</th>\n",
       "      <th>Sex</th>\n",
       "      <th>Age</th>\n",
       "      <th>SibSp</th>\n",
       "      <th>Parch</th>\n",
       "      <th>Ticket</th>\n",
       "      <th>Fare</th>\n",
       "      <th>Cabin</th>\n",
       "      <th>Embarked</th>\n",
       "    </tr>\n",
       "  </thead>\n",
       "  <tbody>\n",
       "    <tr>\n",
       "      <th>886</th>\n",
       "      <td>887</td>\n",
       "      <td>0</td>\n",
       "      <td>2</td>\n",
       "      <td>Montvila, Rev. Juozas</td>\n",
       "      <td>male</td>\n",
       "      <td>27.0</td>\n",
       "      <td>0</td>\n",
       "      <td>0</td>\n",
       "      <td>211536</td>\n",
       "      <td>13.00</td>\n",
       "      <td>NaN</td>\n",
       "      <td>S</td>\n",
       "    </tr>\n",
       "    <tr>\n",
       "      <th>887</th>\n",
       "      <td>888</td>\n",
       "      <td>1</td>\n",
       "      <td>1</td>\n",
       "      <td>Graham, Miss. Margaret Edith</td>\n",
       "      <td>female</td>\n",
       "      <td>19.0</td>\n",
       "      <td>0</td>\n",
       "      <td>0</td>\n",
       "      <td>112053</td>\n",
       "      <td>30.00</td>\n",
       "      <td>B42</td>\n",
       "      <td>S</td>\n",
       "    </tr>\n",
       "    <tr>\n",
       "      <th>888</th>\n",
       "      <td>889</td>\n",
       "      <td>0</td>\n",
       "      <td>3</td>\n",
       "      <td>Johnston, Miss. Catherine Helen \"Carrie\"</td>\n",
       "      <td>female</td>\n",
       "      <td>NaN</td>\n",
       "      <td>1</td>\n",
       "      <td>2</td>\n",
       "      <td>W./C. 6607</td>\n",
       "      <td>23.45</td>\n",
       "      <td>NaN</td>\n",
       "      <td>S</td>\n",
       "    </tr>\n",
       "    <tr>\n",
       "      <th>889</th>\n",
       "      <td>890</td>\n",
       "      <td>1</td>\n",
       "      <td>1</td>\n",
       "      <td>Behr, Mr. Karl Howell</td>\n",
       "      <td>male</td>\n",
       "      <td>26.0</td>\n",
       "      <td>0</td>\n",
       "      <td>0</td>\n",
       "      <td>111369</td>\n",
       "      <td>30.00</td>\n",
       "      <td>C148</td>\n",
       "      <td>C</td>\n",
       "    </tr>\n",
       "    <tr>\n",
       "      <th>890</th>\n",
       "      <td>891</td>\n",
       "      <td>0</td>\n",
       "      <td>3</td>\n",
       "      <td>Dooley, Mr. Patrick</td>\n",
       "      <td>male</td>\n",
       "      <td>32.0</td>\n",
       "      <td>0</td>\n",
       "      <td>0</td>\n",
       "      <td>370376</td>\n",
       "      <td>7.75</td>\n",
       "      <td>NaN</td>\n",
       "      <td>Q</td>\n",
       "    </tr>\n",
       "  </tbody>\n",
       "</table>\n",
       "</div>"
      ],
      "text/plain": [
       "     PassengerId  Survived  Pclass                                      Name  \\\n",
       "886          887         0       2                     Montvila, Rev. Juozas   \n",
       "887          888         1       1              Graham, Miss. Margaret Edith   \n",
       "888          889         0       3  Johnston, Miss. Catherine Helen \"Carrie\"   \n",
       "889          890         1       1                     Behr, Mr. Karl Howell   \n",
       "890          891         0       3                       Dooley, Mr. Patrick   \n",
       "\n",
       "        Sex   Age  SibSp  Parch      Ticket   Fare Cabin Embarked  \n",
       "886    male  27.0      0      0      211536  13.00   NaN        S  \n",
       "887  female  19.0      0      0      112053  30.00   B42        S  \n",
       "888  female   NaN      1      2  W./C. 6607  23.45   NaN        S  \n",
       "889    male  26.0      0      0      111369  30.00  C148        C  \n",
       "890    male  32.0      0      0      370376   7.75   NaN        Q  "
      ]
     },
     "execution_count": 7,
     "metadata": {},
     "output_type": "execute_result"
    }
   ],
   "source": [
    "survival_df.tail()"
   ]
  },
  {
   "cell_type": "code",
   "execution_count": 8,
   "metadata": {
    "collapsed": false
   },
   "outputs": [
    {
     "data": {
      "text/plain": [
       "PassengerId      int64\n",
       "Survived         int64\n",
       "Pclass           int64\n",
       "Name            object\n",
       "Sex             object\n",
       "Age            float64\n",
       "SibSp            int64\n",
       "Parch            int64\n",
       "Ticket          object\n",
       "Fare           float64\n",
       "Cabin           object\n",
       "Embarked        object\n",
       "dtype: object"
      ]
     },
     "execution_count": 8,
     "metadata": {},
     "output_type": "execute_result"
    }
   ],
   "source": [
    "survival_df.dtypes"
   ]
  },
  {
   "cell_type": "markdown",
   "metadata": {},
   "source": [
    "## 3. Data exploration\n",
    "\n",
    "Let's first see basic mortality levels among different groups.\n"
   ]
  },
  {
   "cell_type": "markdown",
   "metadata": {},
   "source": [
    "### 3.1 What was overall survival rate among all passengers?\n"
   ]
  },
  {
   "cell_type": "markdown",
   "metadata": {},
   "source": [
    "Let's start by checking how many passengers records does our data set contains."
   ]
  },
  {
   "cell_type": "code",
   "execution_count": 9,
   "metadata": {
    "collapsed": false
   },
   "outputs": [
    {
     "data": {
      "text/plain": [
       "PassengerId    891\n",
       "Survived       891\n",
       "Pclass         891\n",
       "Name           891\n",
       "Sex            891\n",
       "Age            714\n",
       "SibSp          891\n",
       "Parch          891\n",
       "Ticket         891\n",
       "Fare           891\n",
       "Cabin          204\n",
       "Embarked       889\n",
       "dtype: int64"
      ]
     },
     "execution_count": 9,
     "metadata": {},
     "output_type": "execute_result"
    }
   ],
   "source": [
    "survival_df.count()"
   ]
  },
  {
   "cell_type": "markdown",
   "metadata": {},
   "source": [
    "There is one strange thing here. Official documentation says there were 2224 Titanic passengers and this data set contains information about only 891 of them. For now let's leave it that way and analyze available data. But we should keep in mind that there is a fraction of data we are missing in this analysis and that will need some further analysis. \n",
    "\n",
    "Let's then calculate the overal survival ratio for Titanic passengers."
   ]
  },
  {
   "cell_type": "code",
   "execution_count": 10,
   "metadata": {
    "collapsed": false
   },
   "outputs": [
    {
     "data": {
      "text/plain": [
       "{0: Int64Index([  0,   4,   5,   6,   7,  12,  13,  14,  16,  18,\n",
       "             ...\n",
       "             877, 878, 881, 882, 883, 884, 885, 886, 888, 890],\n",
       "            dtype='int64', length=549),\n",
       " 1: Int64Index([  1,   2,   3,   8,   9,  10,  11,  15,  17,  19,\n",
       "             ...\n",
       "             865, 866, 869, 871, 874, 875, 879, 880, 887, 889],\n",
       "            dtype='int64', length=342)}"
      ]
     },
     "execution_count": 10,
     "metadata": {},
     "output_type": "execute_result"
    }
   ],
   "source": [
    "survival_df_survived_grouped = survival_df.groupby(\"Survived\")\n",
    "survival_df_survived_grouped.groups"
   ]
  },
  {
   "cell_type": "code",
   "execution_count": 11,
   "metadata": {
    "collapsed": false
   },
   "outputs": [],
   "source": [
    "survived_count = survival_df_survived_grouped.get_group(1)['Survived'].count()\n",
    "not_survived_count = survival_df_survived_grouped.get_group(0)['Survived'].count()"
   ]
  },
  {
   "cell_type": "code",
   "execution_count": 12,
   "metadata": {
    "collapsed": true
   },
   "outputs": [],
   "source": [
    "import matplotlib.pyplot as plt\n",
    "%matplotlib inline"
   ]
  },
  {
   "cell_type": "code",
   "execution_count": 13,
   "metadata": {
    "collapsed": true
   },
   "outputs": [],
   "source": [
    "def plot_survival_rate(survived_number, not_survived_number, title_group_name):\n",
    "    fig, axes = plt.subplots(figsize=(7, 7))\n",
    "    axes.pie([survived_number, not_survived_number], labels=[\"Survived\", \"Not survived\"], \n",
    "             autopct=lambda p: '{0:.1f}%\\n({1:.0f} passengers)'.format(p, p * (survived_number+not_survived_number) / 100), \n",
    "             shadow=False, startangle=90)\n",
    "    axes.set_title(\"Titanic survived vs. not survived ratio among {}\".format(title_group_name))\n",
    "    axes.axis('equal');\n",
    "    fig.tight_layout()"
   ]
  },
  {
   "cell_type": "code",
   "execution_count": 14,
   "metadata": {
    "collapsed": false
   },
   "outputs": [
    {
     "data": {
      "image/png": "[encoded data removed]",
      "text/plain": [
       "<matplotlib.figure.Figure at 0x10d8f6ba8>"
      ]
     },
     "metadata": {},
     "output_type": "display_data"
    }
   ],
   "source": [
    "plot_survival_rate(survived_count, not_survived_count, \"all passengers\")"
   ]
  },
  {
   "cell_type": "markdown",
   "metadata": {
    "collapsed": true
   },
   "source": [
    "We can see that overal survival rate among all Titanic passengers was 38.4%."
   ]
  },
  {
   "cell_type": "markdown",
   "metadata": {
    "collapsed": false
   },
   "source": [
    "### 3.2 What was survival rate among women and men?\n",
    "\n",
    "Let's analyse data with data set divided among genders."
   ]
  },
  {
   "cell_type": "code",
   "execution_count": 15,
   "metadata": {
    "collapsed": false
   },
   "outputs": [
    {
     "data": {
      "text/plain": [
       "{'female': Int64Index([  1,   2,   3,   8,   9,  10,  11,  14,  15,  18,\n",
       "             ...\n",
       "             866, 871, 874, 875, 879, 880, 882, 885, 887, 888],\n",
       "            dtype='int64', length=314),\n",
       " 'male': Int64Index([  0,   4,   5,   6,   7,  12,  13,  16,  17,  20,\n",
       "             ...\n",
       "             873, 876, 877, 878, 881, 883, 884, 886, 889, 890],\n",
       "            dtype='int64', length=577)}"
      ]
     },
     "execution_count": 15,
     "metadata": {},
     "output_type": "execute_result"
    }
   ],
   "source": [
    "survival_df_sex_grouped = survival_df.groupby(\"Sex\")\n",
    "survival_df_sex_grouped.groups"
   ]
  },
  {
   "cell_type": "markdown",
   "metadata": {},
   "source": [
    "We have data grouped into two sexes. Let's check how big these groups were."
   ]
  },
  {
   "cell_type": "code",
   "execution_count": 16,
   "metadata": {
    "collapsed": false
   },
   "outputs": [],
   "source": [
    "males_count = survival_df_sex_grouped.get_group(\"male\")['PassengerId'].count()\n",
    "females_count = survival_df_sex_grouped.get_group(\"female\")['PassengerId'].count()"
   ]
  },
  {
   "cell_type": "code",
   "execution_count": 17,
   "metadata": {
    "collapsed": false
   },
   "outputs": [
    {
     "data": {
      "image/png": "[encoded data removed]",
      "text/plain": [
       "<matplotlib.figure.Figure at 0x10d8f6f98>"
      ]
     },
     "metadata": {},
     "output_type": "display_data"
    }
   ],
   "source": [
    "fig, axes = plt.subplots(figsize=(8, 8))\n",
    "axes.pie([males_count, females_count], labels=[\"Males\", \"Females\"], \n",
    "         autopct=lambda p: '{0:.1f}%\\n({1:.0f} passengers)'.format(p, p * survival_df[\"PassengerId\"].count() / 100), \n",
    "         shadow=False, startangle=90)\n",
    "axes.set_title(\"Males vs. females count on Titanic\")\n",
    "axes.axis('equal');"
   ]
  },
  {
   "cell_type": "markdown",
   "metadata": {},
   "source": [
    "We can see that Titanic passengers were 64.8% males and 35.2% females."
   ]
  },
  {
   "cell_type": "markdown",
   "metadata": {},
   "source": [
    "Now we can calculate survival ratio among these two groups."
   ]
  },
  {
   "cell_type": "code",
   "execution_count": 18,
   "metadata": {
    "collapsed": false
   },
   "outputs": [],
   "source": [
    "survided_males_number = sum(survival_df_sex_grouped.get_group(\"male\")[\"Survived\"] == 1)\n",
    "not_survided_males_number = sum(survival_df_sex_grouped.get_group(\"male\")[\"Survived\"] == 0)\n",
    "\n",
    "survided_females_number = sum(survival_df_sex_grouped.get_group(\"female\")[\"Survived\"] == 1)\n",
    "not_survided_females_number = sum(survival_df_sex_grouped.get_group(\"female\")[\"Survived\"] == 0)"
   ]
  },
  {
   "cell_type": "code",
   "execution_count": 19,
   "metadata": {
    "collapsed": false,
    "scrolled": false
   },
   "outputs": [
    {
     "data": {
      "image/png": "[encoded data removed]",
      "text/plain": [
       "<matplotlib.figure.Figure at 0x10d91f2e8>"
      ]
     },
     "metadata": {},
     "output_type": "display_data"
    },
    {
     "data": {
      "image/png": "[encoded data removed]",
      "text/plain": [
       "<matplotlib.figure.Figure at 0x10d91fbe0>"
      ]
     },
     "metadata": {},
     "output_type": "display_data"
    }
   ],
   "source": [
    "plot_survival_rate(survided_males_number, not_survided_males_number, \"male passengers\")\n",
    "plot_survival_rate(survided_females_number, not_survided_females_number, \"female passengers\")"
   ]
  },
  {
   "cell_type": "markdown",
   "metadata": {},
   "source": [
    "That is interesting but also expectable. Overal survival rate on Titanic was 38.4%. However among males it was much lower with only 18.9% and much higher among females with 74.2%. This could be expected following \"Women and children first\" marine code of conduct (more on it [here](https://en.wikipedia.org/wiki/Women_and_children_first)). Just by looking at the data we analyzed so far we can confirm following first half of it based on fact that survival rate was much higher among women.\n",
    "\n",
    "The the interesting thing to check is who were these 109 males who survived: what were the factors that caused their survival considering there were still 81 women who did not entered lifeboats (not counting children). These could be children or elderly people. We will check it later when conducting age related analysis."
   ]
  },
  {
   "cell_type": "markdown",
   "metadata": {
    "collapsed": true
   },
   "source": [
    "### 3.3 What was survival rate among different age groups.\n",
    "\n",
    "Let's now analyze different age related analysis and check survival rate for different passengers ages.\n",
    "\n",
    "#### Oldest and the youngest passengers.\n",
    "\n",
    "First we will see passengers ages: youngest and oldest pasengers on board."
   ]
  },
  {
   "cell_type": "code",
   "execution_count": 20,
   "metadata": {
    "collapsed": false
   },
   "outputs": [
    {
     "data": {
      "text/html": [
       "<div>\n",
       "<table border=\"1\" class=\"dataframe\">\n",
       "  <thead>\n",
       "    <tr style=\"text-align: right;\">\n",
       "      <th></th>\n",
       "      <th>PassengerId</th>\n",
       "      <th>Survived</th>\n",
       "      <th>Pclass</th>\n",
       "      <th>Name</th>\n",
       "      <th>Sex</th>\n",
       "      <th>Age</th>\n",
       "      <th>SibSp</th>\n",
       "      <th>Parch</th>\n",
       "      <th>Ticket</th>\n",
       "      <th>Fare</th>\n",
       "      <th>Cabin</th>\n",
       "      <th>Embarked</th>\n",
       "    </tr>\n",
       "  </thead>\n",
       "  <tbody>\n",
       "    <tr>\n",
       "      <th>0</th>\n",
       "      <td>1</td>\n",
       "      <td>0</td>\n",
       "      <td>3</td>\n",
       "      <td>Braund, Mr. Owen Harris</td>\n",
       "      <td>male</td>\n",
       "      <td>22.0</td>\n",
       "      <td>1</td>\n",
       "      <td>0</td>\n",
       "      <td>A/5 21171</td>\n",
       "      <td>7.2500</td>\n",
       "      <td>NaN</td>\n",
       "      <td>S</td>\n",
       "    </tr>\n",
       "    <tr>\n",
       "      <th>1</th>\n",
       "      <td>2</td>\n",
       "      <td>1</td>\n",
       "      <td>1</td>\n",
       "      <td>Cumings, Mrs. John Bradley (Florence Briggs Th...</td>\n",
       "      <td>female</td>\n",
       "      <td>38.0</td>\n",
       "      <td>1</td>\n",
       "      <td>0</td>\n",
       "      <td>PC 17599</td>\n",
       "      <td>71.2833</td>\n",
       "      <td>C85</td>\n",
       "      <td>C</td>\n",
       "    </tr>\n",
       "    <tr>\n",
       "      <th>2</th>\n",
       "      <td>3</td>\n",
       "      <td>1</td>\n",
       "      <td>3</td>\n",
       "      <td>Heikkinen, Miss. Laina</td>\n",
       "      <td>female</td>\n",
       "      <td>26.0</td>\n",
       "      <td>0</td>\n",
       "      <td>0</td>\n",
       "      <td>STON/O2. 3101282</td>\n",
       "      <td>7.9250</td>\n",
       "      <td>NaN</td>\n",
       "      <td>S</td>\n",
       "    </tr>\n",
       "    <tr>\n",
       "      <th>3</th>\n",
       "      <td>4</td>\n",
       "      <td>1</td>\n",
       "      <td>1</td>\n",
       "      <td>Futrelle, Mrs. Jacques Heath (Lily May Peel)</td>\n",
       "      <td>female</td>\n",
       "      <td>35.0</td>\n",
       "      <td>1</td>\n",
       "      <td>0</td>\n",
       "      <td>113803</td>\n",
       "      <td>53.1000</td>\n",
       "      <td>C123</td>\n",
       "      <td>S</td>\n",
       "    </tr>\n",
       "    <tr>\n",
       "      <th>4</th>\n",
       "      <td>5</td>\n",
       "      <td>0</td>\n",
       "      <td>3</td>\n",
       "      <td>Allen, Mr. William Henry</td>\n",
       "      <td>male</td>\n",
       "      <td>35.0</td>\n",
       "      <td>0</td>\n",
       "      <td>0</td>\n",
       "      <td>373450</td>\n",
       "      <td>8.0500</td>\n",
       "      <td>NaN</td>\n",
       "      <td>S</td>\n",
       "    </tr>\n",
       "  </tbody>\n",
       "</table>\n",
       "</div>"
      ],
      "text/plain": [
       "   PassengerId  Survived  Pclass  \\\n",
       "0            1         0       3   \n",
       "1            2         1       1   \n",
       "2            3         1       3   \n",
       "3            4         1       1   \n",
       "4            5         0       3   \n",
       "\n",
       "                                                Name     Sex   Age  SibSp  \\\n",
       "0                            Braund, Mr. Owen Harris    male  22.0      1   \n",
       "1  Cumings, Mrs. John Bradley (Florence Briggs Th...  female  38.0      1   \n",
       "2                             Heikkinen, Miss. Laina  female  26.0      0   \n",
       "3       Futrelle, Mrs. Jacques Heath (Lily May Peel)  female  35.0      1   \n",
       "4                           Allen, Mr. William Henry    male  35.0      0   \n",
       "\n",
       "   Parch            Ticket     Fare Cabin Embarked  \n",
       "0      0         A/5 21171   7.2500   NaN        S  \n",
       "1      0          PC 17599  71.2833   C85        C  \n",
       "2      0  STON/O2. 3101282   7.9250   NaN        S  \n",
       "3      0            113803  53.1000  C123        S  \n",
       "4      0            373450   8.0500   NaN        S  "
      ]
     },
     "execution_count": 20,
     "metadata": {},
     "output_type": "execute_result"
    }
   ],
   "source": [
    "survival_df.head()"
   ]
  },
  {
   "cell_type": "code",
   "execution_count": 21,
   "metadata": {
    "collapsed": false
   },
   "outputs": [
    {
     "data": {
      "text/plain": [
       "count    714.000000\n",
       "mean      29.699118\n",
       "std       14.526497\n",
       "min        0.420000\n",
       "25%       20.125000\n",
       "50%       28.000000\n",
       "75%       38.000000\n",
       "max       80.000000\n",
       "Name: Age, dtype: float64"
      ]
     },
     "execution_count": 21,
     "metadata": {},
     "output_type": "execute_result"
    }
   ],
   "source": [
    "survival_df[\"Age\"].describe()"
   ]
  },
  {
   "cell_type": "markdown",
   "metadata": {
    "collapsed": true
   },
   "source": [
    "Among 714 passengers for whom we have the age information the mean age was 29.7 years old with standard deviation of 14. The median age was 28 years old. That is quit young age.\n",
    "\n",
    "The youngest passenger was 5 months old (0.42 year old) and he survived - you can read his story [here](https://www.encyclopedia-titanica.org/titanic-survivor/assad-alexander-thomas-tannous.html)."
   ]
  },
  {
   "cell_type": "code",
   "execution_count": 22,
   "metadata": {
    "collapsed": false
   },
   "outputs": [
    {
     "data": {
      "text/plain": [
       "PassengerId                                804\n",
       "Survived                                     1\n",
       "Pclass                                       3\n",
       "Name           Thomas, Master. Assad Alexander\n",
       "Sex                                       male\n",
       "Age                                       0.42\n",
       "SibSp                                        0\n",
       "Parch                                        1\n",
       "Ticket                                    2625\n",
       "Fare                                    8.5167\n",
       "Cabin                                      NaN\n",
       "Embarked                                     C\n",
       "Name: 803, dtype: object"
      ]
     },
     "execution_count": 22,
     "metadata": {},
     "output_type": "execute_result"
    }
   ],
   "source": [
    "survival_df.loc[survival_df[\"Age\"].argmin()]"
   ]
  },
  {
   "cell_type": "markdown",
   "metadata": {},
   "source": [
    "The oldest passenger was 80 years old also survived."
   ]
  },
  {
   "cell_type": "code",
   "execution_count": 23,
   "metadata": {
    "collapsed": false
   },
   "outputs": [
    {
     "data": {
      "text/plain": [
       "PassengerId                                     631\n",
       "Survived                                          1\n",
       "Pclass                                            1\n",
       "Name           Barkworth, Mr. Algernon Henry Wilson\n",
       "Sex                                            male\n",
       "Age                                              80\n",
       "SibSp                                             0\n",
       "Parch                                             0\n",
       "Ticket                                        27042\n",
       "Fare                                             30\n",
       "Cabin                                           A23\n",
       "Embarked                                          S\n",
       "Name: 630, dtype: object"
      ]
     },
     "execution_count": 23,
     "metadata": {},
     "output_type": "execute_result"
    }
   ],
   "source": [
    "survival_df.loc[survival_df[\"Age\"].argmax()]"
   ]
  },
  {
   "cell_type": "markdown",
   "metadata": {},
   "source": [
    "By accident we possibly found some grave error in the data. When you read Algernon Henry Wilson Barkworth biography (you can find [here](https://www.encyclopedia-titanica.org/titanic-survivor/algernon-barkworth.html)), we can read that he was born in 1864. That means that in 1912, when Titanic catastrophy happened, he was 48 years old and not 80 as stated in the data set. So why 80 in the data set? We can further read that this person died in 1945 aged 80. \n",
    "\n",
    "This would mean that data set ages for passengers who survived contain values of post Titanic death age and not day of catastrophy age. If it is the the latter the data would be interesting for any analysis since it would contain data comparable to the ages of those who did not survived. However if it is the former the data would be useless in terms of survival analysis since containing information non related to Titanic catastrophy.\n",
    "\n",
    "Let's analyse a few similar cases ages - meaning ages of people who survived  - determining whether they are ages at time of catastrophy or age at later death."
   ]
  },
  {
   "cell_type": "code",
   "execution_count": 24,
   "metadata": {
    "collapsed": false
   },
   "outputs": [
    {
     "data": {
      "text/html": [
       "<div>\n",
       "<table border=\"1\" class=\"dataframe\">\n",
       "  <thead>\n",
       "    <tr style=\"text-align: right;\">\n",
       "      <th></th>\n",
       "      <th>PassengerId</th>\n",
       "      <th>Survived</th>\n",
       "      <th>Pclass</th>\n",
       "      <th>Name</th>\n",
       "      <th>Sex</th>\n",
       "      <th>Age</th>\n",
       "      <th>SibSp</th>\n",
       "      <th>Parch</th>\n",
       "      <th>Ticket</th>\n",
       "      <th>Fare</th>\n",
       "      <th>Cabin</th>\n",
       "      <th>Embarked</th>\n",
       "    </tr>\n",
       "  </thead>\n",
       "  <tbody>\n",
       "    <tr>\n",
       "      <th>1</th>\n",
       "      <td>2</td>\n",
       "      <td>1</td>\n",
       "      <td>1</td>\n",
       "      <td>Cumings, Mrs. John Bradley (Florence Briggs Th...</td>\n",
       "      <td>female</td>\n",
       "      <td>38.0</td>\n",
       "      <td>1</td>\n",
       "      <td>0</td>\n",
       "      <td>PC 17599</td>\n",
       "      <td>71.2833</td>\n",
       "      <td>C85</td>\n",
       "      <td>C</td>\n",
       "    </tr>\n",
       "    <tr>\n",
       "      <th>2</th>\n",
       "      <td>3</td>\n",
       "      <td>1</td>\n",
       "      <td>3</td>\n",
       "      <td>Heikkinen, Miss. Laina</td>\n",
       "      <td>female</td>\n",
       "      <td>26.0</td>\n",
       "      <td>0</td>\n",
       "      <td>0</td>\n",
       "      <td>STON/O2. 3101282</td>\n",
       "      <td>7.9250</td>\n",
       "      <td>NaN</td>\n",
       "      <td>S</td>\n",
       "    </tr>\n",
       "    <tr>\n",
       "      <th>3</th>\n",
       "      <td>4</td>\n",
       "      <td>1</td>\n",
       "      <td>1</td>\n",
       "      <td>Futrelle, Mrs. Jacques Heath (Lily May Peel)</td>\n",
       "      <td>female</td>\n",
       "      <td>35.0</td>\n",
       "      <td>1</td>\n",
       "      <td>0</td>\n",
       "      <td>113803</td>\n",
       "      <td>53.1000</td>\n",
       "      <td>C123</td>\n",
       "      <td>S</td>\n",
       "    </tr>\n",
       "    <tr>\n",
       "      <th>8</th>\n",
       "      <td>9</td>\n",
       "      <td>1</td>\n",
       "      <td>3</td>\n",
       "      <td>Johnson, Mrs. Oscar W (Elisabeth Vilhelmina Berg)</td>\n",
       "      <td>female</td>\n",
       "      <td>27.0</td>\n",
       "      <td>0</td>\n",
       "      <td>2</td>\n",
       "      <td>347742</td>\n",
       "      <td>11.1333</td>\n",
       "      <td>NaN</td>\n",
       "      <td>S</td>\n",
       "    </tr>\n",
       "    <tr>\n",
       "      <th>9</th>\n",
       "      <td>10</td>\n",
       "      <td>1</td>\n",
       "      <td>2</td>\n",
       "      <td>Nasser, Mrs. Nicholas (Adele Achem)</td>\n",
       "      <td>female</td>\n",
       "      <td>14.0</td>\n",
       "      <td>1</td>\n",
       "      <td>0</td>\n",
       "      <td>237736</td>\n",
       "      <td>30.0708</td>\n",
       "      <td>NaN</td>\n",
       "      <td>C</td>\n",
       "    </tr>\n",
       "    <tr>\n",
       "      <th>10</th>\n",
       "      <td>11</td>\n",
       "      <td>1</td>\n",
       "      <td>3</td>\n",
       "      <td>Sandstrom, Miss. Marguerite Rut</td>\n",
       "      <td>female</td>\n",
       "      <td>4.0</td>\n",
       "      <td>1</td>\n",
       "      <td>1</td>\n",
       "      <td>PP 9549</td>\n",
       "      <td>16.7000</td>\n",
       "      <td>G6</td>\n",
       "      <td>S</td>\n",
       "    </tr>\n",
       "    <tr>\n",
       "      <th>11</th>\n",
       "      <td>12</td>\n",
       "      <td>1</td>\n",
       "      <td>1</td>\n",
       "      <td>Bonnell, Miss. Elizabeth</td>\n",
       "      <td>female</td>\n",
       "      <td>58.0</td>\n",
       "      <td>0</td>\n",
       "      <td>0</td>\n",
       "      <td>113783</td>\n",
       "      <td>26.5500</td>\n",
       "      <td>C103</td>\n",
       "      <td>S</td>\n",
       "    </tr>\n",
       "    <tr>\n",
       "      <th>15</th>\n",
       "      <td>16</td>\n",
       "      <td>1</td>\n",
       "      <td>2</td>\n",
       "      <td>Hewlett, Mrs. (Mary D Kingcome)</td>\n",
       "      <td>female</td>\n",
       "      <td>55.0</td>\n",
       "      <td>0</td>\n",
       "      <td>0</td>\n",
       "      <td>248706</td>\n",
       "      <td>16.0000</td>\n",
       "      <td>NaN</td>\n",
       "      <td>S</td>\n",
       "    </tr>\n",
       "    <tr>\n",
       "      <th>17</th>\n",
       "      <td>18</td>\n",
       "      <td>1</td>\n",
       "      <td>2</td>\n",
       "      <td>Williams, Mr. Charles Eugene</td>\n",
       "      <td>male</td>\n",
       "      <td>NaN</td>\n",
       "      <td>0</td>\n",
       "      <td>0</td>\n",
       "      <td>244373</td>\n",
       "      <td>13.0000</td>\n",
       "      <td>NaN</td>\n",
       "      <td>S</td>\n",
       "    </tr>\n",
       "    <tr>\n",
       "      <th>19</th>\n",
       "      <td>20</td>\n",
       "      <td>1</td>\n",
       "      <td>3</td>\n",
       "      <td>Masselmani, Mrs. Fatima</td>\n",
       "      <td>female</td>\n",
       "      <td>NaN</td>\n",
       "      <td>0</td>\n",
       "      <td>0</td>\n",
       "      <td>2649</td>\n",
       "      <td>7.2250</td>\n",
       "      <td>NaN</td>\n",
       "      <td>C</td>\n",
       "    </tr>\n",
       "  </tbody>\n",
       "</table>\n",
       "</div>"
      ],
      "text/plain": [
       "    PassengerId  Survived  Pclass  \\\n",
       "1             2         1       1   \n",
       "2             3         1       3   \n",
       "3             4         1       1   \n",
       "8             9         1       3   \n",
       "9            10         1       2   \n",
       "10           11         1       3   \n",
       "11           12         1       1   \n",
       "15           16         1       2   \n",
       "17           18         1       2   \n",
       "19           20         1       3   \n",
       "\n",
       "                                                 Name     Sex   Age  SibSp  \\\n",
       "1   Cumings, Mrs. John Bradley (Florence Briggs Th...  female  38.0      1   \n",
       "2                              Heikkinen, Miss. Laina  female  26.0      0   \n",
       "3        Futrelle, Mrs. Jacques Heath (Lily May Peel)  female  35.0      1   \n",
       "8   Johnson, Mrs. Oscar W (Elisabeth Vilhelmina Berg)  female  27.0      0   \n",
       "9                 Nasser, Mrs. Nicholas (Adele Achem)  female  14.0      1   \n",
       "10                    Sandstrom, Miss. Marguerite Rut  female   4.0      1   \n",
       "11                           Bonnell, Miss. Elizabeth  female  58.0      0   \n",
       "15                   Hewlett, Mrs. (Mary D Kingcome)   female  55.0      0   \n",
       "17                       Williams, Mr. Charles Eugene    male   NaN      0   \n",
       "19                            Masselmani, Mrs. Fatima  female   NaN      0   \n",
       "\n",
       "    Parch            Ticket     Fare Cabin Embarked  \n",
       "1       0          PC 17599  71.2833   C85        C  \n",
       "2       0  STON/O2. 3101282   7.9250   NaN        S  \n",
       "3       0            113803  53.1000  C123        S  \n",
       "8       2            347742  11.1333   NaN        S  \n",
       "9       0            237736  30.0708   NaN        C  \n",
       "10      1           PP 9549  16.7000    G6        S  \n",
       "11      0            113783  26.5500  C103        S  \n",
       "15      0            248706  16.0000   NaN        S  \n",
       "17      0            244373  13.0000   NaN        S  \n",
       "19      0              2649   7.2250   NaN        C  "
      ]
     },
     "execution_count": 24,
     "metadata": {},
     "output_type": "execute_result"
    }
   ],
   "source": [
    "survival_df_survived_grouped.get_group(1).head(10)"
   ]
  },
  {
   "cell_type": "code",
   "execution_count": 25,
   "metadata": {
    "collapsed": false
   },
   "outputs": [
    {
     "data": {
      "text/plain": [
       "PassengerId                                                    2\n",
       "Survived                                                       1\n",
       "Pclass                                                         1\n",
       "Name           Cumings, Mrs. John Bradley (Florence Briggs Th...\n",
       "Sex                                                       female\n",
       "Age                                                           38\n",
       "SibSp                                                          1\n",
       "Parch                                                          0\n",
       "Ticket                                                  PC 17599\n",
       "Fare                                                     71.2833\n",
       "Cabin                                                        C85\n",
       "Embarked                                                       C\n",
       "Name: 1, dtype: object"
      ]
     },
     "execution_count": 25,
     "metadata": {},
     "output_type": "execute_result"
    }
   ],
   "source": [
    "survival_df_survived_grouped.get_group(1).loc[1]"
   ]
  },
  {
   "cell_type": "markdown",
   "metadata": {},
   "source": [
    "Born 1873, aged 38 at the time of Titanic catastrophy, died aged 1949 aged 72 years. Data set age from time of Titanic catastrophy."
   ]
  },
  {
   "cell_type": "code",
   "execution_count": 26,
   "metadata": {
    "collapsed": false
   },
   "outputs": [
    {
     "data": {
      "text/plain": [
       "PassengerId                         3\n",
       "Survived                            1\n",
       "Pclass                              3\n",
       "Name           Heikkinen, Miss. Laina\n",
       "Sex                            female\n",
       "Age                                26\n",
       "SibSp                               0\n",
       "Parch                               0\n",
       "Ticket               STON/O2. 3101282\n",
       "Fare                            7.925\n",
       "Cabin                             NaN\n",
       "Embarked                            S\n",
       "Name: 2, dtype: object"
      ]
     },
     "execution_count": 26,
     "metadata": {},
     "output_type": "execute_result"
    }
   ],
   "source": [
    "survival_df_survived_grouped.get_group(1).loc[2]"
   ]
  },
  {
   "cell_type": "markdown",
   "metadata": {},
   "source": [
    "Born 1886, aged 26 at the time of Titanic catastrophy, died aged 1943 aged 47 years. Data set age from time of Titanic catastrophy."
   ]
  },
  {
   "cell_type": "code",
   "execution_count": 27,
   "metadata": {
    "collapsed": false
   },
   "outputs": [
    {
     "data": {
      "text/plain": [
       "PassengerId                                               4\n",
       "Survived                                                  1\n",
       "Pclass                                                    1\n",
       "Name           Futrelle, Mrs. Jacques Heath (Lily May Peel)\n",
       "Sex                                                  female\n",
       "Age                                                      35\n",
       "SibSp                                                     1\n",
       "Parch                                                     0\n",
       "Ticket                                               113803\n",
       "Fare                                                   53.1\n",
       "Cabin                                                  C123\n",
       "Embarked                                                  S\n",
       "Name: 3, dtype: object"
      ]
     },
     "execution_count": 27,
     "metadata": {},
     "output_type": "execute_result"
    }
   ],
   "source": [
    "survival_df_survived_grouped.get_group(1).loc[3]"
   ]
  },
  {
   "cell_type": "markdown",
   "metadata": {},
   "source": [
    "Born 1876, aged 35 at the time of Titanic catastrophy, died aged 1967 aged 91 years. Data set age from time of Titanic catastrophy."
   ]
  },
  {
   "cell_type": "code",
   "execution_count": 28,
   "metadata": {
    "collapsed": false
   },
   "outputs": [
    {
     "data": {
      "text/plain": [
       "PassengerId                                                    9\n",
       "Survived                                                       1\n",
       "Pclass                                                         3\n",
       "Name           Johnson, Mrs. Oscar W (Elisabeth Vilhelmina Berg)\n",
       "Sex                                                       female\n",
       "Age                                                           27\n",
       "SibSp                                                          0\n",
       "Parch                                                          2\n",
       "Ticket                                                    347742\n",
       "Fare                                                     11.1333\n",
       "Cabin                                                        NaN\n",
       "Embarked                                                       S\n",
       "Name: 8, dtype: object"
      ]
     },
     "execution_count": 28,
     "metadata": {},
     "output_type": "execute_result"
    }
   ],
   "source": [
    "survival_df_survived_grouped.get_group(1).loc[8]"
   ]
  },
  {
   "cell_type": "markdown",
   "metadata": {},
   "source": [
    "Born 1884, aged 27 at the time of Titanic catastrophy, died aged 1968 aged 84 years. Data set age from time of Titanic catastrophy."
   ]
  },
  {
   "cell_type": "code",
   "execution_count": 29,
   "metadata": {
    "collapsed": false
   },
   "outputs": [
    {
     "data": {
      "text/plain": [
       "PassengerId                                     10\n",
       "Survived                                         1\n",
       "Pclass                                           2\n",
       "Name           Nasser, Mrs. Nicholas (Adele Achem)\n",
       "Sex                                         female\n",
       "Age                                             14\n",
       "SibSp                                            1\n",
       "Parch                                            0\n",
       "Ticket                                      237736\n",
       "Fare                                       30.0708\n",
       "Cabin                                          NaN\n",
       "Embarked                                         C\n",
       "Name: 9, dtype: object"
      ]
     },
     "execution_count": 29,
     "metadata": {},
     "output_type": "execute_result"
    }
   ],
   "source": [
    "survival_df_survived_grouped.get_group(1).loc[9]"
   ]
  },
  {
   "cell_type": "markdown",
   "metadata": {},
   "source": [
    "Born 1898, aged 14 at the time of Titanic catastrophy, died aged 1970 aged 72 years. Data set age from time of Titanic catastrophy."
   ]
  },
  {
   "cell_type": "code",
   "execution_count": 30,
   "metadata": {
    "collapsed": false
   },
   "outputs": [
    {
     "data": {
      "text/plain": [
       "PassengerId                                 11\n",
       "Survived                                     1\n",
       "Pclass                                       3\n",
       "Name           Sandstrom, Miss. Marguerite Rut\n",
       "Sex                                     female\n",
       "Age                                          4\n",
       "SibSp                                        1\n",
       "Parch                                        1\n",
       "Ticket                                 PP 9549\n",
       "Fare                                      16.7\n",
       "Cabin                                       G6\n",
       "Embarked                                     S\n",
       "Name: 10, dtype: object"
      ]
     },
     "execution_count": 30,
     "metadata": {},
     "output_type": "execute_result"
    }
   ],
   "source": [
    "survival_df_survived_grouped.get_group(1).loc[10]"
   ]
  },
  {
   "cell_type": "markdown",
   "metadata": {},
   "source": [
    "Born 1908, aged 4 at the time of Titanic catastrophy, died aged 1963 aged 55 years. Data set age from time of Titanic catastrophy."
   ]
  },
  {
   "cell_type": "code",
   "execution_count": 31,
   "metadata": {
    "collapsed": false
   },
   "outputs": [
    {
     "data": {
      "text/plain": [
       "PassengerId                          12\n",
       "Survived                              1\n",
       "Pclass                                1\n",
       "Name           Bonnell, Miss. Elizabeth\n",
       "Sex                              female\n",
       "Age                                  58\n",
       "SibSp                                 0\n",
       "Parch                                 0\n",
       "Ticket                           113783\n",
       "Fare                              26.55\n",
       "Cabin                              C103\n",
       "Embarked                              S\n",
       "Name: 11, dtype: object"
      ]
     },
     "execution_count": 31,
     "metadata": {},
     "output_type": "execute_result"
    }
   ],
   "source": [
    "survival_df_survived_grouped.get_group(1).loc[11]"
   ]
  },
  {
   "cell_type": "markdown",
   "metadata": {},
   "source": [
    "Born 1854, aged 58 at the time of Titanic catastrophy, died aged 1936 aged 82 years. Data set age from time of Titanic catastrophy."
   ]
  },
  {
   "cell_type": "code",
   "execution_count": 32,
   "metadata": {
    "collapsed": false
   },
   "outputs": [
    {
     "data": {
      "text/plain": [
       "PassengerId                                  16\n",
       "Survived                                      1\n",
       "Pclass                                        2\n",
       "Name           Hewlett, Mrs. (Mary D Kingcome) \n",
       "Sex                                      female\n",
       "Age                                          55\n",
       "SibSp                                         0\n",
       "Parch                                         0\n",
       "Ticket                                   248706\n",
       "Fare                                         16\n",
       "Cabin                                       NaN\n",
       "Embarked                                      S\n",
       "Name: 15, dtype: object"
      ]
     },
     "execution_count": 32,
     "metadata": {},
     "output_type": "execute_result"
    }
   ],
   "source": [
    "survival_df_survived_grouped.get_group(1).loc[15]"
   ]
  },
  {
   "cell_type": "markdown",
   "metadata": {},
   "source": [
    "Born 1857, aged 58 at the time of Titanic catastrophy, died aged 1917 aged 60 years. Data set age from time of Titanic catastrophy."
   ]
  },
  {
   "cell_type": "markdown",
   "metadata": {},
   "source": [
    "And again the youngest and the oldest survivors.\n"
   ]
  },
  {
   "cell_type": "code",
   "execution_count": 33,
   "metadata": {
    "collapsed": false
   },
   "outputs": [
    {
     "data": {
      "text/plain": [
       "PassengerId                                804\n",
       "Survived                                     1\n",
       "Pclass                                       3\n",
       "Name           Thomas, Master. Assad Alexander\n",
       "Sex                                       male\n",
       "Age                                       0.42\n",
       "SibSp                                        0\n",
       "Parch                                        1\n",
       "Ticket                                    2625\n",
       "Fare                                    8.5167\n",
       "Cabin                                      NaN\n",
       "Embarked                                     C\n",
       "Name: 803, dtype: object"
      ]
     },
     "execution_count": 33,
     "metadata": {},
     "output_type": "execute_result"
    }
   ],
   "source": [
    "survival_df.loc[survival_df[\"Age\"].argmin()]"
   ]
  },
  {
   "cell_type": "markdown",
   "metadata": {},
   "source": [
    "Born 1911, aged 0.42 at the time of Titanic catastrophy, died aged 1931 aged 19 years. Data set age from time of Titanic catastrophy."
   ]
  },
  {
   "cell_type": "code",
   "execution_count": 34,
   "metadata": {
    "collapsed": false
   },
   "outputs": [
    {
     "data": {
      "text/plain": [
       "PassengerId                                     631\n",
       "Survived                                          1\n",
       "Pclass                                            1\n",
       "Name           Barkworth, Mr. Algernon Henry Wilson\n",
       "Sex                                            male\n",
       "Age                                              80\n",
       "SibSp                                             0\n",
       "Parch                                             0\n",
       "Ticket                                        27042\n",
       "Fare                                             30\n",
       "Cabin                                           A23\n",
       "Embarked                                          S\n",
       "Name: 630, dtype: object"
      ]
     },
     "execution_count": 34,
     "metadata": {},
     "output_type": "execute_result"
    }
   ],
   "source": [
    "survival_df.loc[survival_df[\"Age\"].argmax()]"
   ]
  },
  {
   "cell_type": "markdown",
   "metadata": {},
   "source": [
    "Born 1964, aged 47 at the time of Titanic catastrophy, died aged 1945 aged 80 years. Data set age from time of Titanic catastrophy."
   ]
  },
  {
   "cell_type": "markdown",
   "metadata": {},
   "source": [
    "That means that this is the only case we found in which the data is wrong. We can assume that the age data - besides this record - is correct, representing passengers age at the time of catastrophy. That is a good news we can carry on our age analysis with removing data record with `PassengerId` 631.\n",
    "\n",
    "So - just to finish our initial ages exploration - the youngest passenger (from passengers with known ages) was 5 months old. But who was the oldest Titanic passenger?\n",
    "\n",
    "We do that by first dropping all passenger whose age is unknown, sort known ages and then select last but one record."
   ]
  },
  {
   "cell_type": "code",
   "execution_count": 35,
   "metadata": {
    "collapsed": false
   },
   "outputs": [
    {
     "data": {
      "text/html": [
       "<div>\n",
       "<table border=\"1\" class=\"dataframe\">\n",
       "  <thead>\n",
       "    <tr style=\"text-align: right;\">\n",
       "      <th></th>\n",
       "      <th>PassengerId</th>\n",
       "      <th>Survived</th>\n",
       "      <th>Pclass</th>\n",
       "      <th>Name</th>\n",
       "      <th>Sex</th>\n",
       "      <th>Age</th>\n",
       "      <th>SibSp</th>\n",
       "      <th>Parch</th>\n",
       "      <th>Ticket</th>\n",
       "      <th>Fare</th>\n",
       "      <th>Cabin</th>\n",
       "      <th>Embarked</th>\n",
       "    </tr>\n",
       "  </thead>\n",
       "  <tbody>\n",
       "    <tr>\n",
       "      <th>0</th>\n",
       "      <td>1</td>\n",
       "      <td>0</td>\n",
       "      <td>3</td>\n",
       "      <td>Braund, Mr. Owen Harris</td>\n",
       "      <td>male</td>\n",
       "      <td>22.0</td>\n",
       "      <td>1</td>\n",
       "      <td>0</td>\n",
       "      <td>A/5 21171</td>\n",
       "      <td>7.2500</td>\n",
       "      <td>NaN</td>\n",
       "      <td>S</td>\n",
       "    </tr>\n",
       "    <tr>\n",
       "      <th>1</th>\n",
       "      <td>2</td>\n",
       "      <td>1</td>\n",
       "      <td>1</td>\n",
       "      <td>Cumings, Mrs. John Bradley (Florence Briggs Th...</td>\n",
       "      <td>female</td>\n",
       "      <td>38.0</td>\n",
       "      <td>1</td>\n",
       "      <td>0</td>\n",
       "      <td>PC 17599</td>\n",
       "      <td>71.2833</td>\n",
       "      <td>C85</td>\n",
       "      <td>C</td>\n",
       "    </tr>\n",
       "    <tr>\n",
       "      <th>2</th>\n",
       "      <td>3</td>\n",
       "      <td>1</td>\n",
       "      <td>3</td>\n",
       "      <td>Heikkinen, Miss. Laina</td>\n",
       "      <td>female</td>\n",
       "      <td>26.0</td>\n",
       "      <td>0</td>\n",
       "      <td>0</td>\n",
       "      <td>STON/O2. 3101282</td>\n",
       "      <td>7.9250</td>\n",
       "      <td>NaN</td>\n",
       "      <td>S</td>\n",
       "    </tr>\n",
       "    <tr>\n",
       "      <th>3</th>\n",
       "      <td>4</td>\n",
       "      <td>1</td>\n",
       "      <td>1</td>\n",
       "      <td>Futrelle, Mrs. Jacques Heath (Lily May Peel)</td>\n",
       "      <td>female</td>\n",
       "      <td>35.0</td>\n",
       "      <td>1</td>\n",
       "      <td>0</td>\n",
       "      <td>113803</td>\n",
       "      <td>53.1000</td>\n",
       "      <td>C123</td>\n",
       "      <td>S</td>\n",
       "    </tr>\n",
       "    <tr>\n",
       "      <th>4</th>\n",
       "      <td>5</td>\n",
       "      <td>0</td>\n",
       "      <td>3</td>\n",
       "      <td>Allen, Mr. William Henry</td>\n",
       "      <td>male</td>\n",
       "      <td>35.0</td>\n",
       "      <td>0</td>\n",
       "      <td>0</td>\n",
       "      <td>373450</td>\n",
       "      <td>8.0500</td>\n",
       "      <td>NaN</td>\n",
       "      <td>S</td>\n",
       "    </tr>\n",
       "  </tbody>\n",
       "</table>\n",
       "</div>"
      ],
      "text/plain": [
       "   PassengerId  Survived  Pclass  \\\n",
       "0            1         0       3   \n",
       "1            2         1       1   \n",
       "2            3         1       3   \n",
       "3            4         1       1   \n",
       "4            5         0       3   \n",
       "\n",
       "                                                Name     Sex   Age  SibSp  \\\n",
       "0                            Braund, Mr. Owen Harris    male  22.0      1   \n",
       "1  Cumings, Mrs. John Bradley (Florence Briggs Th...  female  38.0      1   \n",
       "2                             Heikkinen, Miss. Laina  female  26.0      0   \n",
       "3       Futrelle, Mrs. Jacques Heath (Lily May Peel)  female  35.0      1   \n",
       "4                           Allen, Mr. William Henry    male  35.0      0   \n",
       "\n",
       "   Parch            Ticket     Fare Cabin Embarked  \n",
       "0      0         A/5 21171   7.2500   NaN        S  \n",
       "1      0          PC 17599  71.2833   C85        C  \n",
       "2      0  STON/O2. 3101282   7.9250   NaN        S  \n",
       "3      0            113803  53.1000  C123        S  \n",
       "4      0            373450   8.0500   NaN        S  "
      ]
     },
     "execution_count": 35,
     "metadata": {},
     "output_type": "execute_result"
    }
   ],
   "source": [
    "survival_df.head()"
   ]
  },
  {
   "cell_type": "code",
   "execution_count": 36,
   "metadata": {
    "collapsed": true
   },
   "outputs": [],
   "source": [
    "survival_sorted_by_age_df = survival_df.dropna(subset=[\"Age\"]).sort_values(by=\"Age\")"
   ]
  },
  {
   "cell_type": "code",
   "execution_count": 37,
   "metadata": {
    "collapsed": false
   },
   "outputs": [
    {
     "data": {
      "text/plain": [
       "PassengerId                    852\n",
       "Survived                         0\n",
       "Pclass                           3\n",
       "Name           Svensson, Mr. Johan\n",
       "Sex                           male\n",
       "Age                             74\n",
       "SibSp                            0\n",
       "Parch                            0\n",
       "Ticket                      347060\n",
       "Fare                         7.775\n",
       "Cabin                          NaN\n",
       "Embarked                         S\n",
       "Name: 851, dtype: object"
      ]
     },
     "execution_count": 37,
     "metadata": {},
     "output_type": "execute_result"
    }
   ],
   "source": [
    "survival_sorted_by_age_df.iloc[-2]"
   ]
  },
  {
   "cell_type": "markdown",
   "metadata": {
    "collapsed": true
   },
   "source": [
    "So now we have for sure the oldest known Titanic passenger. His name was Johan Svensson, aged 74 and unfortunatelly died in the catastrophy (checked in outside sources)."
   ]
  },
  {
   "cell_type": "markdown",
   "metadata": {
    "collapsed": true
   },
   "source": [
    "#### Age structure and mortality levels."
   ]
  },
  {
   "cell_type": "markdown",
   "metadata": {
    "collapsed": true
   },
   "source": [
    "Let's now see how Titanic population was divided among different ages groups."
   ]
  },
  {
   "cell_type": "code",
   "execution_count": 38,
   "metadata": {
    "collapsed": false
   },
   "outputs": [],
   "source": [
    "counted_values = pd.cut(survival_df[survival_df[\"PassengerId\"] != 631][\"Age\"], bins=[0, 14, 24, 34, 44, 54, 64, 74]).value_counts().sort_index()"
   ]
  },
  {
   "cell_type": "code",
   "execution_count": 39,
   "metadata": {
    "collapsed": false
   },
   "outputs": [
    {
     "data": {
      "text/plain": [
       "(0, 14]      77\n",
       "(14, 24]    200\n",
       "(24, 34]    201\n",
       "(34, 44]    121\n",
       "(44, 54]     73\n",
       "(54, 64]     31\n",
       "(64, 74]     10\n",
       "Name: Age, dtype: int64"
      ]
     },
     "execution_count": 39,
     "metadata": {},
     "output_type": "execute_result"
    }
   ],
   "source": [
    "counted_values"
   ]
  },
  {
   "cell_type": "code",
   "execution_count": 40,
   "metadata": {
    "collapsed": false
   },
   "outputs": [
    {
     "data": {
      "image/png": "[encoded data removed]",
      "text/plain": [
       "<matplotlib.figure.Figure at 0x10da8b2b0>"
      ]
     },
     "metadata": {},
     "output_type": "display_data"
    }
   ],
   "source": [
    "fig, axes = plt.subplots(figsize=(8, 8))\n",
    "labels = [\"0-14\", \"14-24\", \"24-34\", \"34-44\", \"44-54\", \"54-64\", \"64-74\"]\n",
    "explode = (0, 0, 0, 0.0, 0.1, 0.3, 0.5)\n",
    "axes.pie(counted_values.values, labels=labels, explode=explode,\n",
    "         autopct=lambda p: '{0:.1f}%\\n({1:.0f} passengers)'.format(p, p * counted_values.values.sum() / 100), \n",
    "         shadow=False, startangle=90)\n",
    "axes.set_title(\"Titanic passengers age groups populations\")\n",
    "axes.axis('equal');\n",
    "axes.legend(labels=labels, loc=\"best\")\n",
    "fig.tight_layout()"
   ]
  },
  {
   "cell_type": "markdown",
   "metadata": {},
   "source": [
    "So we see that majority of passengers (56.2%) was aged 14 to 34. 10.8% of passengers were aged below 14 years old. About 32% of passengers were aged above 44 years old.\n",
    "\n",
    "Let's see mortality levels among different age groups."
   ]
  },
  {
   "cell_type": "code",
   "execution_count": 41,
   "metadata": {
    "collapsed": false,
    "scrolled": false
   },
   "outputs": [],
   "source": [
    "# TODO: Refactor this with grouping and then plotting with function and looping.\n",
    "survival_0_14_df = survival_df[survival_df[\"Age\"] <= 14]\n",
    "survival_14_24_df = survival_df[(survival_df[\"Age\"] > 14) & (survival_df[\"Age\"] <= 24)]\n",
    "survival_24_34_df = survival_df[(survival_df[\"Age\"] > 24) & (survival_df[\"Age\"] <= 34)]\n",
    "survival_34_44_df = survival_df[(survival_df[\"Age\"] > 34) & (survival_df[\"Age\"] <= 44)]\n",
    "survival_44_54_df = survival_df[(survival_df[\"Age\"] > 44) & (survival_df[\"Age\"] <= 54)]\n",
    "survival_54_64_df = survival_df[(survival_df[\"Age\"] > 54) & (survival_df[\"Age\"] <= 64)]\n",
    "survival_64_74_df = survival_df[(survival_df[\"Age\"] > 64) & (survival_df[\"Age\"] <= 74)]"
   ]
  },
  {
   "cell_type": "code",
   "execution_count": 42,
   "metadata": {
    "collapsed": false
   },
   "outputs": [],
   "source": [
    "survided_0_14_number = sum(survival_0_14_df[\"Survived\"] == 1)\n",
    "not_survided_0_14_number = sum(survival_0_14_df[\"Survived\"] == 0)\n",
    "\n",
    "survided_14_24_number = sum(survival_14_24_df[\"Survived\"] == 1)\n",
    "not_survided_14_24_number = sum(survival_14_24_df[\"Survived\"] == 0)\n",
    "\n",
    "survided_24_34_number = sum(survival_24_34_df[\"Survived\"] == 1)\n",
    "not_survided_24_34_number = sum(survival_24_34_df[\"Survived\"] == 0)\n",
    "\n",
    "survided_34_44_number = sum(survival_34_44_df[\"Survived\"] == 1)\n",
    "not_survided_34_44_number = sum(survival_34_44_df[\"Survived\"] == 0)\n",
    "\n",
    "survided_44_54_number = sum(survival_44_54_df[\"Survived\"] == 1)\n",
    "not_survided_44_54_number = sum(survival_44_54_df[\"Survived\"] == 0)\n",
    "\n",
    "survided_54_64_number = sum(survival_54_64_df[\"Survived\"] == 1)\n",
    "not_survided_54_64_number = sum(survival_54_64_df[\"Survived\"] == 0)\n",
    "\n",
    "survided_64_74_number = sum(survival_64_74_df[\"Survived\"] == 1)\n",
    "not_survided_64_74_number = sum(survival_64_74_df[\"Survived\"] == 0)\n"
   ]
  },
  {
   "cell_type": "code",
   "execution_count": 43,
   "metadata": {
    "collapsed": false,
    "scrolled": false
   },
   "outputs": [
    {
     "data": {
      "image/png": "[encoded data removed]",
      "text/plain": [
       "<matplotlib.figure.Figure at 0x1110ddcf8>"
      ]
     },
     "metadata": {},
     "output_type": "display_data"
    },
    {
     "data": {
      "image/png": "[encoded data removed]",
      "text/plain": [
       "<matplotlib.figure.Figure at 0x1110ddc50>"
      ]
     },
     "metadata": {},
     "output_type": "display_data"
    },
    {
     "data": {
      "image/png": "[encoded data removed]",
      "text/plain": [
       "<matplotlib.figure.Figure at 0x1110a89e8>"
      ]
     },
     "metadata": {},
     "output_type": "display_data"
    },
    {
     "data": {
      "image/png": "[encoded data removed]",
      "text/plain": [
       "<matplotlib.figure.Figure at 0x11150f4a8>"
      ]
     },
     "metadata": {},
     "output_type": "display_data"
    },
    {
     "data": {
      "image/png": "[encoded data removed]",
      "text/plain": [
       "<matplotlib.figure.Figure at 0x1111631d0>"
      ]
     },
     "metadata": {},
     "output_type": "display_data"
    },
    {
     "data": {
      "image/png": "[encoded data removed]",
      "text/plain": [
       "<matplotlib.figure.Figure at 0x111604f60>"
      ]
     },
     "metadata": {},
     "output_type": "display_data"
    },
    {
     "data": {
      "image/png": "[encoded data removed]",
      "text/plain": [
       "<matplotlib.figure.Figure at 0x111789a90>"
      ]
     },
     "metadata": {},
     "output_type": "display_data"
    }
   ],
   "source": [
    "plot_survival_rate(survided_0_14_number, not_survided_0_14_number, \"0-14 years old passengers\")\n",
    "plot_survival_rate(survided_14_24_number, not_survided_14_24_number, \"14-24 years old passengers\")\n",
    "plot_survival_rate(survided_24_34_number, not_survided_24_34_number, \"24-34 years old passengers\")\n",
    "plot_survival_rate(survided_34_44_number, not_survided_34_44_number, \"34-44 years old passengers\")\n",
    "plot_survival_rate(survided_44_54_number, not_survided_44_54_number, \"44-54 years old passengers\")\n",
    "plot_survival_rate(survided_54_64_number, not_survided_54_64_number, \"54-64 years old passengers\")\n",
    "plot_survival_rate(survided_64_74_number, not_survided_64_74_number, \"64-74 years old passengers\")\n"
   ]
  },
  {
   "cell_type": "markdown",
   "metadata": {},
   "source": [
    "We can see that survival rate for passengers between 14 and 64 years old is really close to the overall survival rate (38.4). Only among children aged 0-14 survival rate is much higher (58.4%) which again could be the result of marine code of conduct mentioned earlier. \n",
    "\n",
    "On the other hand survival rate among passengers aged 64-74 was 0%. However this group is rather small (only 10 passengers) and this could be a result of pure chance."
   ]
  },
  {
   "cell_type": "markdown",
   "metadata": {},
   "source": [
    "### 3.4 What was survival rate among different passengers' ticket classes?\n",
    "\n",
    "Let's start with checking tickets classes passenger counts on Titanic. Let's see it on a plot.\n"
   ]
  },
  {
   "cell_type": "code",
   "execution_count": 44,
   "metadata": {
    "collapsed": true
   },
   "outputs": [],
   "source": [
    "survival_df_class_grouped = survival_df.groupby(\"Pclass\")"
   ]
  },
  {
   "cell_type": "code",
   "execution_count": 45,
   "metadata": {
    "collapsed": true
   },
   "outputs": [],
   "source": [
    "first_class_count = survival_df_class_grouped.get_group(1)['PassengerId'].count()\n",
    "second_class_count = survival_df_class_grouped.get_group(2)['PassengerId'].count()\n",
    "third_class_count = survival_df_class_grouped.get_group(3)['PassengerId'].count()"
   ]
  },
  {
   "cell_type": "code",
   "execution_count": 46,
   "metadata": {
    "collapsed": false
   },
   "outputs": [
    {
     "data": {
      "text/plain": [
       "(216, 184, 491)"
      ]
     },
     "execution_count": 46,
     "metadata": {},
     "output_type": "execute_result"
    },
    {
     "data": {
      "image/png": "[encoded data removed]",
      "text/plain": [
       "<matplotlib.figure.Figure at 0x1110dd9b0>"
      ]
     },
     "metadata": {},
     "output_type": "display_data"
    }
   ],
   "source": [
    "fig, axes = plt.subplots(figsize=(8, 8))\n",
    "axes.pie([first_class_count, second_class_count, third_class_count], labels=[\"1st class\", \"2nd class\", \"3rd class\"], \n",
    "         autopct=lambda p: '{0:.1f}%\\n({1:.0f} passengers)'.format(p, p * survival_df[\"PassengerId\"].count() / 100), \n",
    "         shadow=False, startangle=90)\n",
    "axes.set_title(\"Deck classes population count on Titanic\")\n",
    "axes.axis('equal');\n",
    "\n",
    "first_class_count, second_class_count, third_class_count"
   ]
  },
  {
   "cell_type": "markdown",
   "metadata": {},
   "source": [
    "There were 216 passengers in the first class, 184 passengers in the second class and 491 in the third. As we can see the vast majority of Titanic traveled in the cheapest 3rd class."
   ]
  },
  {
   "cell_type": "markdown",
   "metadata": {},
   "source": [
    "And what is survival rate among different classes?"
   ]
  },
  {
   "cell_type": "code",
   "execution_count": 47,
   "metadata": {
    "collapsed": false
   },
   "outputs": [],
   "source": [
    "survided_1_class_number = sum(survival_df_class_grouped.get_group(1)[\"Survived\"] == 1)\n",
    "not_survided_1_class_number = sum(survival_df_class_grouped.get_group(1)[\"Survived\"] == 0)\n",
    "\n",
    "survided_2_class_number = sum(survival_df_class_grouped.get_group(2)[\"Survived\"] == 1)\n",
    "not_survided_2_class_number = sum(survival_df_class_grouped.get_group(2)[\"Survived\"] == 0)\n",
    "\n",
    "survided_3_class_number = sum(survival_df_class_grouped.get_group(3)[\"Survived\"] == 1)\n",
    "not_survided_3_class_number = sum(survival_df_class_grouped.get_group(3)[\"Survived\"] == 0)\n"
   ]
  },
  {
   "cell_type": "code",
   "execution_count": 48,
   "metadata": {
    "collapsed": false
   },
   "outputs": [
    {
     "data": {
      "image/png": "[encoded data removed]",
      "text/plain": [
       "<matplotlib.figure.Figure at 0x111eb1358>"
      ]
     },
     "metadata": {},
     "output_type": "display_data"
    },
    {
     "data": {
      "image/png": "[encoded data removed]",
      "text/plain": [
       "<matplotlib.figure.Figure at 0x111eb1400>"
      ]
     },
     "metadata": {},
     "output_type": "display_data"
    },
    {
     "data": {
      "image/png": "[encoded data removed]",
      "text/plain": [
       "<matplotlib.figure.Figure at 0x1120c8908>"
      ]
     },
     "metadata": {},
     "output_type": "display_data"
    }
   ],
   "source": [
    "plot_survival_rate(survided_1_class_number, not_survided_1_class_number, \"first class passengers\")\n",
    "plot_survival_rate(survided_2_class_number, not_survided_2_class_number, \"first class passengers\")\n",
    "plot_survival_rate(survided_3_class_number, not_survided_3_class_number, \"first class passengers\")"
   ]
  },
  {
   "cell_type": "markdown",
   "metadata": {},
   "source": [
    "These plots talk for themselves. Survival rate for 1st class passengers was very high - 63% of these passengers survived. It was lower for 2nd class passengers with 47.3% - still higher than the overal 38.4%. The most disturbing here is very low survival rate among 3rd class passengers: only 24.2% of them survived. This analysis is not a place to look reasons for this state - we analyze just the data set itself. There are a lot of interesting analysis of causes for this low survival rate among 3rd class passengers - they are worth reading so google them."
   ]
  },
  {
   "cell_type": "markdown",
   "metadata": {},
   "source": [
    "### 3.5 What was survival rate among people travelling with sibling or spouse.\n",
    "\n",
    "The data set specification defines siblings as: brother, sister, stepbrother, stepsister. It also defines spouse as: husband, wife. There is no other information in the data set that could help us to separate these two groups (whether passenger traveled with sibling, spouse or alone) so we will analyse as is recorded in the data set.\n",
    "\n",
    "It is interesting whether travelling with siblings or spouse affected chances for survival."
   ]
  },
  {
   "cell_type": "code",
   "execution_count": 49,
   "metadata": {
    "collapsed": false
   },
   "outputs": [],
   "source": [
    "survival_df_sib_sp_grouped = survival_df.groupby(\"SibSp\")"
   ]
  },
  {
   "cell_type": "code",
   "execution_count": 50,
   "metadata": {
    "collapsed": false
   },
   "outputs": [
    {
     "data": {
      "text/html": [
       "<div>\n",
       "<table border=\"1\" class=\"dataframe\">\n",
       "  <thead>\n",
       "    <tr style=\"text-align: right;\">\n",
       "      <th></th>\n",
       "      <th></th>\n",
       "      <th>Age</th>\n",
       "      <th>Fare</th>\n",
       "      <th>Parch</th>\n",
       "      <th>PassengerId</th>\n",
       "      <th>Pclass</th>\n",
       "      <th>Survived</th>\n",
       "    </tr>\n",
       "    <tr>\n",
       "      <th>SibSp</th>\n",
       "      <th></th>\n",
       "      <th></th>\n",
       "      <th></th>\n",
       "      <th></th>\n",
       "      <th></th>\n",
       "      <th></th>\n",
       "      <th></th>\n",
       "    </tr>\n",
       "  </thead>\n",
       "  <tbody>\n",
       "    <tr>\n",
       "      <th rowspan=\"8\" valign=\"top\">0</th>\n",
       "      <th>count</th>\n",
       "      <td>471.000000</td>\n",
       "      <td>608.000000</td>\n",
       "      <td>608.000000</td>\n",
       "      <td>608.000000</td>\n",
       "      <td>608.000000</td>\n",
       "      <td>608.000000</td>\n",
       "    </tr>\n",
       "    <tr>\n",
       "      <th>mean</th>\n",
       "      <td>31.397558</td>\n",
       "      <td>25.692028</td>\n",
       "      <td>0.185855</td>\n",
       "      <td>455.370066</td>\n",
       "      <td>2.351974</td>\n",
       "      <td>0.345395</td>\n",
       "    </tr>\n",
       "    <tr>\n",
       "      <th>std</th>\n",
       "      <td>13.647767</td>\n",
       "      <td>49.733052</td>\n",
       "      <td>0.585377</td>\n",
       "      <td>255.992322</td>\n",
       "      <td>0.824539</td>\n",
       "      <td>0.475888</td>\n",
       "    </tr>\n",
       "    <tr>\n",
       "      <th>min</th>\n",
       "      <td>0.420000</td>\n",
       "      <td>0.000000</td>\n",
       "      <td>0.000000</td>\n",
       "      <td>3.000000</td>\n",
       "      <td>1.000000</td>\n",
       "      <td>0.000000</td>\n",
       "    </tr>\n",
       "    <tr>\n",
       "      <th>25%</th>\n",
       "      <td>22.000000</td>\n",
       "      <td>7.795800</td>\n",
       "      <td>0.000000</td>\n",
       "      <td>232.750000</td>\n",
       "      <td>2.000000</td>\n",
       "      <td>0.000000</td>\n",
       "    </tr>\n",
       "    <tr>\n",
       "      <th>50%</th>\n",
       "      <td>29.000000</td>\n",
       "      <td>9.500000</td>\n",
       "      <td>0.000000</td>\n",
       "      <td>461.500000</td>\n",
       "      <td>3.000000</td>\n",
       "      <td>0.000000</td>\n",
       "    </tr>\n",
       "    <tr>\n",
       "      <th>75%</th>\n",
       "      <td>39.000000</td>\n",
       "      <td>26.000000</td>\n",
       "      <td>0.000000</td>\n",
       "      <td>678.500000</td>\n",
       "      <td>3.000000</td>\n",
       "      <td>1.000000</td>\n",
       "    </tr>\n",
       "    <tr>\n",
       "      <th>max</th>\n",
       "      <td>80.000000</td>\n",
       "      <td>512.329200</td>\n",
       "      <td>5.000000</td>\n",
       "      <td>891.000000</td>\n",
       "      <td>3.000000</td>\n",
       "      <td>1.000000</td>\n",
       "    </tr>\n",
       "    <tr>\n",
       "      <th rowspan=\"8\" valign=\"top\">1</th>\n",
       "      <th>count</th>\n",
       "      <td>183.000000</td>\n",
       "      <td>209.000000</td>\n",
       "      <td>209.000000</td>\n",
       "      <td>209.000000</td>\n",
       "      <td>209.000000</td>\n",
       "      <td>209.000000</td>\n",
       "    </tr>\n",
       "    <tr>\n",
       "      <th>mean</th>\n",
       "      <td>30.089727</td>\n",
       "      <td>44.147370</td>\n",
       "      <td>0.655502</td>\n",
       "      <td>439.727273</td>\n",
       "      <td>2.057416</td>\n",
       "      <td>0.535885</td>\n",
       "    </tr>\n",
       "    <tr>\n",
       "      <th>std</th>\n",
       "      <td>14.645033</td>\n",
       "      <td>40.380919</td>\n",
       "      <td>1.049716</td>\n",
       "      <td>255.953585</td>\n",
       "      <td>0.858529</td>\n",
       "      <td>0.499908</td>\n",
       "    </tr>\n",
       "    <tr>\n",
       "      <th>min</th>\n",
       "      <td>0.670000</td>\n",
       "      <td>6.495800</td>\n",
       "      <td>0.000000</td>\n",
       "      <td>1.000000</td>\n",
       "      <td>1.000000</td>\n",
       "      <td>0.000000</td>\n",
       "    </tr>\n",
       "    <tr>\n",
       "      <th>25%</th>\n",
       "      <td>20.000000</td>\n",
       "      <td>16.100000</td>\n",
       "      <td>0.000000</td>\n",
       "      <td>231.000000</td>\n",
       "      <td>1.000000</td>\n",
       "      <td>0.000000</td>\n",
       "    </tr>\n",
       "    <tr>\n",
       "      <th>50%</th>\n",
       "      <td>30.000000</td>\n",
       "      <td>26.000000</td>\n",
       "      <td>0.000000</td>\n",
       "      <td>436.000000</td>\n",
       "      <td>2.000000</td>\n",
       "      <td>1.000000</td>\n",
       "    </tr>\n",
       "    <tr>\n",
       "      <th>75%</th>\n",
       "      <td>39.000000</td>\n",
       "      <td>57.000000</td>\n",
       "      <td>1.000000</td>\n",
       "      <td>658.000000</td>\n",
       "      <td>3.000000</td>\n",
       "      <td>1.000000</td>\n",
       "    </tr>\n",
       "    <tr>\n",
       "      <th>max</th>\n",
       "      <td>70.000000</td>\n",
       "      <td>263.000000</td>\n",
       "      <td>6.000000</td>\n",
       "      <td>889.000000</td>\n",
       "      <td>3.000000</td>\n",
       "      <td>1.000000</td>\n",
       "    </tr>\n",
       "    <tr>\n",
       "      <th rowspan=\"8\" valign=\"top\">2</th>\n",
       "      <th>count</th>\n",
       "      <td>25.000000</td>\n",
       "      <td>28.000000</td>\n",
       "      <td>28.000000</td>\n",
       "      <td>28.000000</td>\n",
       "      <td>28.000000</td>\n",
       "      <td>28.000000</td>\n",
       "    </tr>\n",
       "    <tr>\n",
       "      <th>mean</th>\n",
       "      <td>22.620000</td>\n",
       "      <td>51.753718</td>\n",
       "      <td>0.642857</td>\n",
       "      <td>412.428571</td>\n",
       "      <td>2.357143</td>\n",
       "      <td>0.464286</td>\n",
       "    </tr>\n",
       "    <tr>\n",
       "      <th>std</th>\n",
       "      <td>14.679230</td>\n",
       "      <td>66.225403</td>\n",
       "      <td>0.869835</td>\n",
       "      <td>231.778699</td>\n",
       "      <td>0.780042</td>\n",
       "      <td>0.507875</td>\n",
       "    </tr>\n",
       "    <tr>\n",
       "      <th>min</th>\n",
       "      <td>0.750000</td>\n",
       "      <td>7.925000</td>\n",
       "      <td>0.000000</td>\n",
       "      <td>39.000000</td>\n",
       "      <td>1.000000</td>\n",
       "      <td>0.000000</td>\n",
       "    </tr>\n",
       "    <tr>\n",
       "      <th>25%</th>\n",
       "      <td>16.000000</td>\n",
       "      <td>18.562500</td>\n",
       "      <td>0.000000</td>\n",
       "      <td>230.500000</td>\n",
       "      <td>2.000000</td>\n",
       "      <td>0.000000</td>\n",
       "    </tr>\n",
       "    <tr>\n",
       "      <th>50%</th>\n",
       "      <td>23.000000</td>\n",
       "      <td>23.700000</td>\n",
       "      <td>0.000000</td>\n",
       "      <td>437.500000</td>\n",
       "      <td>3.000000</td>\n",
       "      <td>0.000000</td>\n",
       "    </tr>\n",
       "    <tr>\n",
       "      <th>75%</th>\n",
       "      <td>28.000000</td>\n",
       "      <td>56.984400</td>\n",
       "      <td>1.000000</td>\n",
       "      <td>605.500000</td>\n",
       "      <td>3.000000</td>\n",
       "      <td>1.000000</td>\n",
       "    </tr>\n",
       "    <tr>\n",
       "      <th>max</th>\n",
       "      <td>53.000000</td>\n",
       "      <td>262.375000</td>\n",
       "      <td>3.000000</td>\n",
       "      <td>861.000000</td>\n",
       "      <td>3.000000</td>\n",
       "      <td>1.000000</td>\n",
       "    </tr>\n",
       "    <tr>\n",
       "      <th rowspan=\"8\" valign=\"top\">3</th>\n",
       "      <th>count</th>\n",
       "      <td>12.000000</td>\n",
       "      <td>16.000000</td>\n",
       "      <td>16.000000</td>\n",
       "      <td>16.000000</td>\n",
       "      <td>16.000000</td>\n",
       "      <td>16.000000</td>\n",
       "    </tr>\n",
       "    <tr>\n",
       "      <th>mean</th>\n",
       "      <td>13.916667</td>\n",
       "      <td>68.908862</td>\n",
       "      <td>1.312500</td>\n",
       "      <td>321.562500</td>\n",
       "      <td>2.562500</td>\n",
       "      <td>0.250000</td>\n",
       "    </tr>\n",
       "    <tr>\n",
       "      <th>std</th>\n",
       "      <td>11.317391</td>\n",
       "      <td>96.355121</td>\n",
       "      <td>0.704154</td>\n",
       "      <td>274.489094</td>\n",
       "      <td>0.813941</td>\n",
       "      <td>0.447214</td>\n",
       "    </tr>\n",
       "    <tr>\n",
       "      <th>min</th>\n",
       "      <td>2.000000</td>\n",
       "      <td>15.850000</td>\n",
       "      <td>0.000000</td>\n",
       "      <td>8.000000</td>\n",
       "      <td>1.000000</td>\n",
       "      <td>0.000000</td>\n",
       "    </tr>\n",
       "    <tr>\n",
       "      <th>25%</th>\n",
       "      <td>3.750000</td>\n",
       "      <td>21.075000</td>\n",
       "      <td>1.000000</td>\n",
       "      <td>80.500000</td>\n",
       "      <td>2.750000</td>\n",
       "      <td>0.000000</td>\n",
       "    </tr>\n",
       "    <tr>\n",
       "      <th>50%</th>\n",
       "      <td>9.500000</td>\n",
       "      <td>25.466700</td>\n",
       "      <td>1.000000</td>\n",
       "      <td>286.000000</td>\n",
       "      <td>3.000000</td>\n",
       "      <td>0.000000</td>\n",
       "    </tr>\n",
       "    <tr>\n",
       "      <th>75%</th>\n",
       "      <td>23.250000</td>\n",
       "      <td>27.900000</td>\n",
       "      <td>2.000000</td>\n",
       "      <td>523.250000</td>\n",
       "      <td>3.000000</td>\n",
       "      <td>0.250000</td>\n",
       "    </tr>\n",
       "    <tr>\n",
       "      <th>max</th>\n",
       "      <td>33.000000</td>\n",
       "      <td>263.000000</td>\n",
       "      <td>2.000000</td>\n",
       "      <td>820.000000</td>\n",
       "      <td>3.000000</td>\n",
       "      <td>1.000000</td>\n",
       "    </tr>\n",
       "    <tr>\n",
       "      <th rowspan=\"8\" valign=\"top\">4</th>\n",
       "      <th>count</th>\n",
       "      <td>18.000000</td>\n",
       "      <td>18.000000</td>\n",
       "      <td>18.000000</td>\n",
       "      <td>18.000000</td>\n",
       "      <td>18.000000</td>\n",
       "      <td>18.000000</td>\n",
       "    </tr>\n",
       "    <tr>\n",
       "      <th>mean</th>\n",
       "      <td>7.055556</td>\n",
       "      <td>31.855556</td>\n",
       "      <td>1.500000</td>\n",
       "      <td>381.611111</td>\n",
       "      <td>3.000000</td>\n",
       "      <td>0.166667</td>\n",
       "    </tr>\n",
       "    <tr>\n",
       "      <th>std</th>\n",
       "      <td>4.880601</td>\n",
       "      <td>7.322546</td>\n",
       "      <td>0.514496</td>\n",
       "      <td>298.283351</td>\n",
       "      <td>0.000000</td>\n",
       "      <td>0.383482</td>\n",
       "    </tr>\n",
       "    <tr>\n",
       "      <th>min</th>\n",
       "      <td>1.000000</td>\n",
       "      <td>7.925000</td>\n",
       "      <td>1.000000</td>\n",
       "      <td>17.000000</td>\n",
       "      <td>3.000000</td>\n",
       "      <td>0.000000</td>\n",
       "    </tr>\n",
       "    <tr>\n",
       "      <th>25%</th>\n",
       "      <td>3.250000</td>\n",
       "      <td>29.662500</td>\n",
       "      <td>1.000000</td>\n",
       "      <td>166.750000</td>\n",
       "      <td>3.000000</td>\n",
       "      <td>0.000000</td>\n",
       "    </tr>\n",
       "    <tr>\n",
       "      <th>50%</th>\n",
       "      <td>6.500000</td>\n",
       "      <td>31.275000</td>\n",
       "      <td>1.500000</td>\n",
       "      <td>264.500000</td>\n",
       "      <td>3.000000</td>\n",
       "      <td>0.000000</td>\n",
       "    </tr>\n",
       "    <tr>\n",
       "      <th>75%</th>\n",
       "      <td>9.000000</td>\n",
       "      <td>37.612500</td>\n",
       "      <td>2.000000</td>\n",
       "      <td>651.000000</td>\n",
       "      <td>3.000000</td>\n",
       "      <td>0.000000</td>\n",
       "    </tr>\n",
       "    <tr>\n",
       "      <th>max</th>\n",
       "      <td>17.000000</td>\n",
       "      <td>39.687500</td>\n",
       "      <td>2.000000</td>\n",
       "      <td>851.000000</td>\n",
       "      <td>3.000000</td>\n",
       "      <td>1.000000</td>\n",
       "    </tr>\n",
       "    <tr>\n",
       "      <th rowspan=\"8\" valign=\"top\">5</th>\n",
       "      <th>count</th>\n",
       "      <td>5.000000</td>\n",
       "      <td>5.000000</td>\n",
       "      <td>5.000000</td>\n",
       "      <td>5.000000</td>\n",
       "      <td>5.000000</td>\n",
       "      <td>5.000000</td>\n",
       "    </tr>\n",
       "    <tr>\n",
       "      <th>mean</th>\n",
       "      <td>10.200000</td>\n",
       "      <td>46.900000</td>\n",
       "      <td>2.000000</td>\n",
       "      <td>336.800000</td>\n",
       "      <td>3.000000</td>\n",
       "      <td>0.000000</td>\n",
       "    </tr>\n",
       "    <tr>\n",
       "      <th>std</th>\n",
       "      <td>5.805170</td>\n",
       "      <td>0.000000</td>\n",
       "      <td>0.000000</td>\n",
       "      <td>269.536083</td>\n",
       "      <td>0.000000</td>\n",
       "      <td>0.000000</td>\n",
       "    </tr>\n",
       "    <tr>\n",
       "      <th>min</th>\n",
       "      <td>1.000000</td>\n",
       "      <td>46.900000</td>\n",
       "      <td>2.000000</td>\n",
       "      <td>60.000000</td>\n",
       "      <td>3.000000</td>\n",
       "      <td>0.000000</td>\n",
       "    </tr>\n",
       "    <tr>\n",
       "      <th>25%</th>\n",
       "      <td>9.000000</td>\n",
       "      <td>46.900000</td>\n",
       "      <td>2.000000</td>\n",
       "      <td>72.000000</td>\n",
       "      <td>3.000000</td>\n",
       "      <td>0.000000</td>\n",
       "    </tr>\n",
       "    <tr>\n",
       "      <th>50%</th>\n",
       "      <td>11.000000</td>\n",
       "      <td>46.900000</td>\n",
       "      <td>2.000000</td>\n",
       "      <td>387.000000</td>\n",
       "      <td>3.000000</td>\n",
       "      <td>0.000000</td>\n",
       "    </tr>\n",
       "    <tr>\n",
       "      <th>75%</th>\n",
       "      <td>14.000000</td>\n",
       "      <td>46.900000</td>\n",
       "      <td>2.000000</td>\n",
       "      <td>481.000000</td>\n",
       "      <td>3.000000</td>\n",
       "      <td>0.000000</td>\n",
       "    </tr>\n",
       "    <tr>\n",
       "      <th>max</th>\n",
       "      <td>16.000000</td>\n",
       "      <td>46.900000</td>\n",
       "      <td>2.000000</td>\n",
       "      <td>684.000000</td>\n",
       "      <td>3.000000</td>\n",
       "      <td>0.000000</td>\n",
       "    </tr>\n",
       "    <tr>\n",
       "      <th rowspan=\"8\" valign=\"top\">8</th>\n",
       "      <th>count</th>\n",
       "      <td>0.000000</td>\n",
       "      <td>7.000000</td>\n",
       "      <td>7.000000</td>\n",
       "      <td>7.000000</td>\n",
       "      <td>7.000000</td>\n",
       "      <td>7.000000</td>\n",
       "    </tr>\n",
       "    <tr>\n",
       "      <th>mean</th>\n",
       "      <td>NaN</td>\n",
       "      <td>69.550000</td>\n",
       "      <td>2.000000</td>\n",
       "      <td>481.714286</td>\n",
       "      <td>3.000000</td>\n",
       "      <td>0.000000</td>\n",
       "    </tr>\n",
       "    <tr>\n",
       "      <th>std</th>\n",
       "      <td>NaN</td>\n",
       "      <td>0.000000</td>\n",
       "      <td>0.000000</td>\n",
       "      <td>334.963537</td>\n",
       "      <td>0.000000</td>\n",
       "      <td>0.000000</td>\n",
       "    </tr>\n",
       "    <tr>\n",
       "      <th>min</th>\n",
       "      <td>NaN</td>\n",
       "      <td>69.550000</td>\n",
       "      <td>2.000000</td>\n",
       "      <td>160.000000</td>\n",
       "      <td>3.000000</td>\n",
       "      <td>0.000000</td>\n",
       "    </tr>\n",
       "    <tr>\n",
       "      <th>25%</th>\n",
       "      <td>NaN</td>\n",
       "      <td>69.550000</td>\n",
       "      <td>2.000000</td>\n",
       "      <td>191.500000</td>\n",
       "      <td>3.000000</td>\n",
       "      <td>0.000000</td>\n",
       "    </tr>\n",
       "    <tr>\n",
       "      <th>50%</th>\n",
       "      <td>NaN</td>\n",
       "      <td>69.550000</td>\n",
       "      <td>2.000000</td>\n",
       "      <td>325.000000</td>\n",
       "      <td>3.000000</td>\n",
       "      <td>0.000000</td>\n",
       "    </tr>\n",
       "    <tr>\n",
       "      <th>75%</th>\n",
       "      <td>NaN</td>\n",
       "      <td>69.550000</td>\n",
       "      <td>2.000000</td>\n",
       "      <td>820.000000</td>\n",
       "      <td>3.000000</td>\n",
       "      <td>0.000000</td>\n",
       "    </tr>\n",
       "    <tr>\n",
       "      <th>max</th>\n",
       "      <td>NaN</td>\n",
       "      <td>69.550000</td>\n",
       "      <td>2.000000</td>\n",
       "      <td>864.000000</td>\n",
       "      <td>3.000000</td>\n",
       "      <td>0.000000</td>\n",
       "    </tr>\n",
       "  </tbody>\n",
       "</table>\n",
       "</div>"
      ],
      "text/plain": [
       "                    Age        Fare       Parch  PassengerId      Pclass  \\\n",
       "SibSp                                                                      \n",
       "0     count  471.000000  608.000000  608.000000   608.000000  608.000000   \n",
       "      mean    31.397558   25.692028    0.185855   455.370066    2.351974   \n",
       "      std     13.647767   49.733052    0.585377   255.992322    0.824539   \n",
       "      min      0.420000    0.000000    0.000000     3.000000    1.000000   \n",
       "      25%     22.000000    7.795800    0.000000   232.750000    2.000000   \n",
       "      50%     29.000000    9.500000    0.000000   461.500000    3.000000   \n",
       "      75%     39.000000   26.000000    0.000000   678.500000    3.000000   \n",
       "      max     80.000000  512.329200    5.000000   891.000000    3.000000   \n",
       "1     count  183.000000  209.000000  209.000000   209.000000  209.000000   \n",
       "      mean    30.089727   44.147370    0.655502   439.727273    2.057416   \n",
       "      std     14.645033   40.380919    1.049716   255.953585    0.858529   \n",
       "      min      0.670000    6.495800    0.000000     1.000000    1.000000   \n",
       "      25%     20.000000   16.100000    0.000000   231.000000    1.000000   \n",
       "      50%     30.000000   26.000000    0.000000   436.000000    2.000000   \n",
       "      75%     39.000000   57.000000    1.000000   658.000000    3.000000   \n",
       "      max     70.000000  263.000000    6.000000   889.000000    3.000000   \n",
       "2     count   25.000000   28.000000   28.000000    28.000000   28.000000   \n",
       "      mean    22.620000   51.753718    0.642857   412.428571    2.357143   \n",
       "      std     14.679230   66.225403    0.869835   231.778699    0.780042   \n",
       "      min      0.750000    7.925000    0.000000    39.000000    1.000000   \n",
       "      25%     16.000000   18.562500    0.000000   230.500000    2.000000   \n",
       "      50%     23.000000   23.700000    0.000000   437.500000    3.000000   \n",
       "      75%     28.000000   56.984400    1.000000   605.500000    3.000000   \n",
       "      max     53.000000  262.375000    3.000000   861.000000    3.000000   \n",
       "3     count   12.000000   16.000000   16.000000    16.000000   16.000000   \n",
       "      mean    13.916667   68.908862    1.312500   321.562500    2.562500   \n",
       "      std     11.317391   96.355121    0.704154   274.489094    0.813941   \n",
       "      min      2.000000   15.850000    0.000000     8.000000    1.000000   \n",
       "      25%      3.750000   21.075000    1.000000    80.500000    2.750000   \n",
       "      50%      9.500000   25.466700    1.000000   286.000000    3.000000   \n",
       "      75%     23.250000   27.900000    2.000000   523.250000    3.000000   \n",
       "      max     33.000000  263.000000    2.000000   820.000000    3.000000   \n",
       "4     count   18.000000   18.000000   18.000000    18.000000   18.000000   \n",
       "      mean     7.055556   31.855556    1.500000   381.611111    3.000000   \n",
       "      std      4.880601    7.322546    0.514496   298.283351    0.000000   \n",
       "      min      1.000000    7.925000    1.000000    17.000000    3.000000   \n",
       "      25%      3.250000   29.662500    1.000000   166.750000    3.000000   \n",
       "      50%      6.500000   31.275000    1.500000   264.500000    3.000000   \n",
       "      75%      9.000000   37.612500    2.000000   651.000000    3.000000   \n",
       "      max     17.000000   39.687500    2.000000   851.000000    3.000000   \n",
       "5     count    5.000000    5.000000    5.000000     5.000000    5.000000   \n",
       "      mean    10.200000   46.900000    2.000000   336.800000    3.000000   \n",
       "      std      5.805170    0.000000    0.000000   269.536083    0.000000   \n",
       "      min      1.000000   46.900000    2.000000    60.000000    3.000000   \n",
       "      25%      9.000000   46.900000    2.000000    72.000000    3.000000   \n",
       "      50%     11.000000   46.900000    2.000000   387.000000    3.000000   \n",
       "      75%     14.000000   46.900000    2.000000   481.000000    3.000000   \n",
       "      max     16.000000   46.900000    2.000000   684.000000    3.000000   \n",
       "8     count    0.000000    7.000000    7.000000     7.000000    7.000000   \n",
       "      mean          NaN   69.550000    2.000000   481.714286    3.000000   \n",
       "      std           NaN    0.000000    0.000000   334.963537    0.000000   \n",
       "      min           NaN   69.550000    2.000000   160.000000    3.000000   \n",
       "      25%           NaN   69.550000    2.000000   191.500000    3.000000   \n",
       "      50%           NaN   69.550000    2.000000   325.000000    3.000000   \n",
       "      75%           NaN   69.550000    2.000000   820.000000    3.000000   \n",
       "      max           NaN   69.550000    2.000000   864.000000    3.000000   \n",
       "\n",
       "               Survived  \n",
       "SibSp                    \n",
       "0     count  608.000000  \n",
       "      mean     0.345395  \n",
       "      std      0.475888  \n",
       "      min      0.000000  \n",
       "      25%      0.000000  \n",
       "      50%      0.000000  \n",
       "      75%      1.000000  \n",
       "      max      1.000000  \n",
       "1     count  209.000000  \n",
       "      mean     0.535885  \n",
       "      std      0.499908  \n",
       "      min      0.000000  \n",
       "      25%      0.000000  \n",
       "      50%      1.000000  \n",
       "      75%      1.000000  \n",
       "      max      1.000000  \n",
       "2     count   28.000000  \n",
       "      mean     0.464286  \n",
       "      std      0.507875  \n",
       "      min      0.000000  \n",
       "      25%      0.000000  \n",
       "      50%      0.000000  \n",
       "      75%      1.000000  \n",
       "      max      1.000000  \n",
       "3     count   16.000000  \n",
       "      mean     0.250000  \n",
       "      std      0.447214  \n",
       "      min      0.000000  \n",
       "      25%      0.000000  \n",
       "      50%      0.000000  \n",
       "      75%      0.250000  \n",
       "      max      1.000000  \n",
       "4     count   18.000000  \n",
       "      mean     0.166667  \n",
       "      std      0.383482  \n",
       "      min      0.000000  \n",
       "      25%      0.000000  \n",
       "      50%      0.000000  \n",
       "      75%      0.000000  \n",
       "      max      1.000000  \n",
       "5     count    5.000000  \n",
       "      mean     0.000000  \n",
       "      std      0.000000  \n",
       "      min      0.000000  \n",
       "      25%      0.000000  \n",
       "      50%      0.000000  \n",
       "      75%      0.000000  \n",
       "      max      0.000000  \n",
       "8     count    7.000000  \n",
       "      mean     0.000000  \n",
       "      std      0.000000  \n",
       "      min      0.000000  \n",
       "      25%      0.000000  \n",
       "      50%      0.000000  \n",
       "      75%      0.000000  \n",
       "      max      0.000000  "
      ]
     },
     "execution_count": 50,
     "metadata": {},
     "output_type": "execute_result"
    }
   ],
   "source": [
    "survival_df_sib_sp_grouped.describe()"
   ]
  },
  {
   "cell_type": "code",
   "execution_count": 51,
   "metadata": {
    "collapsed": false
   },
   "outputs": [],
   "source": [
    "sibsp_0_count = survival_df_sib_sp_grouped.get_group(0)[\"PassengerId\"].count()\n",
    "sibsp_1_count = survival_df_sib_sp_grouped.get_group(1)[\"PassengerId\"].count()\n",
    "sibsp_2_count = survival_df_sib_sp_grouped.get_group(2)[\"PassengerId\"].count()\n",
    "sibsp_3_count = survival_df_sib_sp_grouped.get_group(3)[\"PassengerId\"].count()\n",
    "sibsp_4_count = survival_df_sib_sp_grouped.get_group(4)[\"PassengerId\"].count()\n",
    "sibsp_5_count = survival_df_sib_sp_grouped.get_group(5)[\"PassengerId\"].count()\n",
    "sibsp_8_count = survival_df_sib_sp_grouped.get_group(8)[\"PassengerId\"].count()"
   ]
  },
  {
   "cell_type": "code",
   "execution_count": 52,
   "metadata": {
    "collapsed": false
   },
   "outputs": [
    {
     "data": {
      "text/plain": [
       "(216, 184, 491)"
      ]
     },
     "execution_count": 52,
     "metadata": {},
     "output_type": "execute_result"
    },
    {
     "data": {
      "image/png": "[encoded data removed]",
      "text/plain": [
       "<matplotlib.figure.Figure at 0x111920ba8>"
      ]
     },
     "metadata": {},
     "output_type": "display_data"
    }
   ],
   "source": [
    "sibsp_counts = [sibsp_0_count, sibsp_1_count, sibsp_2_count, sibsp_3_count, sibsp_4_count, sibsp_5_count, sibsp_8_count]\n",
    "sibsp_labels = [\"0 siblings or spouse\", \"1 siblings or spouse\", \"2 siblings or spouse\", \"3 siblings or spouse\", \n",
    "                \"4 siblings or spouse\", \"5 siblings or spouse\", \"8 siblings or spouse\"]\n",
    "explode = (0, 0, 0, 0.3, 0.5, 0.7, 0.9)\n",
    "fig, axes = plt.subplots(figsize=(8, 8))\n",
    "axes.pie(sibsp_counts, labels=sibsp_labels, \n",
    "         autopct=lambda p: '{0:.1f}%\\n({1:.0f} passengers)'.format(p, p * survival_df[\"PassengerId\"].count() / 100), \n",
    "         shadow=False, startangle=90, explode=explode)\n",
    "axes.set_title(\"Passengers with different siblings or spouse count on Titanic\")\n",
    "axes.axis('equal');\n",
    "\n",
    "first_class_count, second_class_count, third_class_count"
   ]
  },
  {
   "cell_type": "markdown",
   "metadata": {},
   "source": [
    "We can see that vast majority of passengers - 608 of them - traveled without siblings or spouse.\n",
    "\n",
    "209 passengers travelled with 1 sibling or spouse. The age mean for this group of 30.09 years old suggests that they were mostly adults. \n",
    "\n",
    "28 passengers traveled with 2 siblings or spouse. The age mean for this group is 22.62 years old so again adult group.\n",
    "\n",
    "Only 46 passengers traveled with 3 or more siblings. The mean age for these groups is below 14 years old which means they were all children."
   ]
  },
  {
   "cell_type": "markdown",
   "metadata": {},
   "source": [
    "What was survival rate among these passengers?"
   ]
  },
  {
   "cell_type": "code",
   "execution_count": 53,
   "metadata": {
    "collapsed": false
   },
   "outputs": [],
   "source": [
    "survided_0_sibsp_number = sum(survival_df_sib_sp_grouped.get_group(0)[\"Survived\"] == 1)\n",
    "not_survided_0_sibsp_number = sum(survival_df_sib_sp_grouped.get_group(0)[\"Survived\"] == 0)\n",
    "\n",
    "survided_1_sibsp_number = sum(survival_df_sib_sp_grouped.get_group(1)[\"Survived\"] == 1)\n",
    "not_survided_1_sibsp_number = sum(survival_df_sib_sp_grouped.get_group(1)[\"Survived\"] == 0)\n",
    "\n",
    "survided_2_sibsp_number = sum(survival_df_sib_sp_grouped.get_group(2)[\"Survived\"] == 1)\n",
    "not_survided_2_sibsp_number = sum(survival_df_sib_sp_grouped.get_group(2)[\"Survived\"] == 0)\n",
    "\n",
    "sibsp_3_8_passengers = pd.concat([survival_df_sib_sp_grouped.get_group(3), survival_df_sib_sp_grouped.get_group(4), \n",
    "           survival_df_sib_sp_grouped.get_group(5), survival_df_sib_sp_grouped.get_group(8)])\n",
    "survided_3_8_sibsp_number = sum(sibsp_3_8_passengers[\"Survived\"] == 1)\n",
    "not_survided_3_8_sibsp_number = sum(sibsp_3_8_passengers[\"Survived\"] == 0)"
   ]
  },
  {
   "cell_type": "code",
   "execution_count": 54,
   "metadata": {
    "collapsed": false,
    "scrolled": false
   },
   "outputs": [
    {
     "data": {
      "image/png": "[encoded data removed]",
      "text/plain": [
       "<matplotlib.figure.Figure at 0x1118fbcf8>"
      ]
     },
     "metadata": {},
     "output_type": "display_data"
    },
    {
     "data": {
      "image/png": "[encoded data removed]",
      "text/plain": [
       "<matplotlib.figure.Figure at 0x111f02a20>"
      ]
     },
     "metadata": {},
     "output_type": "display_data"
    },
    {
     "data": {
      "image/png": "[encoded data removed]",
      "text/plain": [
       "<matplotlib.figure.Figure at 0x111f02a58>"
      ]
     },
     "metadata": {},
     "output_type": "display_data"
    },
    {
     "data": {
      "image/png": "[encoded data removed]",
      "text/plain": [
       "<matplotlib.figure.Figure at 0x1121532b0>"
      ]
     },
     "metadata": {},
     "output_type": "display_data"
    }
   ],
   "source": [
    "plot_survival_rate(survided_0_sibsp_number, not_survided_0_sibsp_number, \"passengers with 0 siblings or spouse\")\n",
    "plot_survival_rate(survided_1_sibsp_number, not_survided_1_sibsp_number, \"passengers with 1 siblings or spouse\")\n",
    "plot_survival_rate(survided_2_sibsp_number, not_survided_2_sibsp_number, \"passengers with 2 siblings or spouse\")\n",
    "plot_survival_rate(survided_3_8_sibsp_number, not_survided_3_8_sibsp_number, \"passengers with 3 to 8 siblings or spouse\")"
   ]
  },
  {
   "cell_type": "markdown",
   "metadata": {},
   "source": [
    "From above plots it looks like travelling with a company had quite big impact on survival rate. Again, the overall survival rate for all Titanic passenger was 38.4%. For passengers travelling without any siblings or spouse the survival rate was lower with 34.5%. \n",
    "\n",
    "The strongest evidence of this tendency is the group of passngers travelling with one sibling or spouse. The survival rate in this group is 53.6% which is much avove the overall survival rate.Also for group travelling with 2 siblings or spouse the survival rate is high, but here the group is relatively small. In general it looks like having help of other related people helped passengers to survive.\n",
    "\n",
    "The interesting thing is very low survival level among passengers travelling with 3 to 8 siblings or spouse. As we said before the mean age in this group is around 10 years old. But as we showed earlier the survival rate for age group 0-14 was 58.4% and here it is only 15.2%. Looks like having to many people to take care of was making it less likely to survive. This group looks like interesting topic for further analysis to try to explain this situation."
   ]
  },
  {
   "cell_type": "markdown",
   "metadata": {},
   "source": [
    "### 3.6 What was survival rate among people travelling with parent or children."
   ]
  },
  {
   "cell_type": "code",
   "execution_count": 55,
   "metadata": {
    "collapsed": false
   },
   "outputs": [
    {
     "data": {
      "text/html": [
       "<div>\n",
       "<table border=\"1\" class=\"dataframe\">\n",
       "  <thead>\n",
       "    <tr style=\"text-align: right;\">\n",
       "      <th></th>\n",
       "      <th>PassengerId</th>\n",
       "      <th>Survived</th>\n",
       "      <th>Pclass</th>\n",
       "      <th>Name</th>\n",
       "      <th>Sex</th>\n",
       "      <th>Age</th>\n",
       "      <th>SibSp</th>\n",
       "      <th>Parch</th>\n",
       "      <th>Ticket</th>\n",
       "      <th>Fare</th>\n",
       "      <th>Cabin</th>\n",
       "      <th>Embarked</th>\n",
       "    </tr>\n",
       "  </thead>\n",
       "  <tbody>\n",
       "    <tr>\n",
       "      <th>0</th>\n",
       "      <td>1</td>\n",
       "      <td>0</td>\n",
       "      <td>3</td>\n",
       "      <td>Braund, Mr. Owen Harris</td>\n",
       "      <td>male</td>\n",
       "      <td>22.0</td>\n",
       "      <td>1</td>\n",
       "      <td>0</td>\n",
       "      <td>A/5 21171</td>\n",
       "      <td>7.2500</td>\n",
       "      <td>NaN</td>\n",
       "      <td>S</td>\n",
       "    </tr>\n",
       "    <tr>\n",
       "      <th>1</th>\n",
       "      <td>2</td>\n",
       "      <td>1</td>\n",
       "      <td>1</td>\n",
       "      <td>Cumings, Mrs. John Bradley (Florence Briggs Th...</td>\n",
       "      <td>female</td>\n",
       "      <td>38.0</td>\n",
       "      <td>1</td>\n",
       "      <td>0</td>\n",
       "      <td>PC 17599</td>\n",
       "      <td>71.2833</td>\n",
       "      <td>C85</td>\n",
       "      <td>C</td>\n",
       "    </tr>\n",
       "    <tr>\n",
       "      <th>2</th>\n",
       "      <td>3</td>\n",
       "      <td>1</td>\n",
       "      <td>3</td>\n",
       "      <td>Heikkinen, Miss. Laina</td>\n",
       "      <td>female</td>\n",
       "      <td>26.0</td>\n",
       "      <td>0</td>\n",
       "      <td>0</td>\n",
       "      <td>STON/O2. 3101282</td>\n",
       "      <td>7.9250</td>\n",
       "      <td>NaN</td>\n",
       "      <td>S</td>\n",
       "    </tr>\n",
       "    <tr>\n",
       "      <th>3</th>\n",
       "      <td>4</td>\n",
       "      <td>1</td>\n",
       "      <td>1</td>\n",
       "      <td>Futrelle, Mrs. Jacques Heath (Lily May Peel)</td>\n",
       "      <td>female</td>\n",
       "      <td>35.0</td>\n",
       "      <td>1</td>\n",
       "      <td>0</td>\n",
       "      <td>113803</td>\n",
       "      <td>53.1000</td>\n",
       "      <td>C123</td>\n",
       "      <td>S</td>\n",
       "    </tr>\n",
       "    <tr>\n",
       "      <th>4</th>\n",
       "      <td>5</td>\n",
       "      <td>0</td>\n",
       "      <td>3</td>\n",
       "      <td>Allen, Mr. William Henry</td>\n",
       "      <td>male</td>\n",
       "      <td>35.0</td>\n",
       "      <td>0</td>\n",
       "      <td>0</td>\n",
       "      <td>373450</td>\n",
       "      <td>8.0500</td>\n",
       "      <td>NaN</td>\n",
       "      <td>S</td>\n",
       "    </tr>\n",
       "  </tbody>\n",
       "</table>\n",
       "</div>"
      ],
      "text/plain": [
       "   PassengerId  Survived  Pclass  \\\n",
       "0            1         0       3   \n",
       "1            2         1       1   \n",
       "2            3         1       3   \n",
       "3            4         1       1   \n",
       "4            5         0       3   \n",
       "\n",
       "                                                Name     Sex   Age  SibSp  \\\n",
       "0                            Braund, Mr. Owen Harris    male  22.0      1   \n",
       "1  Cumings, Mrs. John Bradley (Florence Briggs Th...  female  38.0      1   \n",
       "2                             Heikkinen, Miss. Laina  female  26.0      0   \n",
       "3       Futrelle, Mrs. Jacques Heath (Lily May Peel)  female  35.0      1   \n",
       "4                           Allen, Mr. William Henry    male  35.0      0   \n",
       "\n",
       "   Parch            Ticket     Fare Cabin Embarked  \n",
       "0      0         A/5 21171   7.2500   NaN        S  \n",
       "1      0          PC 17599  71.2833   C85        C  \n",
       "2      0  STON/O2. 3101282   7.9250   NaN        S  \n",
       "3      0            113803  53.1000  C123        S  \n",
       "4      0            373450   8.0500   NaN        S  "
      ]
     },
     "execution_count": 55,
     "metadata": {},
     "output_type": "execute_result"
    }
   ],
   "source": [
    "survival_df.head()"
   ]
  },
  {
   "cell_type": "markdown",
   "metadata": {
    "collapsed": true
   },
   "source": [
    "`Parch` column in the data set according to data our data book represents number of parents or children aboard the Titanic. This can include three seprate groups of passengers:\n",
    "- children travelling with parents,\n",
    "- adults travelling with children,\n",
    "- adults travelling with parents.\n",
    "\n",
    "We could be able to separate these three subcategories from `Parch` column information by age in further analysis. If `Parch` value in not equal to zero and the passenger age is less than 18 years old we will could assume that passenger is a child travelling with parent. If passenger is above 18 years old we could assume that she or he is an adult who travels with children. However of course it can happend that adult person is travelling with a parent and/or children. \n",
    "It is not distinct separation so we will perform analysis including all of these groups together."
   ]
  },
  {
   "cell_type": "code",
   "execution_count": 59,
   "metadata": {
    "collapsed": false
   },
   "outputs": [],
   "source": [
    "survival_df_parch_groupped = survival_df.groupby(\"Parch\")"
   ]
  },
  {
   "cell_type": "code",
   "execution_count": 62,
   "metadata": {
    "collapsed": false
   },
   "outputs": [
    {
     "data": {
      "text/html": [
       "<div>\n",
       "<table border=\"1\" class=\"dataframe\">\n",
       "  <thead>\n",
       "    <tr style=\"text-align: right;\">\n",
       "      <th></th>\n",
       "      <th></th>\n",
       "      <th>Age</th>\n",
       "      <th>Fare</th>\n",
       "      <th>PassengerId</th>\n",
       "      <th>Pclass</th>\n",
       "      <th>SibSp</th>\n",
       "      <th>Survived</th>\n",
       "    </tr>\n",
       "    <tr>\n",
       "      <th>Parch</th>\n",
       "      <th></th>\n",
       "      <th></th>\n",
       "      <th></th>\n",
       "      <th></th>\n",
       "      <th></th>\n",
       "      <th></th>\n",
       "      <th></th>\n",
       "    </tr>\n",
       "  </thead>\n",
       "  <tbody>\n",
       "    <tr>\n",
       "      <th rowspan=\"8\" valign=\"top\">0</th>\n",
       "      <th>count</th>\n",
       "      <td>521.000000</td>\n",
       "      <td>678.000000</td>\n",
       "      <td>678.000000</td>\n",
       "      <td>678.000000</td>\n",
       "      <td>678.000000</td>\n",
       "      <td>678.000000</td>\n",
       "    </tr>\n",
       "    <tr>\n",
       "      <th>mean</th>\n",
       "      <td>32.178503</td>\n",
       "      <td>25.586774</td>\n",
       "      <td>445.255162</td>\n",
       "      <td>2.321534</td>\n",
       "      <td>0.237463</td>\n",
       "      <td>0.343658</td>\n",
       "    </tr>\n",
       "    <tr>\n",
       "      <th>std</th>\n",
       "      <td>12.570448</td>\n",
       "      <td>41.878786</td>\n",
       "      <td>256.163557</td>\n",
       "      <td>0.836665</td>\n",
       "      <td>0.496321</td>\n",
       "      <td>0.475279</td>\n",
       "    </tr>\n",
       "    <tr>\n",
       "      <th>min</th>\n",
       "      <td>5.000000</td>\n",
       "      <td>0.000000</td>\n",
       "      <td>1.000000</td>\n",
       "      <td>1.000000</td>\n",
       "      <td>0.000000</td>\n",
       "      <td>0.000000</td>\n",
       "    </tr>\n",
       "    <tr>\n",
       "      <th>25%</th>\n",
       "      <td>22.000000</td>\n",
       "      <td>7.854200</td>\n",
       "      <td>224.250000</td>\n",
       "      <td>2.000000</td>\n",
       "      <td>0.000000</td>\n",
       "      <td>0.000000</td>\n",
       "    </tr>\n",
       "    <tr>\n",
       "      <th>50%</th>\n",
       "      <td>30.000000</td>\n",
       "      <td>10.500000</td>\n",
       "      <td>452.500000</td>\n",
       "      <td>3.000000</td>\n",
       "      <td>0.000000</td>\n",
       "      <td>0.000000</td>\n",
       "    </tr>\n",
       "    <tr>\n",
       "      <th>75%</th>\n",
       "      <td>39.000000</td>\n",
       "      <td>26.000000</td>\n",
       "      <td>665.750000</td>\n",
       "      <td>3.000000</td>\n",
       "      <td>0.000000</td>\n",
       "      <td>1.000000</td>\n",
       "    </tr>\n",
       "    <tr>\n",
       "      <th>max</th>\n",
       "      <td>80.000000</td>\n",
       "      <td>512.329200</td>\n",
       "      <td>891.000000</td>\n",
       "      <td>3.000000</td>\n",
       "      <td>3.000000</td>\n",
       "      <td>1.000000</td>\n",
       "    </tr>\n",
       "    <tr>\n",
       "      <th rowspan=\"8\" valign=\"top\">1</th>\n",
       "      <th>count</th>\n",
       "      <td>110.000000</td>\n",
       "      <td>118.000000</td>\n",
       "      <td>118.000000</td>\n",
       "      <td>118.000000</td>\n",
       "      <td>118.000000</td>\n",
       "      <td>118.000000</td>\n",
       "    </tr>\n",
       "    <tr>\n",
       "      <th>mean</th>\n",
       "      <td>24.422000</td>\n",
       "      <td>46.778180</td>\n",
       "      <td>465.110169</td>\n",
       "      <td>2.203390</td>\n",
       "      <td>1.084746</td>\n",
       "      <td>0.550847</td>\n",
       "    </tr>\n",
       "    <tr>\n",
       "      <th>std</th>\n",
       "      <td>18.283117</td>\n",
       "      <td>63.709430</td>\n",
       "      <td>260.613602</td>\n",
       "      <td>0.832659</td>\n",
       "      <td>1.144114</td>\n",
       "      <td>0.499529</td>\n",
       "    </tr>\n",
       "    <tr>\n",
       "      <th>min</th>\n",
       "      <td>0.420000</td>\n",
       "      <td>7.229200</td>\n",
       "      <td>8.000000</td>\n",
       "      <td>1.000000</td>\n",
       "      <td>0.000000</td>\n",
       "      <td>0.000000</td>\n",
       "    </tr>\n",
       "    <tr>\n",
       "      <th>25%</th>\n",
       "      <td>6.250000</td>\n",
       "      <td>17.212500</td>\n",
       "      <td>254.000000</td>\n",
       "      <td>1.000000</td>\n",
       "      <td>0.000000</td>\n",
       "      <td>0.000000</td>\n",
       "    </tr>\n",
       "    <tr>\n",
       "      <th>50%</th>\n",
       "      <td>23.000000</td>\n",
       "      <td>26.000000</td>\n",
       "      <td>448.000000</td>\n",
       "      <td>2.000000</td>\n",
       "      <td>1.000000</td>\n",
       "      <td>1.000000</td>\n",
       "    </tr>\n",
       "    <tr>\n",
       "      <th>75%</th>\n",
       "      <td>39.000000</td>\n",
       "      <td>39.687500</td>\n",
       "      <td>691.500000</td>\n",
       "      <td>3.000000</td>\n",
       "      <td>1.000000</td>\n",
       "      <td>1.000000</td>\n",
       "    </tr>\n",
       "    <tr>\n",
       "      <th>max</th>\n",
       "      <td>70.000000</td>\n",
       "      <td>512.329200</td>\n",
       "      <td>881.000000</td>\n",
       "      <td>3.000000</td>\n",
       "      <td>4.000000</td>\n",
       "      <td>1.000000</td>\n",
       "    </tr>\n",
       "    <tr>\n",
       "      <th rowspan=\"8\" valign=\"top\">2</th>\n",
       "      <th>count</th>\n",
       "      <td>68.000000</td>\n",
       "      <td>80.000000</td>\n",
       "      <td>80.000000</td>\n",
       "      <td>80.000000</td>\n",
       "      <td>80.000000</td>\n",
       "      <td>80.000000</td>\n",
       "    </tr>\n",
       "    <tr>\n",
       "      <th>mean</th>\n",
       "      <td>17.216912</td>\n",
       "      <td>64.337604</td>\n",
       "      <td>416.662500</td>\n",
       "      <td>2.275000</td>\n",
       "      <td>2.062500</td>\n",
       "      <td>0.500000</td>\n",
       "    </tr>\n",
       "    <tr>\n",
       "      <th>std</th>\n",
       "      <td>13.193924</td>\n",
       "      <td>65.993088</td>\n",
       "      <td>256.432237</td>\n",
       "      <td>0.856472</td>\n",
       "      <td>2.451265</td>\n",
       "      <td>0.503155</td>\n",
       "    </tr>\n",
       "    <tr>\n",
       "      <th>min</th>\n",
       "      <td>0.830000</td>\n",
       "      <td>7.750000</td>\n",
       "      <td>9.000000</td>\n",
       "      <td>1.000000</td>\n",
       "      <td>0.000000</td>\n",
       "      <td>0.000000</td>\n",
       "    </tr>\n",
       "    <tr>\n",
       "      <th>25%</th>\n",
       "      <td>5.750000</td>\n",
       "      <td>26.000000</td>\n",
       "      <td>182.500000</td>\n",
       "      <td>1.000000</td>\n",
       "      <td>0.000000</td>\n",
       "      <td>0.000000</td>\n",
       "    </tr>\n",
       "    <tr>\n",
       "      <th>50%</th>\n",
       "      <td>16.500000</td>\n",
       "      <td>32.881250</td>\n",
       "      <td>406.500000</td>\n",
       "      <td>3.000000</td>\n",
       "      <td>1.000000</td>\n",
       "      <td>0.500000</td>\n",
       "    </tr>\n",
       "    <tr>\n",
       "      <th>75%</th>\n",
       "      <td>25.000000</td>\n",
       "      <td>69.550000</td>\n",
       "      <td>610.750000</td>\n",
       "      <td>3.000000</td>\n",
       "      <td>4.000000</td>\n",
       "      <td>1.000000</td>\n",
       "    </tr>\n",
       "    <tr>\n",
       "      <th>max</th>\n",
       "      <td>58.000000</td>\n",
       "      <td>263.000000</td>\n",
       "      <td>889.000000</td>\n",
       "      <td>3.000000</td>\n",
       "      <td>8.000000</td>\n",
       "      <td>1.000000</td>\n",
       "    </tr>\n",
       "    <tr>\n",
       "      <th rowspan=\"8\" valign=\"top\">3</th>\n",
       "      <th>count</th>\n",
       "      <td>5.000000</td>\n",
       "      <td>5.000000</td>\n",
       "      <td>5.000000</td>\n",
       "      <td>5.000000</td>\n",
       "      <td>5.000000</td>\n",
       "      <td>5.000000</td>\n",
       "    </tr>\n",
       "    <tr>\n",
       "      <th>mean</th>\n",
       "      <td>33.200000</td>\n",
       "      <td>25.951660</td>\n",
       "      <td>579.200000</td>\n",
       "      <td>2.600000</td>\n",
       "      <td>1.000000</td>\n",
       "      <td>0.600000</td>\n",
       "    </tr>\n",
       "    <tr>\n",
       "      <th>std</th>\n",
       "      <td>16.709279</td>\n",
       "      <td>7.862611</td>\n",
       "      <td>317.696711</td>\n",
       "      <td>0.547723</td>\n",
       "      <td>0.707107</td>\n",
       "      <td>0.547723</td>\n",
       "    </tr>\n",
       "    <tr>\n",
       "      <th>min</th>\n",
       "      <td>16.000000</td>\n",
       "      <td>18.750000</td>\n",
       "      <td>87.000000</td>\n",
       "      <td>2.000000</td>\n",
       "      <td>0.000000</td>\n",
       "      <td>0.000000</td>\n",
       "    </tr>\n",
       "    <tr>\n",
       "      <th>25%</th>\n",
       "      <td>24.000000</td>\n",
       "      <td>19.258300</td>\n",
       "      <td>438.000000</td>\n",
       "      <td>2.000000</td>\n",
       "      <td>1.000000</td>\n",
       "      <td>0.000000</td>\n",
       "    </tr>\n",
       "    <tr>\n",
       "      <th>50%</th>\n",
       "      <td>24.000000</td>\n",
       "      <td>23.000000</td>\n",
       "      <td>737.000000</td>\n",
       "      <td>3.000000</td>\n",
       "      <td>1.000000</td>\n",
       "      <td>1.000000</td>\n",
       "    </tr>\n",
       "    <tr>\n",
       "      <th>75%</th>\n",
       "      <td>48.000000</td>\n",
       "      <td>34.375000</td>\n",
       "      <td>775.000000</td>\n",
       "      <td>3.000000</td>\n",
       "      <td>1.000000</td>\n",
       "      <td>1.000000</td>\n",
       "    </tr>\n",
       "    <tr>\n",
       "      <th>max</th>\n",
       "      <td>54.000000</td>\n",
       "      <td>34.375000</td>\n",
       "      <td>859.000000</td>\n",
       "      <td>3.000000</td>\n",
       "      <td>2.000000</td>\n",
       "      <td>1.000000</td>\n",
       "    </tr>\n",
       "    <tr>\n",
       "      <th rowspan=\"8\" valign=\"top\">4</th>\n",
       "      <th>count</th>\n",
       "      <td>4.000000</td>\n",
       "      <td>4.000000</td>\n",
       "      <td>4.000000</td>\n",
       "      <td>4.000000</td>\n",
       "      <td>4.000000</td>\n",
       "      <td>4.000000</td>\n",
       "    </tr>\n",
       "    <tr>\n",
       "      <th>mean</th>\n",
       "      <td>44.500000</td>\n",
       "      <td>84.968750</td>\n",
       "      <td>384.000000</td>\n",
       "      <td>2.500000</td>\n",
       "      <td>0.750000</td>\n",
       "      <td>0.000000</td>\n",
       "    </tr>\n",
       "    <tr>\n",
       "      <th>std</th>\n",
       "      <td>14.617341</td>\n",
       "      <td>118.731099</td>\n",
       "      <td>167.397730</td>\n",
       "      <td>1.000000</td>\n",
       "      <td>0.500000</td>\n",
       "      <td>0.000000</td>\n",
       "    </tr>\n",
       "    <tr>\n",
       "      <th>min</th>\n",
       "      <td>29.000000</td>\n",
       "      <td>21.075000</td>\n",
       "      <td>168.000000</td>\n",
       "      <td>1.000000</td>\n",
       "      <td>0.000000</td>\n",
       "      <td>0.000000</td>\n",
       "    </tr>\n",
       "    <tr>\n",
       "      <th>25%</th>\n",
       "      <td>37.250000</td>\n",
       "      <td>26.193750</td>\n",
       "      <td>312.750000</td>\n",
       "      <td>2.500000</td>\n",
       "      <td>0.750000</td>\n",
       "      <td>0.000000</td>\n",
       "    </tr>\n",
       "    <tr>\n",
       "      <th>50%</th>\n",
       "      <td>42.500000</td>\n",
       "      <td>27.900000</td>\n",
       "      <td>400.000000</td>\n",
       "      <td>3.000000</td>\n",
       "      <td>1.000000</td>\n",
       "      <td>0.000000</td>\n",
       "    </tr>\n",
       "    <tr>\n",
       "      <th>75%</th>\n",
       "      <td>49.750000</td>\n",
       "      <td>86.675000</td>\n",
       "      <td>471.250000</td>\n",
       "      <td>3.000000</td>\n",
       "      <td>1.000000</td>\n",
       "      <td>0.000000</td>\n",
       "    </tr>\n",
       "    <tr>\n",
       "      <th>max</th>\n",
       "      <td>64.000000</td>\n",
       "      <td>263.000000</td>\n",
       "      <td>568.000000</td>\n",
       "      <td>3.000000</td>\n",
       "      <td>1.000000</td>\n",
       "      <td>0.000000</td>\n",
       "    </tr>\n",
       "    <tr>\n",
       "      <th rowspan=\"8\" valign=\"top\">5</th>\n",
       "      <th>count</th>\n",
       "      <td>5.000000</td>\n",
       "      <td>5.000000</td>\n",
       "      <td>5.000000</td>\n",
       "      <td>5.000000</td>\n",
       "      <td>5.000000</td>\n",
       "      <td>5.000000</td>\n",
       "    </tr>\n",
       "    <tr>\n",
       "      <th>mean</th>\n",
       "      <td>39.200000</td>\n",
       "      <td>32.550000</td>\n",
       "      <td>435.200000</td>\n",
       "      <td>3.000000</td>\n",
       "      <td>0.600000</td>\n",
       "      <td>0.200000</td>\n",
       "    </tr>\n",
       "    <tr>\n",
       "      <th>std</th>\n",
       "      <td>1.095445</td>\n",
       "      <td>4.101134</td>\n",
       "      <td>393.863809</td>\n",
       "      <td>0.000000</td>\n",
       "      <td>0.547723</td>\n",
       "      <td>0.447214</td>\n",
       "    </tr>\n",
       "    <tr>\n",
       "      <th>min</th>\n",
       "      <td>38.000000</td>\n",
       "      <td>29.125000</td>\n",
       "      <td>14.000000</td>\n",
       "      <td>3.000000</td>\n",
       "      <td>0.000000</td>\n",
       "      <td>0.000000</td>\n",
       "    </tr>\n",
       "    <tr>\n",
       "      <th>25%</th>\n",
       "      <td>39.000000</td>\n",
       "      <td>31.275000</td>\n",
       "      <td>26.000000</td>\n",
       "      <td>3.000000</td>\n",
       "      <td>0.000000</td>\n",
       "      <td>0.000000</td>\n",
       "    </tr>\n",
       "    <tr>\n",
       "      <th>50%</th>\n",
       "      <td>39.000000</td>\n",
       "      <td>31.275000</td>\n",
       "      <td>611.000000</td>\n",
       "      <td>3.000000</td>\n",
       "      <td>1.000000</td>\n",
       "      <td>0.000000</td>\n",
       "    </tr>\n",
       "    <tr>\n",
       "      <th>75%</th>\n",
       "      <td>39.000000</td>\n",
       "      <td>31.387500</td>\n",
       "      <td>639.000000</td>\n",
       "      <td>3.000000</td>\n",
       "      <td>1.000000</td>\n",
       "      <td>0.000000</td>\n",
       "    </tr>\n",
       "    <tr>\n",
       "      <th>max</th>\n",
       "      <td>41.000000</td>\n",
       "      <td>39.687500</td>\n",
       "      <td>886.000000</td>\n",
       "      <td>3.000000</td>\n",
       "      <td>1.000000</td>\n",
       "      <td>1.000000</td>\n",
       "    </tr>\n",
       "    <tr>\n",
       "      <th rowspan=\"8\" valign=\"top\">6</th>\n",
       "      <th>count</th>\n",
       "      <td>1.000000</td>\n",
       "      <td>1.000000</td>\n",
       "      <td>1.000000</td>\n",
       "      <td>1.000000</td>\n",
       "      <td>1.000000</td>\n",
       "      <td>1.000000</td>\n",
       "    </tr>\n",
       "    <tr>\n",
       "      <th>mean</th>\n",
       "      <td>43.000000</td>\n",
       "      <td>46.900000</td>\n",
       "      <td>679.000000</td>\n",
       "      <td>3.000000</td>\n",
       "      <td>1.000000</td>\n",
       "      <td>0.000000</td>\n",
       "    </tr>\n",
       "    <tr>\n",
       "      <th>std</th>\n",
       "      <td>NaN</td>\n",
       "      <td>NaN</td>\n",
       "      <td>NaN</td>\n",
       "      <td>NaN</td>\n",
       "      <td>NaN</td>\n",
       "      <td>NaN</td>\n",
       "    </tr>\n",
       "    <tr>\n",
       "      <th>min</th>\n",
       "      <td>43.000000</td>\n",
       "      <td>46.900000</td>\n",
       "      <td>679.000000</td>\n",
       "      <td>3.000000</td>\n",
       "      <td>1.000000</td>\n",
       "      <td>0.000000</td>\n",
       "    </tr>\n",
       "    <tr>\n",
       "      <th>25%</th>\n",
       "      <td>43.000000</td>\n",
       "      <td>46.900000</td>\n",
       "      <td>679.000000</td>\n",
       "      <td>3.000000</td>\n",
       "      <td>1.000000</td>\n",
       "      <td>0.000000</td>\n",
       "    </tr>\n",
       "    <tr>\n",
       "      <th>50%</th>\n",
       "      <td>43.000000</td>\n",
       "      <td>46.900000</td>\n",
       "      <td>679.000000</td>\n",
       "      <td>3.000000</td>\n",
       "      <td>1.000000</td>\n",
       "      <td>0.000000</td>\n",
       "    </tr>\n",
       "    <tr>\n",
       "      <th>75%</th>\n",
       "      <td>43.000000</td>\n",
       "      <td>46.900000</td>\n",
       "      <td>679.000000</td>\n",
       "      <td>3.000000</td>\n",
       "      <td>1.000000</td>\n",
       "      <td>0.000000</td>\n",
       "    </tr>\n",
       "    <tr>\n",
       "      <th>max</th>\n",
       "      <td>43.000000</td>\n",
       "      <td>46.900000</td>\n",
       "      <td>679.000000</td>\n",
       "      <td>3.000000</td>\n",
       "      <td>1.000000</td>\n",
       "      <td>0.000000</td>\n",
       "    </tr>\n",
       "  </tbody>\n",
       "</table>\n",
       "</div>"
      ],
      "text/plain": [
       "                    Age        Fare  PassengerId      Pclass       SibSp  \\\n",
       "Parch                                                                      \n",
       "0     count  521.000000  678.000000   678.000000  678.000000  678.000000   \n",
       "      mean    32.178503   25.586774   445.255162    2.321534    0.237463   \n",
       "      std     12.570448   41.878786   256.163557    0.836665    0.496321   \n",
       "      min      5.000000    0.000000     1.000000    1.000000    0.000000   \n",
       "      25%     22.000000    7.854200   224.250000    2.000000    0.000000   \n",
       "      50%     30.000000   10.500000   452.500000    3.000000    0.000000   \n",
       "      75%     39.000000   26.000000   665.750000    3.000000    0.000000   \n",
       "      max     80.000000  512.329200   891.000000    3.000000    3.000000   \n",
       "1     count  110.000000  118.000000   118.000000  118.000000  118.000000   \n",
       "      mean    24.422000   46.778180   465.110169    2.203390    1.084746   \n",
       "      std     18.283117   63.709430   260.613602    0.832659    1.144114   \n",
       "      min      0.420000    7.229200     8.000000    1.000000    0.000000   \n",
       "      25%      6.250000   17.212500   254.000000    1.000000    0.000000   \n",
       "      50%     23.000000   26.000000   448.000000    2.000000    1.000000   \n",
       "      75%     39.000000   39.687500   691.500000    3.000000    1.000000   \n",
       "      max     70.000000  512.329200   881.000000    3.000000    4.000000   \n",
       "2     count   68.000000   80.000000    80.000000   80.000000   80.000000   \n",
       "      mean    17.216912   64.337604   416.662500    2.275000    2.062500   \n",
       "      std     13.193924   65.993088   256.432237    0.856472    2.451265   \n",
       "      min      0.830000    7.750000     9.000000    1.000000    0.000000   \n",
       "      25%      5.750000   26.000000   182.500000    1.000000    0.000000   \n",
       "      50%     16.500000   32.881250   406.500000    3.000000    1.000000   \n",
       "      75%     25.000000   69.550000   610.750000    3.000000    4.000000   \n",
       "      max     58.000000  263.000000   889.000000    3.000000    8.000000   \n",
       "3     count    5.000000    5.000000     5.000000    5.000000    5.000000   \n",
       "      mean    33.200000   25.951660   579.200000    2.600000    1.000000   \n",
       "      std     16.709279    7.862611   317.696711    0.547723    0.707107   \n",
       "      min     16.000000   18.750000    87.000000    2.000000    0.000000   \n",
       "      25%     24.000000   19.258300   438.000000    2.000000    1.000000   \n",
       "      50%     24.000000   23.000000   737.000000    3.000000    1.000000   \n",
       "      75%     48.000000   34.375000   775.000000    3.000000    1.000000   \n",
       "      max     54.000000   34.375000   859.000000    3.000000    2.000000   \n",
       "4     count    4.000000    4.000000     4.000000    4.000000    4.000000   \n",
       "      mean    44.500000   84.968750   384.000000    2.500000    0.750000   \n",
       "      std     14.617341  118.731099   167.397730    1.000000    0.500000   \n",
       "      min     29.000000   21.075000   168.000000    1.000000    0.000000   \n",
       "      25%     37.250000   26.193750   312.750000    2.500000    0.750000   \n",
       "      50%     42.500000   27.900000   400.000000    3.000000    1.000000   \n",
       "      75%     49.750000   86.675000   471.250000    3.000000    1.000000   \n",
       "      max     64.000000  263.000000   568.000000    3.000000    1.000000   \n",
       "5     count    5.000000    5.000000     5.000000    5.000000    5.000000   \n",
       "      mean    39.200000   32.550000   435.200000    3.000000    0.600000   \n",
       "      std      1.095445    4.101134   393.863809    0.000000    0.547723   \n",
       "      min     38.000000   29.125000    14.000000    3.000000    0.000000   \n",
       "      25%     39.000000   31.275000    26.000000    3.000000    0.000000   \n",
       "      50%     39.000000   31.275000   611.000000    3.000000    1.000000   \n",
       "      75%     39.000000   31.387500   639.000000    3.000000    1.000000   \n",
       "      max     41.000000   39.687500   886.000000    3.000000    1.000000   \n",
       "6     count    1.000000    1.000000     1.000000    1.000000    1.000000   \n",
       "      mean    43.000000   46.900000   679.000000    3.000000    1.000000   \n",
       "      std           NaN         NaN          NaN         NaN         NaN   \n",
       "      min     43.000000   46.900000   679.000000    3.000000    1.000000   \n",
       "      25%     43.000000   46.900000   679.000000    3.000000    1.000000   \n",
       "      50%     43.000000   46.900000   679.000000    3.000000    1.000000   \n",
       "      75%     43.000000   46.900000   679.000000    3.000000    1.000000   \n",
       "      max     43.000000   46.900000   679.000000    3.000000    1.000000   \n",
       "\n",
       "               Survived  \n",
       "Parch                    \n",
       "0     count  678.000000  \n",
       "      mean     0.343658  \n",
       "      std      0.475279  \n",
       "      min      0.000000  \n",
       "      25%      0.000000  \n",
       "      50%      0.000000  \n",
       "      75%      1.000000  \n",
       "      max      1.000000  \n",
       "1     count  118.000000  \n",
       "      mean     0.550847  \n",
       "      std      0.499529  \n",
       "      min      0.000000  \n",
       "      25%      0.000000  \n",
       "      50%      1.000000  \n",
       "      75%      1.000000  \n",
       "      max      1.000000  \n",
       "2     count   80.000000  \n",
       "      mean     0.500000  \n",
       "      std      0.503155  \n",
       "      min      0.000000  \n",
       "      25%      0.000000  \n",
       "      50%      0.500000  \n",
       "      75%      1.000000  \n",
       "      max      1.000000  \n",
       "3     count    5.000000  \n",
       "      mean     0.600000  \n",
       "      std      0.547723  \n",
       "      min      0.000000  \n",
       "      25%      0.000000  \n",
       "      50%      1.000000  \n",
       "      75%      1.000000  \n",
       "      max      1.000000  \n",
       "4     count    4.000000  \n",
       "      mean     0.000000  \n",
       "      std      0.000000  \n",
       "      min      0.000000  \n",
       "      25%      0.000000  \n",
       "      50%      0.000000  \n",
       "      75%      0.000000  \n",
       "      max      0.000000  \n",
       "5     count    5.000000  \n",
       "      mean     0.200000  \n",
       "      std      0.447214  \n",
       "      min      0.000000  \n",
       "      25%      0.000000  \n",
       "      50%      0.000000  \n",
       "      75%      0.000000  \n",
       "      max      1.000000  \n",
       "6     count    1.000000  \n",
       "      mean     0.000000  \n",
       "      std           NaN  \n",
       "      min      0.000000  \n",
       "      25%      0.000000  \n",
       "      50%      0.000000  \n",
       "      75%      0.000000  \n",
       "      max      0.000000  "
      ]
     },
     "execution_count": 62,
     "metadata": {},
     "output_type": "execute_result"
    }
   ],
   "source": [
    "survival_df_parch_groupped.describe()"
   ]
  },
  {
   "cell_type": "code",
   "execution_count": 63,
   "metadata": {
    "collapsed": true
   },
   "outputs": [],
   "source": [
    "parch_0_count = survival_df_parch_groupped.get_group(0)[\"PassengerId\"].count()\n",
    "parch_1_count = survival_df_parch_groupped.get_group(1)[\"PassengerId\"].count()\n",
    "parch_2_count = survival_df_parch_groupped.get_group(2)[\"PassengerId\"].count()"
   ]
  },
  {
   "cell_type": "code",
   "execution_count": 64,
   "metadata": {
    "collapsed": false
   },
   "outputs": [
    {
     "data": {
      "text/plain": [
       "(216, 184, 491)"
      ]
     },
     "execution_count": 64,
     "metadata": {},
     "output_type": "execute_result"
    },
    {
     "data": {
      "image/png": "[encoded data removed]",
      "text/plain": [
       "<matplotlib.figure.Figure at 0x111531fd0>"
      ]
     },
     "metadata": {},
     "output_type": "display_data"
    }
   ],
   "source": [
    "parch_counts = [parch_0_count, parch_1_count, parch_2_count]\n",
    "parch_labels = [\"0 parents or children\", \"1 parents or children\", \"2 parents or children\"]\n",
    "fig, axes = plt.subplots(figsize=(8, 8))\n",
    "axes.pie(parch_counts, labels=parch_labels, \n",
    "         autopct=lambda p: '{0:.1f}%\\n({1:.0f} passengers)'.format(p, p * (survival_df[\"PassengerId\"].count() - 15) / 100), \n",
    "         shadow=False, startangle=90)\n",
    "axes.set_title(\"Passengers with different parents or children count on Titanic\")\n",
    "axes.axis('equal');\n",
    "\n",
    "first_class_count, second_class_count, third_class_count"
   ]
  },
  {
   "cell_type": "markdown",
   "metadata": {},
   "source": [
    "Vast majority of passengers travelled with 0, 1 or 2 parents or children. Because of low number (15 passengers) we will treat passengers travelling with 3 or more parents or children as outliers and ignore these passengers in further analysis. \n",
    "\n",
    "What is surprising again - similar to siblings and spouse analysis - is the fact that the majority of passengers travelled alone: 77.4% of passengers travelled with no parents or children. Only 13.5% passengers travelled with 1 parent or children and 9.1% with 2 parents or children."
   ]
  },
  {
   "cell_type": "markdown",
   "metadata": {},
   "source": [
    "How survival rate looked for these groups?"
   ]
  },
  {
   "cell_type": "code",
   "execution_count": 73,
   "metadata": {
    "collapsed": true
   },
   "outputs": [],
   "source": [
    "survided_0_parch_number = sum(survival_df_parch_groupped.get_group(0)[\"Survived\"] == 1)\n",
    "not_survided_0_parch_number = sum(survival_df_parch_groupped.get_group(0)[\"Survived\"] == 0)\n",
    "\n",
    "survided_1_parch_number = sum(survival_df_parch_groupped.get_group(1)[\"Survived\"] == 1)\n",
    "not_survided_1_parch_number = sum(survival_df_parch_groupped.get_group(1)[\"Survived\"] == 0)\n",
    "\n",
    "survided_2_parch_number = sum(survival_df_parch_groupped.get_group(2)[\"Survived\"] == 1)\n",
    "not_survided_2_parch_number = sum(survival_df_parch_groupped.get_group(2)[\"Survived\"] == 0)"
   ]
  },
  {
   "cell_type": "code",
   "execution_count": null,
   "metadata": {
    "collapsed": true
   },
   "outputs": [],
   "source": [
    "plot_survival_rate(survided_0_parch_number, not_survided_0_parch_number, \"passengers with 0 parents or children\")\n"
   ]
  },
  {
   "cell_type": "markdown",
   "metadata": {
    "collapsed": false
   },
   "source": [
    "## Notes"
   ]
  },
  {
   "cell_type": "code",
   "execution_count": 70,
   "metadata": {
    "collapsed": false
   },
   "outputs": [
    {
     "data": {
      "text/html": [
       "<div>\n",
       "<table border=\"1\" class=\"dataframe\">\n",
       "  <thead>\n",
       "    <tr style=\"text-align: right;\">\n",
       "      <th></th>\n",
       "      <th></th>\n",
       "      <th>Age</th>\n",
       "      <th>Fare</th>\n",
       "      <th>PassengerId</th>\n",
       "      <th>Pclass</th>\n",
       "      <th>SibSp</th>\n",
       "      <th>Survived</th>\n",
       "    </tr>\n",
       "    <tr>\n",
       "      <th>Sex</th>\n",
       "      <th></th>\n",
       "      <th></th>\n",
       "      <th></th>\n",
       "      <th></th>\n",
       "      <th></th>\n",
       "      <th></th>\n",
       "      <th></th>\n",
       "    </tr>\n",
       "  </thead>\n",
       "  <tbody>\n",
       "    <tr>\n",
       "      <th rowspan=\"8\" valign=\"top\">female</th>\n",
       "      <th>count</th>\n",
       "      <td>153.000000</td>\n",
       "      <td>194.000000</td>\n",
       "      <td>194.000000</td>\n",
       "      <td>194.000000</td>\n",
       "      <td>194.000000</td>\n",
       "      <td>194.000000</td>\n",
       "    </tr>\n",
       "    <tr>\n",
       "      <th>mean</th>\n",
       "      <td>30.767974</td>\n",
       "      <td>39.826591</td>\n",
       "      <td>403.030928</td>\n",
       "      <td>2.108247</td>\n",
       "      <td>0.386598</td>\n",
       "      <td>0.788660</td>\n",
       "    </tr>\n",
       "    <tr>\n",
       "      <th>std</th>\n",
       "      <td>12.193752</td>\n",
       "      <td>56.611265</td>\n",
       "      <td>257.130900</td>\n",
       "      <td>0.871919</td>\n",
       "      <td>0.575876</td>\n",
       "      <td>0.409315</td>\n",
       "    </tr>\n",
       "    <tr>\n",
       "      <th>min</th>\n",
       "      <td>5.000000</td>\n",
       "      <td>6.750000</td>\n",
       "      <td>2.000000</td>\n",
       "      <td>1.000000</td>\n",
       "      <td>0.000000</td>\n",
       "      <td>0.000000</td>\n",
       "    </tr>\n",
       "    <tr>\n",
       "      <th>25%</th>\n",
       "      <td>22.000000</td>\n",
       "      <td>8.071875</td>\n",
       "      <td>196.750000</td>\n",
       "      <td>1.000000</td>\n",
       "      <td>0.000000</td>\n",
       "      <td>1.000000</td>\n",
       "    </tr>\n",
       "    <tr>\n",
       "      <th>50%</th>\n",
       "      <td>29.000000</td>\n",
       "      <td>14.458300</td>\n",
       "      <td>373.000000</td>\n",
       "      <td>2.000000</td>\n",
       "      <td>0.000000</td>\n",
       "      <td>1.000000</td>\n",
       "    </tr>\n",
       "    <tr>\n",
       "      <th>75%</th>\n",
       "      <td>37.000000</td>\n",
       "      <td>55.200000</td>\n",
       "      <td>606.750000</td>\n",
       "      <td>3.000000</td>\n",
       "      <td>1.000000</td>\n",
       "      <td>1.000000</td>\n",
       "    </tr>\n",
       "    <tr>\n",
       "      <th>max</th>\n",
       "      <td>63.000000</td>\n",
       "      <td>512.329200</td>\n",
       "      <td>888.000000</td>\n",
       "      <td>3.000000</td>\n",
       "      <td>3.000000</td>\n",
       "      <td>1.000000</td>\n",
       "    </tr>\n",
       "    <tr>\n",
       "      <th rowspan=\"8\" valign=\"top\">male</th>\n",
       "      <th>count</th>\n",
       "      <td>368.000000</td>\n",
       "      <td>484.000000</td>\n",
       "      <td>484.000000</td>\n",
       "      <td>484.000000</td>\n",
       "      <td>484.000000</td>\n",
       "      <td>484.000000</td>\n",
       "    </tr>\n",
       "    <tr>\n",
       "      <th>mean</th>\n",
       "      <td>32.764946</td>\n",
       "      <td>19.879078</td>\n",
       "      <td>462.179752</td>\n",
       "      <td>2.407025</td>\n",
       "      <td>0.177686</td>\n",
       "      <td>0.165289</td>\n",
       "    </tr>\n",
       "    <tr>\n",
       "      <th>std</th>\n",
       "      <td>12.693936</td>\n",
       "      <td>32.612476</td>\n",
       "      <td>254.074944</td>\n",
       "      <td>0.807337</td>\n",
       "      <td>0.447489</td>\n",
       "      <td>0.371826</td>\n",
       "    </tr>\n",
       "    <tr>\n",
       "      <th>min</th>\n",
       "      <td>11.000000</td>\n",
       "      <td>0.000000</td>\n",
       "      <td>1.000000</td>\n",
       "      <td>1.000000</td>\n",
       "      <td>0.000000</td>\n",
       "      <td>0.000000</td>\n",
       "    </tr>\n",
       "    <tr>\n",
       "      <th>25%</th>\n",
       "      <td>23.000000</td>\n",
       "      <td>7.775000</td>\n",
       "      <td>234.500000</td>\n",
       "      <td>2.000000</td>\n",
       "      <td>0.000000</td>\n",
       "      <td>0.000000</td>\n",
       "    </tr>\n",
       "    <tr>\n",
       "      <th>50%</th>\n",
       "      <td>30.000000</td>\n",
       "      <td>8.662500</td>\n",
       "      <td>476.500000</td>\n",
       "      <td>3.000000</td>\n",
       "      <td>0.000000</td>\n",
       "      <td>0.000000</td>\n",
       "    </tr>\n",
       "    <tr>\n",
       "      <th>75%</th>\n",
       "      <td>40.000000</td>\n",
       "      <td>24.150000</td>\n",
       "      <td>676.250000</td>\n",
       "      <td>3.000000</td>\n",
       "      <td>0.000000</td>\n",
       "      <td>0.000000</td>\n",
       "    </tr>\n",
       "    <tr>\n",
       "      <th>max</th>\n",
       "      <td>80.000000</td>\n",
       "      <td>512.329200</td>\n",
       "      <td>891.000000</td>\n",
       "      <td>3.000000</td>\n",
       "      <td>2.000000</td>\n",
       "      <td>1.000000</td>\n",
       "    </tr>\n",
       "  </tbody>\n",
       "</table>\n",
       "</div>"
      ],
      "text/plain": [
       "                     Age        Fare  PassengerId      Pclass       SibSp  \\\n",
       "Sex                                                                         \n",
       "female count  153.000000  194.000000   194.000000  194.000000  194.000000   \n",
       "       mean    30.767974   39.826591   403.030928    2.108247    0.386598   \n",
       "       std     12.193752   56.611265   257.130900    0.871919    0.575876   \n",
       "       min      5.000000    6.750000     2.000000    1.000000    0.000000   \n",
       "       25%     22.000000    8.071875   196.750000    1.000000    0.000000   \n",
       "       50%     29.000000   14.458300   373.000000    2.000000    0.000000   \n",
       "       75%     37.000000   55.200000   606.750000    3.000000    1.000000   \n",
       "       max     63.000000  512.329200   888.000000    3.000000    3.000000   \n",
       "male   count  368.000000  484.000000   484.000000  484.000000  484.000000   \n",
       "       mean    32.764946   19.879078   462.179752    2.407025    0.177686   \n",
       "       std     12.693936   32.612476   254.074944    0.807337    0.447489   \n",
       "       min     11.000000    0.000000     1.000000    1.000000    0.000000   \n",
       "       25%     23.000000    7.775000   234.500000    2.000000    0.000000   \n",
       "       50%     30.000000    8.662500   476.500000    3.000000    0.000000   \n",
       "       75%     40.000000   24.150000   676.250000    3.000000    0.000000   \n",
       "       max     80.000000  512.329200   891.000000    3.000000    2.000000   \n",
       "\n",
       "                Survived  \n",
       "Sex                       \n",
       "female count  194.000000  \n",
       "       mean     0.788660  \n",
       "       std      0.409315  \n",
       "       min      0.000000  \n",
       "       25%      1.000000  \n",
       "       50%      1.000000  \n",
       "       75%      1.000000  \n",
       "       max      1.000000  \n",
       "male   count  484.000000  \n",
       "       mean     0.165289  \n",
       "       std      0.371826  \n",
       "       min      0.000000  \n",
       "       25%      0.000000  \n",
       "       50%      0.000000  \n",
       "       75%      0.000000  \n",
       "       max      1.000000  "
      ]
     },
     "execution_count": 70,
     "metadata": {},
     "output_type": "execute_result"
    }
   ],
   "source": [
    "survival_df_parch_groupped.get_group(0).groupby(\"Sex\").describe()"
   ]
  },
  {
   "cell_type": "code",
   "execution_count": 69,
   "metadata": {
    "collapsed": false
   },
   "outputs": [
    {
     "data": {
      "text/html": [
       "<div>\n",
       "<table border=\"1\" class=\"dataframe\">\n",
       "  <thead>\n",
       "    <tr style=\"text-align: right;\">\n",
       "      <th></th>\n",
       "      <th></th>\n",
       "      <th>Age</th>\n",
       "      <th>Fare</th>\n",
       "      <th>PassengerId</th>\n",
       "      <th>SibSp</th>\n",
       "      <th>Survived</th>\n",
       "    </tr>\n",
       "    <tr>\n",
       "      <th>Pclass</th>\n",
       "      <th></th>\n",
       "      <th></th>\n",
       "      <th></th>\n",
       "      <th></th>\n",
       "      <th></th>\n",
       "      <th></th>\n",
       "    </tr>\n",
       "  </thead>\n",
       "  <tbody>\n",
       "    <tr>\n",
       "      <th rowspan=\"8\" valign=\"top\">1</th>\n",
       "      <th>count</th>\n",
       "      <td>134.000000</td>\n",
       "      <td>163.000000</td>\n",
       "      <td>163.000000</td>\n",
       "      <td>163.000000</td>\n",
       "      <td>163.000000</td>\n",
       "    </tr>\n",
       "    <tr>\n",
       "      <th>mean</th>\n",
       "      <td>39.906716</td>\n",
       "      <td>68.639980</td>\n",
       "      <td>463.871166</td>\n",
       "      <td>0.349693</td>\n",
       "      <td>0.607362</td>\n",
       "    </tr>\n",
       "    <tr>\n",
       "      <th>std</th>\n",
       "      <td>13.394838</td>\n",
       "      <td>67.645178</td>\n",
       "      <td>245.709282</td>\n",
       "      <td>0.515605</td>\n",
       "      <td>0.489842</td>\n",
       "    </tr>\n",
       "    <tr>\n",
       "      <th>min</th>\n",
       "      <td>16.000000</td>\n",
       "      <td>0.000000</td>\n",
       "      <td>2.000000</td>\n",
       "      <td>0.000000</td>\n",
       "      <td>0.000000</td>\n",
       "    </tr>\n",
       "    <tr>\n",
       "      <th>25%</th>\n",
       "      <td>30.000000</td>\n",
       "      <td>30.000000</td>\n",
       "      <td>270.500000</td>\n",
       "      <td>0.000000</td>\n",
       "      <td>0.000000</td>\n",
       "    </tr>\n",
       "    <tr>\n",
       "      <th>50%</th>\n",
       "      <td>38.000000</td>\n",
       "      <td>52.000000</td>\n",
       "      <td>487.000000</td>\n",
       "      <td>0.000000</td>\n",
       "      <td>1.000000</td>\n",
       "    </tr>\n",
       "    <tr>\n",
       "      <th>75%</th>\n",
       "      <td>49.000000</td>\n",
       "      <td>82.170800</td>\n",
       "      <td>666.500000</td>\n",
       "      <td>1.000000</td>\n",
       "      <td>1.000000</td>\n",
       "    </tr>\n",
       "    <tr>\n",
       "      <th>max</th>\n",
       "      <td>80.000000</td>\n",
       "      <td>512.329200</td>\n",
       "      <td>890.000000</td>\n",
       "      <td>2.000000</td>\n",
       "      <td>1.000000</td>\n",
       "    </tr>\n",
       "    <tr>\n",
       "      <th rowspan=\"8\" valign=\"top\">2</th>\n",
       "      <th>count</th>\n",
       "      <td>123.000000</td>\n",
       "      <td>134.000000</td>\n",
       "      <td>134.000000</td>\n",
       "      <td>134.000000</td>\n",
       "      <td>134.000000</td>\n",
       "    </tr>\n",
       "    <tr>\n",
       "      <th>mean</th>\n",
       "      <td>33.081301</td>\n",
       "      <td>17.467132</td>\n",
       "      <td>429.231343</td>\n",
       "      <td>0.261194</td>\n",
       "      <td>0.358209</td>\n",
       "    </tr>\n",
       "    <tr>\n",
       "      <th>std</th>\n",
       "      <td>11.609312</td>\n",
       "      <td>12.979085</td>\n",
       "      <td>254.287680</td>\n",
       "      <td>0.533524</td>\n",
       "      <td>0.481273</td>\n",
       "    </tr>\n",
       "    <tr>\n",
       "      <th>min</th>\n",
       "      <td>14.000000</td>\n",
       "      <td>0.000000</td>\n",
       "      <td>10.000000</td>\n",
       "      <td>0.000000</td>\n",
       "      <td>0.000000</td>\n",
       "    </tr>\n",
       "    <tr>\n",
       "      <th>25%</th>\n",
       "      <td>25.000000</td>\n",
       "      <td>12.068750</td>\n",
       "      <td>220.500000</td>\n",
       "      <td>0.000000</td>\n",
       "      <td>0.000000</td>\n",
       "    </tr>\n",
       "    <tr>\n",
       "      <th>50%</th>\n",
       "      <td>30.000000</td>\n",
       "      <td>13.000000</td>\n",
       "      <td>403.000000</td>\n",
       "      <td>0.000000</td>\n",
       "      <td>0.000000</td>\n",
       "    </tr>\n",
       "    <tr>\n",
       "      <th>75%</th>\n",
       "      <td>39.000000</td>\n",
       "      <td>21.000000</td>\n",
       "      <td>664.250000</td>\n",
       "      <td>0.000000</td>\n",
       "      <td>1.000000</td>\n",
       "    </tr>\n",
       "    <tr>\n",
       "      <th>max</th>\n",
       "      <td>70.000000</td>\n",
       "      <td>73.500000</td>\n",
       "      <td>887.000000</td>\n",
       "      <td>3.000000</td>\n",
       "      <td>1.000000</td>\n",
       "    </tr>\n",
       "    <tr>\n",
       "      <th rowspan=\"8\" valign=\"top\">3</th>\n",
       "      <th>count</th>\n",
       "      <td>264.000000</td>\n",
       "      <td>381.000000</td>\n",
       "      <td>381.000000</td>\n",
       "      <td>381.000000</td>\n",
       "      <td>381.000000</td>\n",
       "    </tr>\n",
       "    <tr>\n",
       "      <th>mean</th>\n",
       "      <td>27.835227</td>\n",
       "      <td>10.023412</td>\n",
       "      <td>442.926509</td>\n",
       "      <td>0.181102</td>\n",
       "      <td>0.225722</td>\n",
       "    </tr>\n",
       "    <tr>\n",
       "      <th>std</th>\n",
       "      <td>10.460696</td>\n",
       "      <td>7.326267</td>\n",
       "      <td>261.328146</td>\n",
       "      <td>0.465957</td>\n",
       "      <td>0.418606</td>\n",
       "    </tr>\n",
       "    <tr>\n",
       "      <th>min</th>\n",
       "      <td>5.000000</td>\n",
       "      <td>0.000000</td>\n",
       "      <td>1.000000</td>\n",
       "      <td>0.000000</td>\n",
       "      <td>0.000000</td>\n",
       "    </tr>\n",
       "    <tr>\n",
       "      <th>25%</th>\n",
       "      <td>21.000000</td>\n",
       "      <td>7.750000</td>\n",
       "      <td>209.000000</td>\n",
       "      <td>0.000000</td>\n",
       "      <td>0.000000</td>\n",
       "    </tr>\n",
       "    <tr>\n",
       "      <th>50%</th>\n",
       "      <td>25.500000</td>\n",
       "      <td>7.895800</td>\n",
       "      <td>445.000000</td>\n",
       "      <td>0.000000</td>\n",
       "      <td>0.000000</td>\n",
       "    </tr>\n",
       "    <tr>\n",
       "      <th>75%</th>\n",
       "      <td>32.000000</td>\n",
       "      <td>8.662500</td>\n",
       "      <td>665.000000</td>\n",
       "      <td>0.000000</td>\n",
       "      <td>0.000000</td>\n",
       "    </tr>\n",
       "    <tr>\n",
       "      <th>max</th>\n",
       "      <td>74.000000</td>\n",
       "      <td>56.495800</td>\n",
       "      <td>891.000000</td>\n",
       "      <td>3.000000</td>\n",
       "      <td>1.000000</td>\n",
       "    </tr>\n",
       "  </tbody>\n",
       "</table>\n",
       "</div>"
      ],
      "text/plain": [
       "                     Age        Fare  PassengerId       SibSp    Survived\n",
       "Pclass                                                                   \n",
       "1      count  134.000000  163.000000   163.000000  163.000000  163.000000\n",
       "       mean    39.906716   68.639980   463.871166    0.349693    0.607362\n",
       "       std     13.394838   67.645178   245.709282    0.515605    0.489842\n",
       "       min     16.000000    0.000000     2.000000    0.000000    0.000000\n",
       "       25%     30.000000   30.000000   270.500000    0.000000    0.000000\n",
       "       50%     38.000000   52.000000   487.000000    0.000000    1.000000\n",
       "       75%     49.000000   82.170800   666.500000    1.000000    1.000000\n",
       "       max     80.000000  512.329200   890.000000    2.000000    1.000000\n",
       "2      count  123.000000  134.000000   134.000000  134.000000  134.000000\n",
       "       mean    33.081301   17.467132   429.231343    0.261194    0.358209\n",
       "       std     11.609312   12.979085   254.287680    0.533524    0.481273\n",
       "       min     14.000000    0.000000    10.000000    0.000000    0.000000\n",
       "       25%     25.000000   12.068750   220.500000    0.000000    0.000000\n",
       "       50%     30.000000   13.000000   403.000000    0.000000    0.000000\n",
       "       75%     39.000000   21.000000   664.250000    0.000000    1.000000\n",
       "       max     70.000000   73.500000   887.000000    3.000000    1.000000\n",
       "3      count  264.000000  381.000000   381.000000  381.000000  381.000000\n",
       "       mean    27.835227   10.023412   442.926509    0.181102    0.225722\n",
       "       std     10.460696    7.326267   261.328146    0.465957    0.418606\n",
       "       min      5.000000    0.000000     1.000000    0.000000    0.000000\n",
       "       25%     21.000000    7.750000   209.000000    0.000000    0.000000\n",
       "       50%     25.500000    7.895800   445.000000    0.000000    0.000000\n",
       "       75%     32.000000    8.662500   665.000000    0.000000    0.000000\n",
       "       max     74.000000   56.495800   891.000000    3.000000    1.000000"
      ]
     },
     "execution_count": 69,
     "metadata": {},
     "output_type": "execute_result"
    }
   ],
   "source": [
    "survival_df_parch_groupped.get_group(0).groupby(\"Pclass\").describe()"
   ]
  },
  {
   "cell_type": "markdown",
   "metadata": {},
   "source": [
    "Mostly males and mostly third class passengers. It could look like travelling alone is causing higher mortality, but maybe it is that people travelling alone were more likely to be males travelling in third class. And both of these factors caused lower survival rate."
   ]
  },
  {
   "cell_type": "markdown",
   "metadata": {},
   "source": [
    "next - survived analysis\n",
    "\n",
    "Measure how strong this and other relations are. Correlation? Scatter plot between variables? Add statistical analysis here. Maybe hypothesis testing. \"Again, the overall survival rate for all Tutanic passenger was 38.4%. From above plots it looks like travelling with a company had quite big impact on survival rate.\"\n",
    "\n",
    "Survived analysis. After we analyze different factors let's see who survived. What classes, ages, sexes dominated among those who survived - survived analysis - comparing to the overal structure (eg. 55.1% passengers were in 3rd class - how many percent of 3rd class passengers was in survived group)?\n",
    "\n",
    "Analyze factors crossline for minimal and maximal survival rate.\n",
    "\"The survivors among the men were relatively more crewmen, then more First Class and Third Class, with 92% of men dying from Second Class. However, the third-class women and children also died in relatively high numbers, with 66% of those children dying.\"\n",
    "\n",
    "Then identify the group with the highest mortality. Identify set of factors affecting it. Try all combinations possible."
   ]
  },
  {
   "cell_type": "code",
   "execution_count": null,
   "metadata": {
    "collapsed": true
   },
   "outputs": [],
   "source": []
  },
  {
   "cell_type": "code",
   "execution_count": null,
   "metadata": {
    "collapsed": true
   },
   "outputs": [],
   "source": []
  }
 ],
 "metadata": {
  "kernelspec": {
   "display_name": "Python 3",
   "language": "python",
   "name": "python3"
  },
  "language_info": {
   "codemirror_mode": {
    "name": "ipython",
    "version": 3
   },
   "file_extension": ".py",
   "mimetype": "text/x-python",
   "name": "python",
   "nbconvert_exporter": "python",
   "pygments_lexer": "ipython3",
   "version": "3.6.0"
  }
 },
 "nbformat": 4,
 "nbformat_minor": 2
}
