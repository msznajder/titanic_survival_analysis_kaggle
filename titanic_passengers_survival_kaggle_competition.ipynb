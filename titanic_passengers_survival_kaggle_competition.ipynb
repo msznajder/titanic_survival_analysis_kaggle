{
 "cells": [
  {
   "cell_type": "markdown",
   "metadata": {},
   "source": [
    "# Titanic passengers survival Kaggle competition\n",
    "\n",
    "In this notebook we will conduct data analysis and predictive modelling of Titanic passengers survival dataset for Kaggle [Titanic dataset](https://www.kaggle.com/c/titanic).\n",
    "\n",
    "Titanic passengers survival dataset is one of the most canonical data analysis and machine learning datasets. Let's see how this data looks like, investigate main trends in it and try to predict survival chances of passengers based on numerous features.\n",
    "\n",
    "The main steps of the analysis process we will conduct are:\n",
    "1. Frame the problem\n",
    "2. Get the data\n",
    "3. Explore the data\n",
    "4. Prepare the data for machine learning algorithms\n",
    "5. Select a model and train it\n",
    "6. Fine-tune the model\n",
    "7. Submit solution"
   ]
  },
  {
   "cell_type": "markdown",
   "metadata": {},
   "source": [
    "## 1. Frame the problem\n",
    "\n",
    "Titanic sinking was one of the biggest shipwreck tragedies in history. It killed 1502 out of 2224 passengers. This tragedy led to better safety regulations for ships. The main reason for such a great death toll was not enough number of lifeboats to fit all passengers. This can lead to the conclusion that some groups of people were more likely to survive than others - woman, children and upper-class passeners for example.\n",
    "\n",
    "### 1.1 The goal\n",
    "\n",
    "The goal of this analysis is two fold. Firstly, we want to analyse the data set, explore it answering related questions using statistical methods and data visualization. Secondly our goal is to predict which passengers were likely to survive Titanic catastrophy and which not. For each PassengerId in the provided unlabeled test set, we want to predict a whether given passenger survived or not.\n",
    "\n",
    "#### 1.1.1 Analysis\n",
    "\n",
    "There are several questions we would like to answer with Titanic dataset analysis.\n",
    "\n",
    "__Questions__\n",
    "\n",
    "As a final result for this goal will be summary of found interesting analysis results.\n",
    "\n",
    "#### 1.1.2 Modeling\n",
    "\n",
    "As for second goal, since we are given multiple features data with labeled survival values this is clearly an supervised learning problem. Moreover we try to predict discrete categorical value: 0 or 1 (representing not-survived and survived passenger). This tells us that we deal here with binary categorization problem.\n",
    "\n",
    "As a measure of created machine learning models performance we choose the percentage of passengers we correctly predict, that is accuracy level.\n",
    "\n",
    "As a final product we need to submit a csv file with exactly 418 entried plus a header row. The file should have exactly 2 columns:\n",
    "* PassengerId (sorted in any order)\n",
    "* Survived (contains your binary predictions: 1 for survived, 0 for deceased)\n",
    "\n",
    "The example submission dataset should look like this:\n",
    "```\n",
    "PassengerId,Survived\n",
    " 892,0\n",
    " 893,1\n",
    " 894,0\n",
    " Etc.\n",
    "```"
   ]
  },
  {
   "cell_type": "markdown",
   "metadata": {},
   "source": [
    "## 2. Get the data\n",
    "\n",
    "Let's get through the process of acquiring the dataset."
   ]
  },
  {
   "cell_type": "markdown",
   "metadata": {},
   "source": [
    "### 2.1 Download and load the data.\n",
    "\n",
    "We first download the dataset from Kaggle website. We will first list all files we downloaded."
   ]
  },
  {
   "cell_type": "code",
   "execution_count": 113,
   "metadata": {
    "collapsed": false
   },
   "outputs": [
    {
     "name": "stdout",
     "output_type": "stream",
     "text": [
      "data_description.txt  submission.csv        train.csv\r\n",
      "gender_submission.csv test.csv\r\n"
     ]
    }
   ],
   "source": [
    "!ls datasets/"
   ]
  },
  {
   "cell_type": "markdown",
   "metadata": {},
   "source": [
    "Now let's start by looking at the data description from Kaggle."
   ]
  },
  {
   "cell_type": "code",
   "execution_count": 114,
   "metadata": {
    "collapsed": false,
    "scrolled": false
   },
   "outputs": [
    {
     "name": "stdout",
     "output_type": "stream",
     "text": [
      "Data Dictionary:\r\n",
      "survival\tSurvival\t\t0 = No, 1 = Yes\r\n",
      "pclass\t\tTicket class\t\t1 = 1st, 2 = 2nd, 3 = 3rd\r\n",
      "sex\t\tSex\t\r\n",
      "Age             Age in years\t\r\n",
      "sibsp\t\t# of siblings / spouses aboard the Titanic\t\r\n",
      "parch\t\t# of parents / children aboard the Titanic\t\r\n",
      "ticket\t\tTicket number\t\r\n",
      "fare\t\tPassenger fare\t\r\n",
      "cabin\t\tCabin number\t\r\n",
      "embarked\tPort of Embarkation\tC = Cherbourg, Q = Queenstown, S = Southampton\r\n",
      "\r\n",
      "\r\n",
      "Variable Notes:\r\n",
      "pclass: A proxy for socio-economic status (SES)\r\n",
      "1st = Upper\r\n",
      "2nd = Middle\r\n",
      "3rd = Lower\r\n",
      "\r\n",
      "age: Age is fractional if less than 1. If the age is estimated, is it in the form of xx.5\r\n",
      "\r\n",
      "sibsp: The dataset defines family relations in this way...\r\n",
      "Sibling = brother, sister, stepbrother, stepsister\r\n",
      "Spouse = husband, wife (mistresses and fiancés were ignored)\r\n",
      "\r\n",
      "parch: The dataset defines family relations in this way...\r\n",
      "Parent = mother, father\r\n",
      "Child = daughter, son, stepdaughter, stepson\r\n",
      "Some children travelled only with a nanny, therefore parch=0 for them."
     ]
    }
   ],
   "source": [
    "!cat datasets/data_description.txt"
   ]
  },
  {
   "cell_type": "markdown",
   "metadata": {},
   "source": [
    "We see all the details we need to understand data notation here.\n",
    "\n",
    "We also know that the data has been already split for us into two groups:\n",
    "* training set (train.csv) - used in data analysis and machine learning model training\n",
    "* test set (test.csv) - used for machine learning model testing\n",
    "\n",
    "That is why we do not have to prepare test dataset in this analysis. \n",
    "\n",
    "We are now ready to load and look at our dataset."
   ]
  },
  {
   "cell_type": "code",
   "execution_count": 115,
   "metadata": {
    "collapsed": true
   },
   "outputs": [],
   "source": [
    "import pandas as pd\n",
    "\n",
    "titanic_train = pd.read_csv(\"datasets/train.csv\")"
   ]
  },
  {
   "cell_type": "markdown",
   "metadata": {},
   "source": [
    "### 2.2 Take a quick look at the data"
   ]
  },
  {
   "cell_type": "markdown",
   "metadata": {},
   "source": [
    "Let's see how our data looks like."
   ]
  },
  {
   "cell_type": "code",
   "execution_count": 116,
   "metadata": {
    "collapsed": false
   },
   "outputs": [
    {
     "data": {
      "text/html": [
       "<div>\n",
       "<table border=\"1\" class=\"dataframe\">\n",
       "  <thead>\n",
       "    <tr style=\"text-align: right;\">\n",
       "      <th></th>\n",
       "      <th>PassengerId</th>\n",
       "      <th>Survived</th>\n",
       "      <th>Pclass</th>\n",
       "      <th>Name</th>\n",
       "      <th>Sex</th>\n",
       "      <th>Age</th>\n",
       "      <th>SibSp</th>\n",
       "      <th>Parch</th>\n",
       "      <th>Ticket</th>\n",
       "      <th>Fare</th>\n",
       "      <th>Cabin</th>\n",
       "      <th>Embarked</th>\n",
       "    </tr>\n",
       "  </thead>\n",
       "  <tbody>\n",
       "    <tr>\n",
       "      <th>0</th>\n",
       "      <td>1</td>\n",
       "      <td>0</td>\n",
       "      <td>3</td>\n",
       "      <td>Braund, Mr. Owen Harris</td>\n",
       "      <td>male</td>\n",
       "      <td>22.0</td>\n",
       "      <td>1</td>\n",
       "      <td>0</td>\n",
       "      <td>A/5 21171</td>\n",
       "      <td>7.2500</td>\n",
       "      <td>NaN</td>\n",
       "      <td>S</td>\n",
       "    </tr>\n",
       "    <tr>\n",
       "      <th>1</th>\n",
       "      <td>2</td>\n",
       "      <td>1</td>\n",
       "      <td>1</td>\n",
       "      <td>Cumings, Mrs. John Bradley (Florence Briggs Th...</td>\n",
       "      <td>female</td>\n",
       "      <td>38.0</td>\n",
       "      <td>1</td>\n",
       "      <td>0</td>\n",
       "      <td>PC 17599</td>\n",
       "      <td>71.2833</td>\n",
       "      <td>C85</td>\n",
       "      <td>C</td>\n",
       "    </tr>\n",
       "    <tr>\n",
       "      <th>2</th>\n",
       "      <td>3</td>\n",
       "      <td>1</td>\n",
       "      <td>3</td>\n",
       "      <td>Heikkinen, Miss. Laina</td>\n",
       "      <td>female</td>\n",
       "      <td>26.0</td>\n",
       "      <td>0</td>\n",
       "      <td>0</td>\n",
       "      <td>STON/O2. 3101282</td>\n",
       "      <td>7.9250</td>\n",
       "      <td>NaN</td>\n",
       "      <td>S</td>\n",
       "    </tr>\n",
       "    <tr>\n",
       "      <th>3</th>\n",
       "      <td>4</td>\n",
       "      <td>1</td>\n",
       "      <td>1</td>\n",
       "      <td>Futrelle, Mrs. Jacques Heath (Lily May Peel)</td>\n",
       "      <td>female</td>\n",
       "      <td>35.0</td>\n",
       "      <td>1</td>\n",
       "      <td>0</td>\n",
       "      <td>113803</td>\n",
       "      <td>53.1000</td>\n",
       "      <td>C123</td>\n",
       "      <td>S</td>\n",
       "    </tr>\n",
       "    <tr>\n",
       "      <th>4</th>\n",
       "      <td>5</td>\n",
       "      <td>0</td>\n",
       "      <td>3</td>\n",
       "      <td>Allen, Mr. William Henry</td>\n",
       "      <td>male</td>\n",
       "      <td>35.0</td>\n",
       "      <td>0</td>\n",
       "      <td>0</td>\n",
       "      <td>373450</td>\n",
       "      <td>8.0500</td>\n",
       "      <td>NaN</td>\n",
       "      <td>S</td>\n",
       "    </tr>\n",
       "  </tbody>\n",
       "</table>\n",
       "</div>"
      ],
      "text/plain": [
       "   PassengerId  Survived  Pclass  \\\n",
       "0            1         0       3   \n",
       "1            2         1       1   \n",
       "2            3         1       3   \n",
       "3            4         1       1   \n",
       "4            5         0       3   \n",
       "\n",
       "                                                Name     Sex   Age  SibSp  \\\n",
       "0                            Braund, Mr. Owen Harris    male  22.0      1   \n",
       "1  Cumings, Mrs. John Bradley (Florence Briggs Th...  female  38.0      1   \n",
       "2                             Heikkinen, Miss. Laina  female  26.0      0   \n",
       "3       Futrelle, Mrs. Jacques Heath (Lily May Peel)  female  35.0      1   \n",
       "4                           Allen, Mr. William Henry    male  35.0      0   \n",
       "\n",
       "   Parch            Ticket     Fare Cabin Embarked  \n",
       "0      0         A/5 21171   7.2500   NaN        S  \n",
       "1      0          PC 17599  71.2833   C85        C  \n",
       "2      0  STON/O2. 3101282   7.9250   NaN        S  \n",
       "3      0            113803  53.1000  C123        S  \n",
       "4      0            373450   8.0500   NaN        S  "
      ]
     },
     "execution_count": 116,
     "metadata": {},
     "output_type": "execute_result"
    }
   ],
   "source": [
    "titanic_train.head()"
   ]
  },
  {
   "cell_type": "markdown",
   "metadata": {},
   "source": [
    "Assuming that `PassengerId` attribute values are unique (and they are) let's first make `PassengerId` our index column."
   ]
  },
  {
   "cell_type": "code",
   "execution_count": 117,
   "metadata": {
    "collapsed": false
   },
   "outputs": [
    {
     "data": {
      "text/html": [
       "<div>\n",
       "<table border=\"1\" class=\"dataframe\">\n",
       "  <thead>\n",
       "    <tr style=\"text-align: right;\">\n",
       "      <th></th>\n",
       "      <th>Survived</th>\n",
       "      <th>Pclass</th>\n",
       "      <th>Name</th>\n",
       "      <th>Sex</th>\n",
       "      <th>Age</th>\n",
       "      <th>SibSp</th>\n",
       "      <th>Parch</th>\n",
       "      <th>Ticket</th>\n",
       "      <th>Fare</th>\n",
       "      <th>Cabin</th>\n",
       "      <th>Embarked</th>\n",
       "    </tr>\n",
       "    <tr>\n",
       "      <th>PassengerId</th>\n",
       "      <th></th>\n",
       "      <th></th>\n",
       "      <th></th>\n",
       "      <th></th>\n",
       "      <th></th>\n",
       "      <th></th>\n",
       "      <th></th>\n",
       "      <th></th>\n",
       "      <th></th>\n",
       "      <th></th>\n",
       "      <th></th>\n",
       "    </tr>\n",
       "  </thead>\n",
       "  <tbody>\n",
       "    <tr>\n",
       "      <th>1</th>\n",
       "      <td>0</td>\n",
       "      <td>3</td>\n",
       "      <td>Braund, Mr. Owen Harris</td>\n",
       "      <td>male</td>\n",
       "      <td>22.0</td>\n",
       "      <td>1</td>\n",
       "      <td>0</td>\n",
       "      <td>A/5 21171</td>\n",
       "      <td>7.2500</td>\n",
       "      <td>NaN</td>\n",
       "      <td>S</td>\n",
       "    </tr>\n",
       "    <tr>\n",
       "      <th>2</th>\n",
       "      <td>1</td>\n",
       "      <td>1</td>\n",
       "      <td>Cumings, Mrs. John Bradley (Florence Briggs Th...</td>\n",
       "      <td>female</td>\n",
       "      <td>38.0</td>\n",
       "      <td>1</td>\n",
       "      <td>0</td>\n",
       "      <td>PC 17599</td>\n",
       "      <td>71.2833</td>\n",
       "      <td>C85</td>\n",
       "      <td>C</td>\n",
       "    </tr>\n",
       "    <tr>\n",
       "      <th>3</th>\n",
       "      <td>1</td>\n",
       "      <td>3</td>\n",
       "      <td>Heikkinen, Miss. Laina</td>\n",
       "      <td>female</td>\n",
       "      <td>26.0</td>\n",
       "      <td>0</td>\n",
       "      <td>0</td>\n",
       "      <td>STON/O2. 3101282</td>\n",
       "      <td>7.9250</td>\n",
       "      <td>NaN</td>\n",
       "      <td>S</td>\n",
       "    </tr>\n",
       "    <tr>\n",
       "      <th>4</th>\n",
       "      <td>1</td>\n",
       "      <td>1</td>\n",
       "      <td>Futrelle, Mrs. Jacques Heath (Lily May Peel)</td>\n",
       "      <td>female</td>\n",
       "      <td>35.0</td>\n",
       "      <td>1</td>\n",
       "      <td>0</td>\n",
       "      <td>113803</td>\n",
       "      <td>53.1000</td>\n",
       "      <td>C123</td>\n",
       "      <td>S</td>\n",
       "    </tr>\n",
       "    <tr>\n",
       "      <th>5</th>\n",
       "      <td>0</td>\n",
       "      <td>3</td>\n",
       "      <td>Allen, Mr. William Henry</td>\n",
       "      <td>male</td>\n",
       "      <td>35.0</td>\n",
       "      <td>0</td>\n",
       "      <td>0</td>\n",
       "      <td>373450</td>\n",
       "      <td>8.0500</td>\n",
       "      <td>NaN</td>\n",
       "      <td>S</td>\n",
       "    </tr>\n",
       "  </tbody>\n",
       "</table>\n",
       "</div>"
      ],
      "text/plain": [
       "             Survived  Pclass  \\\n",
       "PassengerId                     \n",
       "1                   0       3   \n",
       "2                   1       1   \n",
       "3                   1       3   \n",
       "4                   1       1   \n",
       "5                   0       3   \n",
       "\n",
       "                                                          Name     Sex   Age  \\\n",
       "PassengerId                                                                    \n",
       "1                                      Braund, Mr. Owen Harris    male  22.0   \n",
       "2            Cumings, Mrs. John Bradley (Florence Briggs Th...  female  38.0   \n",
       "3                                       Heikkinen, Miss. Laina  female  26.0   \n",
       "4                 Futrelle, Mrs. Jacques Heath (Lily May Peel)  female  35.0   \n",
       "5                                     Allen, Mr. William Henry    male  35.0   \n",
       "\n",
       "             SibSp  Parch            Ticket     Fare Cabin Embarked  \n",
       "PassengerId                                                          \n",
       "1                1      0         A/5 21171   7.2500   NaN        S  \n",
       "2                1      0          PC 17599  71.2833   C85        C  \n",
       "3                0      0  STON/O2. 3101282   7.9250   NaN        S  \n",
       "4                1      0            113803  53.1000  C123        S  \n",
       "5                0      0            373450   8.0500   NaN        S  "
      ]
     },
     "execution_count": 117,
     "metadata": {},
     "output_type": "execute_result"
    }
   ],
   "source": [
    "titanic_train = titanic_train.set_index(\"PassengerId\")\n",
    "titanic_train.head()"
   ]
  },
  {
   "cell_type": "markdown",
   "metadata": {},
   "source": [
    "As we can see the dataset contains not that many attributes: we have 10 of them. Five of them are numeric: `Pclass` (passenger class), `Age`, `SibSp` (number of siblings/spouses aboard), `Parch` (number of parents/children aboard), `Fare`. Five of them have categorical/text values: `Name`, `Sex`, `Ticket`, `Cabin`, `Embarked` (port of embarkation C=Cherbourg, Q=Queenstown, S=Southampton). Additionaly our dataset the target attribute `Survived` marking whether passenger survived or not with 1 or 0 respectively.\n",
    "\n",
    "Let's have a closer look at attributes structure."
   ]
  },
  {
   "cell_type": "code",
   "execution_count": 118,
   "metadata": {
    "collapsed": false
   },
   "outputs": [
    {
     "name": "stdout",
     "output_type": "stream",
     "text": [
      "<class 'pandas.core.frame.DataFrame'>\n",
      "Int64Index: 891 entries, 1 to 891\n",
      "Data columns (total 11 columns):\n",
      "Survived    891 non-null int64\n",
      "Pclass      891 non-null int64\n",
      "Name        891 non-null object\n",
      "Sex         891 non-null object\n",
      "Age         714 non-null float64\n",
      "SibSp       891 non-null int64\n",
      "Parch       891 non-null int64\n",
      "Ticket      891 non-null object\n",
      "Fare        891 non-null float64\n",
      "Cabin       204 non-null object\n",
      "Embarked    889 non-null object\n",
      "dtypes: float64(2), int64(4), object(5)\n",
      "memory usage: 83.5+ KB\n"
     ]
    }
   ],
   "source": [
    "titanic_train.info()"
   ]
  },
  {
   "cell_type": "markdown",
   "metadata": {},
   "source": [
    "All in all the dataset contains 891 passengers data out of all 2224 passengers.\n",
    "\n",
    "We deal here with some missing values. The most missing values are in `Cabin` attribute. That column seems not so much informative and the data if rather scarse which would suggesting droping these feature when preparing training dataset for machine learning. We have also a lot of missing values in `Age` column however this column seems crucial for our analysis. That is why later on we will have to take care of these missing values either by filling them in (e.g. median value) or by dropping examples with missing values. In `Embarked` attribute values we miss only two values so we can easily drop these two cases later on when preparing the dataset for modelling algorithms.\n",
    "\n",
    "We again see that five attributes have categorical/text values - we will also deal with that later when preparing data for modelling.\n"
   ]
  },
  {
   "cell_type": "markdown",
   "metadata": {},
   "source": [
    "Let's now see some details about numerical values we have in the dataset."
   ]
  },
  {
   "cell_type": "code",
   "execution_count": 119,
   "metadata": {
    "collapsed": false
   },
   "outputs": [
    {
     "data": {
      "text/html": [
       "<div>\n",
       "<table border=\"1\" class=\"dataframe\">\n",
       "  <thead>\n",
       "    <tr style=\"text-align: right;\">\n",
       "      <th></th>\n",
       "      <th>Survived</th>\n",
       "      <th>Pclass</th>\n",
       "      <th>Age</th>\n",
       "      <th>SibSp</th>\n",
       "      <th>Parch</th>\n",
       "      <th>Fare</th>\n",
       "    </tr>\n",
       "  </thead>\n",
       "  <tbody>\n",
       "    <tr>\n",
       "      <th>count</th>\n",
       "      <td>891.000000</td>\n",
       "      <td>891.000000</td>\n",
       "      <td>714.000000</td>\n",
       "      <td>891.000000</td>\n",
       "      <td>891.000000</td>\n",
       "      <td>891.000000</td>\n",
       "    </tr>\n",
       "    <tr>\n",
       "      <th>mean</th>\n",
       "      <td>0.383838</td>\n",
       "      <td>2.308642</td>\n",
       "      <td>29.699118</td>\n",
       "      <td>0.523008</td>\n",
       "      <td>0.381594</td>\n",
       "      <td>32.204208</td>\n",
       "    </tr>\n",
       "    <tr>\n",
       "      <th>std</th>\n",
       "      <td>0.486592</td>\n",
       "      <td>0.836071</td>\n",
       "      <td>14.526497</td>\n",
       "      <td>1.102743</td>\n",
       "      <td>0.806057</td>\n",
       "      <td>49.693429</td>\n",
       "    </tr>\n",
       "    <tr>\n",
       "      <th>min</th>\n",
       "      <td>0.000000</td>\n",
       "      <td>1.000000</td>\n",
       "      <td>0.420000</td>\n",
       "      <td>0.000000</td>\n",
       "      <td>0.000000</td>\n",
       "      <td>0.000000</td>\n",
       "    </tr>\n",
       "    <tr>\n",
       "      <th>25%</th>\n",
       "      <td>0.000000</td>\n",
       "      <td>2.000000</td>\n",
       "      <td>20.125000</td>\n",
       "      <td>0.000000</td>\n",
       "      <td>0.000000</td>\n",
       "      <td>7.910400</td>\n",
       "    </tr>\n",
       "    <tr>\n",
       "      <th>50%</th>\n",
       "      <td>0.000000</td>\n",
       "      <td>3.000000</td>\n",
       "      <td>28.000000</td>\n",
       "      <td>0.000000</td>\n",
       "      <td>0.000000</td>\n",
       "      <td>14.454200</td>\n",
       "    </tr>\n",
       "    <tr>\n",
       "      <th>75%</th>\n",
       "      <td>1.000000</td>\n",
       "      <td>3.000000</td>\n",
       "      <td>38.000000</td>\n",
       "      <td>1.000000</td>\n",
       "      <td>0.000000</td>\n",
       "      <td>31.000000</td>\n",
       "    </tr>\n",
       "    <tr>\n",
       "      <th>max</th>\n",
       "      <td>1.000000</td>\n",
       "      <td>3.000000</td>\n",
       "      <td>80.000000</td>\n",
       "      <td>8.000000</td>\n",
       "      <td>6.000000</td>\n",
       "      <td>512.329200</td>\n",
       "    </tr>\n",
       "  </tbody>\n",
       "</table>\n",
       "</div>"
      ],
      "text/plain": [
       "         Survived      Pclass         Age       SibSp       Parch        Fare\n",
       "count  891.000000  891.000000  714.000000  891.000000  891.000000  891.000000\n",
       "mean     0.383838    2.308642   29.699118    0.523008    0.381594   32.204208\n",
       "std      0.486592    0.836071   14.526497    1.102743    0.806057   49.693429\n",
       "min      0.000000    1.000000    0.420000    0.000000    0.000000    0.000000\n",
       "25%      0.000000    2.000000   20.125000    0.000000    0.000000    7.910400\n",
       "50%      0.000000    3.000000   28.000000    0.000000    0.000000   14.454200\n",
       "75%      1.000000    3.000000   38.000000    1.000000    0.000000   31.000000\n",
       "max      1.000000    3.000000   80.000000    8.000000    6.000000  512.329200"
      ]
     },
     "execution_count": 119,
     "metadata": {},
     "output_type": "execute_result"
    }
   ],
   "source": [
    "titanic_train.describe()"
   ]
  },
  {
   "cell_type": "markdown",
   "metadata": {},
   "source": [
    "The only attributes for which calculating statistical values make sense are `Age`, `SibSp`, `Parch` and `Fare`  attributes. We will analyse this demographical passengers structure a bit more later on. All in all the values look correct and it seems it needs no more corrections at this stage of the project. \n",
    "\n",
    "We can also see here that atrributes values ranges are very different between themselves and will have to be standardized later on when preparing data for modeling.\n",
    "\n",
    "We are ready to move to the data exploration phase."
   ]
  },
  {
   "cell_type": "markdown",
   "metadata": {},
   "source": [
    "## 3. Explore the data\n",
    "\n",
    "Let's now dig deeper into data internal structure and values."
   ]
  },
  {
   "cell_type": "markdown",
   "metadata": {},
   "source": [
    "### 3.1 Attributes distributions\n",
    "\n",
    "Let's first look at the general numeric data distributions including the target value `Survived` attribute."
   ]
  },
  {
   "cell_type": "code",
   "execution_count": 120,
   "metadata": {
    "collapsed": false
   },
   "outputs": [
    {
     "data": {
      "text/html": [
       "<div>\n",
       "<table border=\"1\" class=\"dataframe\">\n",
       "  <thead>\n",
       "    <tr style=\"text-align: right;\">\n",
       "      <th></th>\n",
       "      <th>Survived</th>\n",
       "      <th>Pclass</th>\n",
       "      <th>Age</th>\n",
       "      <th>SibSp</th>\n",
       "      <th>Parch</th>\n",
       "      <th>Fare</th>\n",
       "    </tr>\n",
       "  </thead>\n",
       "  <tbody>\n",
       "    <tr>\n",
       "      <th>count</th>\n",
       "      <td>891.000000</td>\n",
       "      <td>891.000000</td>\n",
       "      <td>714.000000</td>\n",
       "      <td>891.000000</td>\n",
       "      <td>891.000000</td>\n",
       "      <td>891.000000</td>\n",
       "    </tr>\n",
       "    <tr>\n",
       "      <th>mean</th>\n",
       "      <td>0.383838</td>\n",
       "      <td>2.308642</td>\n",
       "      <td>29.699118</td>\n",
       "      <td>0.523008</td>\n",
       "      <td>0.381594</td>\n",
       "      <td>32.204208</td>\n",
       "    </tr>\n",
       "    <tr>\n",
       "      <th>std</th>\n",
       "      <td>0.486592</td>\n",
       "      <td>0.836071</td>\n",
       "      <td>14.526497</td>\n",
       "      <td>1.102743</td>\n",
       "      <td>0.806057</td>\n",
       "      <td>49.693429</td>\n",
       "    </tr>\n",
       "    <tr>\n",
       "      <th>min</th>\n",
       "      <td>0.000000</td>\n",
       "      <td>1.000000</td>\n",
       "      <td>0.420000</td>\n",
       "      <td>0.000000</td>\n",
       "      <td>0.000000</td>\n",
       "      <td>0.000000</td>\n",
       "    </tr>\n",
       "    <tr>\n",
       "      <th>25%</th>\n",
       "      <td>0.000000</td>\n",
       "      <td>2.000000</td>\n",
       "      <td>20.125000</td>\n",
       "      <td>0.000000</td>\n",
       "      <td>0.000000</td>\n",
       "      <td>7.910400</td>\n",
       "    </tr>\n",
       "    <tr>\n",
       "      <th>50%</th>\n",
       "      <td>0.000000</td>\n",
       "      <td>3.000000</td>\n",
       "      <td>28.000000</td>\n",
       "      <td>0.000000</td>\n",
       "      <td>0.000000</td>\n",
       "      <td>14.454200</td>\n",
       "    </tr>\n",
       "    <tr>\n",
       "      <th>75%</th>\n",
       "      <td>1.000000</td>\n",
       "      <td>3.000000</td>\n",
       "      <td>38.000000</td>\n",
       "      <td>1.000000</td>\n",
       "      <td>0.000000</td>\n",
       "      <td>31.000000</td>\n",
       "    </tr>\n",
       "    <tr>\n",
       "      <th>max</th>\n",
       "      <td>1.000000</td>\n",
       "      <td>3.000000</td>\n",
       "      <td>80.000000</td>\n",
       "      <td>8.000000</td>\n",
       "      <td>6.000000</td>\n",
       "      <td>512.329200</td>\n",
       "    </tr>\n",
       "  </tbody>\n",
       "</table>\n",
       "</div>"
      ],
      "text/plain": [
       "         Survived      Pclass         Age       SibSp       Parch        Fare\n",
       "count  891.000000  891.000000  714.000000  891.000000  891.000000  891.000000\n",
       "mean     0.383838    2.308642   29.699118    0.523008    0.381594   32.204208\n",
       "std      0.486592    0.836071   14.526497    1.102743    0.806057   49.693429\n",
       "min      0.000000    1.000000    0.420000    0.000000    0.000000    0.000000\n",
       "25%      0.000000    2.000000   20.125000    0.000000    0.000000    7.910400\n",
       "50%      0.000000    3.000000   28.000000    0.000000    0.000000   14.454200\n",
       "75%      1.000000    3.000000   38.000000    1.000000    0.000000   31.000000\n",
       "max      1.000000    3.000000   80.000000    8.000000    6.000000  512.329200"
      ]
     },
     "execution_count": 120,
     "metadata": {},
     "output_type": "execute_result"
    }
   ],
   "source": [
    "titanic_train.describe()"
   ]
  },
  {
   "cell_type": "code",
   "execution_count": 121,
   "metadata": {
    "collapsed": false
   },
   "outputs": [
    {
     "data": {
      "image/png": "[encoded data removed]",
      "text/plain": [
       "<matplotlib.figure.Figure at 0x13b886da0>"
      ]
     },
     "metadata": {},
     "output_type": "display_data"
    }
   ],
   "source": [
    "%matplotlib inline \n",
    "import matplotlib.pyplot as plt\n",
    "\n",
    "titanic_train.hist(bins=20, figsize=(20, 15))\n",
    "plt.show()"
   ]
  },
  {
   "cell_type": "markdown",
   "metadata": {},
   "source": [
    "We notice a few things in these histograms: \n",
    "- `Age` distribution is centered around 20-30 years old group ranging to 80 with quite large number of children aged 0-5; the minimal age value is 0.42 and the maximal is 80; the mean value is 29.6991 with quit large standard deviation of 14.5264; the median value is 28.\n",
    "- `Fare` attribute values distribution is strongly positevely skewed with mean 32.2042 and large stadard deviation of 49.6934; because the distribution is skewed median is much smaller than the mean with value of 14.4542; the range of data is large ranging from 0 to 512; at the same time 75% of the data is lower than 31. \n",
    "- `Parch` (the number of parents/children aboard) distribution mode is 0 by far meaning that most of the passengers traveled without any parents/children and also there are some outlier values with 3 and more parents/children aboard.\n",
    "- `Pclass` distribution shows that almost 500 out of all 891 passengers in the dataset were travelling the 3rd (lowest) class and almost 200 passengers were travelling both in 1st and 2nd class.\n",
    "- `SibSp` (number of siblings/spouses aboard) is similar to `Parch` distribution but with larger number of passengers travelling with one sibling/spouse.\n",
    "- `Survived` obviously shows only two values but we can also see that number of survivors is much smaller than the number of passengers who died."
   ]
  },
  {
   "cell_type": "markdown",
   "metadata": {},
   "source": [
    "Let's also look at catgorical attributes values: `Name`, `Sex`, `Ticket`, `Cabin`, `Embarked`."
   ]
  },
  {
   "cell_type": "code",
   "execution_count": 122,
   "metadata": {
    "collapsed": false
   },
   "outputs": [
    {
     "data": {
      "text/plain": [
       "Collyer, Mr. Harvey                                              1\n",
       "Flynn, Mr. James                                                 1\n",
       "Mockler, Miss. Helen Mary \"Ellie\"                                1\n",
       "Crosby, Capt. Edward Gifford                                     1\n",
       "Taylor, Mr. Elmer Zebley                                         1\n",
       "Faunthorpe, Mrs. Lizzie (Elizabeth Anne Wilkinson)               1\n",
       "Vestrom, Miss. Hulda Amanda Adolfina                             1\n",
       "Murphy, Miss. Katherine \"Kate\"                                   1\n",
       "Brown, Miss. Amelia \"Mildred\"                                    1\n",
       "Skoog, Master. Karl Thorsten                                     1\n",
       "Navratil, Master. Michel M                                       1\n",
       "Andrews, Mr. Thomas Jr                                           1\n",
       "Gustafsson, Mr. Karl Gideon                                      1\n",
       "Mudd, Mr. Thomas Charles                                         1\n",
       "Coxon, Mr. Daniel                                                1\n",
       "Colley, Mr. Edward Pomeroy                                       1\n",
       "Rouse, Mr. Richard Henry                                         1\n",
       "Allison, Miss. Helen Loraine                                     1\n",
       "Pears, Mrs. Thomas (Edith Wearne)                                1\n",
       "Vander Planke, Miss. Augusta Maria                               1\n",
       "Crosby, Miss. Harriet R                                          1\n",
       "Seward, Mr. Frederic Kimber                                      1\n",
       "Wells, Miss. Joan                                                1\n",
       "Kantor, Mrs. Sinai (Miriam Sternin)                              1\n",
       "Cunningham, Mr. Alfred Fleming                                   1\n",
       "Francatelli, Miss. Laura Mabel                                   1\n",
       "Vanden Steen, Mr. Leo Peter                                      1\n",
       "White, Mr. Richard Frasar                                        1\n",
       "Goodwin, Master. Harold Victor                                   1\n",
       "Arnold-Franchi, Mrs. Josef (Josefine Franchi)                    1\n",
       "                                                                ..\n",
       "Plotcharsky, Mr. Vasil                                           1\n",
       "Ryerson, Miss. Susan Parker \"Suzette\"                            1\n",
       "Weisz, Mrs. Leopold (Mathilde Francoise Pede)                    1\n",
       "Minahan, Dr. William Edward                                      1\n",
       "Davis, Miss. Mary                                                1\n",
       "Carter, Mrs. Ernest Courtenay (Lilian Hughes)                    1\n",
       "Stoytcheff, Mr. Ilia                                             1\n",
       "Hood, Mr. Ambrose Jr                                             1\n",
       "Saad, Mr. Amin                                                   1\n",
       "Wiseman, Mr. Phillippe                                           1\n",
       "Simonius-Blumer, Col. Oberst Alfons                              1\n",
       "Renouf, Mrs. Peter Henry (Lillian Jefferys)                      1\n",
       "Jalsevac, Mr. Ivan                                               1\n",
       "Hampe, Mr. Leon                                                  1\n",
       "Hocking, Mr. Richard George                                      1\n",
       "Hewlett, Mrs. (Mary D Kingcome)                                  1\n",
       "Ford, Mrs. Edward (Margaret Ann Watson)                          1\n",
       "Newsom, Miss. Helen Monypeny                                     1\n",
       "Chaffee, Mr. Herbert Fuller                                      1\n",
       "Gee, Mr. Arthur H                                                1\n",
       "Honkanen, Miss. Eliina                                           1\n",
       "Funk, Miss. Annie Clemmer                                        1\n",
       "Sjostedt, Mr. Ernst Adolf                                        1\n",
       "Daniel, Mr. Robert Williams                                      1\n",
       "Mannion, Miss. Margareth                                         1\n",
       "Smith, Miss. Marion Elsie                                        1\n",
       "Brown, Mrs. Thomas William Solomon (Elizabeth Catherine Ford)    1\n",
       "Christmann, Mr. Emil                                             1\n",
       "Weir, Col. John                                                  1\n",
       "Sunderland, Mr. Victor Francis                                   1\n",
       "Name: Name, dtype: int64"
      ]
     },
     "execution_count": 122,
     "metadata": {},
     "output_type": "execute_result"
    }
   ],
   "source": [
    "titanic_train[\"Name\"].value_counts()"
   ]
  },
  {
   "cell_type": "markdown",
   "metadata": {},
   "source": [
    "`Names`, by definition, are rather unique so its distribution would be flat. It is not categorical attribute then - just textual. This tells us that in modelling phase this value will not be of too much help since there are no group of values that model can identify."
   ]
  },
  {
   "cell_type": "code",
   "execution_count": 123,
   "metadata": {
    "collapsed": false
   },
   "outputs": [
    {
     "data": {
      "text/plain": [
       "347082             7\n",
       "CA. 2343           7\n",
       "1601               7\n",
       "3101295            6\n",
       "347088             6\n",
       "CA 2144            6\n",
       "S.O.C. 14879       5\n",
       "382652             5\n",
       "347077             4\n",
       "349909             4\n",
       "17421              4\n",
       "PC 17757           4\n",
       "113760             4\n",
       "LINE               4\n",
       "2666               4\n",
       "4133               4\n",
       "19950              4\n",
       "W./C. 6608         4\n",
       "113781             4\n",
       "PC 17582           3\n",
       "PC 17572           3\n",
       "239853             3\n",
       "363291             3\n",
       "35273              3\n",
       "347742             3\n",
       "PC 17755           3\n",
       "PC 17760           3\n",
       "110152             3\n",
       "C.A. 34651         3\n",
       "C.A. 31921         3\n",
       "                  ..\n",
       "350050             1\n",
       "345767             1\n",
       "3101296            1\n",
       "A./5. 2152         1\n",
       "C 4001             1\n",
       "4138               1\n",
       "2667               1\n",
       "C.A. 24580         1\n",
       "2664               1\n",
       "2647               1\n",
       "376566             1\n",
       "349201             1\n",
       "SOTON/OQ 392086    1\n",
       "373450             1\n",
       "65303              1\n",
       "382649             1\n",
       "315090             1\n",
       "A/5. 3337          1\n",
       "A/5. 2151          1\n",
       "226875             1\n",
       "7552               1\n",
       "C.A. 18723         1\n",
       "65306              1\n",
       "330980             1\n",
       "A/5 21171          1\n",
       "347083             1\n",
       "SC/PARIS 2167      1\n",
       "2648               1\n",
       "315089             1\n",
       "PC 17483           1\n",
       "Name: Ticket, dtype: int64"
      ]
     },
     "execution_count": 123,
     "metadata": {},
     "output_type": "execute_result"
    }
   ],
   "source": [
    "titanic_train[\"Ticket\"].value_counts()"
   ]
  },
  {
   "cell_type": "markdown",
   "metadata": {},
   "source": [
    "`Ticket` attribute is also not a classical categorical attribute with multiple unique or close to unoque values. There some values repetition but rather tickets identifiers (as we assume they are) are rather unique. This again can lead to the conclusion that this data will not be helpful in survival prediction model."
   ]
  },
  {
   "cell_type": "code",
   "execution_count": 124,
   "metadata": {
    "collapsed": false
   },
   "outputs": [
    {
     "data": {
      "text/plain": [
       "B96 B98        4\n",
       "C23 C25 C27    4\n",
       "G6             4\n",
       "F33            3\n",
       "D              3\n",
       "C22 C26        3\n",
       "E101           3\n",
       "F2             3\n",
       "D17            2\n",
       "D26            2\n",
       "C93            2\n",
       "D35            2\n",
       "B49            2\n",
       "B35            2\n",
       "E121           2\n",
       "C124           2\n",
       "E24            2\n",
       "F4             2\n",
       "E8             2\n",
       "C68            2\n",
       "F G73          2\n",
       "B22            2\n",
       "B28            2\n",
       "B5             2\n",
       "C125           2\n",
       "D36            2\n",
       "B77            2\n",
       "E67            2\n",
       "C2             2\n",
       "C83            2\n",
       "              ..\n",
       "C49            1\n",
       "E63            1\n",
       "C86            1\n",
       "C101           1\n",
       "E49            1\n",
       "D48            1\n",
       "B82 B84        1\n",
       "C46            1\n",
       "C118           1\n",
       "B94            1\n",
       "C7             1\n",
       "B69            1\n",
       "B80            1\n",
       "E38            1\n",
       "C45            1\n",
       "E31            1\n",
       "T              1\n",
       "A32            1\n",
       "C111           1\n",
       "D21            1\n",
       "E68            1\n",
       "A26            1\n",
       "D30            1\n",
       "C62 C64        1\n",
       "E46            1\n",
       "D9             1\n",
       "D28            1\n",
       "B102           1\n",
       "C106           1\n",
       "D7             1\n",
       "Name: Cabin, dtype: int64"
      ]
     },
     "execution_count": 124,
     "metadata": {},
     "output_type": "execute_result"
    }
   ],
   "source": [
    "titanic_train[\"Cabin\"].value_counts()"
   ]
  },
  {
   "cell_type": "markdown",
   "metadata": {},
   "source": [
    "`Cabin` is similar in structure to the `Name` and `Ticket` attributes. It is again rather textual attribute and note categorical. As we also seen earlier this is the attribute with the biggest number of missing data: we have only 204 values out of all 891 passengers and the rest is missing. All this suggest that also this attribute will not be of much help during the modeling phase of this project."
   ]
  },
  {
   "cell_type": "code",
   "execution_count": 125,
   "metadata": {
    "collapsed": false
   },
   "outputs": [
    {
     "data": {
      "text/plain": [
       "male      577\n",
       "female    314\n",
       "Name: Sex, dtype: int64"
      ]
     },
     "execution_count": 125,
     "metadata": {},
     "output_type": "execute_result"
    }
   ],
   "source": [
    "titanic_train[\"Sex\"].value_counts()"
   ]
  },
  {
   "cell_type": "markdown",
   "metadata": {},
   "source": [
    "`Sex` attribute has only two possible values: `male` and `female`. It is a categorical attribute. Let's plot it."
   ]
  },
  {
   "cell_type": "code",
   "execution_count": 126,
   "metadata": {
    "collapsed": false
   },
   "outputs": [
    {
     "data": {
      "text/plain": [
       "<matplotlib.axes._subplots.AxesSubplot at 0x13c79c0f0>"
      ]
     },
     "execution_count": 126,
     "metadata": {},
     "output_type": "execute_result"
    },
    {
     "data": {
      "image/png": "[encoded data removed]",
      "text/plain": [
       "<matplotlib.figure.Figure at 0x13c1cb278>"
      ]
     },
     "metadata": {},
     "output_type": "display_data"
    }
   ],
   "source": [
    "titanic_train[\"Sex\"].value_counts().plot(kind='bar')"
   ]
  },
  {
   "cell_type": "markdown",
   "metadata": {},
   "source": [
    "We see that on Titanic (as measured by analysed dataset) there were almost twice as much males than females."
   ]
  },
  {
   "cell_type": "code",
   "execution_count": 127,
   "metadata": {
    "collapsed": false
   },
   "outputs": [
    {
     "data": {
      "text/plain": [
       "S    644\n",
       "C    168\n",
       "Q     77\n",
       "Name: Embarked, dtype: int64"
      ]
     },
     "execution_count": 127,
     "metadata": {},
     "output_type": "execute_result"
    }
   ],
   "source": [
    "titanic_train[\"Embarked\"].value_counts()"
   ]
  },
  {
   "cell_type": "markdown",
   "metadata": {},
   "source": [
    "`Embarked` attribute has three possible values: `S`, `C` and `Q` (standing for Southampton, Cherbourg or Queenstown city of embarkation) meaning that it is categorical attribute. Let's plot it's values."
   ]
  },
  {
   "cell_type": "code",
   "execution_count": 176,
   "metadata": {
    "collapsed": false
   },
   "outputs": [
    {
     "data": {
      "text/plain": [
       "<matplotlib.axes._subplots.AxesSubplot at 0x13de417f0>"
      ]
     },
     "execution_count": 176,
     "metadata": {},
     "output_type": "execute_result"
    },
    {
     "data": {
      "image/png": "[encoded data removed]",
      "text/plain": [
       "<matplotlib.figure.Figure at 0x13dd83470>"
      ]
     },
     "metadata": {},
     "output_type": "display_data"
    }
   ],
   "source": [
    "titanic_train[\"Embarked\"].value_counts().plot(kind='bar')"
   ]
  },
  {
   "cell_type": "markdown",
   "metadata": {},
   "source": [
    "We can see that vast majority of passengers embarked in Southampton port, less than 200 passengers embarked in Cherbourg and less then embarked in Queenstown. For now we can tell nothing more out of it but later on we will try to see how this attribute values affected the survival chances of passengers.\n",
    "\n",
    "It looks like we have 7 attributes that we can explore for how their values affect pasengers the survival chances. These are the five numerical attributes: `Pclass` (passenger class), `Age` (passenger age), `SibSp` (number of siblings/spouses aboard), `Parch` (number of parents/children aboard), `Fare` (fare passenger paid). There are also two categorical attributes that looks like factors that can be abalysed for influencing passengers survival chances `Sex` (passenger sex), `Embarked` (port of embarkation). \n",
    "\n",
    "In further analysis and modelling we will concentrate on these attributes when analysing and modeling passengers survival chances. `Name`, `Ticket` and `Cabin` attributes are textual non-categorical and rather unique values and such as are hard to analyze in terms of finding some patterns or relations between them and our target `Survived` attribute.\n",
    "\n",
    "As a sidenote `Sex` and `Embarked`, as categorical values, can be numerically encoded. We will perform this processing when preparing the data for modeling stage.\n",
    "\n",
    "We can finish now studying individual attributes properties and start looking at relations between them."
   ]
  },
  {
   "cell_type": "markdown",
   "metadata": {},
   "source": [
    "### 3.2 Study the correlations between attributes.\n",
    "\n",
    "Let's now dig deeper into data internal structure and values.\n",
    "\n",
    "Since our dataset is not very large we can compute the correlation coefficient between each numerical attribute."
   ]
  },
  {
   "cell_type": "code",
   "execution_count": 129,
   "metadata": {
    "collapsed": true
   },
   "outputs": [],
   "source": [
    "corr_matrix = titanic_train.corr()"
   ]
  },
  {
   "cell_type": "markdown",
   "metadata": {},
   "source": [
    "And let's now look at how much each attribute correlates with the survival of the passenger."
   ]
  },
  {
   "cell_type": "code",
   "execution_count": 130,
   "metadata": {
    "collapsed": false
   },
   "outputs": [
    {
     "data": {
      "text/plain": [
       "Survived    1.000000\n",
       "Fare        0.257307\n",
       "Parch       0.081629\n",
       "SibSp      -0.035322\n",
       "Age        -0.077221\n",
       "Pclass     -0.338481\n",
       "Name: Survived, dtype: float64"
      ]
     },
     "execution_count": 130,
     "metadata": {},
     "output_type": "execute_result"
    }
   ],
   "source": [
    "corr_matrix[\"Survived\"].sort_values(ascending=False)"
   ]
  },
  {
   "cell_type": "markdown",
   "metadata": {},
   "source": [
    "We can see some positiobe correlation between `Fare` attribute value and `Survived` value and also even stronger negative correlation between `Pclass` and `Survived` value.\n",
    "\n",
    "Let's check these relationships using scatterplots."
   ]
  },
  {
   "cell_type": "code",
   "execution_count": 131,
   "metadata": {
    "collapsed": false
   },
   "outputs": [
    {
     "data": {
      "text/plain": [
       "array([[<matplotlib.axes._subplots.AxesSubplot object at 0x13c7d17b8>,\n",
       "        <matplotlib.axes._subplots.AxesSubplot object at 0x13c956be0>,\n",
       "        <matplotlib.axes._subplots.AxesSubplot object at 0x13c96a898>,\n",
       "        <matplotlib.axes._subplots.AxesSubplot object at 0x13cafebe0>,\n",
       "        <matplotlib.axes._subplots.AxesSubplot object at 0x13cb634a8>,\n",
       "        <matplotlib.axes._subplots.AxesSubplot object at 0x13cb634e0>],\n",
       "       [<matplotlib.axes._subplots.AxesSubplot object at 0x13cc32e80>,\n",
       "        <matplotlib.axes._subplots.AxesSubplot object at 0x13ccb0b38>,\n",
       "        <matplotlib.axes._subplots.AxesSubplot object at 0x13cd174a8>,\n",
       "        <matplotlib.axes._subplots.AxesSubplot object at 0x13cd54898>,\n",
       "        <matplotlib.axes._subplots.AxesSubplot object at 0x13cde0dd8>,\n",
       "        <matplotlib.axes._subplots.AxesSubplot object at 0x13cdf36d8>],\n",
       "       [<matplotlib.axes._subplots.AxesSubplot object at 0x13ceb0c18>,\n",
       "        <matplotlib.axes._subplots.AxesSubplot object at 0x13cf16320>,\n",
       "        <matplotlib.axes._subplots.AxesSubplot object at 0x13cf83a58>,\n",
       "        <matplotlib.axes._subplots.AxesSubplot object at 0x13cfe4cf8>,\n",
       "        <matplotlib.axes._subplots.AxesSubplot object at 0x13d0629b0>,\n",
       "        <matplotlib.axes._subplots.AxesSubplot object at 0x13d0ca320>],\n",
       "       [<matplotlib.axes._subplots.AxesSubplot object at 0x13d106710>,\n",
       "        <matplotlib.axes._subplots.AxesSubplot object at 0x13d192c50>,\n",
       "        <matplotlib.axes._subplots.AxesSubplot object at 0x13d1a5be0>,\n",
       "        <matplotlib.axes._subplots.AxesSubplot object at 0x13d266a90>,\n",
       "        <matplotlib.axes._subplots.AxesSubplot object at 0x13d2c9198>,\n",
       "        <matplotlib.axes._subplots.AxesSubplot object at 0x13d3348d0>],\n",
       "       [<matplotlib.axes._subplots.AxesSubplot object at 0x13d396b70>,\n",
       "        <matplotlib.axes._subplots.AxesSubplot object at 0x13d415828>,\n",
       "        <matplotlib.axes._subplots.AxesSubplot object at 0x13d47d198>,\n",
       "        <matplotlib.axes._subplots.AxesSubplot object at 0x13d4ba588>,\n",
       "        <matplotlib.axes._subplots.AxesSubplot object at 0x13d546ac8>,\n",
       "        <matplotlib.axes._subplots.AxesSubplot object at 0x13d557eb8>],\n",
       "       [<matplotlib.axes._subplots.AxesSubplot object at 0x13d619908>,\n",
       "        <matplotlib.axes._subplots.AxesSubplot object at 0x13d66afd0>,\n",
       "        <matplotlib.axes._subplots.AxesSubplot object at 0x13d6e6748>,\n",
       "        <matplotlib.axes._subplots.AxesSubplot object at 0x13d7499e8>,\n",
       "        <matplotlib.axes._subplots.AxesSubplot object at 0x13d7c97b8>,\n",
       "        <matplotlib.axes._subplots.AxesSubplot object at 0x13d827fd0>]], dtype=object)"
      ]
     },
     "execution_count": 131,
     "metadata": {},
     "output_type": "execute_result"
    },
    {
     "data": {
      "image/png": "[encoded data removed]",
      "text/plain": [
       "<matplotlib.figure.Figure at 0x13c820f60>"
      ]
     },
     "metadata": {},
     "output_type": "display_data"
    }
   ],
   "source": [
    "from pandas.tools.plotting import scatter_matrix\n",
    "\n",
    "attributes = [\"Survived\", \"Pclass\", \"Age\", \"SibSp\", \"Parch\", \"Fare\"]\n",
    "scatter_matrix(titanic_train[attributes], figsize=(20, 15))"
   ]
  },
  {
   "cell_type": "markdown",
   "metadata": {},
   "source": [
    "It is quite difficult to read something informative from scatter plots since some of the data is not continous.\n"
   ]
  },
  {
   "cell_type": "markdown",
   "metadata": {
    "collapsed": true
   },
   "source": [
    "## 4. Prepare the data\n",
    "\n",
    "We will now prepare the data for machine learning modelling.\n",
    "\n",
    "Let's start by separating the predictors and labels since we do not want to apply the same transformations to both."
   ]
  },
  {
   "cell_type": "code",
   "execution_count": 132,
   "metadata": {
    "collapsed": true
   },
   "outputs": [],
   "source": [
    "titanic_pred = titanic_train.drop(\"Survived\", axis=1)\n",
    "titanic_labels = titanic_train[\"Survived\"].copy()"
   ]
  },
  {
   "cell_type": "code",
   "execution_count": 133,
   "metadata": {
    "collapsed": false
   },
   "outputs": [
    {
     "name": "stdout",
     "output_type": "stream",
     "text": [
      "<class 'pandas.core.frame.DataFrame'>\n",
      "Int64Index: 891 entries, 1 to 891\n",
      "Data columns (total 10 columns):\n",
      "Pclass      891 non-null int64\n",
      "Name        891 non-null object\n",
      "Sex         891 non-null object\n",
      "Age         714 non-null float64\n",
      "SibSp       891 non-null int64\n",
      "Parch       891 non-null int64\n",
      "Ticket      891 non-null object\n",
      "Fare        891 non-null float64\n",
      "Cabin       204 non-null object\n",
      "Embarked    889 non-null object\n",
      "dtypes: float64(2), int64(3), object(5)\n",
      "memory usage: 76.6+ KB\n"
     ]
    }
   ],
   "source": [
    "titanic_pred.info()"
   ]
  },
  {
   "cell_type": "markdown",
   "metadata": {},
   "source": [
    "Two attributes seems to be meaningles for machine learning model are `PassengerId` and `Name` which is why let's drop this column. As we have seen earlier analysing text attributes unique values also `Ticket` attribute seems to be meaningless so we also drop its values."
   ]
  },
  {
   "cell_type": "code",
   "execution_count": 135,
   "metadata": {
    "collapsed": false
   },
   "outputs": [],
   "source": [
    "titanic_pred = titanic_pred.drop([\"Name\", \"Ticket\"], axis=1)"
   ]
  },
  {
   "cell_type": "code",
   "execution_count": 136,
   "metadata": {
    "collapsed": false
   },
   "outputs": [
    {
     "name": "stdout",
     "output_type": "stream",
     "text": [
      "<class 'pandas.core.frame.DataFrame'>\n",
      "Int64Index: 891 entries, 1 to 891\n",
      "Data columns (total 8 columns):\n",
      "Pclass      891 non-null int64\n",
      "Sex         891 non-null object\n",
      "Age         714 non-null float64\n",
      "SibSp       891 non-null int64\n",
      "Parch       891 non-null int64\n",
      "Fare        891 non-null float64\n",
      "Cabin       204 non-null object\n",
      "Embarked    889 non-null object\n",
      "dtypes: float64(2), int64(3), object(3)\n",
      "memory usage: 62.6+ KB\n"
     ]
    }
   ],
   "source": [
    "titanic_pred.info()"
   ]
  },
  {
   "cell_type": "markdown",
   "metadata": {},
   "source": [
    "Now we need to deal with missing values we found in the dataset. \n",
    "\n",
    "Again the most missing value are in `Cabin` column. That column seems not so much informative and the data if rather scarse which would suggesting droping this feature from the training data set. \n"
   ]
  },
  {
   "cell_type": "code",
   "execution_count": 137,
   "metadata": {
    "collapsed": false
   },
   "outputs": [],
   "source": [
    "titanic_pred = titanic_pred.drop(\"Cabin\", axis=1)"
   ]
  },
  {
   "cell_type": "markdown",
   "metadata": {},
   "source": [
    "In `Embarked` column features we miss only two values so we can easily drop these two cases."
   ]
  },
  {
   "cell_type": "code",
   "execution_count": 138,
   "metadata": {
    "collapsed": false
   },
   "outputs": [],
   "source": [
    "indexes_to_drop = titanic_pred[titanic_pred[\"Embarked\"].isnull()].index.values\n",
    "titanic_pred = titanic_pred.drop(indexes_to_drop, axis=0)\n",
    "titanic_labels = titanic_labels.drop(indexes_to_drop, axis=0)\n",
    "titanic_pred = titanic_pred.reset_index(drop=True)\n",
    "titanic_labels = titanic_labels.reset_index(drop=True)"
   ]
  },
  {
   "cell_type": "markdown",
   "metadata": {
    "collapsed": true
   },
   "source": [
    "We have also a lot of missing values in `Age` column however this column seems crucial for our analysis. As starter we decide to fill missing values with median value. Other option is to throw away passengers with missing `Age` value, but considering that it is over 80  passengers data record we would like not to do it. \n",
    "\n",
    "Median can only be computed on numerical attributes, so we need to make a copy of the data - one containing only numerical data and one containing only categorical data."
   ]
  },
  {
   "cell_type": "code",
   "execution_count": 139,
   "metadata": {
    "collapsed": false
   },
   "outputs": [],
   "source": [
    "titanic_pred_num = titanic_pred.drop([\"Sex\", \"Embarked\"], axis=1)\n",
    "titanic_pred_cat = titanic_pred[[\"Sex\", \"Embarked\"]]"
   ]
  },
  {
   "cell_type": "markdown",
   "metadata": {},
   "source": [
    "We have now only 2 categorical attributes since we dropped `Name` (meaningless), `Cabin` (to many missing values) and `Ticket` (meaningless) attributes.\n",
    "\n",
    "Let's now use Scikit-Learn Imputer class to fill `Age` attribute missing values and to standardize all values."
   ]
  },
  {
   "cell_type": "code",
   "execution_count": 140,
   "metadata": {
    "collapsed": false
   },
   "outputs": [],
   "source": [
    "from sklearn.pipeline import Pipeline\n",
    "from sklearn.preprocessing import StandardScaler\n",
    "from sklearn.preprocessing import Imputer \n",
    "\n",
    "num_pipeline = Pipeline([\n",
    "    ('imputer', Imputer(strategy=\"median\")),\n",
    "#     ('std_scaler', StandardScaler()),\n",
    "])\n",
    "titanic_pred_num_prepared = num_pipeline.fit_transform(titanic_pred_num)"
   ]
  },
  {
   "cell_type": "code",
   "execution_count": 141,
   "metadata": {
    "collapsed": false
   },
   "outputs": [
    {
     "data": {
      "text/plain": [
       "array([[  3.    ,  22.    ,   1.    ,   0.    ,   7.25  ],\n",
       "       [  1.    ,  38.    ,   1.    ,   0.    ,  71.2833],\n",
       "       [  3.    ,  26.    ,   0.    ,   0.    ,   7.925 ],\n",
       "       ..., \n",
       "       [  3.    ,  28.    ,   1.    ,   2.    ,  23.45  ],\n",
       "       [  1.    ,  26.    ,   0.    ,   0.    ,  30.    ],\n",
       "       [  3.    ,  32.    ,   0.    ,   0.    ,   7.75  ]])"
      ]
     },
     "execution_count": 141,
     "metadata": {},
     "output_type": "execute_result"
    }
   ],
   "source": [
    "titanic_pred_num_prepared"
   ]
  },
  {
   "cell_type": "markdown",
   "metadata": {},
   "source": [
    "We have all our numerical attributes ready to go.\n",
    "\n",
    "Let's now take care of out categorical attributes values."
   ]
  },
  {
   "cell_type": "code",
   "execution_count": 142,
   "metadata": {
    "collapsed": false
   },
   "outputs": [
    {
     "name": "stdout",
     "output_type": "stream",
     "text": [
      "<class 'pandas.core.frame.DataFrame'>\n",
      "RangeIndex: 889 entries, 0 to 888\n",
      "Data columns (total 2 columns):\n",
      "Sex         889 non-null object\n",
      "Embarked    889 non-null object\n",
      "dtypes: object(2)\n",
      "memory usage: 14.0+ KB\n"
     ]
    }
   ],
   "source": [
    "titanic_pred_cat.info()"
   ]
  },
  {
   "cell_type": "markdown",
   "metadata": {},
   "source": [
    "Since most machine learning algorithms do not deal with text data so well let's convert text labels we have to numbers. We will use one-hot encoding for this job. First we will convert our attributes from text categories to integer categories, then from integer categories to one-hot vectors using the LabelBinarizer class."
   ]
  },
  {
   "cell_type": "code",
   "execution_count": 143,
   "metadata": {
    "collapsed": false
   },
   "outputs": [],
   "source": [
    "from sklearn.preprocessing import LabelBinarizer\n",
    "encoder = LabelBinarizer()\n",
    "titanic_pred_cat_sex_1hot = encoder.fit_transform(titanic_pred_cat[\"Sex\"])\n",
    "encoder = LabelBinarizer()\n",
    "titanic_pred_cat_embarked_1hot = encoder.fit_transform(titanic_pred_cat[\"Embarked\"])"
   ]
  },
  {
   "cell_type": "markdown",
   "metadata": {},
   "source": [
    "We now have all our data prepared. The last thing is to combine it again into one data set."
   ]
  },
  {
   "cell_type": "code",
   "execution_count": 144,
   "metadata": {
    "collapsed": false
   },
   "outputs": [],
   "source": [
    "import numpy as np\n",
    "\n",
    "titanic_pred_prepared = np.concatenate([titanic_pred_num_prepared, titanic_pred_cat_sex_1hot, titanic_pred_cat_embarked_1hot], axis=1)"
   ]
  },
  {
   "cell_type": "markdown",
   "metadata": {},
   "source": [
    "## 5. Short-list promising models\n",
    "\n",
    "Our data is prepared so we are ready to fit multiple quick models to check how they behave. Our measure of success is classification accuracy."
   ]
  },
  {
   "cell_type": "code",
   "execution_count": 145,
   "metadata": {
    "collapsed": true
   },
   "outputs": [],
   "source": [
    "from sklearn.linear_model import LogisticRegression"
   ]
  },
  {
   "cell_type": "code",
   "execution_count": 146,
   "metadata": {
    "collapsed": false
   },
   "outputs": [
    {
     "data": {
      "text/plain": [
       "LogisticRegression(C=1.0, class_weight=None, dual=False, fit_intercept=True,\n",
       "          intercept_scaling=1, max_iter=100, multi_class='ovr', n_jobs=1,\n",
       "          penalty='l2', random_state=None, solver='liblinear', tol=0.0001,\n",
       "          verbose=0, warm_start=False)"
      ]
     },
     "execution_count": 146,
     "metadata": {},
     "output_type": "execute_result"
    }
   ],
   "source": [
    "log_clf = LogisticRegression()\n",
    "log_clf.fit(titanic_pred_prepared, titanic_labels)"
   ]
  },
  {
   "cell_type": "markdown",
   "metadata": {},
   "source": [
    "We will test our model using cross-validation."
   ]
  },
  {
   "cell_type": "code",
   "execution_count": 147,
   "metadata": {
    "collapsed": false
   },
   "outputs": [
    {
     "data": {
      "text/plain": [
       "array([ 0.79124579,  0.79054054,  0.78378378])"
      ]
     },
     "execution_count": 147,
     "metadata": {},
     "output_type": "execute_result"
    }
   ],
   "source": [
    "from sklearn.model_selection import cross_val_score\n",
    "cross_val_score(log_clf, titanic_pred_prepared, titanic_labels, cv=3, scoring=\"accuracy\")"
   ]
  },
  {
   "cell_type": "markdown",
   "metadata": {},
   "source": [
    "Let's try Stochastic Gradient Descent classifier using Scikit-Learn's SGDClassifier class."
   ]
  },
  {
   "cell_type": "code",
   "execution_count": 148,
   "metadata": {
    "collapsed": false
   },
   "outputs": [
    {
     "data": {
      "text/plain": [
       "SGDClassifier(alpha=0.0001, average=False, class_weight=None, epsilon=0.1,\n",
       "       eta0=0.0, fit_intercept=True, l1_ratio=0.15,\n",
       "       learning_rate='optimal', loss='hinge', n_iter=5, n_jobs=1,\n",
       "       penalty='l2', power_t=0.5, random_state=42, shuffle=True, verbose=0,\n",
       "       warm_start=False)"
      ]
     },
     "execution_count": 148,
     "metadata": {},
     "output_type": "execute_result"
    }
   ],
   "source": [
    "from sklearn.linear_model import SGDClassifier\n",
    "\n",
    "sgd_clf = SGDClassifier(random_state=42)\n",
    "sgd_clf.fit(titanic_pred_prepared, titanic_labels)"
   ]
  },
  {
   "cell_type": "markdown",
   "metadata": {},
   "source": [
    "Let's now use cross-validation to validate our model."
   ]
  },
  {
   "cell_type": "code",
   "execution_count": 149,
   "metadata": {
    "collapsed": false
   },
   "outputs": [
    {
     "data": {
      "text/plain": [
       "array([ 0.62626263,  0.7027027 ,  0.72635135])"
      ]
     },
     "execution_count": 149,
     "metadata": {},
     "output_type": "execute_result"
    }
   ],
   "source": [
    "from sklearn.model_selection import cross_val_score\n",
    "cross_val_score(sgd_clf, titanic_pred_prepared, titanic_labels, cv=3, scoring=\"accuracy\")"
   ]
  },
  {
   "cell_type": "markdown",
   "metadata": {},
   "source": [
    "Another model will be K-Nearest Neighbors classifier."
   ]
  },
  {
   "cell_type": "code",
   "execution_count": 150,
   "metadata": {
    "collapsed": false
   },
   "outputs": [
    {
     "data": {
      "text/plain": [
       "KNeighborsClassifier(algorithm='auto', leaf_size=30, metric='minkowski',\n",
       "           metric_params=None, n_jobs=1, n_neighbors=5, p=2,\n",
       "           weights='uniform')"
      ]
     },
     "execution_count": 150,
     "metadata": {},
     "output_type": "execute_result"
    }
   ],
   "source": [
    "from sklearn.neighbors import KNeighborsClassifier\n",
    "knn_clf = KNeighborsClassifier()\n",
    "knn_clf.fit(titanic_pred_prepared, titanic_labels)"
   ]
  },
  {
   "cell_type": "code",
   "execution_count": 151,
   "metadata": {
    "collapsed": false
   },
   "outputs": [
    {
     "data": {
      "text/plain": [
       "array([ 0.68686869,  0.71283784,  0.71621622])"
      ]
     },
     "execution_count": 151,
     "metadata": {},
     "output_type": "execute_result"
    }
   ],
   "source": [
    "cross_val_score(knn_clf, titanic_pred_prepared, titanic_labels, cv=3, scoring=\"accuracy\")"
   ]
  },
  {
   "cell_type": "markdown",
   "metadata": {},
   "source": [
    "So far the best results we got from Logistic Regression model. Let's try different polynomials versions of it."
   ]
  },
  {
   "cell_type": "code",
   "execution_count": 152,
   "metadata": {
    "collapsed": true
   },
   "outputs": [],
   "source": [
    "from sklearn.preprocessing import PolynomialFeatures\n",
    "polynomial_features_2 = PolynomialFeatures(degree=2, include_bias=False)\n",
    "polynomial_features_4 = PolynomialFeatures(degree=4, include_bias=False)\n",
    "polynomial_features_8 = PolynomialFeatures(degree=8, include_bias=False)"
   ]
  },
  {
   "cell_type": "code",
   "execution_count": 153,
   "metadata": {
    "collapsed": false
   },
   "outputs": [],
   "source": [
    "titanic_pred_prepared_poly_2 = polynomial_features_2.fit_transform(titanic_pred_prepared)\n",
    "titanic_pred_prepared_poly_4 = polynomial_features_4.fit_transform(titanic_pred_prepared)\n",
    "titanic_pred_prepared_poly_8 = polynomial_features_8.fit_transform(titanic_pred_prepared)"
   ]
  },
  {
   "cell_type": "code",
   "execution_count": 154,
   "metadata": {
    "collapsed": false
   },
   "outputs": [
    {
     "data": {
      "text/plain": [
       "(889, 9)"
      ]
     },
     "execution_count": 154,
     "metadata": {},
     "output_type": "execute_result"
    }
   ],
   "source": [
    "titanic_pred_prepared.shape"
   ]
  },
  {
   "cell_type": "code",
   "execution_count": 155,
   "metadata": {
    "collapsed": false
   },
   "outputs": [
    {
     "data": {
      "text/plain": [
       "(889, 54)"
      ]
     },
     "execution_count": 155,
     "metadata": {},
     "output_type": "execute_result"
    }
   ],
   "source": [
    "titanic_pred_prepared_poly_2.shape"
   ]
  },
  {
   "cell_type": "code",
   "execution_count": 156,
   "metadata": {
    "collapsed": false
   },
   "outputs": [
    {
     "data": {
      "text/plain": [
       "(889, 714)"
      ]
     },
     "execution_count": 156,
     "metadata": {},
     "output_type": "execute_result"
    }
   ],
   "source": [
    "titanic_pred_prepared_poly_4.shape"
   ]
  },
  {
   "cell_type": "code",
   "execution_count": 157,
   "metadata": {
    "collapsed": false
   },
   "outputs": [
    {
     "data": {
      "text/plain": [
       "(889, 24309)"
      ]
     },
     "execution_count": 157,
     "metadata": {},
     "output_type": "execute_result"
    }
   ],
   "source": [
    "titanic_pred_prepared_poly_8.shape"
   ]
  },
  {
   "cell_type": "code",
   "execution_count": 158,
   "metadata": {
    "collapsed": false
   },
   "outputs": [
    {
     "data": {
      "text/plain": [
       "array([ 0.80808081,  0.81418919,  0.81418919])"
      ]
     },
     "execution_count": 158,
     "metadata": {},
     "output_type": "execute_result"
    }
   ],
   "source": [
    "log_clf_2 = LogisticRegression()\n",
    "log_clf_2.fit(titanic_pred_prepared_poly_2, titanic_labels)\n",
    "cross_val_score(log_clf_2, titanic_pred_prepared_poly_2, titanic_labels, cv=3, scoring=\"accuracy\")"
   ]
  },
  {
   "cell_type": "code",
   "execution_count": 159,
   "metadata": {
    "collapsed": false
   },
   "outputs": [
    {
     "data": {
      "text/plain": [
       "array([ 0.7037037 ,  0.72635135,  0.71283784])"
      ]
     },
     "execution_count": 159,
     "metadata": {},
     "output_type": "execute_result"
    }
   ],
   "source": [
    "log_clf_4 = LogisticRegression()\n",
    "log_clf_4.fit(titanic_pred_prepared_poly_4, titanic_labels)\n",
    "cross_val_score(log_clf_4, titanic_pred_prepared_poly_4, titanic_labels, cv=3, scoring=\"accuracy\")"
   ]
  },
  {
   "cell_type": "code",
   "execution_count": 160,
   "metadata": {
    "collapsed": false
   },
   "outputs": [
    {
     "data": {
      "text/plain": [
       "array([ 0.63973064,  0.61486486,  0.67567568])"
      ]
     },
     "execution_count": 160,
     "metadata": {},
     "output_type": "execute_result"
    }
   ],
   "source": [
    "log_clf_8 = LogisticRegression()\n",
    "log_clf_8.fit(titanic_pred_prepared_poly_8, titanic_labels)\n",
    "cross_val_score(log_clf_8, titanic_pred_prepared_poly_8, titanic_labels, cv=3, scoring=\"accuracy\")"
   ]
  },
  {
   "cell_type": "markdown",
   "metadata": {},
   "source": [
    "So using square polynomial features and logistic regression model improves results a bit. Using higher degree polynomials lower accuracy result.\n",
    "\n",
    "TODO: Check why higher degree polynomial lowers accuracy result in cross-validation. Visualize how the decision boundary looks like."
   ]
  },
  {
   "cell_type": "markdown",
   "metadata": {},
   "source": [
    "Let's try another - more complex - model. Now we will use Random Forest classifier."
   ]
  },
  {
   "cell_type": "code",
   "execution_count": 161,
   "metadata": {
    "collapsed": false
   },
   "outputs": [
    {
     "data": {
      "text/plain": [
       "array([ 0.77104377,  0.82432432,  0.81418919])"
      ]
     },
     "execution_count": 161,
     "metadata": {},
     "output_type": "execute_result"
    }
   ],
   "source": [
    "from sklearn.ensemble import RandomForestClassifier\n",
    "\n",
    "forest_clf = RandomForestClassifier()\n",
    "forest_clf.fit(titanic_pred_prepared, titanic_labels)\n",
    "cross_val_score(forest_clf, titanic_pred_prepared, titanic_labels, cv=3, scoring=\"accuracy\")"
   ]
  },
  {
   "cell_type": "markdown",
   "metadata": {},
   "source": [
    "No we reached a little bit better accuracy in our model."
   ]
  },
  {
   "cell_type": "code",
   "execution_count": 162,
   "metadata": {
    "collapsed": false
   },
   "outputs": [
    {
     "data": {
      "text/plain": [
       "Pipeline(steps=[('scaler', StandardScaler(copy=True, with_mean=True, with_std=True)), ('linear_svc', LinearSVC(C=1, class_weight=None, dual=True, fit_intercept=True,\n",
       "     intercept_scaling=1, loss='hinge', max_iter=1000, multi_class='ovr',\n",
       "     penalty='l2', random_state=None, tol=0.0001, verbose=0))])"
      ]
     },
     "execution_count": 162,
     "metadata": {},
     "output_type": "execute_result"
    }
   ],
   "source": [
    "from sklearn.pipeline import Pipeline\n",
    "from sklearn.preprocessing import StandardScaler\n",
    "from sklearn.svm import LinearSVC\n",
    "\n",
    "svm_clf = Pipeline([\n",
    "        (\"scaler\", StandardScaler()),\n",
    "        (\"linear_svc\", LinearSVC(C=1, loss=\"hinge\")),\n",
    "    ])\n",
    "svm_clf.fit(titanic_pred_prepared, titanic_labels)\n"
   ]
  },
  {
   "cell_type": "code",
   "execution_count": null,
   "metadata": {
    "collapsed": true
   },
   "outputs": [],
   "source": []
  },
  {
   "cell_type": "code",
   "execution_count": 163,
   "metadata": {
    "collapsed": false
   },
   "outputs": [],
   "source": [
    "from sklearn.pipeline import Pipeline\n",
    "from sklearn.preprocessing import StandardScaler\n",
    "from sklearn.svm import SVC\n",
    "\n",
    "poly_kernel_svm_clf = Pipeline((\n",
    "        (\"scaler\", StandardScaler()),\n",
    "        (\"svm_clf\", SVC(kernel=\"poly\", degree=6, coef0=1, C=5))\n",
    "))\n",
    "poly_kernel_svm_clf.fit(titanic_pred_prepared, titanic_labels)\n",
    "cross_val_score(poly_kernel_svm_clf, titanic_pred_prepared, titanic_labels, cv=3, scoring=\"accuracy\")"
   ]
  },
  {
   "cell_type": "code",
   "execution_count": null,
   "metadata": {
    "collapsed": true
   },
   "outputs": [],
   "source": []
  },
  {
   "cell_type": "code",
   "execution_count": 164,
   "metadata": {
    "collapsed": false
   },
   "outputs": [
    {
     "data": {
      "text/plain": [
       "array([ 0.61616162,  0.61824324,  0.61824324])"
      ]
     },
     "execution_count": 164,
     "metadata": {},
     "output_type": "execute_result"
    }
   ],
   "source": [
    "from sklearn.pipeline import Pipeline\n",
    "from sklearn.preprocessing import StandardScaler\n",
    "from sklearn.svm import SVC\n",
    "\n",
    "rbf_kernel_svm_clf = Pipeline((\n",
    "        (\"scaler\", StandardScaler()),\n",
    "        (\"svm_clf\", SVC(kernel=\"rbf\", gamma=5, C=0.001))\n",
    "))\n",
    "rbf_kernel_svm_clf.fit(titanic_pred_prepared, titanic_labels)\n",
    "cross_val_score(rbf_kernel_svm_clf, titanic_pred_prepared, titanic_labels, cv=3, scoring=\"accuracy\")"
   ]
  },
  {
   "cell_type": "code",
   "execution_count": null,
   "metadata": {
    "collapsed": true
   },
   "outputs": [],
   "source": []
  },
  {
   "cell_type": "code",
   "execution_count": null,
   "metadata": {
    "collapsed": true
   },
   "outputs": [],
   "source": []
  },
  {
   "cell_type": "markdown",
   "metadata": {},
   "source": [
    "## 6. Fine-tune models\n",
    "\n",
    "We have two promissing models. Let's try to improve their performance by fine-tuning their parameters."
   ]
  },
  {
   "cell_type": "code",
   "execution_count": null,
   "metadata": {
    "collapsed": true
   },
   "outputs": [],
   "source": []
  },
  {
   "cell_type": "markdown",
   "metadata": {},
   "source": [
    "## 7. Submit solution"
   ]
  },
  {
   "cell_type": "code",
   "execution_count": 165,
   "metadata": {
    "collapsed": false
   },
   "outputs": [],
   "source": [
    "titanic_test = pd.read_csv(\"datasets/test.csv\")"
   ]
  },
  {
   "cell_type": "code",
   "execution_count": 166,
   "metadata": {
    "collapsed": true
   },
   "outputs": [],
   "source": [
    "titanic_test = titanic_test.drop([\"PassengerId\", \"Name\", \"Ticket\"], axis=1)\n",
    "titanic_test = titanic_test.drop(\"Cabin\", axis=1)"
   ]
  },
  {
   "cell_type": "code",
   "execution_count": 167,
   "metadata": {
    "collapsed": true
   },
   "outputs": [],
   "source": [
    "titanic_test_num = titanic_test.drop([\"Sex\", \"Embarked\"], axis=1)\n",
    "titanic_test_cat = titanic_test[[\"Sex\", \"Embarked\"]]"
   ]
  },
  {
   "cell_type": "code",
   "execution_count": 168,
   "metadata": {
    "collapsed": false
   },
   "outputs": [
    {
     "name": "stdout",
     "output_type": "stream",
     "text": [
      "<class 'pandas.core.frame.DataFrame'>\n",
      "RangeIndex: 418 entries, 0 to 417\n",
      "Data columns (total 5 columns):\n",
      "Pclass    418 non-null int64\n",
      "Age       332 non-null float64\n",
      "SibSp     418 non-null int64\n",
      "Parch     418 non-null int64\n",
      "Fare      417 non-null float64\n",
      "dtypes: float64(2), int64(3)\n",
      "memory usage: 16.4 KB\n"
     ]
    }
   ],
   "source": [
    "titanic_test_num.info()"
   ]
  },
  {
   "cell_type": "code",
   "execution_count": 169,
   "metadata": {
    "collapsed": true
   },
   "outputs": [],
   "source": [
    "imputer = Imputer(strategy=\"median\")\n",
    "imputer.fit(titanic_test_num)\n",
    "titanic_test_num_prepared = imputer.transform(titanic_test_num)"
   ]
  },
  {
   "cell_type": "code",
   "execution_count": 170,
   "metadata": {
    "collapsed": false
   },
   "outputs": [
    {
     "name": "stdout",
     "output_type": "stream",
     "text": [
      "<class 'pandas.core.frame.DataFrame'>\n",
      "RangeIndex: 418 entries, 0 to 417\n",
      "Data columns (total 2 columns):\n",
      "Sex         418 non-null object\n",
      "Embarked    418 non-null object\n",
      "dtypes: object(2)\n",
      "memory usage: 6.6+ KB\n"
     ]
    }
   ],
   "source": [
    "titanic_test_cat.info()"
   ]
  },
  {
   "cell_type": "code",
   "execution_count": 171,
   "metadata": {
    "collapsed": true
   },
   "outputs": [],
   "source": [
    "encoder = LabelBinarizer()\n",
    "titanic_test_cat_sex_1hot = encoder.fit_transform(titanic_test_cat[\"Sex\"])\n",
    "encoder = LabelBinarizer()\n",
    "titanic_test_cat_embarked_1hot = encoder.fit_transform(titanic_test_cat[\"Embarked\"])"
   ]
  },
  {
   "cell_type": "code",
   "execution_count": 172,
   "metadata": {
    "collapsed": false
   },
   "outputs": [],
   "source": [
    "titanic_test_prepared = np.concatenate([titanic_test_num_prepared, titanic_test_cat_sex_1hot, titanic_test_cat_embarked_1hot], axis=1)"
   ]
  },
  {
   "cell_type": "code",
   "execution_count": 174,
   "metadata": {
    "collapsed": false
   },
   "outputs": [],
   "source": [
    "final_predictions = forest_clf.predict(titanic_test_prepared)"
   ]
  },
  {
   "cell_type": "code",
   "execution_count": 175,
   "metadata": {
    "collapsed": true
   },
   "outputs": [],
   "source": [
    "final_df = pd.DataFrame({'PassengerId': range(892, len(final_predictions)+892), 'Survived': final_predictions})\n",
    "final_df.to_csv(\"datasets/submission.csv\", index=False)"
   ]
  },
  {
   "cell_type": "markdown",
   "metadata": {},
   "source": [
    "Your submission scored 0.73205 (position 8732)."
   ]
  },
  {
   "cell_type": "code",
   "execution_count": null,
   "metadata": {
    "collapsed": true
   },
   "outputs": [],
   "source": []
  },
  {
   "cell_type": "code",
   "execution_count": null,
   "metadata": {
    "collapsed": true
   },
   "outputs": [],
   "source": []
  },
  {
   "cell_type": "code",
   "execution_count": null,
   "metadata": {
    "collapsed": true
   },
   "outputs": [],
   "source": []
  },
  {
   "cell_type": "code",
   "execution_count": null,
   "metadata": {
    "collapsed": true
   },
   "outputs": [],
   "source": []
  },
  {
   "cell_type": "code",
   "execution_count": null,
   "metadata": {
    "collapsed": true
   },
   "outputs": [],
   "source": []
  }
 ],
 "metadata": {
  "kernelspec": {
   "display_name": "Python 3",
   "language": "python",
   "name": "python3"
  },
  "language_info": {
   "codemirror_mode": {
    "name": "ipython",
    "version": 3
   },
   "file_extension": ".py",
   "mimetype": "text/x-python",
   "name": "python",
   "nbconvert_exporter": "python",
   "pygments_lexer": "ipython3",
   "version": "3.6.3"
  }
 },
 "nbformat": 4,
 "nbformat_minor": 2
}
