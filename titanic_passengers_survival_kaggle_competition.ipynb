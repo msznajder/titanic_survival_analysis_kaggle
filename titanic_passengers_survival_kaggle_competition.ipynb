{
 "cells": [
  {
   "cell_type": "markdown",
   "metadata": {},
   "source": [
    "# Titanic passengers survival Kaggle competition\n",
    "\n",
    "In this notebook we will conduct analysis and predictive modelling of Titanic passengers survival dataset for Kaggle [competition](https://www.kaggle.com/c/titanic).\n",
    "\n",
    "Titanic passengers survival data set is one of the most canonical machine learning datasets. Let's see how this data looks like and try our best to predict survival chances of passengers based on numerous features.\n",
    "\n",
    "The main steps of the analysis process we will conduct are:\n",
    "1. Frame the problem\n",
    "2. Get the data\n",
    "3. Prepare the data for machine learning algorithms\n",
    "4. Select a model and train it\n",
    "5. Fine-tune the model\n",
    "6. Submit solution"
   ]
  },
  {
   "cell_type": "markdown",
   "metadata": {},
   "source": [
    "## 1. Frame the problem\n",
    "\n",
    "Titanic sinking was one of the biggest shipwreck tragedies in history. It killed 1502 out of 2224 passengers and crew. This tragedy led to better safety regulations for ships. The main reason for such a great death toll was not enough number of lifeboats to fit all passengers. This can lead to the conclusion that some groups of people were more likely to survive than others - woman, children and upper-class passeners for example.\n",
    "\n",
    "The goal of this analysis is to predict which passengers were likely to survive Titanic catastrophy and which not. For each PassengerId in the test set, we must predict a 0 or 1 value for the Survived variable.\n",
    "\n",
    "Since we are given multiple features data with labeled survival values this is clearly an supervised learning problem. Moreover we try to predict discrete categorical value: 0 or 1. This tells us that we deal here with binary categorization problem.\n",
    "\n",
    "As a measure of performance we follow Kaggle guidelines and choose the percentage of passengers we correctly predict, that is accuracy level.\n",
    "\n",
    "We need to submit a csv file with exactly 418 entried plus a header row. The file should have exactly 2 columns:\n",
    "* PassengerId (sorted in any order)\n",
    "* Survived (contains your binary predictions: 1 for survived, 0 for deceased)\n",
    "\n",
    "The example submission dataset should look like this:\n",
    "```\n",
    "PassengerId,Survived\n",
    " 892,0\n",
    " 893,1\n",
    " 894,0\n",
    " Etc.\n",
    "```"
   ]
  },
  {
   "cell_type": "markdown",
   "metadata": {},
   "source": [
    "You should submit a csv file with exactly 418 entries plus a header row. \n",
    "\n",
    "\n"
   ]
  },
  {
   "cell_type": "code",
   "execution_count": null,
   "metadata": {
    "collapsed": true
   },
   "outputs": [],
   "source": []
  },
  {
   "cell_type": "code",
   "execution_count": null,
   "metadata": {
    "collapsed": true
   },
   "outputs": [],
   "source": []
  },
  {
   "cell_type": "code",
   "execution_count": null,
   "metadata": {
    "collapsed": true
   },
   "outputs": [],
   "source": []
  }
 ],
 "metadata": {
  "kernelspec": {
   "display_name": "Python 3",
   "language": "python",
   "name": "python3"
  },
  "language_info": {
   "codemirror_mode": {
    "name": "ipython",
    "version": 3
   },
   "file_extension": ".py",
   "mimetype": "text/x-python",
   "name": "python",
   "nbconvert_exporter": "python",
   "pygments_lexer": "ipython3",
   "version": "3.6.3"
  }
 },
 "nbformat": 4,
 "nbformat_minor": 2
}
